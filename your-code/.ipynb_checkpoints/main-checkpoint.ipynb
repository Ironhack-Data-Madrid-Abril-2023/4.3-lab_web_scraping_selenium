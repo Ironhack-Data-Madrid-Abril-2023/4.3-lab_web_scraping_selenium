{
 "cells": [
  {
   "cell_type": "markdown",
   "metadata": {},
   "source": [
    "# Web Scraping Lab\n",
    "\n",
    "You will find in this notebook some scrapy exercises to practise your scraping skills.\n",
    "\n",
    "**Tips:**\n",
    "\n",
    "- Check the response status code for each request to ensure you have obtained the intended contennt.\n",
    "- Print the response text in each request to understand the kind of info you are getting and its format.\n",
    "- Check for patterns in the response text to extract the data/info requested in each question.\n",
    "- Visit each url and take a look at its source through Chrome DevTools. You'll need to identify the html tags, special class names etc. used for the html content you are expected to extract."
   ]
  },
  {
   "cell_type": "markdown",
   "metadata": {},
   "source": [
    "- [Selenium Doc](https://www.selenium.dev/documentation/)\n",
    "- [Requests library](http://docs.python-requests.org/en/master/#the-user-guide) documentation \n",
    "- [Urllib](https://docs.python.org/3/library/urllib.html#module-urllib)\n",
    "- [re lib](https://docs.python.org/3/library/re.html)\n",
    "- [lxml lib](https://lxml.de/)\n",
    "- [Scrapy](https://scrapy.org/)\n",
    "- [List of HTTP status codes](https://en.wikipedia.org/wiki/List_of_HTTP_status_codes)\n",
    "- [HTML basics](http://www.simplehtmlguide.com/cheatsheet.php)\n",
    "- [CSS basics](https://www.cssbasics.com/#page_start)"
   ]
  },
  {
   "cell_type": "markdown",
   "metadata": {},
   "source": [
    "#### Below are the libraries and modules you may need. `Selenium` and `pandas` are imported for you."
   ]
  },
  {
   "cell_type": "code",
   "execution_count": 1,
   "metadata": {},
   "outputs": [],
   "source": [
    "import pandas as pd\n",
    "from selenium import webdriver\n",
    "from selenium.webdriver.chrome.options import Options\n",
    "from webdriver_manager.chrome import ChromeDriverManager"
   ]
  },
  {
   "cell_type": "markdown",
   "metadata": {},
   "source": [
    "#### Enable the options you may need. In the next cell you have an example of them but you can choose to use them or not."
   ]
  },
  {
   "cell_type": "code",
   "execution_count": 2,
   "metadata": {},
   "outputs": [
    {
     "name": "stderr",
     "output_type": "stream",
     "text": [
      "/var/folders/75/q598wy0x5rq2j183ndtczjlm0000gn/T/ipykernel_89223/4076755805.py:6: DeprecationWarning: headless property is deprecated, instead use add_argument('--headless') or add_argument('--headless=new')\n",
      "  opciones.headless=False    # si True, no aperece la ventana (headless=no visible)\n"
     ]
    }
   ],
   "source": [
    "#driver configuration\n",
    "opciones=Options()\n",
    "\n",
    "opciones.add_experimental_option('excludeSwitches', ['enable-automation'])\n",
    "opciones.add_experimental_option('useAutomationExtension', False)\n",
    "opciones.headless=False    # si True, no aperece la ventana (headless=no visible)\n",
    "opciones.add_argument('--start-maximized')         # comienza maximizado\n",
    "#opciones.add_argument('user-data-dir=selenium')    # mantiene las cookies\n",
    "#opciones.add_extension('driver_folder/adblock.crx')       # adblocker\n",
    "opciones.add_argument('--incognito')"
   ]
  },
  {
   "cell_type": "code",
   "execution_count": 3,
   "metadata": {},
   "outputs": [
    {
     "name": "stderr",
     "output_type": "stream",
     "text": [
      "/var/folders/75/q598wy0x5rq2j183ndtczjlm0000gn/T/ipykernel_89223/3896806558.py:3: DeprecationWarning: executable_path has been deprecated, please pass in a Service object\n",
      "  driver = webdriver.Chrome(PATH)      # abre una ventana de chrome\n"
     ]
    }
   ],
   "source": [
    "PATH = ChromeDriverManager().install()    # instala driver de chrome\n",
    "\n",
    "driver = webdriver.Chrome(PATH)      # abre una ventana de chrome\n",
    "\n",
    "driver.get('https://www.google.es')"
   ]
  },
  {
   "cell_type": "markdown",
   "metadata": {},
   "source": [
    "#### Download, parse, and print the content from the Trending Developers page from GitHub:"
   ]
  },
  {
   "cell_type": "code",
   "execution_count": 4,
   "metadata": {},
   "outputs": [],
   "source": [
    "# This is the url you will scrape in this exercise\n",
    "url = 'https://github.com/trending/developers'"
   ]
  },
  {
   "cell_type": "markdown",
   "metadata": {},
   "source": [
    "#### Display the names of the trending developers retrieved in the previous step.\n",
    "\n",
    "Your output should be a Python list of developer names. Each name should not contain any html tag.\n",
    "\n",
    "**Instructions:**\n",
    "\n",
    "1. Find out the html tag and class names used for the developer names.\n",
    "\n",
    "1. Use string manipulation techniques to replace whitespaces and linebreaks (i.e. `\\n`) in the *text* of each html element. Use a list to store the clean names.\n",
    "\n",
    "1. Print the list of names.\n",
    "\n",
    "Your output should look like below:\n",
    "\n",
    "```\n",
    "['trimstray (@trimstray)',\n",
    " 'joewalnes (JoeWalnes)',\n",
    " 'charlax (Charles-AxelDein)',\n",
    " 'ForrestKnight (ForrestKnight)',\n",
    " 'revery-ui (revery-ui)',\n",
    " 'alibaba (Alibaba)',\n",
    " 'Microsoft (Microsoft)',\n",
    " 'github (GitHub)',\n",
    " 'facebook (Facebook)',\n",
    " 'boazsegev (Bo)',\n",
    " 'google (Google)',\n",
    " 'cloudfetch',\n",
    " 'sindresorhus (SindreSorhus)',\n",
    " 'tensorflow',\n",
    " 'apache (TheApacheSoftwareFoundation)',\n",
    " 'DevonCrawford (DevonCrawford)',\n",
    " 'ARMmbed (ArmMbed)',\n",
    " 'vuejs (vuejs)',\n",
    " 'fastai (fast.ai)',\n",
    " 'QiShaoXuan (Qi)',\n",
    " 'joelparkerhenderson (JoelParkerHenderson)',\n",
    " 'torvalds (LinusTorvalds)',\n",
    " 'CyC2018',\n",
    " 'komeiji-satori (神楽坂覚々)',\n",
    " 'script-8']\n",
    " ```"
   ]
  },
  {
   "cell_type": "code",
   "execution_count": 7,
   "metadata": {},
   "outputs": [
    {
     "name": "stderr",
     "output_type": "stream",
     "text": [
      "/var/folders/75/q598wy0x5rq2j183ndtczjlm0000gn/T/ipykernel_89223/904668855.py:1: DeprecationWarning: executable_path has been deprecated, please pass in a Service object\n",
      "  driver=webdriver.Chrome(PATH, options=opciones)\n"
     ]
    }
   ],
   "source": [
    "driver=webdriver.Chrome(PATH, options=opciones)\n",
    "\n",
    "driver.get(url)\n",
    "\n",
    "import requests as req\n",
    "\n",
    "from bs4 import BeautifulSoup as bs\n",
    "\n",
    "from selenium.webdriver.common.by import By"
   ]
  },
  {
   "cell_type": "code",
   "execution_count": 8,
   "metadata": {},
   "outputs": [
    {
     "data": {
      "text/plain": [
       "'Mattias Wadman'"
      ]
     },
     "execution_count": 8,
     "metadata": {},
     "output_type": "execute_result"
    }
   ],
   "source": [
    "# Busco un nombre\n",
    "\n",
    "nombre = driver.find_element(By.XPATH,'//*[@id=\"pa-wader\"]/div[2]/div[1]/div[1]/h1/a').text\n",
    "nombre"
   ]
  },
  {
   "cell_type": "code",
   "execution_count": 9,
   "metadata": {},
   "outputs": [
    {
     "data": {
      "text/plain": [
       "['Mattias Wadman',\n",
       " 'lllyasviel',\n",
       " 'Lianmin Zheng',\n",
       " 'Jerry Liu',\n",
       " 'Henrik Rydgård',\n",
       " 'Harrison Chase',\n",
       " 'Fons van der Plas',\n",
       " 'Steven Tey',\n",
       " 'Andreas Thomas',\n",
       " 'pilcrowOnPaper',\n",
       " 'Laurent Mazare',\n",
       " 'yetone',\n",
       " 'Tom Payne',\n",
       " 'Raphaël Benitte',\n",
       " 'Dillon Nys',\n",
       " 'Will McGugan',\n",
       " 'Luca Palmieri',\n",
       " 'Payton Swick',\n",
       " 'Martí Climent',\n",
       " 'dgtlmoon',\n",
       " 'Jelle Zijlstra',\n",
       " 'J. Nick Koston',\n",
       " 'Nuno Campos',\n",
       " 'Juliette',\n",
       " 'Lee Robinson']"
      ]
     },
     "execution_count": 9,
     "metadata": {},
     "output_type": "execute_result"
    }
   ],
   "source": [
    "# Ahora si quiero sacar todos los nombres de la sopa, tengo que acudir a la clase que lo contenga\n",
    "\n",
    "# La clase va dentro de comillas y no puede tener espacios, sino puntos\n",
    "\n",
    "nombres = driver.find_elements(By.CLASS_NAME, 'h3.lh-condensed')\n",
    "\n",
    "# Esto me da cada tocho\n",
    "[e for e in nombres]\n",
    "\n",
    "# Esto me da cada nombre\n",
    "nombres_finales = [e.text for e in nombres]\n",
    "nombres_finales"
   ]
  },
  {
   "cell_type": "code",
   "execution_count": 10,
   "metadata": {},
   "outputs": [
    {
     "name": "stdout",
     "output_type": "stream",
     "text": [
      "wader\n"
     ]
    },
    {
     "data": {
      "text/plain": [
       "['wader',\n",
       " 'merrymercy',\n",
       " 'jerryjliu',\n",
       " 'hrydgard',\n",
       " 'hwchase17',\n",
       " 'fonsp',\n",
       " 'steven-tey',\n",
       " 'chronark',\n",
       " 'LaurentMazare',\n",
       " 'yetone',\n",
       " 'twpayne',\n",
       " 'plouc',\n",
       " 'dnys1',\n",
       " 'willmcgugan',\n",
       " 'LukeMathWalker',\n",
       " 'sirbrillig',\n",
       " 'marticliment',\n",
       " 'JelleZijlstra',\n",
       " 'bdraco',\n",
       " 'nfcampos',\n",
       " 'jrfnl',\n",
       " 'leerob']"
      ]
     },
     "execution_count": 10,
     "metadata": {},
     "output_type": "execute_result"
    }
   ],
   "source": [
    "# Busco un username\n",
    "\n",
    "username = driver.find_element(By.XPATH, '//*[@id=\"pa-wader\"]/div[2]/div[1]/div[1]/p/a').text\n",
    "print(username)\n",
    "\n",
    "# Ahora busco todos\n",
    "\n",
    "usernames = driver.find_elements(By.CLASS_NAME, 'f4.text-normal.mb-1')\n",
    "\n",
    "# Esto me da cada tocho\n",
    "usernames_finales = [e.text for e in usernames]\n",
    "usernames_finales"
   ]
  },
  {
   "cell_type": "code",
   "execution_count": 11,
   "metadata": {},
   "outputs": [
    {
     "name": "stdout",
     "output_type": "stream",
     "text": [
      "[['wader', 'Mattias Wadman'], ['merrymercy', 'lllyasviel'], ['jerryjliu', 'Lianmin Zheng'], ['hrydgard', 'Jerry Liu'], ['hwchase17', 'Henrik Rydgård'], ['fonsp', 'Harrison Chase'], ['steven-tey', 'Fons van der Plas'], ['chronark', 'Steven Tey'], ['LaurentMazare', 'Andreas Thomas'], ['yetone', 'pilcrowOnPaper'], ['twpayne', 'Laurent Mazare'], ['plouc', 'yetone'], ['dnys1', 'Tom Payne'], ['willmcgugan', 'Raphaël Benitte'], ['LukeMathWalker', 'Dillon Nys'], ['sirbrillig', 'Will McGugan'], ['marticliment', 'Luca Palmieri'], ['JelleZijlstra', 'Payton Swick'], ['bdraco', 'Martí Climent'], ['nfcampos', 'dgtlmoon'], ['jrfnl', 'Jelle Zijlstra'], ['leerob', 'J. Nick Koston']]\n"
     ]
    }
   ],
   "source": [
    "lista_de_listas = []\n",
    "for i in range(min(len(usernames_finales), len(nombres_finales))):\n",
    "    lista_de_listas.append([usernames_finales[i], nombres_finales[i]])\n",
    "\n",
    "print(lista_de_listas)"
   ]
  },
  {
   "cell_type": "markdown",
   "metadata": {},
   "source": [
    "#### Display the trending Python repositories in GitHub\n",
    "\n",
    "The steps to solve this problem is similar to the previous one except that you need to find out the repository names instead of developer names."
   ]
  },
  {
   "cell_type": "code",
   "execution_count": 12,
   "metadata": {},
   "outputs": [],
   "source": [
    "# This is the url you will scrape in this exercise\n",
    "url = 'https://github.com/trending/python?since=daily'"
   ]
  },
  {
   "cell_type": "code",
   "execution_count": 13,
   "metadata": {},
   "outputs": [
    {
     "name": "stderr",
     "output_type": "stream",
     "text": [
      "/var/folders/75/q598wy0x5rq2j183ndtczjlm0000gn/T/ipykernel_89223/1519451796.py:1: DeprecationWarning: executable_path has been deprecated, please pass in a Service object\n",
      "  driver=webdriver.Chrome(PATH, options=opciones)\n"
     ]
    }
   ],
   "source": [
    "driver=webdriver.Chrome(PATH, options=opciones)\n",
    "\n",
    "driver.get(url)"
   ]
  },
  {
   "cell_type": "code",
   "execution_count": 14,
   "metadata": {},
   "outputs": [
    {
     "data": {
      "text/plain": [
       "'mlc-ai / mlc-llm'"
      ]
     },
     "execution_count": 14,
     "metadata": {},
     "output_type": "execute_result"
    }
   ],
   "source": [
    "repo = driver.find_element(By.XPATH,'/html/body/div[1]/div[4]/main/div[3]/div/div[2]/article[1]/h2/a').text\n",
    "repo"
   ]
  },
  {
   "cell_type": "code",
   "execution_count": 15,
   "metadata": {},
   "outputs": [
    {
     "data": {
      "text/plain": [
       "['mlc-ai / mlc-llm',\n",
       " 'AIGC-Audio / AudioGPT',\n",
       " 'gventuri / pandas-ai',\n",
       " 'xtekky / gpt4free',\n",
       " 'irgolic / AutoPR',\n",
       " 'lamini-ai / lamini',\n",
       " 'deep-floyd / IF',\n",
       " 'deforum-art / deforum-stable-diffusion',\n",
       " 'home-assistant / core',\n",
       " 'cirediatpl / FigmaChain',\n",
       " 'IntelligenzaArtificiale / Free-AUTO-GPT-with-NO-API',\n",
       " 'mlc-ai / web-llm',\n",
       " 'AUTOMATIC1111 / stable-diffusion-webui',\n",
       " 'ddPn08 / Radiata',\n",
       " 'deforum-art / deforum-for-automatic1111-webui',\n",
       " 'ZrrSkywalker / LLaMA-Adapter',\n",
       " 'yt-dlp / yt-dlp',\n",
       " 'nlpxucan / WizardLM',\n",
       " 'GitHubDaily / ChatGPT-Prompt-Engineering-for-Developers-in-Chinese',\n",
       " 'georgia-tech-db / eva',\n",
       " 'xtekky / chatgpt-clone',\n",
       " 'mahdibland / V2RayAggregator',\n",
       " 'KurtBestor / Hitomi-Downloader',\n",
       " 'jaywalnut310 / vits',\n",
       " 'isaiahbjork / Auto-GPT-Crypto-Plugin']"
      ]
     },
     "execution_count": 15,
     "metadata": {},
     "output_type": "execute_result"
    }
   ],
   "source": [
    "repos = driver.find_elements(By.CLASS_NAME,'h3.lh-condensed')\n",
    "repos\n",
    "\n",
    "[e.text for e in repos]"
   ]
  },
  {
   "cell_type": "markdown",
   "metadata": {},
   "source": [
    "#### Display all the image links from Walt Disney wikipedia page"
   ]
  },
  {
   "cell_type": "code",
   "execution_count": 58,
   "metadata": {},
   "outputs": [],
   "source": [
    "# This is the url you will scrape in this exercise\n",
    "url = 'https://en.wikipedia.org/wiki/Walt_Disney'"
   ]
  },
  {
   "cell_type": "code",
   "execution_count": 59,
   "metadata": {},
   "outputs": [
    {
     "name": "stderr",
     "output_type": "stream",
     "text": [
      "/var/folders/75/q598wy0x5rq2j183ndtczjlm0000gn/T/ipykernel_89223/3522234646.py:1: DeprecationWarning: executable_path has been deprecated, please pass in a Service object\n",
      "  driver=webdriver.Chrome(PATH, options=opciones)\n"
     ]
    }
   ],
   "source": [
    "driver=webdriver.Chrome(PATH, options=opciones)\n",
    "\n",
    "driver.get(url)"
   ]
  },
  {
   "cell_type": "code",
   "execution_count": 60,
   "metadata": {},
   "outputs": [
    {
     "data": {
      "text/plain": [
       "[\"Disney's childhood home\",\n",
       " \"Walt Disney's business envelope featured a self-portrait, c.\\u20091921.\",\n",
       " '3:23\\nNewman Laugh-O-Gram (1921)',\n",
       " 'Theatrical poster for Trolley Troubles (1927)',\n",
       " 'The first appearance of Mickey Mouse, in Steamboat Willie (1928)',\n",
       " 'Disney in 1935 in Place de la Concorde, Paris',\n",
       " 'Walt Disney introduces each of the seven dwarfs in a scene from the original 1937 Snow White theatrical trailer.',\n",
       " 'Disney drawing Goofy for a group of girls in Argentina, 1941',\n",
       " 'Disney shows the plans of Disneyland to officials from Orange County in December 1954.',\n",
       " 'Disney in 1954',\n",
       " 'Grave of Walt Disney at Forest Lawn, Glendale',\n",
       " 'Roy O. Disney finished the building of Walt Disney World.',\n",
       " 'Disney family at Schiphol Airport (1951)',\n",
       " '1968 U.S. postage stamp',\n",
       " 'Disney in 1953, winning the Academy Award for Best Live Action Short Film for Water Birds']"
      ]
     },
     "execution_count": 60,
     "metadata": {},
     "output_type": "execute_result"
    }
   ],
   "source": [
    "img = driver.find_elements(By.CLASS_NAME,'thumbinner')\n",
    "\n",
    "[e.text for e in img]"
   ]
  },
  {
   "cell_type": "markdown",
   "metadata": {},
   "source": [
    "#### Retrieve an arbitary Wikipedia page of \"Python\" and create a list of links on that page"
   ]
  },
  {
   "cell_type": "code",
   "execution_count": 23,
   "metadata": {},
   "outputs": [],
   "source": [
    "# This is the url you will scrape in this exercise\n",
    "url ='https://en.wikipedia.org/wiki/Pythonidae'"
   ]
  },
  {
   "cell_type": "code",
   "execution_count": 24,
   "metadata": {},
   "outputs": [
    {
     "name": "stderr",
     "output_type": "stream",
     "text": [
      "/var/folders/75/q598wy0x5rq2j183ndtczjlm0000gn/T/ipykernel_89223/2728365601.py:1: DeprecationWarning: executable_path has been deprecated, please pass in a Service object\n",
      "  driver=webdriver.Chrome(PATH, options=opciones)\n"
     ]
    }
   ],
   "source": [
    "driver=webdriver.Chrome(PATH, options=opciones)\n",
    "\n",
    "driver.get(url)"
   ]
  },
  {
   "cell_type": "code",
   "execution_count": 32,
   "metadata": {},
   "outputs": [
    {
     "data": {
      "text/plain": [
       "['https://en.wikipedia.org/wiki/Pythonidae#bodyContent',\n",
       " 'https://en.wikipedia.org/wiki/Main_Page',\n",
       " 'https://en.wikipedia.org/wiki/Wikipedia:Contents',\n",
       " 'https://en.wikipedia.org/wiki/Portal:Current_events',\n",
       " 'https://en.wikipedia.org/wiki/Special:Random',\n",
       " 'https://en.wikipedia.org/wiki/Wikipedia:About',\n",
       " 'https://en.wikipedia.org/wiki/Wikipedia:Contact_us',\n",
       " 'https://donate.wikimedia.org/wiki/Special:FundraiserRedirector?utm_source=donate&utm_medium=sidebar&utm_campaign=C13_en.wikipedia.org&uselang=en',\n",
       " 'https://en.wikipedia.org/wiki/Help:Contents',\n",
       " 'https://en.wikipedia.org/wiki/Help:Introduction',\n",
       " 'https://en.wikipedia.org/wiki/Wikipedia:Community_portal',\n",
       " 'https://en.wikipedia.org/wiki/Special:RecentChanges',\n",
       " 'https://en.wikipedia.org/wiki/Wikipedia:File_upload_wizard',\n",
       " 'https://en.wikipedia.org/wiki/Main_Page',\n",
       " 'https://en.wikipedia.org/wiki/Special:Search',\n",
       " 'https://en.wikipedia.org/w/index.php?title=Special:CreateAccount&returnto=Pythonidae',\n",
       " 'https://en.wikipedia.org/w/index.php?title=Special:UserLogin&returnto=Pythonidae',\n",
       " 'https://en.wikipedia.org/w/index.php?title=Special:CreateAccount&returnto=Pythonidae',\n",
       " 'https://en.wikipedia.org/w/index.php?title=Special:UserLogin&returnto=Pythonidae',\n",
       " 'https://en.wikipedia.org/wiki/Help:Introduction',\n",
       " 'https://en.wikipedia.org/wiki/Special:MyContributions',\n",
       " 'https://en.wikipedia.org/wiki/Special:MyTalk',\n",
       " 'https://en.wikipedia.org/wiki/Pythonidae#',\n",
       " 'https://www.wikilovesearth.es/',\n",
       " 'https://www.wikilovesearth.es/',\n",
       " 'https://www.wikilovesearth.es/',\n",
       " 'https://en.wikipedia.org/wiki/Pythonidae#',\n",
       " 'https://en.wikipedia.org/wiki/Pythonidae#Distribution_and_habitat',\n",
       " 'https://en.wikipedia.org/wiki/Pythonidae#Conservation',\n",
       " 'https://en.wikipedia.org/wiki/Pythonidae#Behavior',\n",
       " 'https://en.wikipedia.org/wiki/Pythonidae#Feeding',\n",
       " 'https://en.wikipedia.org/wiki/Pythonidae#Reproduction',\n",
       " 'https://en.wikipedia.org/wiki/Pythonidae#Captivity',\n",
       " 'https://en.wikipedia.org/wiki/Pythonidae#Taxonomy',\n",
       " 'https://en.wikipedia.org/wiki/Pythonidae#Genera',\n",
       " 'https://en.wikipedia.org/wiki/Pythonidae#Relationship_with_humans',\n",
       " 'https://en.wikipedia.org/wiki/Pythonidae#Poaching_pythons',\n",
       " 'https://en.wikipedia.org/wiki/Pythonidae#Pythons_and_human_health',\n",
       " 'https://en.wikipedia.org/wiki/Pythonidae#Traditional_use',\n",
       " 'https://en.wikipedia.org/wiki/Pythonidae#Skin',\n",
       " 'https://en.wikipedia.org/wiki/Pythonidae#Fat',\n",
       " 'https://en.wikipedia.org/wiki/Pythonidae#Blood',\n",
       " 'https://en.wikipedia.org/wiki/Pythonidae#Feces',\n",
       " 'https://en.wikipedia.org/wiki/Pythonidae#Organs',\n",
       " 'https://en.wikipedia.org/wiki/Pythonidae#Folklore',\n",
       " 'https://en.wikipedia.org/wiki/Pythonidae#See_also',\n",
       " 'https://en.wikipedia.org/wiki/Pythonidae#References',\n",
       " 'https://en.wikipedia.org/wiki/Pythonidae#Notes',\n",
       " 'https://en.wikipedia.org/wiki/Pythonidae#Citations',\n",
       " 'https://en.wikipedia.org/wiki/Pythonidae#External_links',\n",
       " 'https://af.wikipedia.org/wiki/Luislange',\n",
       " 'https://ar.wikipedia.org/wiki/%D8%AD%D9%81%D8%A7%D8%AB%D9%8A%D8%A7%D8%AA',\n",
       " 'https://az.wikipedia.org/wiki/Pitonlar',\n",
       " 'https://bn.wikipedia.org/wiki/%E0%A6%85%E0%A6%9C%E0%A6%97%E0%A6%B0',\n",
       " 'https://be.wikipedia.org/wiki/%D0%9F%D1%96%D1%82%D0%BE%D0%BD%D1%8B',\n",
       " 'https://bg.wikipedia.org/wiki/%D0%9F%D0%B8%D1%82%D0%BE%D0%BD%D0%BE%D0%B2%D0%B8',\n",
       " 'https://br.wikipedia.org/wiki/Naer-biton',\n",
       " 'https://ca.wikipedia.org/wiki/Pitons_(fam%C3%ADlia)',\n",
       " 'https://cv.wikipedia.org/wiki/%D0%9F%D0%B8%D1%82%D0%BE%D0%BD%D1%81%D0%B5%D0%BC',\n",
       " 'https://ceb.wikipedia.org/wiki/Pythonidae',\n",
       " 'https://cs.wikipedia.org/wiki/Krajty',\n",
       " 'https://sn.wikipedia.org/wiki/Shato',\n",
       " 'https://cy.wikipedia.org/wiki/Peithon',\n",
       " 'https://de.wikipedia.org/wiki/Pythons',\n",
       " 'https://nv.wikipedia.org/wiki/T%C3%B3_w%C3%B3naan%C3%ADd%C4%99%CC%81%C4%99%CC%81%CA%BC_t%C5%82%CA%BCiish_%C5%84da%CA%BCag%C4%85%CC%81%C4%85hii',\n",
       " 'https://et.wikipedia.org/wiki/P%C3%BC%C3%BCtonlased',\n",
       " 'https://el.wikipedia.org/wiki/%CE%A0%CF%85%CE%B8%CF%89%CE%BD%CE%AF%CE%B4%CE%B5%CF%82',\n",
       " 'https://es.wikipedia.org/wiki/Pythonidae',\n",
       " 'https://eo.wikipedia.org/wiki/Pitonedoj',\n",
       " 'https://eu.wikipedia.org/wiki/Pythonidae',\n",
       " 'https://fa.wikipedia.org/wiki/%D9%BE%D8%A7%DB%8C%D8%AA%D9%88%D9%86%D8%A7%D9%86',\n",
       " 'https://fr.wikipedia.org/wiki/Pythonidae',\n",
       " 'https://gl.wikipedia.org/wiki/Pythonidae',\n",
       " 'https://ko.wikipedia.org/wiki/%EB%B9%84%EB%8B%A8%EB%B1%80%EA%B3%BC',\n",
       " 'https://hy.wikipedia.org/wiki/%D5%8A%D5%AB%D5%A9%D5%B8%D5%B6%D5%B6%D5%A5%D6%80',\n",
       " 'https://hi.wikipedia.org/wiki/%E0%A4%85%E0%A4%9C%E0%A4%97%E0%A4%B0',\n",
       " 'https://hr.wikipedia.org/wiki/Pitoni',\n",
       " 'https://id.wikipedia.org/wiki/Sanca',\n",
       " 'https://is.wikipedia.org/wiki/P%C3%BDtonar',\n",
       " 'https://it.wikipedia.org/wiki/Pythonidae',\n",
       " 'https://he.wikipedia.org/wiki/%D7%A4%D7%99%D7%AA%D7%95%D7%A0%D7%99%D7%99%D7%9D',\n",
       " 'https://ka.wikipedia.org/wiki/%E1%83%9E%E1%83%98%E1%83%97%E1%83%9D%E1%83%9C%E1%83%94%E1%83%91%E1%83%98',\n",
       " 'https://kk.wikipedia.org/wiki/%D0%9F%D0%B8%D1%82%D0%BE%D0%BD%D0%B4%D0%B0%D1%80',\n",
       " 'https://ky.wikipedia.org/wiki/%D0%9F%D0%B8%D1%82%D0%BE%D0%BD%D0%B4%D0%BE%D1%80',\n",
       " 'https://mrj.wikipedia.org/wiki/%D0%9F%D0%B8%D1%82%D0%BE%D0%BD',\n",
       " 'https://lv.wikipedia.org/wiki/Pitonu_dzimta',\n",
       " 'https://lt.wikipedia.org/wiki/Pitoniniai',\n",
       " 'https://ln.wikipedia.org/wiki/Ng%C3%BAma',\n",
       " 'https://hu.wikipedia.org/wiki/Pitonf%C3%A9l%C3%A9k',\n",
       " 'https://arz.wikipedia.org/wiki/%D8%A8%D9%8A%D8%AB%D9%88%D9%86%D8%A7%D8%AA',\n",
       " 'https://ms.wikipedia.org/wiki/Pythonidae',\n",
       " 'https://nl.wikipedia.org/wiki/Pythons',\n",
       " 'https://new.wikipedia.org/wiki/%E0%A4%85%E0%A4%9C%E0%A4%BF%E0%A4%99%E0%A5%8D%E0%A4%97%E0%A4%B0',\n",
       " 'https://ja.wikipedia.org/wiki/%E3%83%8B%E3%82%B7%E3%82%AD%E3%83%98%E3%83%93%E7%A7%91',\n",
       " 'https://no.wikipedia.org/wiki/Pytonslanger',\n",
       " 'https://pnb.wikipedia.org/wiki/%D9%BE%D8%A7%D8%A6%DB%8C%D8%AA%DA%BE%D9%86',\n",
       " 'https://pl.wikipedia.org/wiki/Pytony',\n",
       " 'https://pt.wikipedia.org/wiki/Pythonidae',\n",
       " 'https://ro.wikipedia.org/wiki/Pitoni',\n",
       " 'https://ru.wikipedia.org/wiki/%D0%9F%D0%B8%D1%82%D0%BE%D0%BD%D1%8B',\n",
       " 'https://sco.wikipedia.org/wiki/Pythonidae',\n",
       " 'https://nso.wikipedia.org/wiki/Hlware',\n",
       " 'https://sq.wikipedia.org/wiki/Pitoni',\n",
       " 'https://simple.wikipedia.org/wiki/Python',\n",
       " 'https://sd.wikipedia.org/wiki/%D8%A7%D8%B1%DA%99',\n",
       " 'https://sk.wikipedia.org/wiki/Pyt%C3%B3novit%C3%A9',\n",
       " 'https://ckb.wikipedia.org/wiki/%D9%BE%D8%A7%DB%8C%D8%AA%DB%86%D9%86_(%D9%85%D8%A7%D8%B1)',\n",
       " 'https://sh.wikipedia.org/wiki/Pitoni',\n",
       " 'https://su.wikipedia.org/wiki/Sanca',\n",
       " 'https://fi.wikipedia.org/wiki/Pytonk%C3%A4%C3%A4rmeet',\n",
       " 'https://sv.wikipedia.org/wiki/Pytonormar',\n",
       " 'https://tl.wikipedia.org/wiki/Sawa_(piton)',\n",
       " 'https://th.wikipedia.org/wiki/%E0%B8%A7%E0%B8%87%E0%B8%A8%E0%B9%8C%E0%B8%87%E0%B8%B9%E0%B9%80%E0%B8%AB%E0%B8%A5%E0%B8%B7%E0%B8%AD%E0%B8%A1',\n",
       " 'https://tr.wikipedia.org/wiki/Pythonidae',\n",
       " 'https://uk.wikipedia.org/wiki/%D0%9F%D1%96%D1%82%D0%BE%D0%BD%D0%B8',\n",
       " 'https://vi.wikipedia.org/wiki/H%E1%BB%8D_Tr%C4%83n',\n",
       " 'https://wuu.wikipedia.org/wiki/%E8%9F%92%E7%A7%91',\n",
       " 'https://diq.wikipedia.org/wiki/Piton',\n",
       " 'https://zh.wikipedia.org/wiki/%E8%9F%92%E7%A7%91',\n",
       " 'https://www.wikidata.org/wiki/Special:EntityPage/Q184018#sitelinks-wikipedia',\n",
       " 'https://en.wikipedia.org/wiki/Pythonidae',\n",
       " 'https://en.wikipedia.org/wiki/Talk:Pythonidae',\n",
       " 'https://en.wikipedia.org/wiki/Pythonidae',\n",
       " 'https://en.wikipedia.org/w/index.php?title=Pythonidae&action=edit',\n",
       " 'https://en.wikipedia.org/w/index.php?title=Pythonidae&action=history',\n",
       " 'https://en.wikipedia.org/wiki/Pythonidae',\n",
       " 'https://en.wikipedia.org/w/index.php?title=Pythonidae&action=edit',\n",
       " 'https://en.wikipedia.org/w/index.php?title=Pythonidae&action=history',\n",
       " 'https://en.wikipedia.org/wiki/Special:WhatLinksHere/Pythonidae',\n",
       " 'https://en.wikipedia.org/wiki/Special:RecentChangesLinked/Pythonidae',\n",
       " 'https://en.wikipedia.org/wiki/Wikipedia:File_Upload_Wizard',\n",
       " 'https://en.wikipedia.org/wiki/Special:SpecialPages',\n",
       " 'https://en.wikipedia.org/w/index.php?title=Pythonidae&oldid=1150358868',\n",
       " 'https://en.wikipedia.org/w/index.php?title=Pythonidae&action=info',\n",
       " 'https://en.wikipedia.org/w/index.php?title=Special:CiteThisPage&page=Pythonidae&id=1150358868&wpFormIdentifier=titleform',\n",
       " 'https://www.wikidata.org/wiki/Special:EntityPage/Q184018',\n",
       " 'https://www.wikidata.org/wiki/Special:EntityPage/Q184018#sitelinks-wikipedia',\n",
       " 'https://en.wikipedia.org/w/index.php?title=Special:DownloadAsPdf&page=Pythonidae&action=show-download-screen',\n",
       " 'https://en.wikipedia.org/w/index.php?title=Pythonidae&printable=yes',\n",
       " 'https://commons.wikimedia.org/wiki/Pythonidae',\n",
       " 'https://species.wikimedia.org/wiki/Pythonidae',\n",
       " 'https://en.wikipedia.org/wiki/Pythonides',\n",
       " 'https://en.wikipedia.org/wiki/File:Python_molurus_molurus_2.jpg',\n",
       " 'https://en.wikipedia.org/wiki/Python_molurus',\n",
       " 'https://en.wikipedia.org/wiki/Taxonomy_(biology)',\n",
       " 'https://en.wikipedia.org/wiki/Template:Taxonomy/Pythonidae',\n",
       " 'https://en.wikipedia.org/wiki/Animal',\n",
       " 'https://en.wikipedia.org/wiki/Chordate',\n",
       " 'https://en.wikipedia.org/wiki/Reptile',\n",
       " 'https://en.wikipedia.org/wiki/Squamata',\n",
       " 'https://en.wikipedia.org/wiki/Snake',\n",
       " 'https://en.wikipedia.org/wiki/Pythonoidea',\n",
       " None,\n",
       " 'https://en.wikipedia.org/wiki/Leopold_Fitzinger',\n",
       " 'https://en.wikipedia.org/wiki/Synonym_(taxonomy)',\n",
       " 'https://en.wikipedia.org/wiki/Pythonidae#cite_note-McD99-1',\n",
       " 'https://en.wikipedia.org/wiki/File:Question_book-new.svg',\n",
       " 'https://en.wikipedia.org/wiki/Wikipedia:Verifiability',\n",
       " 'https://en.wikipedia.org/w/index.php?title=Pythonidae&action=edit',\n",
       " 'https://en.wikipedia.org/wiki/Help:Referencing_for_beginners',\n",
       " 'https://www.google.com/search?as_eq=wikipedia&q=%22Pythonidae%22',\n",
       " 'https://www.google.com/search?tbm=nws&q=%22Pythonidae%22+-wikipedia&tbs=ar:1',\n",
       " 'https://www.google.com/search?&q=%22Pythonidae%22&tbs=bkt:s&tbm=bks',\n",
       " 'https://www.google.com/search?tbs=bks:1&q=%22Pythonidae%22+-wikipedia',\n",
       " 'https://scholar.google.com/scholar?q=%22Pythonidae%22',\n",
       " 'https://www.jstor.org/action/doBasicSearch?Query=%22Pythonidae%22&acc=on&wc=on',\n",
       " 'https://en.wikipedia.org/wiki/Help:Maintenance_template_removal',\n",
       " 'https://en.wikipedia.org/wiki/File:LRMEXPORT_187433861073166_20200523_062423632a.jpg',\n",
       " 'https://en.wikipedia.org/wiki/File:LRMEXPORT_187433861073166_20200523_062423632a.jpg',\n",
       " 'https://en.wikipedia.org/wiki/Family_(biology)',\n",
       " 'https://en.wikipedia.org/wiki/Venomous_snake',\n",
       " 'https://en.wikipedia.org/wiki/Snake',\n",
       " 'https://en.wikipedia.org/wiki/Genus',\n",
       " 'https://en.wikipedia.org/wiki/Species',\n",
       " 'https://en.wikipedia.org/wiki/Rattlesnake',\n",
       " 'https://en.wikipedia.org/wiki/Envenomation',\n",
       " 'https://en.wikipedia.org/wiki/Boidae',\n",
       " 'https://en.wikipedia.org/wiki/Kingsnakes',\n",
       " 'https://en.wikipedia.org/wiki/Pythonidae#cite_note-ITIS-2',\n",
       " 'https://en.wikipedia.org/w/index.php?title=Pythonidae&action=edit&section=1',\n",
       " 'https://en.wikipedia.org/wiki/Sub-Saharan_Africa',\n",
       " 'https://en.wikipedia.org/wiki/Nepal',\n",
       " 'https://en.wikipedia.org/wiki/India',\n",
       " 'https://en.wikipedia.org/wiki/Sri_Lanka',\n",
       " 'https://en.wikipedia.org/wiki/Bangladesh',\n",
       " 'https://en.wikipedia.org/wiki/Southeast_Asia',\n",
       " 'https://en.wikipedia.org/wiki/Pakistan',\n",
       " 'https://en.wikipedia.org/wiki/China',\n",
       " 'https://en.wikipedia.org/wiki/Philippines',\n",
       " 'https://en.wikipedia.org/wiki/Australia',\n",
       " 'https://en.wikipedia.org/wiki/Pythonidae#cite_note-McD99-1',\n",
       " 'https://en.wikipedia.org/wiki/Burmese_python',\n",
       " 'https://en.wikipedia.org/wiki/Invasive_species',\n",
       " 'https://en.wikipedia.org/wiki/Everglades_National_Park',\n",
       " 'https://en.wikipedia.org/wiki/American_alligator',\n",
       " 'https://en.wikipedia.org/wiki/Bobcat',\n",
       " 'https://en.wikipedia.org/wiki/American_bullfrog',\n",
       " 'https://en.wikipedia.org/wiki/Virginia_opossum',\n",
       " 'https://en.wikipedia.org/wiki/Raccoon',\n",
       " 'https://en.wikipedia.org/wiki/North_American_river_otter',\n",
       " 'https://en.wikipedia.org/wiki/White-tailed_deer',\n",
       " 'https://en.wikipedia.org/wiki/Green_iguana',\n",
       " 'https://en.wikipedia.org/wiki/Nutria',\n",
       " 'https://en.wikipedia.org/wiki/Pythonidae#cite_note-NGeo-3',\n",
       " 'https://en.wikipedia.org/w/index.php?title=Pythonidae&action=edit&section=2',\n",
       " 'https://en.wikipedia.org/wiki/File:Wiki_letter_w_cropped.svg',\n",
       " 'https://en.wikipedia.org/w/index.php?title=Pythonidae&action=edit&section=',\n",
       " 'https://en.wikipedia.org/wiki/Indian_python',\n",
       " 'https://en.wikipedia.org/w/index.php?title=Pythonidae&action=edit&section=3',\n",
       " 'https://en.wikipedia.org/wiki/File:Blackheaded_python2.jpg',\n",
       " 'https://en.wikipedia.org/wiki/File:Blackheaded_python2.jpg',\n",
       " 'https://en.wikipedia.org/wiki/Black-headed_python',\n",
       " 'https://en.wikipedia.org/wiki/File:Wiki_letter_w_cropped.svg',\n",
       " 'https://en.wikipedia.org/w/index.php?title=Pythonidae&action=edit&section=',\n",
       " 'https://en.wikipedia.org/wiki/Ambush_predator',\n",
       " 'https://en.wikipedia.org/wiki/Pythonidae#cite_note-Wang-4',\n",
       " 'https://en.wikipedia.org/wiki/Pythonidae#cite_note-5',\n",
       " 'https://en.wikipedia.org/w/index.php?title=Pythonidae&action=edit&section=4',\n",
       " 'https://en.wikipedia.org/wiki/Constriction',\n",
       " 'https://en.wikipedia.org/wiki/Pythonidae#cite_note-6',\n",
       " 'https://en.wikipedia.org/wiki/Pythonidae#cite_note-7',\n",
       " 'https://en.wikipedia.org/wiki/Deer',\n",
       " 'https://en.wikipedia.org/wiki/Central_African_rock_python',\n",
       " 'https://en.wikipedia.org/wiki/Antelope',\n",
       " 'https://en.wikipedia.org/wiki/Human',\n",
       " 'https://en.wikipedia.org/wiki/Sulawesi',\n",
       " 'https://en.wikipedia.org/wiki/Indonesia',\n",
       " 'https://en.wikipedia.org/wiki/Pythonidae#cite_note-8',\n",
       " 'https://en.wikipedia.org/wiki/Reticulated_python',\n",
       " 'https://en.wikipedia.org/wiki/Wikipedia:Citation_needed',\n",
       " 'https://en.wikipedia.org/wiki/Wikipedia:Citation_needed',\n",
       " 'https://en.wikipedia.org/wiki/File:Python_skull_rotation.gif',\n",
       " 'https://en.wikipedia.org/wiki/File:Python_skull_rotation.gif',\n",
       " 'https://en.wikipedia.org/w/index.php?title=Pythonidae&action=edit&section=5',\n",
       " 'https://en.wikipedia.org/wiki/Oviparous',\n",
       " 'https://en.wikipedia.org/wiki/Boidae',\n",
       " 'https://en.wikipedia.org/wiki/Ovoviviparous',\n",
       " 'https://en.wikipedia.org/w/index.php?title=Pythonidae&action=edit&section=6',\n",
       " 'https://en.wikipedia.org/wiki/Pythonidae#cite_note-Anapsid-9',\n",
       " 'https://en.wikipedia.org/wiki/Pythonidae#cite_note-10',\n",
       " 'https://en.wikipedia.org/w/index.php?title=Pythonidae&action=edit&section=7',\n",
       " 'https://en.wikipedia.org/wiki/George_Albert_Boulenger',\n",
       " 'https://en.wikipedia.org/wiki/Subfamily',\n",
       " 'https://en.wikipedia.org/wiki/Boidae',\n",
       " 'https://en.wikipedia.org/wiki/Pythonidae#cite_note-McD99-1',\n",
       " 'https://en.wikipedia.org/wiki/Xenopeltis',\n",
       " 'https://en.wikipedia.org/wiki/Loxocemus',\n",
       " 'https://en.wikipedia.org/wiki/Pythonidae#cite_note-11',\n",
       " 'https://en.wikipedia.org/wiki/Pythonidae#cite_note-12',\n",
       " 'https://en.wikipedia.org/w/index.php?title=Pythonidae&action=edit&section=8',\n",
       " 'https://en.wikipedia.org/wiki/Pythonidae#cite_note-ITIS-2',\n",
       " 'https://en.wikipedia.org/wiki/Pythonidae#cite_note-ITIS-2',\n",
       " 'https://en.wikipedia.org/wiki/Pythonidae#cite_note-ITIS-2',\n",
       " 'https://en.wikipedia.org/wiki/Pythonidae#cite_note-13',\n",
       " 'https://en.wikipedia.org/wiki/Pythonidae#cite_note-ITIS-2',\n",
       " 'https://en.wikipedia.org/wiki/Pythonidae#cite_note-McD99-1',\n",
       " 'https://en.wikipedia.org/wiki/Antaresia',\n",
       " 'https://en.wikipedia.org/wiki/Apodora',\n",
       " 'https://en.wikipedia.org/wiki/Pythonidae#cite_note-14',\n",
       " 'https://en.wikipedia.org/wiki/Aspidites',\n",
       " 'https://en.wikipedia.org/wiki/Wilhelm_Peters',\n",
       " 'https://en.wikipedia.org/wiki/Leopold_Fitzinger',\n",
       " 'https://en.wikipedia.org/wiki/Bismarck_ringed_python',\n",
       " 'https://en.wikipedia.org/wiki/Leiopython',\n",
       " 'https://en.wikipedia.org/wiki/Ambrosius_Hubrecht',\n",
       " 'https://en.wikipedia.org/wiki/Liasis',\n",
       " 'https://en.wikipedia.org/wiki/John_Edward_Gray',\n",
       " 'https://en.wikipedia.org/wiki/Indonesia',\n",
       " 'https://en.wikipedia.org/wiki/Lesser_Sunda_Islands',\n",
       " 'https://en.wikipedia.org/wiki/Malayopython',\n",
       " 'https://en.wikipedia.org/wiki/Morelia_(snake)',\n",
       " 'https://en.wikipedia.org/wiki/Maluku_Islands',\n",
       " 'https://en.wikipedia.org/wiki/Oenpelli_python',\n",
       " 'https://en.wikipedia.org/wiki/Python_(genus)',\n",
       " 'https://en.wikipedia.org/wiki/Pythonidae#cite_note-15',\n",
       " 'https://en.wikipedia.org/wiki/Fran%C3%A7ois_Marie_Daudin',\n",
       " 'https://en.wikipedia.org/wiki/Sahara',\n",
       " 'https://en.wikipedia.org/wiki/Madagascar',\n",
       " 'https://en.wikipedia.org/wiki/Bangladesh',\n",
       " 'https://en.wikipedia.org/wiki/Sri_Lanka',\n",
       " 'https://en.wikipedia.org/wiki/Nicobar_Islands',\n",
       " 'https://en.wikipedia.org/wiki/Burma',\n",
       " 'https://en.wikipedia.org/wiki/Indochina',\n",
       " 'https://en.wikipedia.org/wiki/Hong_Kong',\n",
       " 'https://en.wikipedia.org/wiki/Hainan',\n",
       " 'https://en.wikipedia.org/wiki/Indonesia',\n",
       " 'https://en.wikipedia.org/wiki/Philippines',\n",
       " 'https://en.wikipedia.org/wiki/Simalia',\n",
       " 'https://en.wikipedia.org/wiki/Halmahera',\n",
       " 'https://en.wikipedia.org/wiki/Ambon_Island',\n",
       " 'https://en.wikipedia.org/wiki/Seram_Island',\n",
       " 'https://en.wikipedia.org/wiki/Maluku_Islands',\n",
       " 'https://en.wikipedia.org/wiki/Northern_Territory',\n",
       " 'https://en.wikipedia.org/wiki/Queensland',\n",
       " 'https://en.wikipedia.org/wiki/Torres_Strait',\n",
       " 'https://en.wikipedia.org/wiki/Papua_New_Guinea',\n",
       " 'https://en.wikipedia.org/w/index.php?title=Pythonidae&action=edit&section=9',\n",
       " 'https://en.wikipedia.org/w/index.php?title=Pythonidae&action=edit&section=10',\n",
       " 'https://en.wikipedia.org/wiki/Poaching',\n",
       " 'https://en.wikipedia.org/wiki/Pythonidae#cite_note-16',\n",
       " 'https://en.wikipedia.org/wiki/Bushmeat',\n",
       " 'https://en.wikipedia.org/wiki/Pythonidae#cite_note-Jensen_2017-17',\n",
       " 'https://en.wikipedia.org/wiki/Pythonidae#cite_note-18',\n",
       " 'https://en.wikipedia.org/wiki/Cameroon',\n",
       " 'https://en.wikipedia.org/wiki/Central_African_rock_python',\n",
       " 'https://en.wikipedia.org/wiki/Pythonidae#cite_note-Jensen_2017-17',\n",
       " 'https://en.wikipedia.org/wiki/Cameroon',\n",
       " 'https://en.wikipedia.org/wiki/Kenya',\n",
       " 'https://en.wikipedia.org/wiki/Snakeskin',\n",
       " 'https://en.wikipedia.org/wiki/Pythonidae#cite_note-19',\n",
       " 'https://en.wikipedia.org/w/index.php?title=Pythonidae&action=edit&section=11',\n",
       " 'https://en.wikipedia.org/wiki/Salmonellosis',\n",
       " 'https://en.wikipedia.org/wiki/Chlamydia_infection',\n",
       " 'https://en.wikipedia.org/wiki/Leptospirosis',\n",
       " 'https://en.wikipedia.org/w/index.php?title=Aeromoniasis&action=edit&redlink=1',\n",
       " 'https://en.wikipedia.org/wiki/Campylobacteriosis',\n",
       " 'https://en.wikipedia.org/wiki/Zygomycosis',\n",
       " 'https://en.wikipedia.org/wiki/Pythonidae#cite_note-20',\n",
       " 'https://en.wikipedia.org/wiki/Pythonidae#cite_note-21',\n",
       " 'https://en.wikipedia.org/wiki/Sepsis',\n",
       " 'https://en.wikipedia.org/wiki/Meningitis',\n",
       " 'https://en.wikipedia.org/wiki/Pythonidae#cite_note-22',\n",
       " 'https://en.wikipedia.org/wiki/Pythonidae#cite_note-Soewu_2008-23',\n",
       " 'https://en.wikipedia.org/wiki/Burmese_python',\n",
       " 'https://en.wikipedia.org/wiki/Hispid_cotton_rat',\n",
       " 'https://en.wikipedia.org/wiki/Everglades_virus',\n",
       " 'https://en.wikipedia.org/wiki/Pythonidae#cite_note-24',\n",
       " 'https://en.wikipedia.org/w/index.php?title=Pythonidae&action=edit&section=12',\n",
       " 'https://en.wikipedia.org/w/index.php?title=Pythonidae&action=edit&section=13',\n",
       " 'https://en.wikipedia.org/wiki/Pythonidae#cite_note-AlexanderMoshoeu2016-25',\n",
       " 'https://en.wikipedia.org/wiki/South_Africa',\n",
       " 'https://en.wikipedia.org/wiki/Zulu_people',\n",
       " 'https://en.wikipedia.org/wiki/Pythonidae#cite_note-AlexanderMoshoeu2016-25',\n",
       " 'https://en.wikipedia.org/wiki/Pythonidae#cite_note-AlexanderMoshoeu2016-25',\n",
       " 'https://en.wikipedia.org/w/index.php?title=Pythonidae&action=edit&section=14',\n",
       " 'https://en.wikipedia.org/wiki/Pythonidae#cite_note-AlexanderMoshoeu2016-25',\n",
       " 'https://en.wikipedia.org/wiki/Joint_pain',\n",
       " 'https://en.wikipedia.org/wiki/Rheumatism',\n",
       " 'https://en.wikipedia.org/wiki/Toothache',\n",
       " 'https://en.wikipedia.org/wiki/Eye_sight',\n",
       " 'https://en.wikipedia.org/wiki/Pythonidae#cite_note-:2-26',\n",
       " 'https://en.wikipedia.org/wiki/Psychosis',\n",
       " 'https://en.wikipedia.org/wiki/Pythonidae#cite_note-KajawuChingarande2015-27',\n",
       " 'https://en.wikipedia.org/wiki/Pythonidae#cite_note-:2-26',\n",
       " 'https://en.wikipedia.org/wiki/Pythonidae#cite_note-28',\n",
       " 'https://en.wikipedia.org/w/index.php?title=Pythonidae&action=edit&section=15',\n",
       " 'https://en.wikipedia.org/wiki/Traditional_medicine',\n",
       " 'https://en.wikipedia.org/wiki/Fatty_acid',\n",
       " 'https://en.wikipedia.org/wiki/Triglyceride',\n",
       " 'https://en.wikipedia.org/wiki/Lipid',\n",
       " 'https://en.wikipedia.org/wiki/Pythonidae#cite_note-:2-26',\n",
       " 'https://en.wikipedia.org/wiki/Pythonidae#cite_note-:2-26',\n",
       " 'https://en.wikipedia.org/wiki/Pythonidae#cite_note-29',\n",
       " 'https://en.wikipedia.org/w/index.php?title=Pythonidae&action=edit&section=16',\n",
       " 'https://en.wikipedia.org/wiki/Tanzania',\n",
       " 'https://en.wikipedia.org/wiki/Feces',\n",
       " 'https://en.wikipedia.org/wiki/Pythonidae#cite_note-30',\n",
       " 'https://en.wikipedia.org/w/index.php?title=Pythonidae&action=edit&section=17',\n",
       " 'https://en.wikipedia.org/wiki/Gallbladder',\n",
       " 'https://en.wikipedia.org/wiki/Liver',\n",
       " 'https://en.wikipedia.org/wiki/Pythonidae#cite_note-Soewu_2008-23',\n",
       " 'https://en.wikipedia.org/wiki/Pythonidae#cite_note-Soewu_2008-23',\n",
       " 'https://en.wikipedia.org/w/index.php?title=Pythonidae&action=edit&section=18',\n",
       " 'https://en.wikipedia.org/wiki/Ghana',\n",
       " 'https://en.wikipedia.org/wiki/Pythonidae#cite_note-31',\n",
       " 'https://en.wikipedia.org/wiki/Botswana',\n",
       " 'https://en.wikipedia.org/wiki/Pythonidae#cite_note-32',\n",
       " 'https://en.wikipedia.org/wiki/Benin',\n",
       " 'https://en.wikipedia.org/wiki/Yoruba_language',\n",
       " 'https://en.wikipedia.org/wiki/Pythonidae#cite_note-33',\n",
       " 'https://en.wikipedia.org/w/index.php?title=Pythonidae&action=edit&section=19',\n",
       " 'https://en.wikipedia.org/wiki/List_of_pythonid_species_and_subspecies',\n",
       " 'https://en.wikipedia.org/w/index.php?title=Pythonidae&action=edit&section=20',\n",
       " 'https://en.wikipedia.org/w/index.php?title=Pythonidae&action=edit&section=21',\n",
       " 'https://en.wikipedia.org/wiki/Pythonidae#cite_ref-13',\n",
       " 'https://en.wikipedia.org/wiki/Subspecies#Nominotypical_subspecies_and_subspecies_autonyms',\n",
       " 'https://en.wikipedia.org/wiki/Pythonidae#cite_ref-15',\n",
       " 'https://en.wikipedia.org/wiki/Type_genus',\n",
       " 'https://en.wikipedia.org/wiki/Pythonidae#cite_note-McD99-1',\n",
       " 'https://en.wikipedia.org/w/index.php?title=Pythonidae&action=edit&section=22',\n",
       " 'https://en.wikipedia.org/wiki/Pythonidae#cite_ref-McD99_1-0',\n",
       " 'https://en.wikipedia.org/wiki/Pythonidae#cite_ref-McD99_1-1',\n",
       " 'https://en.wikipedia.org/wiki/Pythonidae#cite_ref-McD99_1-2',\n",
       " 'https://en.wikipedia.org/wiki/Pythonidae#cite_ref-McD99_1-3',\n",
       " 'https://en.wikipedia.org/wiki/Pythonidae#cite_ref-McD99_1-4',\n",
       " 'https://books.google.com/books?id=GQOuswEACAAJ',\n",
       " 'https://en.wikipedia.org/wiki/ISBN_(identifier)',\n",
       " 'https://en.wikipedia.org/wiki/Special:BookSources/978-1-893777-01-9',\n",
       " 'https://en.wikipedia.org/wiki/Pythonidae#cite_ref-ITIS_2-0',\n",
       " 'https://en.wikipedia.org/wiki/Pythonidae#cite_ref-ITIS_2-1',\n",
       " 'https://en.wikipedia.org/wiki/Pythonidae#cite_ref-ITIS_2-2',\n",
       " 'https://en.wikipedia.org/wiki/Pythonidae#cite_ref-ITIS_2-3',\n",
       " 'https://en.wikipedia.org/wiki/Pythonidae#cite_ref-ITIS_2-4',\n",
       " 'https://www.itis.gov/servlet/SingleRpt/SingleRpt?search_topic=TSN&search_value=563893',\n",
       " 'https://en.wikipedia.org/wiki/Integrated_Taxonomic_Information_System',\n",
       " 'https://en.wikipedia.org/wiki/Pythonidae#cite_ref-NGeo_3-0',\n",
       " 'http://news.nationalgeographic.com/news/2004/06/0603_040603_invasivespecies.html',\n",
       " 'https://en.wikipedia.org/wiki/Pythonidae#cite_ref-Wang_4-0',\n",
       " 'https://www.washingtonpost.com/news/worldviews/wp/2017/03/29/an-indonesian-man-disappeared-villagers-found-his-body-inside-a-23-foot-long-python/',\n",
       " 'https://en.wikipedia.org/wiki/Pythonidae#cite_ref-5',\n",
       " 'https://www.washingtonpost.com/news/worldviews/wp/2018/06/16/a-woman-went-to-check-her-corn-and-was-swallowed-by-a-python/?wpisrc=nl_most&wpmm=1',\n",
       " 'https://en.wikipedia.org/wiki/Pythonidae#cite_ref-6',\n",
       " 'https://en.wikipedia.org/wiki/Pythonidae#cite_ref-7',\n",
       " 'https://doi.org/10.1242%2Fjeb.121384',\n",
       " 'https://en.wikipedia.org/wiki/Doi_(identifier)',\n",
       " 'https://doi.org/10.1242%2Fjeb.121384',\n",
       " 'https://en.wikipedia.org/wiki/PMID_(identifier)',\n",
       " 'https://pubmed.ncbi.nlm.nih.gov/26202779',\n",
       " 'https://en.wikipedia.org/wiki/Pythonidae#cite_ref-8',\n",
       " 'https://www.theguardian.com/world/2017/mar/29/giant-python-swallows-indonesian-farmer-in-one-go',\n",
       " 'https://en.wikipedia.org/wiki/Pythonidae#cite_ref-Anapsid_9-0',\n",
       " 'http://www.anapsid.org/coloburm.html',\n",
       " 'https://en.wikipedia.org/wiki/Pythonidae#cite_ref-10',\n",
       " 'http://m.humanesociety.org/assets/pdfs/wildlife/captive/constrictor-snake-attacks.pdf',\n",
       " 'https://en.wikipedia.org/wiki/Pythonidae#cite_ref-11',\n",
       " 'https://www.ncbi.nlm.nih.gov/pmc/articles/PMC3682911',\n",
       " 'https://en.wikipedia.org/wiki/Doi_(identifier)',\n",
       " 'https://doi.org/10.1186%2F1471-2148-13-93',\n",
       " 'https://en.wikipedia.org/wiki/PMC_(identifier)',\n",
       " 'https://www.ncbi.nlm.nih.gov/pmc/articles/PMC3682911',\n",
       " 'https://en.wikipedia.org/wiki/PMID_(identifier)',\n",
       " 'https://pubmed.ncbi.nlm.nih.gov/23627680',\n",
       " 'https://en.wikipedia.org/wiki/Pythonidae#cite_ref-12',\n",
       " 'https://web.archive.org/web/20151202212953/http://www.rgrahamreynolds.info/wp-content/uploads/2014/01/Reynolds_etal_2014_MPE.pdf',\n",
       " 'https://en.wikipedia.org/wiki/Doi_(identifier)',\n",
       " 'https://doi.org/10.1016%2Fj.ympev.2013.11.011',\n",
       " 'https://en.wikipedia.org/wiki/PMID_(identifier)',\n",
       " 'https://pubmed.ncbi.nlm.nih.gov/24315866',\n",
       " 'http://www.rgrahamreynolds.info/wp-content/uploads/2014/01/Reynolds_etal_2014_MPE.pdf',\n",
       " 'https://en.wikipedia.org/wiki/Pythonidae#cite_ref-14',\n",
       " 'https://media.australianmuseum.net.au/media/Uploads/Journals/16847/52_complete.pdf',\n",
       " 'https://en.wikipedia.org/wiki/Doi_(identifier)',\n",
       " 'https://doi.org/10.3853%2Fj.0812-7387.19.1993.52',\n",
       " 'https://en.wikipedia.org/wiki/ISBN_(identifier)',\n",
       " 'https://en.wikipedia.org/wiki/Special:BookSources/0-7310-1164-3',\n",
       " 'https://en.wikipedia.org/wiki/Pythonidae#cite_ref-16',\n",
       " 'https://www.bbc.com/news/science-environment-20509720',\n",
       " 'https://en.wikipedia.org/wiki/Pythonidae#cite_ref-Jensen_2017_17-0',\n",
       " 'https://en.wikipedia.org/wiki/Pythonidae#cite_ref-Jensen_2017_17-1',\n",
       " 'https://blog.nationalgeographic.org/2017/09/05/large-snakes-are-on-the-menu-at-cameroons-nkoldongo-bushmeat-market/',\n",
       " 'https://en.wikipedia.org/wiki/Pythonidae#cite_ref-18',\n",
       " 'https://motherboard.vice.com/en_us/article/pgapvv/snake-farms-could-tackle-the-billion-dollar-black-market-for-python-skin',\n",
       " 'https://en.wikipedia.org/wiki/Pythonidae#cite_ref-19',\n",
       " 'https://www.bbc.com/news/business-38499611',\n",
       " 'https://en.wikipedia.org/wiki/Pythonidae#cite_ref-20',\n",
       " 'https://ras.research.cornell.edu/care/documents/OHS/zoonosis_information_sheet_reptiles.pdf',\n",
       " 'https://en.wikipedia.org/wiki/Pythonidae#cite_ref-21',\n",
       " 'https://doi.org/10.1016%2Fj.apjtm.2017.07.020',\n",
       " 'https://en.wikipedia.org/wiki/Doi_(identifier)',\n",
       " 'https://doi.org/10.1016%2Fj.apjtm.2017.07.020',\n",
       " 'https://en.wikipedia.org/wiki/PMID_(identifier)',\n",
       " 'https://pubmed.ncbi.nlm.nih.gov/28942820',\n",
       " 'https://en.wikipedia.org/wiki/Pythonidae#cite_ref-22',\n",
       " 'https://www.zora.uzh.ch/id/eprint/79426/1/Meyer_Vector-Borne_2013.pdf',\n",
       " 'https://en.wikipedia.org/wiki/Doi_(identifier)',\n",
       " 'https://doi.org/10.1089%2Fvbz.2012.1133',\n",
       " 'https://en.wikipedia.org/wiki/PMID_(identifier)',\n",
       " 'https://pubmed.ncbi.nlm.nih.gov/23473215',\n",
       " 'https://en.wikipedia.org/wiki/S2CID_(identifier)',\n",
       " 'https://api.semanticscholar.org/CorpusID:1311418',\n",
       " 'https://en.wikipedia.org/wiki/Pythonidae#cite_ref-Soewu_2008_23-0',\n",
       " 'https://en.wikipedia.org/wiki/Pythonidae#cite_ref-Soewu_2008_23-1',\n",
       " 'https://en.wikipedia.org/wiki/Pythonidae#cite_ref-Soewu_2008_23-2',\n",
       " 'https://www.researchgate.net/publication/228671991',\n",
       " 'https://en.wikipedia.org/wiki/Pythonidae#cite_ref-24',\n",
       " 'https://www.ncbi.nlm.nih.gov/pmc/articles/PMC5665769',\n",
       " 'https://en.wikipedia.org/wiki/Doi_(identifier)',\n",
       " 'https://doi.org/10.1098%2Frsbl.2017.0353',\n",
       " 'https://en.wikipedia.org/wiki/PMC_(identifier)',\n",
       " 'https://www.ncbi.nlm.nih.gov/pmc/articles/PMC5665769',\n",
       " 'https://en.wikipedia.org/wiki/PMID_(identifier)',\n",
       " 'https://pubmed.ncbi.nlm.nih.gov/28978755',\n",
       " 'https://en.wikipedia.org/wiki/Pythonidae#cite_ref-AlexanderMoshoeu2016_25-0',\n",
       " 'https://en.wikipedia.org/wiki/Pythonidae#cite_ref-AlexanderMoshoeu2016_25-1',\n",
       " 'https://en.wikipedia.org/wiki/Pythonidae#cite_ref-AlexanderMoshoeu2016_25-2',\n",
       " 'https://en.wikipedia.org/wiki/Pythonidae#cite_ref-AlexanderMoshoeu2016_25-3',\n",
       " 'https://doi.org/10.17159%2Fsajs.2016%2F20150416',\n",
       " 'https://en.wikipedia.org/wiki/Doi_(identifier)',\n",
       " 'https://doi.org/10.17159%2Fsajs.2016%2F20150416',\n",
       " 'https://en.wikipedia.org/wiki/ISSN_(identifier)',\n",
       " 'https://www.worldcat.org/issn/0038-2353',\n",
       " 'https://en.wikipedia.org/wiki/Pythonidae#cite_ref-:2_26-0',\n",
       " 'https://en.wikipedia.org/wiki/Pythonidae#cite_ref-:2_26-1',\n",
       " 'https://en.wikipedia.org/wiki/Pythonidae#cite_ref-:2_26-2',\n",
       " 'https://en.wikipedia.org/wiki/Pythonidae#cite_ref-:2_26-3',\n",
       " 'https://www.sryahwapublications.com/journal-of-zoological-research/volume-1-issue-1/1.php',\n",
       " 'https://en.wikipedia.org/wiki/Pythonidae#cite_ref-KajawuChingarande2015_27-0',\n",
       " 'https://www.researchgate.net/publication/283805674',\n",
       " 'https://en.wikipedia.org/wiki/Doi_(identifier)',\n",
       " 'https://doi.org/10.1080%2F17542863.2015.1106568',\n",
       " 'https://en.wikipedia.org/wiki/ISSN_(identifier)',\n",
       " 'https://www.worldcat.org/issn/1754-2863',\n",
       " 'https://en.wikipedia.org/wiki/S2CID_(identifier)',\n",
       " 'https://api.semanticscholar.org/CorpusID:57728277',\n",
       " 'https://en.wikipedia.org/wiki/Pythonidae#cite_ref-28',\n",
       " 'https://pubmed.ncbi.nlm.nih.gov/19051590/',\n",
       " 'https://en.wikipedia.org/wiki/PMID_(identifier)',\n",
       " 'https://pubmed.ncbi.nlm.nih.gov/19051590',\n",
       " 'https://en.wikipedia.org/wiki/Pythonidae#cite_ref-29',\n",
       " 'https://www.ncbi.nlm.nih.gov/pmc/articles/PMC2853519',\n",
       " 'https://en.wikipedia.org/wiki/Doi_(identifier)',\n",
       " 'https://doi.org/10.1186%2F1746-4269-6-13',\n",
       " 'https://en.wikipedia.org/wiki/PMC_(identifier)',\n",
       " 'https://www.ncbi.nlm.nih.gov/pmc/articles/PMC2853519',\n",
       " 'https://en.wikipedia.org/wiki/PMID_(identifier)',\n",
       " 'https://pubmed.ncbi.nlm.nih.gov/20346120',\n",
       " 'https://en.wikipedia.org/wiki/Pythonidae#cite_ref-30',\n",
       " 'https://www.ncbi.nlm.nih.gov/pmc/articles/PMC4472419',\n",
       " 'https://en.wikipedia.org/wiki/Doi_(identifier)',\n",
       " 'https://doi.org/10.1186%2Fs13002-015-0001-y',\n",
       " 'https://en.wikipedia.org/wiki/PMC_(identifier)',\n",
       " 'https://www.ncbi.nlm.nih.gov/pmc/articles/PMC4472419',\n",
       " 'https://en.wikipedia.org/wiki/PMID_(identifier)',\n",
       " 'https://pubmed.ncbi.nlm.nih.gov/25947365',\n",
       " 'https://en.wikipedia.org/wiki/Pythonidae#cite_ref-31',\n",
       " 'http://www.jpanafrican.org/docs/vol8no9/8.9-10-FDiawuo.pdf',\n",
       " 'https://en.wikipedia.org/wiki/Pythonidae#cite_ref-32',\n",
       " 'https://www.apollon.uio.no/english/articles/2006/python-english.html',\n",
       " 'https://en.wikipedia.org/wiki/Pythonidae#cite_ref-33',\n",
       " 'https://www.bbc.com/news/world-africa-41048840',\n",
       " 'https://en.wikipedia.org/w/index.php?title=Pythonidae&action=edit&section=23',\n",
       " 'https://en.wikipedia.org/wiki/Wikispecies',\n",
       " 'https://species.wikimedia.org/wiki/Special:Search/Pythonidae',\n",
       " 'https://commons.wikimedia.org/wiki/Pythonidae',\n",
       " 'http://reptile-database.reptarium.cz/search.php?submit=Search&taxon=Pythonidae',\n",
       " 'http://reptile-database.reptarium.cz/',\n",
       " 'https://en.wikipedia.org/wiki/Template:Pythonidae',\n",
       " 'https://en.wikipedia.org/wiki/Template_talk:Pythonidae',\n",
       " 'https://en.wikipedia.org/w/index.php?title=Template:Pythonidae&action=edit',\n",
       " None,\n",
       " 'https://en.wikipedia.org/wiki/Antaresia',\n",
       " 'https://en.wikipedia.org/wiki/Children%27s_python',\n",
       " 'https://en.wikipedia.org/wiki/Spotted_python',\n",
       " 'https://en.wikipedia.org/wiki/Pygmy_python',\n",
       " 'https://en.wikipedia.org/wiki/Apodora',\n",
       " 'https://en.wikipedia.org/wiki/Apodora',\n",
       " 'https://en.wikipedia.org/wiki/Aspidites',\n",
       " 'https://en.wikipedia.org/wiki/Black-headed_python',\n",
       " 'https://en.wikipedia.org/wiki/Woma_python',\n",
       " 'https://en.wikipedia.org/wiki/Bismarck_ringed_python',\n",
       " 'https://en.wikipedia.org/wiki/Bismarck_ringed_python',\n",
       " 'https://en.wikipedia.org/wiki/Leiopython',\n",
       " 'https://en.wikipedia.org/wiki/D%27Albertis_python',\n",
       " 'https://en.wikipedia.org/wiki/Leiopython_biakensis',\n",
       " 'https://en.wikipedia.org/wiki/Leiopython_fredparkeri',\n",
       " 'https://en.wikipedia.org/wiki/Liasis',\n",
       " 'https://en.wikipedia.org/wiki/Water_python',\n",
       " 'https://en.wikipedia.org/wiki/Liasis_mackloti',\n",
       " 'https://en.wikipedia.org/wiki/Olive_python',\n",
       " 'https://en.wikipedia.org/wiki/Malayopython',\n",
       " 'https://en.wikipedia.org/wiki/Reticulated_python',\n",
       " 'https://en.wikipedia.org/wiki/Timor_python',\n",
       " 'https://en.wikipedia.org/wiki/Morelia_(snake)',\n",
       " 'https://en.wikipedia.org/wiki/Morelia_azurea',\n",
       " 'https://en.wikipedia.org/wiki/Morelia_bredli',\n",
       " 'https://en.wikipedia.org/wiki/Morelia_carinata',\n",
       " 'https://en.wikipedia.org/wiki/Morelia_imbricata',\n",
       " 'https://en.wikipedia.org/wiki/Morelia_spilota',\n",
       " 'https://en.wikipedia.org/wiki/Green_tree_python',\n",
       " 'https://en.wikipedia.org/wiki/Nyctophilopython',\n",
       " 'https://en.wikipedia.org/wiki/Oenpelli_python',\n",
       " 'https://en.wikipedia.org/wiki/Python_(genus)',\n",
       " 'https://en.wikipedia.org/wiki/Python_anchietae',\n",
       " 'https://en.wikipedia.org/wiki/Burmese_python',\n",
       " 'https://en.wikipedia.org/wiki/Borneo_python',\n",
       " 'https://en.wikipedia.org/wiki/Python_brongersmai',\n",
       " 'https://en.wikipedia.org/wiki/Sumatran_short-tailed_python',\n",
       " 'https://en.wikipedia.org/wiki/Python_kyaiktiyo',\n",
       " 'https://en.wikipedia.org/wiki/Indian_python',\n",
       " 'https://en.wikipedia.org/wiki/Southern_African_rock_python',\n",
       " 'https://en.wikipedia.org/wiki/Ball_python',\n",
       " 'https://en.wikipedia.org/wiki/Central_African_rock_python',\n",
       " 'https://en.wikipedia.org/wiki/Simalia',\n",
       " 'https://en.wikipedia.org/wiki/Amethystine_python',\n",
       " 'https://en.wikipedia.org/wiki/Simalia_boeleni',\n",
       " 'https://en.wikipedia.org/wiki/Simalia_clastolepis',\n",
       " 'https://en.wikipedia.org/wiki/Australian_scrub_python',\n",
       " 'https://en.wikipedia.org/wiki/Simalia_nauta',\n",
       " 'https://en.wikipedia.org/wiki/Simalia_tracyae',\n",
       " 'https://en.wikipedia.org/wiki/Template:Snake_families',\n",
       " 'https://en.wikipedia.org/wiki/Template_talk:Snake_families',\n",
       " 'https://en.wikipedia.org/w/index.php?title=Template:Snake_families&action=edit',\n",
       " 'https://en.wikipedia.org/wiki/List_of_Serpentes_families',\n",
       " 'https://en.wikipedia.org/wiki/Animal',\n",
       " 'https://en.wikipedia.org/wiki/Chordate',\n",
       " 'https://en.wikipedia.org/wiki/Reptile',\n",
       " 'https://en.wikipedia.org/wiki/Squamata',\n",
       " 'https://en.wikipedia.org/wiki/Alethinophidia',\n",
       " 'https://en.wikipedia.org/wiki/Acrochordidae',\n",
       " 'https://en.wikipedia.org/wiki/Aniliidae',\n",
       " 'https://en.wikipedia.org/wiki/Anomochilidae',\n",
       " 'https://en.wikipedia.org/wiki/Atractaspididae',\n",
       " 'https://en.wikipedia.org/wiki/Boidae',\n",
       " 'https://en.wikipedia.org/wiki/Bolyeriidae',\n",
       " 'https://en.wikipedia.org/wiki/Colubridae',\n",
       " 'https://en.wikipedia.org/wiki/Cyclocoridae',\n",
       " 'https://en.wikipedia.org/wiki/Cylindrophis',\n",
       " 'https://en.wikipedia.org/wiki/Elapidae',\n",
       " 'https://en.wikipedia.org/wiki/Homalopsidae',\n",
       " 'https://en.wikipedia.org/wiki/Lamprophiidae',\n",
       " 'https://en.wikipedia.org/wiki/Loxocemidae',\n",
       " 'https://en.wikipedia.org/wiki/Prosymnidae',\n",
       " 'https://en.wikipedia.org/wiki/Psammophiidae',\n",
       " 'https://en.wikipedia.org/wiki/Pseudaspididae',\n",
       " 'https://en.wikipedia.org/wiki/Pseudoxyrhophiidae',\n",
       " None,\n",
       " 'https://en.wikipedia.org/wiki/Tropidophiidae',\n",
       " 'https://en.wikipedia.org/wiki/Uropeltidae',\n",
       " 'https://en.wikipedia.org/wiki/Viperidae',\n",
       " 'https://en.wikipedia.org/wiki/Xenodermidae',\n",
       " 'https://en.wikipedia.org/wiki/Xenopeltidae',\n",
       " 'https://en.wikipedia.org/wiki/Xenophidiidae',\n",
       " 'https://en.wikipedia.org/wiki/Scolecophidia',\n",
       " 'https://en.wikipedia.org/wiki/Anomalepididae',\n",
       " 'https://en.wikipedia.org/wiki/Gerrhopilidae',\n",
       " 'https://en.wikipedia.org/wiki/Leptotyphlopidae',\n",
       " 'https://en.wikipedia.org/wiki/Typhlopidae',\n",
       " 'https://en.wikipedia.org/wiki/Xenotyphlopidae',\n",
       " 'https://en.wikipedia.org/wiki/Help:Taxon_identifiers',\n",
       " 'https://en.wikipedia.org/wiki/Wikidata',\n",
       " 'https://www.wikidata.org/wiki/Q184018',\n",
       " 'https://en.wikipedia.org/wiki/Wikispecies',\n",
       " 'https://species.wikimedia.org/wiki/Pythonidae',\n",
       " 'https://en.wikipedia.org/wiki/Australian_Faunal_Directory',\n",
       " 'https://biodiversity.org.au/afd/taxa/Pythonidae',\n",
       " 'https://en.wikipedia.org/wiki/Barcode_of_Life_Data_System',\n",
       " 'http://www.boldsystems.org/index.php/TaxBrowser_TaxonPage?taxid=515102',\n",
       " 'https://en.wikipedia.org/wiki/Catalogue_of_Life',\n",
       " 'https://www.catalogueoflife.org/data/taxon/FH5',\n",
       " 'https://en.wikipedia.org/wiki/Encyclopedia_of_Life',\n",
       " 'https://eol.org/pages/2818930',\n",
       " 'https://en.wikipedia.org/wiki/EPPO_Code',\n",
       " 'https://gd.eppo.int/taxon/1PYTNF',\n",
       " 'https://en.wikipedia.org/wiki/Fossilworks',\n",
       " 'http://www.fossilworks.org/cgi-bin/bridge.pl?a=taxonInfo&taxon_no=99994',\n",
       " 'https://en.wikipedia.org/wiki/Global_Biodiversity_Information_Facility',\n",
       " 'https://www.gbif.org/species/4287591',\n",
       " 'https://en.wikipedia.org/wiki/INaturalist',\n",
       " 'https://www.inaturalist.org/taxa/67532',\n",
       " 'https://en.wikipedia.org/wiki/Interim_Register_of_Marine_and_Nonmarine_Genera',\n",
       " 'https://www.irmng.org/aphia.php?p=taxdetails&id=118691',\n",
       " 'https://en.wikipedia.org/wiki/Integrated_Taxonomic_Information_System',\n",
       " 'https://www.itis.gov/servlet/SingleRpt/SingleRpt?search_topic=TSN&search_value=563893',\n",
       " 'https://en.wikipedia.org/wiki/National_Center_for_Biotechnology_Information',\n",
       " 'https://www.ncbi.nlm.nih.gov/Taxonomy/Browser/wwwtax.cgi?mode=Info&id=34984',\n",
       " 'https://en.wikipedia.org/wiki/Help:Authority_control',\n",
       " 'https://www.wikidata.org/wiki/Q184018#identifiers',\n",
       " 'https://d-nb.info/gnd/4346565-1',\n",
       " 'http://uli.nli.org.il/F/?func=find-b&local_base=NLX10&find_code=UID&request=987007550898505171',\n",
       " 'https://id.loc.gov/authorities/sh85109382',\n",
       " 'https://kopkatalogs.lv/F?func=direct&local_base=lnc10&doc_number=000303450&P_CON_LNG=ENG',\n",
       " 'https://aleph.nkp.cz/F/?func=find-c&local_base=aut&ccl_term=ica=ph1119027&CON_LNG=ENG',\n",
       " 'https://en.wikipedia.org/w/index.php?title=Pythonidae&oldid=1150358868',\n",
       " 'https://en.wikipedia.org/wiki/Help:Category',\n",
       " 'https://en.wikipedia.org/wiki/Category:Pythonidae',\n",
       " 'https://en.wikipedia.org/wiki/Category:Snake_families',\n",
       " 'https://en.wikipedia.org/wiki/Category:Taxa_named_by_Leopold_Fitzinger',\n",
       " 'https://en.wikipedia.org/wiki/Category:Snakes',\n",
       " 'https://en.wikipedia.org/wiki/Category:Articles_with_short_description',\n",
       " 'https://en.wikipedia.org/wiki/Category:Short_description_matches_Wikidata',\n",
       " 'https://en.wikipedia.org/wiki/Category:Articles_with_%27species%27_microformats',\n",
       " 'https://en.wikipedia.org/wiki/Category:Articles_needing_additional_references_from_November_2022',\n",
       " 'https://en.wikipedia.org/wiki/Category:All_articles_needing_additional_references',\n",
       " 'https://en.wikipedia.org/wiki/Category:Articles_to_be_expanded_from_November_2022',\n",
       " 'https://en.wikipedia.org/wiki/Category:All_articles_to_be_expanded',\n",
       " 'https://en.wikipedia.org/wiki/Category:Articles_using_small_message_boxes',\n",
       " 'https://en.wikipedia.org/wiki/Category:All_articles_with_unsourced_statements',\n",
       " 'https://en.wikipedia.org/wiki/Category:Articles_with_unsourced_statements_from_October_2022',\n",
       " 'https://en.wikipedia.org/wiki/Category:Commons_link_from_Wikidata',\n",
       " 'https://en.wikipedia.org/wiki/Category:Articles_with_GND_identifiers',\n",
       " 'https://en.wikipedia.org/wiki/Category:Articles_with_J9U_identifiers',\n",
       " 'https://en.wikipedia.org/wiki/Category:Articles_with_LCCN_identifiers',\n",
       " 'https://en.wikipedia.org/wiki/Category:Articles_with_LNB_identifiers',\n",
       " 'https://en.wikipedia.org/wiki/Category:Articles_with_NKC_identifiers',\n",
       " 'https://en.wikipedia.org/wiki/Wikipedia:Text_of_the_Creative_Commons_Attribution-ShareAlike_3.0_Unported_License',\n",
       " 'https://creativecommons.org/licenses/by-sa/3.0/',\n",
       " 'https://foundation.wikimedia.org/wiki/Terms_of_Use',\n",
       " 'https://foundation.wikimedia.org/wiki/Privacy_policy',\n",
       " 'https://www.wikimediafoundation.org/',\n",
       " 'https://foundation.wikimedia.org/wiki/Privacy_policy',\n",
       " 'https://en.wikipedia.org/wiki/Wikipedia:About',\n",
       " 'https://en.wikipedia.org/wiki/Wikipedia:General_disclaimer',\n",
       " 'https://en.wikipedia.org/wiki/Wikipedia:Contact_us',\n",
       " 'https://en.m.wikipedia.org/w/index.php?title=Pythonidae&mobileaction=toggle_view_mobile',\n",
       " 'https://developer.wikimedia.org/',\n",
       " 'https://stats.wikimedia.org/#/en.wikipedia.org',\n",
       " 'https://foundation.wikimedia.org/wiki/Cookie_statement',\n",
       " 'https://en.wikipedia.org/wiki/Pythonidae#',\n",
       " 'https://wikimediafoundation.org/',\n",
       " 'https://www.mediawiki.org/',\n",
       " 'https://en.wikipedia.org/wiki/Pythonidae?action=edit']"
      ]
     },
     "execution_count": 32,
     "metadata": {},
     "output_type": "execute_result"
    }
   ],
   "source": [
    "link = driver.find_element(By.XPATH,'//*[@id=\"mw-content-text\"]/div[1]/p[2]/a[5]').text\n",
    "link\n",
    "\n",
    "# Para coger links no uso la clase, sino TAG_NAME, que es lo que sale así: <a>\n",
    "\n",
    "links = driver.find_elements(By.TAG_NAME,'a')\n",
    "links\n",
    "\n",
    "# Dentro de links , o sea, dentro de todos los a, encuentrame los de tipo href\n",
    "[e.get_attribute('href') for e in links]"
   ]
  },
  {
   "cell_type": "markdown",
   "metadata": {},
   "source": [
    "#### Number of Titles that have changed in the United States Code since its last release point "
   ]
  },
  {
   "cell_type": "code",
   "execution_count": 33,
   "metadata": {},
   "outputs": [
    {
     "name": "stderr",
     "output_type": "stream",
     "text": [
      "/var/folders/75/q598wy0x5rq2j183ndtczjlm0000gn/T/ipykernel_89223/3852539987.py:3: DeprecationWarning: executable_path has been deprecated, please pass in a Service object\n",
      "  driver=webdriver.Chrome(PATH, options=opciones)\n"
     ]
    }
   ],
   "source": [
    "# This is the url you will scrape in this exercise\n",
    "url = 'http://uscode.house.gov/download/download.shtml'\n",
    "driver=webdriver.Chrome(PATH, options=opciones)\n",
    "\n",
    "driver.get(url)"
   ]
  },
  {
   "cell_type": "code",
   "execution_count": 35,
   "metadata": {},
   "outputs": [
    {
     "data": {
      "text/plain": [
       "['Title 1 - General Provisions ٭',\n",
       " 'Title 2 - The Congress',\n",
       " 'Title 3 - The President ٭',\n",
       " 'Title 5 - Government Organization and Employees ٭',\n",
       " 'Title 6 - Domestic Security',\n",
       " 'Title 8 - Aliens and Nationality',\n",
       " 'Title 10 - Armed Forces ٭',\n",
       " 'Title 12 - Banks and Banking',\n",
       " 'Title 14 - Coast Guard ٭',\n",
       " 'Title 15 - Commerce and Trade',\n",
       " 'Title 16 - Conservation',\n",
       " 'Title 17 - Copyrights ٭',\n",
       " 'Title 18 - Crimes and Criminal Procedure ٭',\n",
       " 'Title 20 - Education',\n",
       " 'Title 21 - Food and Drugs',\n",
       " 'Title 22 - Foreign Relations and Intercourse',\n",
       " 'Title 25 - Indians',\n",
       " 'Title 26 - Internal Revenue Code',\n",
       " 'Title 28 - Judiciary and Judicial Procedure ٭',\n",
       " 'Title 29 - Labor',\n",
       " 'Title 31 - Money and Finance ٭',\n",
       " 'Title 32 - National Guard ٭',\n",
       " 'Title 33 - Navigation and Navigable Waters',\n",
       " 'Title 34 - Crime Control and Law Enforcement',\n",
       " 'Title 36 - Patriotic and National Observances, Ceremonies, and Organizations ٭',\n",
       " 'Title 37 - Pay and Allowances of the Uniformed Services ٭',\n",
       " \"Title 38 - Veterans' Benefits ٭\",\n",
       " 'Title 40 - Public Buildings, Property, and Works ٭',\n",
       " 'Title 41 - Public Contracts ٭',\n",
       " 'Title 42 - The Public Health and Welfare',\n",
       " 'Title 43 - Public Lands',\n",
       " 'Title 44 - Public Printing and Documents ٭',\n",
       " 'Title 46 - Shipping ٭',\n",
       " 'Title 48 - Territories and Insular Possessions',\n",
       " 'Title 49 - Transportation ٭',\n",
       " 'Title 50 - War and National Defense',\n",
       " 'Title 51 - National and Commercial Space Programs ٭']"
      ]
     },
     "execution_count": 35,
     "metadata": {},
     "output_type": "execute_result"
    }
   ],
   "source": [
    "bolds = driver.find_elements(By.CLASS_NAME,'usctitlechanged')\n",
    "bolds\n",
    "\n",
    "[e.text for e in bolds]"
   ]
  },
  {
   "cell_type": "markdown",
   "metadata": {},
   "source": [
    "#### A Python list with the top ten FBI's Most Wanted names "
   ]
  },
  {
   "cell_type": "code",
   "execution_count": 76,
   "metadata": {},
   "outputs": [],
   "source": [
    "# This is the url you will scrape in this exercise\n",
    "url = 'https://www.fbi.gov/wanted/topten'"
   ]
  },
  {
   "cell_type": "code",
   "execution_count": 77,
   "metadata": {},
   "outputs": [
    {
     "name": "stderr",
     "output_type": "stream",
     "text": [
      "/var/folders/75/q598wy0x5rq2j183ndtczjlm0000gn/T/ipykernel_89223/2015829348.py:1: DeprecationWarning: executable_path has been deprecated, please pass in a Service object\n",
      "  driver=webdriver.Chrome(PATH, options=opciones)\n"
     ]
    }
   ],
   "source": [
    "driver=webdriver.Chrome(PATH, options=opciones)\n",
    "\n",
    "driver.get(url)"
   ]
  },
  {
   "cell_type": "code",
   "execution_count": 55,
   "metadata": {},
   "outputs": [
    {
     "data": {
      "text/plain": [
       "['MOST WANTED',\n",
       " 'BHADRESHKUMAR CHETANBHAI PATEL',\n",
       " 'WILVER VILLEGAS-PALOMINO',\n",
       " 'ALEJANDRO ROSALES CASTILLO',\n",
       " 'RUJA IGNATOVA',\n",
       " 'ARNOLDO JIMENEZ',\n",
       " 'OMAR ALEXANDER CARDENAS',\n",
       " 'ALEXIS FLORES',\n",
       " 'YULAN ADONAY ARCHAGA CARIAS',\n",
       " 'MICHAEL JAMES PRATT',\n",
       " 'JOSE RODOLFO VILLARREAL-HERNANDEZ']"
      ]
     },
     "execution_count": 55,
     "metadata": {},
     "output_type": "execute_result"
    }
   ],
   "source": [
    "delin = driver.find_elements(By.CLASS_NAME,'title')\n",
    "delin\n",
    "\n",
    "[e.text for e in delin]"
   ]
  },
  {
   "cell_type": "markdown",
   "metadata": {},
   "source": [
    "####  20 latest earthquakes info (date, time, latitude, longitude and region name) by the EMSC as a pandas dataframe"
   ]
  },
  {
   "cell_type": "code",
   "execution_count": 84,
   "metadata": {},
   "outputs": [],
   "source": [
    "# This is the url you will scrape in this exercise\n",
    "url = 'https://www.emsc-csem.org/Earthquake/'"
   ]
  },
  {
   "cell_type": "code",
   "execution_count": 85,
   "metadata": {},
   "outputs": [
    {
     "name": "stderr",
     "output_type": "stream",
     "text": [
      "/var/folders/75/q598wy0x5rq2j183ndtczjlm0000gn/T/ipykernel_89223/2015829348.py:1: DeprecationWarning: executable_path has been deprecated, please pass in a Service object\n",
      "  driver=webdriver.Chrome(PATH, options=opciones)\n"
     ]
    }
   ],
   "source": [
    "driver=webdriver.Chrome(PATH, options=opciones)\n",
    "\n",
    "driver.get(url)"
   ]
  },
  {
   "cell_type": "code",
   "execution_count": 86,
   "metadata": {},
   "outputs": [
    {
     "data": {
      "text/plain": [
       "[<selenium.webdriver.remote.webelement.WebElement (session=\"b7b6893b1f638b724a2bd62ab0026e4c\", element=\"428691dd-b285-432b-9f44-72995a853946\")>,\n",
       " <selenium.webdriver.remote.webelement.WebElement (session=\"b7b6893b1f638b724a2bd62ab0026e4c\", element=\"416eb869-d8e8-4baf-a66e-7f711aa0b254\")>,\n",
       " <selenium.webdriver.remote.webelement.WebElement (session=\"b7b6893b1f638b724a2bd62ab0026e4c\", element=\"6a471145-626a-4ce0-97a5-02516cddac75\")>,\n",
       " <selenium.webdriver.remote.webelement.WebElement (session=\"b7b6893b1f638b724a2bd62ab0026e4c\", element=\"18762c80-0d4f-4bdd-b1c8-d91eb9d77210\")>,\n",
       " <selenium.webdriver.remote.webelement.WebElement (session=\"b7b6893b1f638b724a2bd62ab0026e4c\", element=\"4ca99c0f-d185-4e7f-a2aa-9db331068c4d\")>,\n",
       " <selenium.webdriver.remote.webelement.WebElement (session=\"b7b6893b1f638b724a2bd62ab0026e4c\", element=\"325f0065-5d3f-490f-a54a-35b8b25e3b58\")>,\n",
       " <selenium.webdriver.remote.webelement.WebElement (session=\"b7b6893b1f638b724a2bd62ab0026e4c\", element=\"e74fdacc-b04e-4466-81f3-3368d0f94732\")>,\n",
       " <selenium.webdriver.remote.webelement.WebElement (session=\"b7b6893b1f638b724a2bd62ab0026e4c\", element=\"f6f3284c-a4d1-4fec-ad9e-05399b904231\")>,\n",
       " <selenium.webdriver.remote.webelement.WebElement (session=\"b7b6893b1f638b724a2bd62ab0026e4c\", element=\"3402a00c-ca22-4f33-bc8b-a07322c12eb2\")>,\n",
       " <selenium.webdriver.remote.webelement.WebElement (session=\"b7b6893b1f638b724a2bd62ab0026e4c\", element=\"ac451e3d-59f0-4470-8dbd-911e6b955432\")>,\n",
       " <selenium.webdriver.remote.webelement.WebElement (session=\"b7b6893b1f638b724a2bd62ab0026e4c\", element=\"f70a68f6-158f-4535-882e-8128959eb2c2\")>,\n",
       " <selenium.webdriver.remote.webelement.WebElement (session=\"b7b6893b1f638b724a2bd62ab0026e4c\", element=\"2f423881-1d6b-4936-adba-56aa3c5b43ff\")>,\n",
       " <selenium.webdriver.remote.webelement.WebElement (session=\"b7b6893b1f638b724a2bd62ab0026e4c\", element=\"e659c228-0382-4967-9c31-312ac2cb7989\")>,\n",
       " <selenium.webdriver.remote.webelement.WebElement (session=\"b7b6893b1f638b724a2bd62ab0026e4c\", element=\"2b885f25-3ec6-4e9b-945d-f1910b4e399e\")>,\n",
       " <selenium.webdriver.remote.webelement.WebElement (session=\"b7b6893b1f638b724a2bd62ab0026e4c\", element=\"a0bfd198-7d1e-4c0a-8a71-11b1abc4e271\")>,\n",
       " <selenium.webdriver.remote.webelement.WebElement (session=\"b7b6893b1f638b724a2bd62ab0026e4c\", element=\"7cd73c87-2c6b-46b2-ab97-5ac9ed1d80df\")>,\n",
       " <selenium.webdriver.remote.webelement.WebElement (session=\"b7b6893b1f638b724a2bd62ab0026e4c\", element=\"2131a85c-ef8a-4906-a701-f62b80b74997\")>,\n",
       " <selenium.webdriver.remote.webelement.WebElement (session=\"b7b6893b1f638b724a2bd62ab0026e4c\", element=\"f3e21c2b-8f69-4cfc-b9d5-30fa36848269\")>,\n",
       " <selenium.webdriver.remote.webelement.WebElement (session=\"b7b6893b1f638b724a2bd62ab0026e4c\", element=\"b1e98ea1-5d12-4b64-8ae7-ae73229bfda3\")>,\n",
       " <selenium.webdriver.remote.webelement.WebElement (session=\"b7b6893b1f638b724a2bd62ab0026e4c\", element=\"49069649-0d35-49f1-88dd-ae1da37b76ce\")>,\n",
       " <selenium.webdriver.remote.webelement.WebElement (session=\"b7b6893b1f638b724a2bd62ab0026e4c\", element=\"1d300960-52fd-4390-98e1-f7010fda897d\")>,\n",
       " <selenium.webdriver.remote.webelement.WebElement (session=\"b7b6893b1f638b724a2bd62ab0026e4c\", element=\"264e05ad-b695-4b32-b469-dad190a7217c\")>,\n",
       " <selenium.webdriver.remote.webelement.WebElement (session=\"b7b6893b1f638b724a2bd62ab0026e4c\", element=\"59f6a175-fda1-4420-b611-b3e6bc53ceff\")>,\n",
       " <selenium.webdriver.remote.webelement.WebElement (session=\"b7b6893b1f638b724a2bd62ab0026e4c\", element=\"1e156044-e264-4ab9-b30a-d6d23202a51b\")>,\n",
       " <selenium.webdriver.remote.webelement.WebElement (session=\"b7b6893b1f638b724a2bd62ab0026e4c\", element=\"5761223f-03a1-405e-9f72-2aea808a84f9\")>,\n",
       " <selenium.webdriver.remote.webelement.WebElement (session=\"b7b6893b1f638b724a2bd62ab0026e4c\", element=\"43756675-a780-4820-97f5-7de8b69fe6da\")>,\n",
       " <selenium.webdriver.remote.webelement.WebElement (session=\"b7b6893b1f638b724a2bd62ab0026e4c\", element=\"5e5b260d-4e40-4817-90e1-a2c2113b2dcc\")>,\n",
       " <selenium.webdriver.remote.webelement.WebElement (session=\"b7b6893b1f638b724a2bd62ab0026e4c\", element=\"feb6fb54-58d2-450c-bda9-d54163f39b27\")>,\n",
       " <selenium.webdriver.remote.webelement.WebElement (session=\"b7b6893b1f638b724a2bd62ab0026e4c\", element=\"ad28d0bc-2c57-4395-a491-a43d1531075c\")>,\n",
       " <selenium.webdriver.remote.webelement.WebElement (session=\"b7b6893b1f638b724a2bd62ab0026e4c\", element=\"cf422a80-abed-4c25-a6a4-9c90d7f56704\")>,\n",
       " <selenium.webdriver.remote.webelement.WebElement (session=\"b7b6893b1f638b724a2bd62ab0026e4c\", element=\"b89198f6-efc9-4cf7-a1cb-0b42c2436338\")>,\n",
       " <selenium.webdriver.remote.webelement.WebElement (session=\"b7b6893b1f638b724a2bd62ab0026e4c\", element=\"4388d61a-e067-4190-8924-2c1dd09f114e\")>,\n",
       " <selenium.webdriver.remote.webelement.WebElement (session=\"b7b6893b1f638b724a2bd62ab0026e4c\", element=\"e1454f95-8f0e-42d3-8b46-3973d63bb0c7\")>,\n",
       " <selenium.webdriver.remote.webelement.WebElement (session=\"b7b6893b1f638b724a2bd62ab0026e4c\", element=\"f1a4c504-e678-4b6c-81b8-578601b08888\")>,\n",
       " <selenium.webdriver.remote.webelement.WebElement (session=\"b7b6893b1f638b724a2bd62ab0026e4c\", element=\"73bc22e4-2ddb-4be3-aaa8-e9c536dadcfc\")>,\n",
       " <selenium.webdriver.remote.webelement.WebElement (session=\"b7b6893b1f638b724a2bd62ab0026e4c\", element=\"e5e472cd-6dd6-4e93-b4fb-e7e20de0fbdd\")>,\n",
       " <selenium.webdriver.remote.webelement.WebElement (session=\"b7b6893b1f638b724a2bd62ab0026e4c\", element=\"bfd1a2c8-cbd6-454f-a693-cf20eea20490\")>,\n",
       " <selenium.webdriver.remote.webelement.WebElement (session=\"b7b6893b1f638b724a2bd62ab0026e4c\", element=\"e2432ca3-4dca-4da0-84e6-af6812d428e9\")>,\n",
       " <selenium.webdriver.remote.webelement.WebElement (session=\"b7b6893b1f638b724a2bd62ab0026e4c\", element=\"dc6aafde-1695-452e-a6c4-7c995ab1c1d5\")>,\n",
       " <selenium.webdriver.remote.webelement.WebElement (session=\"b7b6893b1f638b724a2bd62ab0026e4c\", element=\"b2dd6501-6b14-4475-8d6d-e2aa3e7e97f2\")>,\n",
       " <selenium.webdriver.remote.webelement.WebElement (session=\"b7b6893b1f638b724a2bd62ab0026e4c\", element=\"42cbdcb1-a697-40fb-a811-522f34d5dd7a\")>,\n",
       " <selenium.webdriver.remote.webelement.WebElement (session=\"b7b6893b1f638b724a2bd62ab0026e4c\", element=\"979739a2-acdb-44f9-80bd-c7d397a84542\")>,\n",
       " <selenium.webdriver.remote.webelement.WebElement (session=\"b7b6893b1f638b724a2bd62ab0026e4c\", element=\"f70cfc7d-a5ae-4b80-b10e-dd209504e6d6\")>,\n",
       " <selenium.webdriver.remote.webelement.WebElement (session=\"b7b6893b1f638b724a2bd62ab0026e4c\", element=\"51cf168d-36e2-487a-8d42-64450e930fa5\")>,\n",
       " <selenium.webdriver.remote.webelement.WebElement (session=\"b7b6893b1f638b724a2bd62ab0026e4c\", element=\"7facf479-caae-4b44-878a-82b3228f6d5f\")>,\n",
       " <selenium.webdriver.remote.webelement.WebElement (session=\"b7b6893b1f638b724a2bd62ab0026e4c\", element=\"9b1aaa05-c75c-476c-9140-cd11b97686b8\")>,\n",
       " <selenium.webdriver.remote.webelement.WebElement (session=\"b7b6893b1f638b724a2bd62ab0026e4c\", element=\"d42f9f3a-c1e3-4403-8c3b-6e5629483040\")>,\n",
       " <selenium.webdriver.remote.webelement.WebElement (session=\"b7b6893b1f638b724a2bd62ab0026e4c\", element=\"8a61bcb3-e43f-49c3-a637-94028cdefa61\")>,\n",
       " <selenium.webdriver.remote.webelement.WebElement (session=\"b7b6893b1f638b724a2bd62ab0026e4c\", element=\"0ae94b1d-0a31-4c2c-ae08-5e42ac6443f6\")>,\n",
       " <selenium.webdriver.remote.webelement.WebElement (session=\"b7b6893b1f638b724a2bd62ab0026e4c\", element=\"6b77c31c-f59d-47dc-9ac9-db8832c8e70c\")>,\n",
       " <selenium.webdriver.remote.webelement.WebElement (session=\"b7b6893b1f638b724a2bd62ab0026e4c\", element=\"2b984db9-4888-4c49-9b23-af9c3bc7e788\")>,\n",
       " <selenium.webdriver.remote.webelement.WebElement (session=\"b7b6893b1f638b724a2bd62ab0026e4c\", element=\"69850629-f0ec-46e4-a673-fb5e4d064d73\")>,\n",
       " <selenium.webdriver.remote.webelement.WebElement (session=\"b7b6893b1f638b724a2bd62ab0026e4c\", element=\"d4196dd2-5fe5-4d06-b313-3ae035fdd7dd\")>,\n",
       " <selenium.webdriver.remote.webelement.WebElement (session=\"b7b6893b1f638b724a2bd62ab0026e4c\", element=\"08afc8c5-b090-450a-a41e-a39778bad4d6\")>,\n",
       " <selenium.webdriver.remote.webelement.WebElement (session=\"b7b6893b1f638b724a2bd62ab0026e4c\", element=\"080df29e-9ee6-4385-8e3f-35445e2d76e5\")>,\n",
       " <selenium.webdriver.remote.webelement.WebElement (session=\"b7b6893b1f638b724a2bd62ab0026e4c\", element=\"7f3e9669-bcfd-4a8b-9af1-a74f6bd25795\")>,\n",
       " <selenium.webdriver.remote.webelement.WebElement (session=\"b7b6893b1f638b724a2bd62ab0026e4c\", element=\"d69566fe-9c91-4d04-974a-ff73545828a1\")>,\n",
       " <selenium.webdriver.remote.webelement.WebElement (session=\"b7b6893b1f638b724a2bd62ab0026e4c\", element=\"d11e9f69-65a1-4c23-8129-b849506f5d64\")>,\n",
       " <selenium.webdriver.remote.webelement.WebElement (session=\"b7b6893b1f638b724a2bd62ab0026e4c\", element=\"9f6f22dc-ac5e-4818-ad3d-8e42ab29082f\")>,\n",
       " <selenium.webdriver.remote.webelement.WebElement (session=\"b7b6893b1f638b724a2bd62ab0026e4c\", element=\"3907eb87-6a4d-4d29-b81f-241a9a0ecbe9\")>,\n",
       " <selenium.webdriver.remote.webelement.WebElement (session=\"b7b6893b1f638b724a2bd62ab0026e4c\", element=\"ac9cd458-3c62-4c2f-af14-e895d0ab5d9b\")>,\n",
       " <selenium.webdriver.remote.webelement.WebElement (session=\"b7b6893b1f638b724a2bd62ab0026e4c\", element=\"b54a575b-efcf-4bf8-9e87-b2e937c4722d\")>,\n",
       " <selenium.webdriver.remote.webelement.WebElement (session=\"b7b6893b1f638b724a2bd62ab0026e4c\", element=\"b84f92f2-787d-4274-9340-a293f72010f8\")>,\n",
       " <selenium.webdriver.remote.webelement.WebElement (session=\"b7b6893b1f638b724a2bd62ab0026e4c\", element=\"46042d2b-d07e-4ce9-82aa-668d6114ba01\")>,\n",
       " <selenium.webdriver.remote.webelement.WebElement (session=\"b7b6893b1f638b724a2bd62ab0026e4c\", element=\"77acc777-53e6-4c1e-b912-62568f9883ed\")>,\n",
       " <selenium.webdriver.remote.webelement.WebElement (session=\"b7b6893b1f638b724a2bd62ab0026e4c\", element=\"e89af308-a86a-441d-a1f9-ec40f0a9d170\")>,\n",
       " <selenium.webdriver.remote.webelement.WebElement (session=\"b7b6893b1f638b724a2bd62ab0026e4c\", element=\"f50e0aca-4c2e-4f8d-b912-2347a1e37fa9\")>]"
      ]
     },
     "execution_count": 86,
     "metadata": {},
     "output_type": "execute_result"
    }
   ],
   "source": [
    "header = driver.find_elements(By.TAG_NAME,'tr')\n",
    "header"
   ]
  },
  {
   "cell_type": "code",
   "execution_count": 70,
   "metadata": {},
   "outputs": [
    {
     "name": "stdout",
     "output_type": "stream",
     "text": [
      "['Citizen', 'Response', '', 'Date & Time', 'UTC', 'Latitude', 'degrees', 'Longitude', 'degrees', 'Depth', 'km', 'Mag', '[+]', 'Region name', '']\n"
     ]
    }
   ],
   "source": [
    "texto = 'Citizen\\nResponse\\n\\nDate & Time\\nUTC\\nLatitude\\ndegrees\\nLongitude\\ndegrees\\nDepth\\nkm\\nMag\\n[+]\\nRegion name\\n'\n",
    "lineas = texto.split('\\n')\n",
    "print(lineas)"
   ]
  },
  {
   "cell_type": "code",
   "execution_count": 87,
   "metadata": {},
   "outputs": [
    {
     "data": {
      "text/plain": [
       "['Citizen Response',\n",
       " 'Date & Time',\n",
       " 'UTC',\n",
       " 'Latitude',\n",
       " 'Longitude',\n",
       " 'degrees',\n",
       " 'Depth:km',\n",
       " 'Mag[+]',\n",
       " 'Region name']"
      ]
     },
     "execution_count": 87,
     "metadata": {},
     "output_type": "execute_result"
    }
   ],
   "source": [
    "lineas = ['Citizen Response','Date & Time', 'UTC', 'Latitude', 'Longitude', 'degrees', 'Depth:km', 'Mag[+]', 'Region name']\n",
    "lineas"
   ]
  },
  {
   "cell_type": "code",
   "execution_count": 89,
   "metadata": {},
   "outputs": [
    {
     "data": {
      "text/plain": [
       "[<selenium.webdriver.remote.webelement.WebElement (session=\"b7b6893b1f638b724a2bd62ab0026e4c\", element=\"e5d58a4b-f9e0-4297-b458-281df8c496a1\")>,\n",
       " <selenium.webdriver.remote.webelement.WebElement (session=\"b7b6893b1f638b724a2bd62ab0026e4c\", element=\"226590da-2e2c-4025-9b09-093894c96a26\")>,\n",
       " <selenium.webdriver.remote.webelement.WebElement (session=\"b7b6893b1f638b724a2bd62ab0026e4c\", element=\"c121f873-2010-45a0-a775-0d85d935c6ce\")>,\n",
       " <selenium.webdriver.remote.webelement.WebElement (session=\"b7b6893b1f638b724a2bd62ab0026e4c\", element=\"2885b85d-a339-47c5-af0d-072c47384556\")>,\n",
       " <selenium.webdriver.remote.webelement.WebElement (session=\"b7b6893b1f638b724a2bd62ab0026e4c\", element=\"bdb200db-2e27-4bd6-92fa-6f9d9f74ac90\")>,\n",
       " <selenium.webdriver.remote.webelement.WebElement (session=\"b7b6893b1f638b724a2bd62ab0026e4c\", element=\"d978bd6e-17ed-42f1-bb22-c982f3879226\")>,\n",
       " <selenium.webdriver.remote.webelement.WebElement (session=\"b7b6893b1f638b724a2bd62ab0026e4c\", element=\"937df9db-96d6-41b3-bc06-706e478cb7db\")>,\n",
       " <selenium.webdriver.remote.webelement.WebElement (session=\"b7b6893b1f638b724a2bd62ab0026e4c\", element=\"f2b00795-eca2-4bb2-a9e2-2b4c5017d155\")>,\n",
       " <selenium.webdriver.remote.webelement.WebElement (session=\"b7b6893b1f638b724a2bd62ab0026e4c\", element=\"a7b74bae-fd91-4c4a-8a33-9759f4db4ae8\")>,\n",
       " <selenium.webdriver.remote.webelement.WebElement (session=\"b7b6893b1f638b724a2bd62ab0026e4c\", element=\"df61f467-8b3c-4d06-acc4-61715e4ff9f3\")>]"
      ]
     },
     "execution_count": 89,
     "metadata": {},
     "output_type": "execute_result"
    }
   ],
   "source": [
    "date_times = driver.find_elements(By.CLASS_NAME,'tabev6')\n",
    "date_times[:10]"
   ]
  },
  {
   "cell_type": "markdown",
   "metadata": {},
   "source": [
    "#### Count number of tweets by a given Twitter account."
   ]
  },
  {
   "cell_type": "markdown",
   "metadata": {},
   "source": [
    "You will need to include a ***try/except block*** for account names not found. \n",
    "<br>***Hint:*** the program should count the number of tweets for any provided account"
   ]
  },
  {
   "cell_type": "code",
   "execution_count": 92,
   "metadata": {},
   "outputs": [],
   "source": [
    "# This is the url you will scrape in this exercise \n",
    "# You will need to add the account credentials to this url\n",
    "url = 'https://twitter.com/ismanewells_'"
   ]
  },
  {
   "cell_type": "code",
   "execution_count": 93,
   "metadata": {},
   "outputs": [
    {
     "name": "stderr",
     "output_type": "stream",
     "text": [
      "/var/folders/75/q598wy0x5rq2j183ndtczjlm0000gn/T/ipykernel_89223/2015829348.py:1: DeprecationWarning: executable_path has been deprecated, please pass in a Service object\n",
      "  driver=webdriver.Chrome(PATH, options=opciones)\n"
     ]
    }
   ],
   "source": [
    "driver=webdriver.Chrome(PATH, options=opciones)\n",
    "\n",
    "driver.get(url)"
   ]
  },
  {
   "cell_type": "code",
   "execution_count": 95,
   "metadata": {},
   "outputs": [
    {
     "data": {
      "text/plain": [
       "'27 mil Tweets'"
      ]
     },
     "execution_count": 95,
     "metadata": {},
     "output_type": "execute_result"
    }
   ],
   "source": [
    "tweets = driver.find_element(By.CSS_SELECTOR,'#react-root > div > div > div.css-1dbjc4n.r-18u37iz.r-13qz1uu.r-417010 > main > div > div > div > div > div > div.css-1dbjc4n.r-aqfbo4.r-gtdqiz.r-1gn8etr.r-1g40b8q > div:nth-child(1) > div > div > div > div > div > div.css-1dbjc4n.r-16y2uox.r-1wbh5a2.r-1pi2tsx.r-1777fci > div > div').text\n",
    "tweets"
   ]
  },
  {
   "cell_type": "markdown",
   "metadata": {},
   "source": [
    "#### Number of followers of a given twitter account"
   ]
  },
  {
   "cell_type": "markdown",
   "metadata": {},
   "source": [
    "You will need to include a ***try/except block*** in case account/s name not found. \n",
    "<br>***Hint:*** the program should count the followers for any provided account"
   ]
  },
  {
   "cell_type": "code",
   "execution_count": 99,
   "metadata": {},
   "outputs": [],
   "source": [
    "# This is the url you will scrape in this exercise \n",
    "# You will need to add the account credentials to this url\n",
    "url = 'https://twitter.com/ismanewells_'"
   ]
  },
  {
   "cell_type": "code",
   "execution_count": 100,
   "metadata": {},
   "outputs": [
    {
     "name": "stderr",
     "output_type": "stream",
     "text": [
      "/var/folders/75/q598wy0x5rq2j183ndtczjlm0000gn/T/ipykernel_89223/2015829348.py:1: DeprecationWarning: executable_path has been deprecated, please pass in a Service object\n",
      "  driver=webdriver.Chrome(PATH, options=opciones)\n"
     ]
    }
   ],
   "source": [
    "driver=webdriver.Chrome(PATH, options=opciones)\n",
    "\n",
    "driver.get(url)"
   ]
  },
  {
   "cell_type": "code",
   "execution_count": 101,
   "metadata": {},
   "outputs": [
    {
     "data": {
      "text/plain": [
       "'10,1 mil Seguidores'"
      ]
     },
     "execution_count": 101,
     "metadata": {},
     "output_type": "execute_result"
    }
   ],
   "source": [
    "followers = driver.find_element(By.CSS_SELECTOR,'#react-root > div > div > div.css-1dbjc4n.r-18u37iz.r-13qz1uu.r-417010 > main > div > div > div > div > div > div:nth-child(3) > div > div > div > div > div.css-1dbjc4n.r-13awgt0.r-18u37iz.r-1w6e6rj > div:nth-child(2) > a').text\n",
    "followers"
   ]
  },
  {
   "cell_type": "markdown",
   "metadata": {},
   "source": [
    "#### List all language names and number of related articles in the order they appear in wikipedia.org"
   ]
  },
  {
   "cell_type": "code",
   "execution_count": 102,
   "metadata": {},
   "outputs": [],
   "source": [
    "# This is the url you will scrape in this exercise\n",
    "url = 'https://www.wikipedia.org/'"
   ]
  },
  {
   "cell_type": "code",
   "execution_count": 103,
   "metadata": {},
   "outputs": [
    {
     "name": "stderr",
     "output_type": "stream",
     "text": [
      "/var/folders/75/q598wy0x5rq2j183ndtczjlm0000gn/T/ipykernel_89223/2015829348.py:1: DeprecationWarning: executable_path has been deprecated, please pass in a Service object\n",
      "  driver=webdriver.Chrome(PATH, options=opciones)\n"
     ]
    }
   ],
   "source": [
    "driver=webdriver.Chrome(PATH, options=opciones)\n",
    "\n",
    "driver.get(url)"
   ]
  },
  {
   "cell_type": "code",
   "execution_count": 119,
   "metadata": {},
   "outputs": [
    {
     "data": {
      "text/plain": [
       "['La enciclopedia libre',\n",
       " 'Español',\n",
       " 'English',\n",
       " 'Русский',\n",
       " '日本語',\n",
       " 'Deutsch',\n",
       " 'Français',\n",
       " 'Italiano',\n",
       " '中文',\n",
       " 'فارسی',\n",
       " 'Português',\n",
       " 'Descargar Wikipedia para Android o iOS']"
      ]
     },
     "execution_count": 119,
     "metadata": {},
     "output_type": "execute_result"
    }
   ],
   "source": [
    "languages = driver.find_elements(By.TAG_NAME,'td')\n",
    "languages\n",
    "\n",
    "[e.text for e in lang]"
   ]
  },
  {
   "cell_type": "markdown",
   "metadata": {},
   "source": [
    "#### A list with the different kind of datasets available in data.gov.uk "
   ]
  },
  {
   "cell_type": "code",
   "execution_count": 106,
   "metadata": {},
   "outputs": [],
   "source": [
    "# This is the url you will scrape in this exercise\n",
    "url = 'https://data.gov.uk/'"
   ]
  },
  {
   "cell_type": "code",
   "execution_count": 107,
   "metadata": {},
   "outputs": [
    {
     "name": "stderr",
     "output_type": "stream",
     "text": [
      "/var/folders/75/q598wy0x5rq2j183ndtczjlm0000gn/T/ipykernel_89223/2015829348.py:1: DeprecationWarning: executable_path has been deprecated, please pass in a Service object\n",
      "  driver=webdriver.Chrome(PATH, options=opciones)\n"
     ]
    }
   ],
   "source": [
    "driver=webdriver.Chrome(PATH, options=opciones)\n",
    "\n",
    "driver.get(url)"
   ]
  },
  {
   "cell_type": "code",
   "execution_count": 114,
   "metadata": {},
   "outputs": [
    {
     "data": {
      "text/plain": [
       "['Business and economy',\n",
       " 'Crime and justice',\n",
       " 'Defence',\n",
       " 'Education',\n",
       " 'Environment',\n",
       " 'Government',\n",
       " 'Government spending',\n",
       " 'Health',\n",
       " 'Mapping',\n",
       " 'Society',\n",
       " 'Towns and cities',\n",
       " 'Transport',\n",
       " 'Digital service performance',\n",
       " 'Government reference data']"
      ]
     },
     "execution_count": 114,
     "metadata": {},
     "output_type": "execute_result"
    }
   ],
   "source": [
    "db = driver.find_elements(By.CLASS_NAME,'govuk-heading-s.dgu-topics__heading')\n",
    "db\n",
    "\n",
    "[e.text for e in db]"
   ]
  },
  {
   "cell_type": "markdown",
   "metadata": {},
   "source": [
    "#### Top 10 languages by number of native speakers stored in a Pandas Dataframe"
   ]
  },
  {
   "cell_type": "code",
   "execution_count": 120,
   "metadata": {},
   "outputs": [],
   "source": [
    "# This is the url you will scrape in this exercise\n",
    "url = 'https://en.wikipedia.org/wiki/List_of_languages_by_number_of_native_speakers'"
   ]
  },
  {
   "cell_type": "code",
   "execution_count": 121,
   "metadata": {},
   "outputs": [
    {
     "name": "stderr",
     "output_type": "stream",
     "text": [
      "/var/folders/75/q598wy0x5rq2j183ndtczjlm0000gn/T/ipykernel_89223/2015829348.py:1: DeprecationWarning: executable_path has been deprecated, please pass in a Service object\n",
      "  driver=webdriver.Chrome(PATH, options=opciones)\n"
     ]
    }
   ],
   "source": [
    "driver=webdriver.Chrome(PATH, options=opciones)\n",
    "\n",
    "driver.get(url)"
   ]
  },
  {
   "cell_type": "code",
   "execution_count": 126,
   "metadata": {},
   "outputs": [
    {
     "data": {
      "text/plain": [
       "['https://en.wikipedia.org/wiki/List_of_languages_by_number_of_native_speakers#bodyContent',\n",
       " 'https://en.wikipedia.org/wiki/Main_Page',\n",
       " 'https://en.wikipedia.org/wiki/Wikipedia:Contents',\n",
       " 'https://en.wikipedia.org/wiki/Portal:Current_events',\n",
       " 'https://en.wikipedia.org/wiki/Special:Random',\n",
       " 'https://en.wikipedia.org/wiki/Wikipedia:About',\n",
       " 'https://en.wikipedia.org/wiki/Wikipedia:Contact_us',\n",
       " 'https://donate.wikimedia.org/wiki/Special:FundraiserRedirector?utm_source=donate&utm_medium=sidebar&utm_campaign=C13_en.wikipedia.org&uselang=en',\n",
       " 'https://en.wikipedia.org/wiki/Help:Contents',\n",
       " 'https://en.wikipedia.org/wiki/Help:Introduction',\n",
       " 'https://en.wikipedia.org/wiki/Wikipedia:Community_portal',\n",
       " 'https://en.wikipedia.org/wiki/Special:RecentChanges',\n",
       " 'https://en.wikipedia.org/wiki/Wikipedia:File_upload_wizard',\n",
       " 'https://en.wikipedia.org/wiki/Main_Page',\n",
       " 'https://en.wikipedia.org/wiki/Special:Search',\n",
       " 'https://en.wikipedia.org/w/index.php?title=Special:CreateAccount&returnto=List+of+languages+by+number+of+native+speakers',\n",
       " 'https://en.wikipedia.org/w/index.php?title=Special:UserLogin&returnto=List+of+languages+by+number+of+native+speakers',\n",
       " 'https://en.wikipedia.org/w/index.php?title=Special:CreateAccount&returnto=List+of+languages+by+number+of+native+speakers',\n",
       " 'https://en.wikipedia.org/w/index.php?title=Special:UserLogin&returnto=List+of+languages+by+number+of+native+speakers',\n",
       " 'https://en.wikipedia.org/wiki/Help:Introduction',\n",
       " 'https://en.wikipedia.org/wiki/Special:MyContributions',\n",
       " 'https://en.wikipedia.org/wiki/Special:MyTalk',\n",
       " 'https://en.wikipedia.org/wiki/List_of_languages_by_number_of_native_speakers#',\n",
       " 'https://www.wikilovesearth.es/',\n",
       " 'https://www.wikilovesearth.es/',\n",
       " 'https://www.wikilovesearth.es/',\n",
       " 'https://en.wikipedia.org/wiki/List_of_languages_by_number_of_native_speakers#',\n",
       " 'https://en.wikipedia.org/wiki/List_of_languages_by_number_of_native_speakers#Top_languages_by_population',\n",
       " 'https://en.wikipedia.org/wiki/List_of_languages_by_number_of_native_speakers#Ethnologue_(2023,_26th_edition)',\n",
       " 'https://en.wikipedia.org/wiki/List_of_languages_by_number_of_native_speakers#CIA_(2018_estimates)',\n",
       " 'https://en.wikipedia.org/wiki/List_of_languages_by_number_of_native_speakers#See_also',\n",
       " 'https://en.wikipedia.org/wiki/List_of_languages_by_number_of_native_speakers#Notes',\n",
       " 'https://en.wikipedia.org/wiki/List_of_languages_by_number_of_native_speakers#References',\n",
       " 'https://en.wikipedia.org/wiki/List_of_languages_by_number_of_native_speakers#External_links',\n",
       " 'https://ar.wikipedia.org/wiki/%D9%82%D8%A7%D8%A6%D9%85%D8%A9_%D8%A7%D9%84%D9%84%D8%BA%D8%A7%D8%AA_%D8%AD%D8%B3%D8%A8_%D8%B9%D8%AF%D8%AF_%D9%85%D8%AA%D8%AD%D8%AF%D8%AB%D9%8A%D9%87%D8%A7_%D8%A7%D9%84%D8%A3%D8%B5%D9%84%D9%8A%D9%8A%D9%86',\n",
       " 'https://ast.wikipedia.org/wiki/Llista_de_lling%C3%BCes_por_n%C3%BAmberu_de_falantes',\n",
       " 'https://az.wikipedia.org/wiki/Dan%C4%B1%C5%9Fanlar%C4%B1n_say%C4%B1na_g%C3%B6r%C9%99_dill%C9%99r_siyah%C4%B1s%C4%B1',\n",
       " 'https://bn.wikipedia.org/wiki/%E0%A6%AE%E0%A6%BE%E0%A6%A4%E0%A7%83%E0%A6%AD%E0%A6%BE%E0%A6%B7%E0%A7%80%E0%A6%B0_%E0%A6%B8%E0%A6%82%E0%A6%96%E0%A7%8D%E0%A6%AF%E0%A6%BE_%E0%A6%85%E0%A6%A8%E0%A7%81%E0%A6%B8%E0%A6%BE%E0%A6%B0%E0%A7%87_%E0%A6%AD%E0%A6%BE%E0%A6%B7%E0%A6%BE%E0%A6%B8%E0%A6%AE%E0%A7%82%E0%A6%B9%E0%A7%87%E0%A6%B0_%E0%A6%A4%E0%A6%BE%E0%A6%B2%E0%A6%BF%E0%A6%95%E0%A6%BE',\n",
       " 'https://bh.wikipedia.org/wiki/%E0%A4%AC%E0%A5%8B%E0%A4%B2%E0%A5%8D%E0%A4%A8%E0%A4%BF%E0%A4%B9%E0%A4%BE%E0%A4%B0%E0%A4%A8_%E0%A4%95%E0%A5%87_%E0%A4%B8%E0%A4%82%E0%A4%96%E0%A5%8D%E0%A4%AF%E0%A4%BE_%E0%A4%95%E0%A5%87_%E0%A4%85%E0%A4%A8%E0%A5%81%E0%A4%B8%E0%A4%BE%E0%A4%B0_%E0%A4%AD%E0%A4%BE%E0%A4%B7%E0%A4%BE_%E0%A4%B8%E0%A4%AD_%E0%A4%95%E0%A5%87_%E0%A4%B8%E0%A5%82%E0%A4%9A%E0%A5%80',\n",
       " 'https://br.wikipedia.org/wiki/Roll_ar_yezho%C3%B9_ar_muia%C3%B1_komzet_er_bed',\n",
       " 'https://ca.wikipedia.org/wiki/Llista_d%27idiomes_per_nombre_de_parlants_natius',\n",
       " 'https://cs.wikipedia.org/wiki/Seznam_jazyk%C5%AF_podle_po%C4%8Dtu_mluv%C4%8D%C3%ADch',\n",
       " 'https://cy.wikipedia.org/wiki/Rhestr_ieithoedd_yn_nhrefn_nifer_eu_siaradwyr_brodorol',\n",
       " 'https://da.wikipedia.org/wiki/Verdens_sprog_sorteret_efter_antal_talere',\n",
       " 'https://el.wikipedia.org/wiki/%CE%9A%CE%B1%CF%84%CE%AC%CE%BB%CE%BF%CE%B3%CE%BF%CF%82_%CE%B3%CE%BB%CF%89%CF%83%CF%83%CF%8E%CE%BD_%CE%B1%CE%BD%CE%AC_%CE%B1%CF%81%CE%B9%CE%B8%CE%BC%CF%8C_%CE%BC%CE%B7%CF%84%CF%81%CE%B9%CE%BA%CF%8E%CE%BD_%CE%BF%CE%BC%CE%B9%CE%BB%CE%B7%CF%84%CF%8E%CE%BD',\n",
       " 'https://es.wikipedia.org/wiki/Anexo:Lenguas_por_n%C3%BAmero_de_hablantes_nativos',\n",
       " 'https://eo.wikipedia.org/wiki/Listo_de_lingvoj_la%C5%AD_parolantaro',\n",
       " 'https://eu.wikipedia.org/wiki/Zerrenda:Hizkuntzak_hiztun_kopuruaren_arabera',\n",
       " 'https://fa.wikipedia.org/wiki/%D9%81%D9%87%D8%B1%D8%B3%D8%AA_%D8%B2%D8%A8%D8%A7%D9%86%E2%80%8C%D9%87%D8%A7_%D8%A8%D8%B1_%D9%BE%D8%A7%DB%8C%D9%87_%D8%AC%D9%85%D8%B9%DB%8C%D8%AA_%DA%AF%D9%88%DB%8C%D8%B4%D9%88%D8%B1%D8%A7%D9%86_%D8%A8%D9%88%D9%85%DB%8C',\n",
       " 'https://fr.wikipedia.org/wiki/Liste_des_langues_par_nombre_de_locuteurs_natifs',\n",
       " 'https://ga.wikipedia.org/wiki/Liosta_teangacha_de_r%C3%A9ir_cainteoir%C3%AD_d%C3%BAchasacha',\n",
       " 'https://gl.wikipedia.org/wiki/Lista_de_linguas_por_n%C3%BAmero_de_falantes',\n",
       " 'https://ko.wikipedia.org/wiki/%EB%AA%A8%EC%96%B4_%ED%99%94%EC%9E%90_%EC%88%98%EC%88%9C_%EC%96%B8%EC%96%B4_%EB%AA%A9%EB%A1%9D',\n",
       " 'https://hi.wikipedia.org/wiki/%E0%A4%AD%E0%A4%BE%E0%A4%B7%E0%A4%BE%E0%A4%AD%E0%A4%BE%E0%A4%B7%E0%A4%BF%E0%A4%AF%E0%A5%8B%E0%A4%82_%E0%A4%95%E0%A5%80_%E0%A4%B8%E0%A4%82%E0%A4%96%E0%A5%8D%E0%A4%AF%E0%A4%BE_%E0%A4%95%E0%A5%87_%E0%A4%85%E0%A4%A8%E0%A5%81%E0%A4%B8%E0%A4%BE%E0%A4%B0_%E0%A4%AD%E0%A4%BE%E0%A4%B7%E0%A4%BE%E0%A4%93%E0%A4%82_%E0%A4%95%E0%A5%80_%E0%A4%B8%E0%A5%82%E0%A4%9A%E0%A5%80',\n",
       " 'https://hr.wikipedia.org/wiki/Popis_jezika_po_broju_govornika',\n",
       " 'https://id.wikipedia.org/wiki/Daftar_bahasa_menurut_jumlah_penutur_asli',\n",
       " 'https://ia.wikipedia.org/wiki/Appendice:Lista_de_linguas_del_mundo_per_numero_de_parlatores',\n",
       " 'https://os.wikipedia.org/wiki/%C3%86%D0%B2%D0%B7%C3%A6%D0%B3%D1%82%D1%8B_%D0%BD%D0%BE%D0%BC%D1%85%D1%8B%D0%B3%D1%8A%D0%B4_%D0%B4%D0%B7%D1%83%D1%80%D0%B4%D0%B6%D1%8B%D1%82%D1%8B_%D0%BD%D1%8B%D0%BC%C3%A6%D1%86%D0%BC%C3%A6_%D0%B3%C3%A6%D1%81%D0%B3%C3%A6',\n",
       " 'https://it.wikipedia.org/wiki/Lingue_per_numero_di_parlanti_madrelingua',\n",
       " 'https://he.wikipedia.org/wiki/%D7%A8%D7%A9%D7%99%D7%9E%D7%AA_%D7%A9%D7%A4%D7%95%D7%AA_%D7%94%D7%A2%D7%95%D7%9C%D7%9D_%D7%9C%D7%A4%D7%99_%D7%9E%D7%A1%D7%A4%D7%A8_%D7%93%D7%95%D7%91%D7%A8%D7%99%D7%9D',\n",
       " 'https://kn.wikipedia.org/wiki/%E0%B2%AA%E0%B3%8D%E0%B2%B0%E0%B2%AA%E0%B2%82%E0%B2%9A%E0%B2%A6_%E0%B2%AA%E0%B3%8D%E0%B2%B0%E0%B2%AE%E0%B3%81%E0%B2%96_%E0%B2%AD%E0%B2%BE%E0%B2%B7%E0%B3%86%E0%B2%97%E0%B2%B3%E0%B3%81',\n",
       " 'https://krc.wikipedia.org/wiki/%D0%A1%D1%91%D0%BB%D0%B5%D1%88%D0%B3%D0%B5%D0%BD%D0%BB%D0%B5%D0%BD%D0%B8_%D1%81%D0%B0%D0%BD%D1%8B%D0%BD%D0%B0_%D0%BA%D1%91%D1%80%D0%B5_%D1%82%D0%B8%D0%BB%D0%BB%D0%B5%D0%BD%D0%B8_%D1%82%D0%B8%D0%B7%D0%BC%D0%B5%D1%81%D0%B8',\n",
       " 'https://kk.wikipedia.org/wiki/%D0%A1%D3%A9%D0%B9%D0%BB%D0%B5%D1%83%D1%88%D1%96%D0%BB%D0%B5%D1%80_%D1%81%D0%B0%D0%BD%D1%8B_%D0%B1%D0%BE%D0%B9%D1%8B%D0%BD%D1%88%D0%B0_%D1%82%D1%96%D0%BB%D0%B4%D0%B5%D1%80_%D1%82%D1%96%D0%B7%D1%96%D0%BC%D1%96',\n",
       " 'https://lv.wikipedia.org/wiki/Valodu_uzskait%C4%ABjums_p%C4%93c_prat%C4%93ju_skaita',\n",
       " 'https://lez.wikipedia.org/wiki/%D0%A0%D0%B0%D1%85%D0%B0%D0%B7%D0%B2%D0%B0%D0%B9%D0%B1%D1%83%D1%80%D1%83%D0%BD_%D0%BA%D1%8C%D0%B0%D0%B4%D0%B0%D1%80%D0%B4%D0%B8%D0%B7_%D0%BA%D0%B8%D0%BB%D0%B8%D0%B3%D0%BD%D0%B0_%D1%87%D3%80%D0%B0%D0%BB%D0%B0%D1%80%D0%B8%D0%BD_%D1%81%D0%B8%D1%8F%D0%B3%D1%8C',\n",
       " 'https://lt.wikipedia.org/wiki/S%C4%85ra%C5%A1as:Kalbos_pagal_gimtakalbius_vartotojus',\n",
       " 'https://hu.wikipedia.org/wiki/Nyelvek_list%C3%A1ja_a_besz%C3%A9l%C5%91k_sz%C3%A1ma_szerint',\n",
       " 'https://mk.wikipedia.org/wiki/%D0%A1%D0%BF%D0%B8%D1%81%D0%BE%D0%BA_%D0%BD%D0%B0_%D1%98%D0%B0%D0%B7%D0%B8%D1%86%D0%B8_%D0%BF%D0%BE_%D0%BE%D0%BF%D1%88%D1%82_%D0%B1%D1%80%D0%BE%D1%98_%D0%BD%D0%B0_%D0%B3%D0%BE%D0%B2%D0%BE%D1%80%D0%BD%D0%B8%D1%86%D0%B8',\n",
       " 'https://mr.wikipedia.org/wiki/%E0%A4%9C%E0%A4%97%E0%A4%BE%E0%A4%A4%E0%A5%80%E0%A4%B2_%E0%A4%AD%E0%A4%BE%E0%A4%B7%E0%A4%BE%E0%A4%82%E0%A4%9A%E0%A5%80_%E0%A4%AF%E0%A4%BE%E0%A4%A6%E0%A5%80',\n",
       " 'https://ms.wikipedia.org/wiki/Senarai_bahasa_mengikut_bilangan_penutur_asli',\n",
       " 'https://my.wikipedia.org/wiki/%E1%80%8C%E1%80%AC%E1%80%94%E1%80%B1%E1%80%98%E1%80%AC%E1%80%9E%E1%80%AC%E1%80%85%E1%80%80%E1%80%AC%E1%80%B8%E1%80%95%E1%80%BC%E1%80%B1%E1%80%AC%E1%80%9E%E1%80%B0%E1%80%99%E1%80%BB%E1%80%AC%E1%80%B8%E1%81%8F%E1%80%A1%E1%80%9B%E1%80%B1%E1%80%A1%E1%80%90%E1%80%BD%E1%80%80%E1%80%BA%E1%80%85%E1%80%AC%E1%80%9B%E1%80%84%E1%80%BA%E1%80%B8',\n",
       " 'https://nl.wikipedia.org/wiki/Lijst_van_talen_naar_moedertaalsprekers',\n",
       " 'https://ja.wikipedia.org/wiki/%E3%83%8D%E3%82%A4%E3%83%86%E3%82%A3%E3%83%96%E3%82%B9%E3%83%94%E3%83%BC%E3%82%AB%E3%83%BC%E3%81%AE%E6%95%B0%E3%81%8C%E5%A4%9A%E3%81%84%E8%A8%80%E8%AA%9E%E3%81%AE%E4%B8%80%E8%A6%A7',\n",
       " 'https://no.wikipedia.org/wiki/Liste_over_spr%C3%A5k_etter_utbredelse',\n",
       " 'https://nn.wikipedia.org/wiki/Verdas_spr%C3%A5k_etter_utbreiing',\n",
       " 'https://uz.wikipedia.org/wiki/So%CA%BBzlashuvchilar_soni_bo%CA%BByicha_tillar_ro%CA%BByxati',\n",
       " 'https://pnb.wikipedia.org/wiki/%D8%A8%D9%88%D9%84%D9%86_%D9%88%D8%A7%D9%84%DB%92%D8%A2%DA%BA_%D8%AF%DB%92_%D8%AD%D8%B3%D8%A7%D8%A8_%D9%86%D8%A7%D9%84_%D8%A8%D9%88%D9%84%DB%8C%D8%A7%DA%BA_%D8%AF%DB%8C_%D9%84%D8%B3%D9%B9',\n",
       " 'https://pap.wikipedia.org/wiki/Lista_di_lenganan_segun_total_papiadonan_nativo',\n",
       " 'https://ps.wikipedia.org/wiki/%D8%AF_%D9%86%DA%93%DB%8D_%D9%BC%D9%88%D9%84%DB%90_%DA%98%D8%A8%DB%90%D8%8C_%D8%AF_%D9%88%D9%8A%D9%88%D9%86%DA%A9%D9%88_%D9%BE%D8%B1_%D8%A8%D9%86%D8%B3%D9%BC',\n",
       " 'https://pl.wikipedia.org/wiki/Lista_najcz%C4%99%C5%9Bciej_u%C5%BCywanych_j%C4%99zyk%C3%B3w_%C5%9Bwiata',\n",
       " 'https://pt.wikipedia.org/wiki/Lista_de_l%C3%ADnguas_por_n%C3%BAmero_de_falantes_nativos',\n",
       " 'https://ro.wikipedia.org/wiki/List%C4%83_de_limbi_dup%C4%83_num%C4%83rul_de_vorbitori',\n",
       " 'https://ru.wikipedia.org/wiki/%D0%A1%D0%BF%D0%B8%D1%81%D0%BE%D0%BA_%D1%8F%D0%B7%D1%8B%D0%BA%D0%BE%D0%B2_%D0%BF%D0%BE_%D0%BA%D0%BE%D0%BB%D0%B8%D1%87%D0%B5%D1%81%D1%82%D0%B2%D1%83_%D0%BD%D0%BE%D1%81%D0%B8%D1%82%D0%B5%D0%BB%D0%B5%D0%B9',\n",
       " 'https://sa.wikipedia.org/wiki/%E0%A4%AE%E0%A4%BE%E0%A4%A4%E0%A5%83%E0%A4%AD%E0%A4%BE%E0%A4%B7%E0%A4%BE%E0%A4%B5%E0%A4%95%E0%A5%8D%E0%A4%A4%E0%A5%83%E0%A4%A3%E0%A4%BE%E0%A4%82_%E0%A4%B8%E0%A4%99%E0%A5%8D%E0%A4%96%E0%A5%8D%E0%A4%AF%E0%A4%BE%E0%A4%A8%E0%A5%81%E0%A4%B8%E0%A4%BE%E0%A4%B0%E0%A4%82_%E0%A4%AD%E0%A4%BE%E0%A4%B7%E0%A4%BE%E0%A4%B8%E0%A5%82%E0%A4%9A%E0%A4%BF%E0%A4%83',\n",
       " 'https://skr.wikipedia.org/wiki/%D8%A2%D8%A8%D8%A7%D8%AF%DB%8C_%D8%AF%DB%92_%D8%AD%D8%B3%D8%A7%D8%A8_%D9%86%D8%A7%D9%84_%D8%B2%D8%A8%D8%A7%D9%86%D8%A7%DA%BA_%D8%AF%DB%8C_%D8%AA%D9%86%D8%AF%DB%8C%D8%B1',\n",
       " 'https://sq.wikipedia.org/wiki/Gjuh%C3%ABt_bot%C3%ABrore',\n",
       " 'https://simple.wikipedia.org/wiki/List_of_languages_by_number_of_native_speakers',\n",
       " 'https://sk.wikipedia.org/wiki/Zoznam_jazykov_pod%C4%BEa_po%C4%8Dtu_hovoriacich',\n",
       " 'https://sl.wikipedia.org/wiki/Seznam_jezikov_po_%C5%A1tevilu_govorcev',\n",
       " 'https://sr.wikipedia.org/wiki/%D0%A1%D0%BF%D0%B8%D1%81%D0%B0%D0%BA_%D1%98%D0%B5%D0%B7%D0%B8%D0%BA%D0%B0_%D0%BF%D0%BE_%D0%B1%D1%80%D0%BE%D1%98%D1%83_%D0%B3%D0%BE%D0%B2%D0%BE%D1%80%D0%BD%D0%B8%D0%BA%D0%B0',\n",
       " 'https://sh.wikipedia.org/wiki/Jezici_po_broju_govornika',\n",
       " 'https://fi.wikipedia.org/wiki/Luettelo_kielist%C3%A4_%C3%A4idinkielen%C3%A4%C3%A4n_puhuvien_lukum%C3%A4%C3%A4r%C3%A4n_mukaan',\n",
       " 'https://sv.wikipedia.org/wiki/Lista_%C3%B6ver_v%C3%A4rldens_st%C3%B6rsta_spr%C3%A5k_efter_antal_talare',\n",
       " 'https://ta.wikipedia.org/wiki/%E0%AE%89%E0%AE%B2%E0%AE%95_%E0%AE%AE%E0%AF%8A%E0%AE%B4%E0%AE%BF%E0%AE%95%E0%AE%B3%E0%AE%BF%E0%AE%A9%E0%AF%8D_%E0%AE%AA%E0%AE%9F%E0%AF%8D%E0%AE%9F%E0%AE%BF%E0%AE%AF%E0%AE%B2%E0%AF%8D',\n",
       " 'https://tt.wikipedia.org/wiki/%D0%A1%D3%A9%D0%B9%D0%BB%D3%99%D1%88%D2%AF%D1%87%D0%B5%D0%BB%D3%99%D1%80_%D1%81%D0%B0%D0%BD%D1%8B_%D0%B1%D1%83%D0%B5%D0%BD%D1%87%D0%B0_%D1%82%D0%B5%D0%BB%D0%BB%D3%99%D1%80_%D0%B8%D1%81%D0%B5%D0%BC%D0%BB%D0%B5%D0%B3%D0%B5',\n",
       " 'https://th.wikipedia.org/wiki/%E0%B8%A3%E0%B8%B2%E0%B8%A2%E0%B8%8A%E0%B8%B7%E0%B9%88%E0%B8%AD%E0%B8%A0%E0%B8%B2%E0%B8%A9%E0%B8%B2%E0%B9%80%E0%B8%A3%E0%B8%B5%E0%B8%A2%E0%B8%87%E0%B8%95%E0%B8%B2%E0%B8%A1%E0%B8%88%E0%B8%B3%E0%B8%99%E0%B8%A7%E0%B8%99%E0%B8%9C%E0%B8%B9%E0%B9%89%E0%B9%83%E0%B8%8A%E0%B9%89%E0%B9%80%E0%B8%9B%E0%B9%87%E0%B8%99%E0%B8%A0%E0%B8%B2%E0%B8%A9%E0%B8%B2%E0%B9%81%E0%B8%A1%E0%B9%88',\n",
       " 'https://tg.wikipedia.org/wiki/%D0%A4%D0%B5%D2%B3%D1%80%D0%B8%D1%81%D1%82%D0%B8_%D0%B7%D0%B0%D0%B1%D0%BE%D0%BD%D2%B3%D0%BE_%D0%B0%D0%B7_%D1%80%D3%AF%D0%B8_%D0%BC%D0%B8%D2%9B%D0%B4%D0%BE%D1%80%D0%B8_%D0%B3%D3%AF%D1%8F%D0%BD%D0%B4%D0%B0%D0%B3%D0%BE%D0%BD',\n",
       " 'https://tr.wikipedia.org/wiki/Anadil_olarak_konu%C5%9Fulma_say%C4%B1lar%C4%B1na_g%C3%B6re_diller_listesi',\n",
       " 'https://uk.wikipedia.org/wiki/%D0%A1%D0%BF%D0%B8%D1%81%D0%BE%D0%BA_%D0%BC%D0%BE%D0%B2_%D0%B7%D0%B0_%D0%BA%D1%96%D0%BB%D1%8C%D0%BA%D1%96%D1%81%D1%82%D1%8E_%D0%BD%D0%BE%D1%81%D1%96%D1%97%D0%B2',\n",
       " 'https://ur.wikipedia.org/wiki/%D9%81%DB%81%D8%B1%D8%B3%D8%AA_%D8%B2%D8%A8%D8%A7%D9%86_%D8%A8%D9%84%D8%AD%D8%A7%D8%B8_%D9%85%DA%A9%D9%84%D9%85%DB%8C%D9%86',\n",
       " 'https://vec.wikipedia.org/wiki/%C5%81%C3%A9ngue_par_n%C3%B9maro_de_parlanti_mare%C5%82%C3%A9ngua',\n",
       " 'https://vi.wikipedia.org/wiki/Danh_s%C3%A1ch_ng%C3%B4n_ng%E1%BB%AF_theo_t%E1%BB%95ng_s%E1%BB%91_ng%C6%B0%E1%BB%9Di_s%E1%BB%AD_d%E1%BB%A5ng',\n",
       " 'https://wuu.wikipedia.org/wiki/%E4%B8%96%E7%95%8C%E8%A8%80%E8%AF%9D%E6%8E%92%E5%90%8D',\n",
       " 'https://yo.wikipedia.org/wiki/%C3%80k%C3%B3j%E1%BB%8D_%C3%A0w%E1%BB%8Dn_%C3%A8d%C3%A8_g%E1%BA%B9%CC%81g%E1%BA%B9%CC%81_b%C3%ADi_iye_%C3%A0w%E1%BB%8Dn_afis%E1%BB%8D%CC%80r%E1%BB%8D%CC%80_ab%C3%ADnib%C3%AD',\n",
       " 'https://zh-yue.wikipedia.org/wiki/%E5%90%84%E8%A9%B1%E4%BA%BA%E5%8F%A3%E4%B8%80%E8%A6%BD',\n",
       " 'https://bat-smg.wikipedia.org/wiki/%C5%A0abluons:Papl%C4%97tos%C4%97s_kalbas',\n",
       " 'https://zh.wikipedia.org/wiki/%E4%BB%A5%E6%AF%8D%E8%AA%9E%E4%BA%BA%E5%8F%A3%E6%8E%92%E5%BA%8F%E7%9A%84%E8%AA%9E%E8%A8%80%E5%88%97%E8%A1%A8',\n",
       " 'https://www.wikidata.org/wiki/Special:EntityPage/Q4319#sitelinks-wikipedia',\n",
       " 'https://en.wikipedia.org/wiki/List_of_languages_by_number_of_native_speakers',\n",
       " 'https://en.wikipedia.org/wiki/Talk:List_of_languages_by_number_of_native_speakers',\n",
       " 'https://en.wikipedia.org/wiki/List_of_languages_by_number_of_native_speakers',\n",
       " 'https://en.wikipedia.org/w/index.php?title=List_of_languages_by_number_of_native_speakers&action=edit',\n",
       " 'https://en.wikipedia.org/w/index.php?title=List_of_languages_by_number_of_native_speakers&action=history',\n",
       " 'https://en.wikipedia.org/wiki/List_of_languages_by_number_of_native_speakers',\n",
       " 'https://en.wikipedia.org/w/index.php?title=List_of_languages_by_number_of_native_speakers&action=edit',\n",
       " 'https://en.wikipedia.org/w/index.php?title=List_of_languages_by_number_of_native_speakers&action=history',\n",
       " 'https://en.wikipedia.org/wiki/Special:WhatLinksHere/List_of_languages_by_number_of_native_speakers',\n",
       " 'https://en.wikipedia.org/wiki/Special:RecentChangesLinked/List_of_languages_by_number_of_native_speakers',\n",
       " 'https://en.wikipedia.org/wiki/Wikipedia:File_Upload_Wizard',\n",
       " 'https://en.wikipedia.org/wiki/Special:SpecialPages',\n",
       " 'https://en.wikipedia.org/w/index.php?title=List_of_languages_by_number_of_native_speakers&oldid=1152290545',\n",
       " 'https://en.wikipedia.org/w/index.php?title=List_of_languages_by_number_of_native_speakers&action=info',\n",
       " 'https://en.wikipedia.org/w/index.php?title=Special:CiteThisPage&page=List_of_languages_by_number_of_native_speakers&id=1152290545&wpFormIdentifier=titleform',\n",
       " 'https://www.wikidata.org/wiki/Special:EntityPage/Q4319',\n",
       " 'https://www.wikidata.org/wiki/Special:EntityPage/Q4319#sitelinks-wikipedia',\n",
       " 'https://en.wikipedia.org/w/index.php?title=Special:DownloadAsPdf&page=List_of_languages_by_number_of_native_speakers&action=show-download-screen',\n",
       " 'https://en.wikipedia.org/w/index.php?title=List_of_languages_by_number_of_native_speakers&printable=yes',\n",
       " 'https://en.wiktionary.org/wiki/Appendix:Bantu_Swadesh_lists',\n",
       " 'https://en.wikipedia.org/wiki/Wikipedia:Protection_policy#semi',\n",
       " 'https://en.wikipedia.org/wiki/List_of_languages_by_total_number_of_speakers',\n",
       " 'https://en.wikipedia.org/wiki/Lists_of_endangered_languages',\n",
       " 'https://en.wikipedia.org/wiki/File:Human_Language_Families.png',\n",
       " 'https://en.wikipedia.org/wiki/File:Human_Language_Families.png',\n",
       " 'https://en.wikipedia.org/wiki/Native_speaker',\n",
       " 'https://en.wikipedia.org/wiki/Dialect_continuum',\n",
       " 'https://en.wikipedia.org/wiki/List_of_languages_by_number_of_native_speakers#cite_note-Paolillo&Das-1',\n",
       " 'https://en.wikipedia.org/wiki/Variety_(linguistics)',\n",
       " 'https://en.wikipedia.org/wiki/Mutually_intelligible',\n",
       " 'https://en.wikipedia.org/wiki/Danish_language',\n",
       " 'https://en.wikipedia.org/wiki/Norwegian_language',\n",
       " 'https://en.wikipedia.org/wiki/List_of_languages_by_number_of_native_speakers#cite_note-2',\n",
       " 'https://en.wikipedia.org/wiki/German_language',\n",
       " 'https://en.wikipedia.org/wiki/Italian_language',\n",
       " 'https://en.wikipedia.org/wiki/English_language',\n",
       " 'https://en.wikipedia.org/wiki/List_of_languages_by_number_of_native_speakers#cite_note-Paolillo&Das-1',\n",
       " 'https://en.wikipedia.org/wiki/Wikipedia:NOTRS',\n",
       " 'https://en.wikipedia.org/wiki/Arabic_language',\n",
       " 'https://en.wikipedia.org/wiki/Modern_Standard_Arabic',\n",
       " 'https://en.wikipedia.org/wiki/List_of_languages_by_number_of_native_speakers#cite_note-3',\n",
       " 'https://en.wikipedia.org/wiki/Chinese_language',\n",
       " 'https://en.wikipedia.org/wiki/List_of_languages_by_number_of_native_speakers#cite_note-4',\n",
       " 'https://en.wikipedia.org/wiki/Mandarin_Chinese',\n",
       " 'https://en.wikipedia.org/wiki/Wu_Chinese',\n",
       " 'https://en.wikipedia.org/wiki/Yue_Chinese',\n",
       " 'https://en.wikipedia.org/wiki/List_of_languages_by_number_of_native_speakers#cite_note-5',\n",
       " 'https://en.wikipedia.org/wiki/Language_shift',\n",
       " 'https://en.wikipedia.org/wiki/Census',\n",
       " 'https://en.wikipedia.org/wiki/List_of_languages_by_number_of_native_speakers#cite_note-6',\n",
       " 'https://en.wikipedia.org/wiki/Ethnologue',\n",
       " 'https://en.wikipedia.org/wiki/List_of_languages_by_number_of_native_speakers#cite_note-e26-7',\n",
       " 'https://en.wikipedia.org/wiki/ISO_639_macrolanguage',\n",
       " 'https://en.wikipedia.org/wiki/Arabic_language',\n",
       " 'https://en.wikipedia.org/wiki/Lahnda',\n",
       " 'https://en.wikipedia.org/wiki/Persian_language',\n",
       " 'https://en.wikipedia.org/wiki/Malay_language',\n",
       " 'https://en.wikipedia.org/wiki/Pashto_language',\n",
       " 'https://en.wikipedia.org/wiki/Chinese_language',\n",
       " 'https://en.wikipedia.org/wiki/Variety_(linguistics)',\n",
       " 'https://en.wikipedia.org/wiki/List_of_languages_by_number_of_native_speakers#cite_note-e26-7',\n",
       " 'https://en.wikipedia.org/wiki/ISO_639:cmn',\n",
       " 'https://en.wikipedia.org/wiki/Standard_Chinese',\n",
       " 'https://en.wikipedia.org/wiki/Varieties_of_Chinese',\n",
       " 'https://en.wikipedia.org/wiki/Sino-Tibetan_languages',\n",
       " 'https://en.wikipedia.org/wiki/Varieties_of_Chinese',\n",
       " 'https://en.wikipedia.org/wiki/ISO_639:spa',\n",
       " 'https://en.wikipedia.org/wiki/Indo-European_languages',\n",
       " 'https://en.wikipedia.org/wiki/Romance_languages',\n",
       " 'https://en.wikipedia.org/wiki/ISO_639:eng',\n",
       " 'https://en.wikipedia.org/wiki/Indo-European_languages',\n",
       " 'https://en.wikipedia.org/wiki/Germanic_languages',\n",
       " 'https://en.wikipedia.org/wiki/ISO_639:hin',\n",
       " 'https://en.wikipedia.org/wiki/Urdu',\n",
       " 'https://en.wikipedia.org/wiki/Hindi_Belt',\n",
       " 'https://en.wikipedia.org/wiki/Indo-European_languages',\n",
       " 'https://en.wikipedia.org/wiki/Indo-Aryan_languages',\n",
       " 'https://en.wikipedia.org/wiki/ISO_639:por',\n",
       " 'https://en.wikipedia.org/wiki/Indo-European_languages',\n",
       " 'https://en.wikipedia.org/wiki/Romance_languages',\n",
       " 'https://en.wikipedia.org/wiki/ISO_639:ben',\n",
       " 'https://en.wikipedia.org/wiki/Indo-European_languages',\n",
       " 'https://en.wikipedia.org/wiki/Indo-Aryan_languages',\n",
       " 'https://en.wikipedia.org/wiki/ISO_639:rus',\n",
       " 'https://en.wikipedia.org/wiki/Indo-European_languages',\n",
       " 'https://en.wikipedia.org/wiki/Balto-Slavic_languages',\n",
       " 'https://en.wikipedia.org/wiki/ISO_639:jpn',\n",
       " 'https://en.wikipedia.org/wiki/Japonic_languages',\n",
       " 'https://en.wikipedia.org/wiki/Japanese_language',\n",
       " 'https://en.wikipedia.org/wiki/ISO_639:yue',\n",
       " 'https://en.wikipedia.org/wiki/Cantonese',\n",
       " 'https://en.wikipedia.org/wiki/Sino-Tibetan_languages',\n",
       " 'https://en.wikipedia.org/wiki/Varieties_of_Chinese',\n",
       " 'https://en.wikipedia.org/wiki/ISO_639:vie',\n",
       " 'https://en.wikipedia.org/wiki/Austroasiatic_languages',\n",
       " 'https://en.wikipedia.org/wiki/Vietic_languages',\n",
       " 'https://en.wikipedia.org/wiki/ISO_639:tur',\n",
       " 'https://en.wikipedia.org/wiki/Turkic_languages',\n",
       " 'https://en.wikipedia.org/wiki/Oghuz_languages',\n",
       " 'https://en.wikipedia.org/wiki/ISO_639:wuu',\n",
       " 'https://en.wikipedia.org/wiki/Shanghainese',\n",
       " 'https://en.wikipedia.org/wiki/Sino-Tibetan_languages',\n",
       " 'https://en.wikipedia.org/wiki/Varieties_of_Chinese',\n",
       " 'https://en.wikipedia.org/wiki/ISO_639:mar',\n",
       " 'https://en.wikipedia.org/wiki/Indo-European_languages',\n",
       " 'https://en.wikipedia.org/wiki/Indo-Aryan_languages',\n",
       " 'https://en.wikipedia.org/wiki/ISO_639:tel',\n",
       " 'https://en.wikipedia.org/wiki/Dravidian_languages',\n",
       " 'https://en.wikipedia.org/wiki/ISO_639:kor',\n",
       " 'https://en.wikipedia.org/wiki/Koreanic_languages',\n",
       " 'https://en.wikipedia.org/wiki/ISO_639:fra',\n",
       " 'https://en.wikipedia.org/wiki/Indo-European_languages',\n",
       " 'https://en.wikipedia.org/wiki/Romance_languages',\n",
       " 'https://en.wikipedia.org/wiki/ISO_639:tam',\n",
       " 'https://en.wikipedia.org/wiki/Dravidian_languages',\n",
       " 'https://en.wikipedia.org/wiki/ISO_639:arz',\n",
       " 'https://en.wikipedia.org/wiki/Sa%CA%BDidi_Arabic',\n",
       " 'https://en.wikipedia.org/wiki/Afroasiatic_languages',\n",
       " 'https://en.wikipedia.org/wiki/Semitic_languages',\n",
       " 'https://en.wikipedia.org/wiki/ISO_639:deu',\n",
       " 'https://en.wikipedia.org/wiki/Indo-European_languages',\n",
       " 'https://en.wikipedia.org/wiki/Germanic_languages',\n",
       " 'https://en.wikipedia.org/wiki/ISO_639:urd',\n",
       " 'https://en.wikipedia.org/wiki/Hindi',\n",
       " 'https://en.wikipedia.org/wiki/Indo-European_languages',\n",
       " 'https://en.wikipedia.org/wiki/Indo-Aryan_languages',\n",
       " 'https://en.wikipedia.org/wiki/ISO_639:jav',\n",
       " 'https://en.wikipedia.org/wiki/Austronesian_languages',\n",
       " 'https://en.wikipedia.org/wiki/Malayo-Polynesian_languages',\n",
       " 'https://en.wikipedia.org/wiki/ISO_639:pnb',\n",
       " 'https://en.wikipedia.org/wiki/Eastern_Punjabi_language',\n",
       " 'https://en.wikipedia.org/wiki/Indo-European_languages',\n",
       " 'https://en.wikipedia.org/wiki/Indo-Aryan_languages',\n",
       " 'https://en.wikipedia.org/wiki/ISO_639:ita',\n",
       " 'https://en.wikipedia.org/wiki/Indo-European_languages',\n",
       " 'https://en.wikipedia.org/wiki/Romance_languages',\n",
       " 'https://en.wikipedia.org/wiki/ISO_639:guj',\n",
       " 'https://en.wikipedia.org/wiki/Indo-European_languages',\n",
       " 'https://en.wikipedia.org/wiki/Indo-Aryan_languages',\n",
       " 'https://en.wikipedia.org/wiki/ISO_639:pes',\n",
       " 'https://en.wikipedia.org/wiki/Dari',\n",
       " 'https://en.wikipedia.org/wiki/Tajik_language',\n",
       " 'https://en.wikipedia.org/wiki/Indo-European_languages',\n",
       " 'https://en.wikipedia.org/wiki/Iranian_languages',\n",
       " 'https://en.wikipedia.org/wiki/ISO_639:bho',\n",
       " 'https://en.wikipedia.org/wiki/Indo-European_languages',\n",
       " 'https://en.wikipedia.org/wiki/Indo-Aryan_languages',\n",
       " 'https://en.wikipedia.org/wiki/ISO_639:hau',\n",
       " 'https://en.wikipedia.org/wiki/Afroasiatic_languages',\n",
       " 'https://en.wikipedia.org/wiki/Chadic_languages',\n",
       " 'https://en.wikipedia.org/wiki/Central_Intelligence_Agency',\n",
       " 'https://en.wikipedia.org/wiki/List_of_languages_by_number_of_native_speakers#cite_note-CIA-8',\n",
       " 'https://en.wikipedia.org/wiki/List_of_languages_by_number_of_native_speakers#cite_note-CIA-8',\n",
       " 'https://en.wikipedia.org/wiki/Mandarin_Chinese',\n",
       " 'https://en.wikipedia.org/wiki/Spanish_language',\n",
       " 'https://en.wikipedia.org/wiki/English_language',\n",
       " 'https://en.wikipedia.org/wiki/Arabic_language',\n",
       " 'https://en.wikipedia.org/wiki/Hindi_language',\n",
       " 'https://en.wikipedia.org/wiki/Bengali_language',\n",
       " 'https://en.wikipedia.org/wiki/Portuguese_language',\n",
       " 'https://en.wikipedia.org/wiki/Russian_language',\n",
       " 'https://en.wikipedia.org/wiki/Japanese_language',\n",
       " 'https://en.wikipedia.org/wiki/Lahnda',\n",
       " 'https://en.wikipedia.org/wiki/Javanese_language',\n",
       " 'https://en.wikipedia.org/wiki/List_of_languages_by_total_number_of_speakers',\n",
       " 'https://en.wikipedia.org/wiki/List_of_sign_languages_by_number_of_native_signers',\n",
       " 'https://en.wikipedia.org/wiki/List_of_languages_by_the_number_of_countries_in_which_they_are_recognized_as_an_official_language',\n",
       " 'https://en.wikipedia.org/wiki/Number_of_languages_by_country',\n",
       " 'https://en.wikipedia.org/wiki/Languages_used_on_the_Internet',\n",
       " 'https://en.wikipedia.org/wiki/List_of_ISO_639-3_codes',\n",
       " 'https://en.wikipedia.org/wiki/Lists_of_languages',\n",
       " 'https://en.wikipedia.org/wiki/List_of_European_languages_by_number_of_speakers',\n",
       " 'https://en.wikipedia.org/wiki/Global_language_system',\n",
       " 'https://en.wikipedia.org/wiki/Linguistic_diversity_index',\n",
       " 'https://en.wikipedia.org/wiki/World_language',\n",
       " 'https://en.wikipedia.org/wiki/List_of_languages_by_number_of_native_speakers#cite_ref-Paolillo&Das_1-0',\n",
       " 'https://en.wikipedia.org/wiki/List_of_languages_by_number_of_native_speakers#cite_ref-Paolillo&Das_1-1',\n",
       " 'https://uis.unesco.org/sites/default/files/documents/evaluating-language-statistics-the-ethnologue-and-beyond-en_0.pdf',\n",
       " 'https://en.wikipedia.org/wiki/UNESCO',\n",
       " 'https://en.wikipedia.org/wiki/List_of_languages_by_number_of_native_speakers#cite_ref-2',\n",
       " 'https://en.wikipedia.org/wiki/Jack_Chambers_(linguist)',\n",
       " 'https://en.wikipedia.org/wiki/Peter_Trudgill',\n",
       " 'https://en.wikipedia.org/wiki/ISBN_(identifier)',\n",
       " 'https://en.wikipedia.org/wiki/Special:BookSources/978-0-521-59646-6',\n",
       " 'https://en.wikipedia.org/wiki/List_of_languages_by_number_of_native_speakers#cite_ref-3',\n",
       " 'https://en.wikipedia.org/wiki/ISBN_(identifier)',\n",
       " 'https://en.wikipedia.org/wiki/Special:BookSources/978-0-415-05767-7',\n",
       " 'https://en.wikipedia.org/wiki/List_of_languages_by_number_of_native_speakers#cite_ref-4',\n",
       " 'https://en.wikipedia.org/wiki/Jerry_Norman_(sinologist)',\n",
       " 'https://en.wikipedia.org/wiki/ISBN_(identifier)',\n",
       " 'https://en.wikipedia.org/wiki/Special:BookSources/978-0-521-29653-3',\n",
       " 'https://en.wikipedia.org/wiki/List_of_languages_by_number_of_native_speakers#cite_ref-5',\n",
       " 'https://en.wikipedia.org/wiki/Jerry_Norman_(sinologist)',\n",
       " 'https://en.wikipedia.org/wiki/Graham_Thurgood',\n",
       " 'https://en.wikipedia.org/wiki/Randy_LaPolla',\n",
       " 'https://archive.org/details/sinotibetanlangu00thur',\n",
       " 'https://archive.org/details/sinotibetanlangu00thur/page/n94',\n",
       " 'https://en.wikipedia.org/wiki/ISBN_(identifier)',\n",
       " 'https://en.wikipedia.org/wiki/Special:BookSources/978-0-7007-1129-1',\n",
       " 'https://en.wikipedia.org/wiki/List_of_languages_by_number_of_native_speakers#cite_ref-6',\n",
       " 'https://en.wikipedia.org/wiki/David_Crystal',\n",
       " 'https://archive.org/details/cambridgeencycl000crys',\n",
       " 'https://archive.org/details/cambridgeencycl000crys/page/286',\n",
       " 'https://en.wikipedia.org/wiki/ISBN_(identifier)',\n",
       " 'https://en.wikipedia.org/wiki/Special:BookSources/978-0-521-26438-9',\n",
       " 'https://en.wikipedia.org/wiki/List_of_languages_by_number_of_native_speakers#cite_ref-e26_7-0',\n",
       " 'https://en.wikipedia.org/wiki/List_of_languages_by_number_of_native_speakers#cite_ref-e26_7-1',\n",
       " 'https://www.ethnologue.com/statistics/',\n",
       " 'https://www.ethnologue.com/',\n",
       " 'https://en.wikipedia.org/wiki/List_of_languages_by_number_of_native_speakers#cite_ref-CIA_8-0',\n",
       " 'https://en.wikipedia.org/wiki/List_of_languages_by_number_of_native_speakers#cite_ref-CIA_8-1',\n",
       " 'https://www.cia.gov/the-world-factbook/countries/world/#people-and-society',\n",
       " 'https://en.wikipedia.org/wiki/Ethnologue',\n",
       " 'https://www.ethnologue.com/guides/ethnologue200',\n",
       " 'https://encarta.msn.com/media_701500404/Languages_Spoken_by_More_Than_10_Million_People.html',\n",
       " 'https://www.webcitation.org/query?id=1257013011437361',\n",
       " 'https://en.wikipedia.org/wiki/Encarta',\n",
       " 'https://en.wikipedia.org/wiki/Ethnologue',\n",
       " 'https://en.wikipedia.org/wiki/Template:Countries_and_languages_lists',\n",
       " 'https://en.wikipedia.org/wiki/Template_talk:Countries_and_languages_lists',\n",
       " 'https://en.wikipedia.org/w/index.php?title=Template:Countries_and_languages_lists&action=edit',\n",
       " 'https://en.wikipedia.org/wiki/Lists_of_countries_and_territories',\n",
       " 'https://en.wikipedia.org/wiki/Lists_of_languages',\n",
       " 'https://en.wikipedia.org/wiki/List_of_countries_by_spoken_languages',\n",
       " 'https://en.wikipedia.org/wiki/Official_language',\n",
       " 'https://en.wikipedia.org/wiki/List_of_countries_by_the_number_of_recognized_official_languages',\n",
       " 'https://en.wikipedia.org/wiki/List_of_countries_where_Arabic_is_an_official_language',\n",
       " 'https://en.wikipedia.org/wiki/List_of_countries_and_territories_where_Chinese_is_an_official_language',\n",
       " 'https://en.wikipedia.org/wiki/List_of_countries_and_territories_where_Afrikaans_or_Dutch_are_official_languages',\n",
       " 'https://en.wikipedia.org/wiki/List_of_countries_and_territories_where_English_is_an_official_language',\n",
       " 'https://en.wikipedia.org/wiki/List_of_countries_and_territories_where_French_is_an_official_language',\n",
       " 'https://en.wikipedia.org/wiki/List_of_countries_and_territories_where_German_is_an_official_language',\n",
       " 'https://en.wikipedia.org/wiki/List_of_countries_and_territories_where_Hindustani_is_an_official_language',\n",
       " 'https://en.wikipedia.org/wiki/List_of_countries_and_territories_where_Italian_is_an_official_language',\n",
       " 'https://en.wikipedia.org/wiki/List_of_countries_and_territories_where_Malay_is_an_official_language',\n",
       " 'https://en.wikipedia.org/wiki/List_of_countries_and_territories_where_Persian_is_an_official_language',\n",
       " 'https://en.wikipedia.org/wiki/List_of_countries_and_territories_where_Portuguese_is_an_official_language',\n",
       " 'https://en.wikipedia.org/wiki/List_of_countries_and_territories_where_Romanian_is_an_official_language',\n",
       " 'https://en.wikipedia.org/wiki/List_of_countries_and_territories_where_Russian_is_an_official_language',\n",
       " 'https://en.wikipedia.org/wiki/List_of_countries_where_Spanish_is_an_official_language',\n",
       " 'https://en.wikipedia.org/wiki/List_of_countries_and_territories_where_Tamil_is_an_official_language',\n",
       " 'https://en.wikipedia.org/wiki/Endonym_and_exonym',\n",
       " 'https://en.wikipedia.org/wiki/List_of_countries_and_dependencies_and_their_capitals_in_native_languages',\n",
       " 'https://en.wikipedia.org/wiki/Endonym_and_exonym',\n",
       " 'https://en.wikipedia.org/wiki/List_of_country_names_in_various_languages',\n",
       " 'https://en.wikipedia.org/wiki/List_of_country_names_in_various_languages_(A%E2%80%93C)',\n",
       " 'https://en.wikipedia.org/wiki/List_of_country_names_in_various_languages_(D%E2%80%93I)',\n",
       " 'https://en.wikipedia.org/wiki/List_of_country_names_in_various_languages_(J%E2%80%93P)',\n",
       " 'https://en.wikipedia.org/wiki/List_of_country_names_in_various_languages_(Q%E2%80%93Z)',\n",
       " 'https://en.wikipedia.org/wiki/Names_of_Cambodia',\n",
       " 'https://en.wikipedia.org/wiki/Names_of_China',\n",
       " 'https://en.wikipedia.org/wiki/Names_of_Germany',\n",
       " 'https://en.wikipedia.org/wiki/Names_of_Iceland',\n",
       " 'https://en.wikipedia.org/wiki/Names_for_India',\n",
       " 'https://en.wikipedia.org/wiki/Names_of_Indonesia',\n",
       " 'https://en.wikipedia.org/wiki/Names_of_Japan',\n",
       " 'https://en.wikipedia.org/wiki/Names_of_Korea',\n",
       " 'https://en.wikipedia.org/wiki/Names_of_Kosovo',\n",
       " 'https://en.wikipedia.org/wiki/Names_of_Myanmar',\n",
       " 'https://en.wikipedia.org/wiki/Names_of_Singapore',\n",
       " 'https://en.wikipedia.org/wiki/Names_of_Sri_Lanka',\n",
       " 'https://en.wikipedia.org/wiki/Names_of_Vietnam',\n",
       " 'https://en.wikipedia.org/wiki/Languages_of_the_African_Union',\n",
       " 'https://en.wikipedia.org/wiki/Languages_of_the_European_Union',\n",
       " 'https://en.wikipedia.org/wiki/Languages_of_Africa',\n",
       " 'https://en.wikipedia.org/wiki/Indigenous_languages_of_the_Americas',\n",
       " 'https://en.wikipedia.org/wiki/Languages_of_North_America',\n",
       " 'https://en.wikipedia.org/wiki/Languages_of_South_America',\n",
       " 'https://en.wikipedia.org/wiki/Languages_of_Asia',\n",
       " 'https://en.wikipedia.org/wiki/Languages_of_East_Asia',\n",
       " 'https://en.wikipedia.org/wiki/Languages_of_South_Asia',\n",
       " 'https://en.wikipedia.org/wiki/Languages_of_Europe',\n",
       " 'https://en.wikipedia.org/wiki/Languages_of_Oceania',\n",
       " 'https://en.wikipedia.org/wiki/List_of_official_languages',\n",
       " 'https://en.wikipedia.org/wiki/List_of_official_languages_by_country_and_territory',\n",
       " 'https://en.wikipedia.org/wiki/List_of_languages_without_official_status',\n",
       " 'https://en.wikipedia.org/wiki/List_of_countries_by_the_number_of_recognized_official_languages',\n",
       " 'https://en.wikipedia.org/wiki/List_of_languages_by_the_number_of_countries_in_which_they_are_recognized_as_an_official_language',\n",
       " 'https://en.wikipedia.org/wiki/Number_of_languages_by_country',\n",
       " None,\n",
       " 'https://en.wikipedia.org/wiki/List_of_European_languages_by_number_of_speakers',\n",
       " 'https://en.wikipedia.org/wiki/List_of_languages_by_total_number_of_speakers',\n",
       " 'https://en.wikipedia.org/wiki/Languages_in_censuses',\n",
       " 'https://en.wikipedia.org/wiki/Language_family',\n",
       " 'https://en.wikipedia.org/wiki/List_of_language_families',\n",
       " 'https://en.wikipedia.org/wiki/List_of_Afro-Asiatic_languages',\n",
       " 'https://en.wikipedia.org/wiki/List_of_Austronesian_languages',\n",
       " 'https://en.wikipedia.org/wiki/List_of_Indo-European_languages',\n",
       " 'https://en.wikipedia.org/wiki/List_of_Mongolic_languages',\n",
       " 'https://en.wikipedia.org/wiki/List_of_Tungusic_languages',\n",
       " 'https://en.wikipedia.org/wiki/List_of_Turkic_languages',\n",
       " 'https://en.wikipedia.org/wiki/List_of_Uralic_languages',\n",
       " 'https://en.wikipedia.org/wiki/Geopolitics',\n",
       " 'https://en.wikipedia.org/wiki/Arab_League',\n",
       " 'https://en.wikipedia.org/wiki/Dutch_Language_Union',\n",
       " 'https://en.wikipedia.org/wiki/Commonwealth_of_Nations',\n",
       " 'https://en.wikipedia.org/wiki/Latin_Union',\n",
       " 'https://en.wikipedia.org/wiki/Romance_languages',\n",
       " 'https://en.wikipedia.org/wiki/Three_Linguistic_Spaces',\n",
       " 'https://en.wikipedia.org/wiki/Organisation_internationale_de_la_Francophonie',\n",
       " 'https://en.wikipedia.org/wiki/Community_of_Portuguese_Language_Countries',\n",
       " 'https://en.wikipedia.org/wiki/Portuguese-speaking_African_countries',\n",
       " 'https://en.wikipedia.org/wiki/Hispanidad',\n",
       " 'https://en.wikipedia.org/wiki/Organization_of_Turkic_States',\n",
       " 'https://en.wikipedia.org/wiki/Turkic_languages',\n",
       " 'https://en.wikipedia.org/wiki/International_Organization_of_Turkic_Culture',\n",
       " 'https://en.wikipedia.org/wiki/Turkic_languages',\n",
       " 'https://en.wikipedia.org/wiki/Category:Lists_of_languages',\n",
       " 'https://en.wikipedia.org/wiki/Category:Languages',\n",
       " 'https://en.wikipedia.org/w/index.php?title=List_of_languages_by_number_of_native_speakers&oldid=1152290545',\n",
       " 'https://en.wikipedia.org/wiki/Help:Category',\n",
       " 'https://en.wikipedia.org/wiki/Category:Lists_of_languages',\n",
       " 'https://en.wikipedia.org/wiki/Category:Language_articles_citing_Ethnologue_26',\n",
       " 'https://en.wikipedia.org/wiki/Category:Articles_with_short_description',\n",
       " 'https://en.wikipedia.org/wiki/Category:Short_description_is_different_from_Wikidata',\n",
       " 'https://en.wikipedia.org/wiki/Category:Wikipedia_indefinitely_semi-protected_pages',\n",
       " 'https://en.wikipedia.org/wiki/Category:Use_dmy_dates_from_April_2020',\n",
       " 'https://en.wikipedia.org/wiki/Category:All_articles_lacking_reliable_references',\n",
       " 'https://en.wikipedia.org/wiki/Category:Articles_lacking_reliable_references_from_December_2021',\n",
       " 'https://en.wikipedia.org/wiki/Wikipedia:Text_of_the_Creative_Commons_Attribution-ShareAlike_3.0_Unported_License',\n",
       " 'https://creativecommons.org/licenses/by-sa/3.0/',\n",
       " 'https://foundation.wikimedia.org/wiki/Terms_of_Use',\n",
       " 'https://foundation.wikimedia.org/wiki/Privacy_policy',\n",
       " 'https://www.wikimediafoundation.org/',\n",
       " 'https://foundation.wikimedia.org/wiki/Privacy_policy',\n",
       " 'https://en.wikipedia.org/wiki/Wikipedia:About',\n",
       " 'https://en.wikipedia.org/wiki/Wikipedia:General_disclaimer',\n",
       " 'https://en.wikipedia.org/wiki/Wikipedia:Contact_us',\n",
       " 'https://en.m.wikipedia.org/w/index.php?title=List_of_languages_by_number_of_native_speakers&mobileaction=toggle_view_mobile',\n",
       " 'https://developer.wikimedia.org/',\n",
       " 'https://stats.wikimedia.org/#/en.wikipedia.org',\n",
       " 'https://foundation.wikimedia.org/wiki/Cookie_statement',\n",
       " 'https://en.wikipedia.org/wiki/List_of_languages_by_number_of_native_speakers#',\n",
       " 'https://wikimediafoundation.org/',\n",
       " 'https://www.mediawiki.org/',\n",
       " 'https://en.wikipedia.org/wiki/List_of_languages_by_number_of_native_speakers?action=edit']"
      ]
     },
     "execution_count": 126,
     "metadata": {},
     "output_type": "execute_result"
    }
   ],
   "source": [
    "languagess = driver.find_elements(By.TAG_NAME,'a')\n",
    "languagess\n",
    "\n",
    "[e.get_attribute('href') for e in languagess]\n",
    "\n",
    "# este no me va a salir"
   ]
  },
  {
   "cell_type": "markdown",
   "metadata": {},
   "source": [
    "### BONUS QUESTIONS"
   ]
  },
  {
   "cell_type": "markdown",
   "metadata": {},
   "source": [
    "#### Scrape a certain number of tweets of a given Twitter account."
   ]
  },
  {
   "cell_type": "code",
   "execution_count": 115,
   "metadata": {},
   "outputs": [],
   "source": [
    "# This is the url you will scrape in this exercise \n",
    "# You will need to add the account credentials to this url\n",
    "url = 'https://twitter.com/'"
   ]
  },
  {
   "cell_type": "code",
   "execution_count": 116,
   "metadata": {},
   "outputs": [
    {
     "name": "stderr",
     "output_type": "stream",
     "text": [
      "/var/folders/75/q598wy0x5rq2j183ndtczjlm0000gn/T/ipykernel_89223/2015829348.py:1: DeprecationWarning: executable_path has been deprecated, please pass in a Service object\n",
      "  driver=webdriver.Chrome(PATH, options=opciones)\n"
     ]
    }
   ],
   "source": []
  },
  {
   "cell_type": "markdown",
   "metadata": {},
   "source": [
    "#### IMDB's Top 250 data (movie name, Initial release, director name and stars) as a pandas dataframe"
   ]
  },
  {
   "cell_type": "code",
   "execution_count": null,
   "metadata": {},
   "outputs": [],
   "source": [
    "# This is the url you will scrape in this exercise \n",
    "url = 'https://www.imdb.com/chart/top'"
   ]
  },
  {
   "cell_type": "code",
   "execution_count": null,
   "metadata": {},
   "outputs": [],
   "source": [
    "# your code"
   ]
  },
  {
   "cell_type": "markdown",
   "metadata": {},
   "source": [
    "#### Movie name, year and a brief summary of the top 10 random movies (IMDB) as a pandas dataframe."
   ]
  },
  {
   "cell_type": "code",
   "execution_count": null,
   "metadata": {},
   "outputs": [],
   "source": [
    "#This is the url you will scrape in this exercise\n",
    "url = 'http://www.imdb.com/chart/top'"
   ]
  },
  {
   "cell_type": "code",
   "execution_count": null,
   "metadata": {},
   "outputs": [],
   "source": [
    "#your code"
   ]
  },
  {
   "cell_type": "markdown",
   "metadata": {},
   "source": [
    "#### Find the live weather report (temperature, wind speed, description and weather) of a given city."
   ]
  },
  {
   "cell_type": "code",
   "execution_count": null,
   "metadata": {},
   "outputs": [],
   "source": [
    "#https://openweathermap.org/current\n",
    "city = city=input('Enter the city:')\n",
    "url = 'http://api.openweathermap.org/data/2.5/weather?'+'q='+city+'&APPID=b35975e18dc93725acb092f7272cc6b8&units=metric'"
   ]
  },
  {
   "cell_type": "code",
   "execution_count": null,
   "metadata": {},
   "outputs": [],
   "source": [
    "# your code"
   ]
  },
  {
   "cell_type": "markdown",
   "metadata": {},
   "source": [
    "#### Book name,price and stock availability as a pandas dataframe."
   ]
  },
  {
   "cell_type": "code",
   "execution_count": null,
   "metadata": {},
   "outputs": [],
   "source": [
    "# This is the url you will scrape in this exercise. \n",
    "# It is a fictional bookstore created to be scraped. \n",
    "url = 'http://books.toscrape.com/'"
   ]
  },
  {
   "cell_type": "code",
   "execution_count": null,
   "metadata": {},
   "outputs": [],
   "source": [
    "#your code"
   ]
  }
 ],
 "metadata": {
  "kernelspec": {
   "display_name": "Python 3 (ipykernel)",
   "language": "python",
   "name": "python3"
  },
  "language_info": {
   "codemirror_mode": {
    "name": "ipython",
    "version": 3
   },
   "file_extension": ".py",
   "mimetype": "text/x-python",
   "name": "python",
   "nbconvert_exporter": "python",
   "pygments_lexer": "ipython3",
   "version": "3.9.13"
  }
 },
 "nbformat": 4,
 "nbformat_minor": 2
}
