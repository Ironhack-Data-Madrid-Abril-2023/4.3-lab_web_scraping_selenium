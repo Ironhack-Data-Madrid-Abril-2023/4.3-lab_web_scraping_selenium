{
 "cells": [
  {
   "cell_type": "markdown",
   "metadata": {},
   "source": [
    "# Web Scraping Lab\n",
    "\n",
    "You will find in this notebook some scrapy exercises to practise your scraping skills.\n",
    "\n",
    "**Tips:**\n",
    "\n",
    "- Check the response status code for each request to ensure you have obtained the intended contennt.\n",
    "- Print the response text in each request to understand the kind of info you are getting and its format.\n",
    "- Check for patterns in the response text to extract the data/info requested in each question.\n",
    "- Visit each url and take a look at its source through Chrome DevTools. You'll need to identify the html tags, special class names etc. used for the html content you are expected to extract."
   ]
  },
  {
   "cell_type": "markdown",
   "metadata": {},
   "source": [
    "- [Selenium Doc](https://www.selenium.dev/documentation/)\n",
    "- [Requests library](http://docs.python-requests.org/en/master/#the-user-guide) documentation \n",
    "- [Urllib](https://docs.python.org/3/library/urllib.html#module-urllib)\n",
    "- [re lib](https://docs.python.org/3/library/re.html)\n",
    "- [lxml lib](https://lxml.de/)\n",
    "- [Scrapy](https://scrapy.org/)\n",
    "- [List of HTTP status codes](https://en.wikipedia.org/wiki/List_of_HTTP_status_codes)\n",
    "- [HTML basics](http://www.simplehtmlguide.com/cheatsheet.php)\n",
    "- [CSS basics](https://www.cssbasics.com/#page_start)"
   ]
  },
  {
   "cell_type": "markdown",
   "metadata": {},
   "source": [
    "#### Below are the libraries and modules you may need. `Selenium` and `pandas` are imported for you."
   ]
  },
  {
   "cell_type": "code",
   "execution_count": 1,
   "metadata": {},
   "outputs": [],
   "source": [
    "import pandas as pd\n",
    "from selenium.webdriver.chrome.options import Options\n",
    "from webdriver_manager.chrome import ChromeDriverManager\n",
    "from selenium import webdriver\n",
    "from selenium.webdriver.common.by import By\n",
    "\n",
    "import warnings\n",
    "warnings.filterwarnings('ignore')   # para quitar esos prints\n",
    "import itertools"
   ]
  },
  {
   "cell_type": "markdown",
   "metadata": {},
   "source": [
    "#### Enable the options you may need. In the next cell you have an example of them but you can choose to use them or not."
   ]
  },
  {
   "cell_type": "code",
   "execution_count": 2,
   "metadata": {},
   "outputs": [],
   "source": [
    "#driver configuration\n",
    "opciones=Options()\n",
    "\n",
    "opciones.add_experimental_option('excludeSwitches', ['enable-automation'])\n",
    "opciones.add_experimental_option('useAutomationExtension', False)\n",
    "opciones.headless=False    # si True, no aperece la ventana (headless=no visible)\n",
    "opciones.add_argument('--start-maximized')         # comienza maximizado\n",
    "#opciones.add_argument('user-data-dir=selenium')    # mantiene las cookies\n",
    "#opciones.add_extension('driver_folder/adblock.crx')       # adblocker\n",
    "opciones.add_argument('--incognito')"
   ]
  },
  {
   "cell_type": "code",
   "execution_count": 3,
   "metadata": {},
   "outputs": [],
   "source": [
    "PATH = ChromeDriverManager().install()"
   ]
  },
  {
   "cell_type": "code",
   "execution_count": 4,
   "metadata": {},
   "outputs": [],
   "source": [
    "driver=webdriver.Chrome(PATH, options=opciones)      # abre una venta una de chrome"
   ]
  },
  {
   "cell_type": "markdown",
   "metadata": {},
   "source": [
    "#### Download, parse, and print the content from the Trending Developers page from GitHub:"
   ]
  },
  {
   "cell_type": "code",
   "execution_count": 5,
   "metadata": {},
   "outputs": [],
   "source": [
    "# This is the url you will scrape in this exercise\n",
    "url = 'https://github.com/trending/developers'\n",
    "driver.get(url)"
   ]
  },
  {
   "cell_type": "code",
   "execution_count": 6,
   "metadata": {},
   "outputs": [],
   "source": [
    "#your code\n",
    "lugar = driver.find_elements(By.CLASS_NAME, 'col-md-6')\n",
    "lista = []"
   ]
  },
  {
   "cell_type": "code",
   "execution_count": 7,
   "metadata": {},
   "outputs": [
    {
     "data": {
      "text/plain": [
       "[['Mattias Wadman', 'wader'],\n",
       " ['lllyasviel'],\n",
       " ['Lianmin Zheng', 'merrymercy'],\n",
       " ['Jerry Liu', 'jerryjliu'],\n",
       " ['Henrik Rydgård', 'hrydgard'],\n",
       " ['Harrison Chase', 'hwchase17'],\n",
       " ['Fons van der Plas', 'fonsp'],\n",
       " ['Steven Tey', 'steven-tey'],\n",
       " ['Andreas Thomas', 'chronark'],\n",
       " ['pilcrowOnPaper'],\n",
       " ['Laurent Mazare', 'LaurentMazare'],\n",
       " ['yetone', 'yetone'],\n",
       " ['Tom Payne', 'twpayne'],\n",
       " ['Raphaël Benitte', 'plouc'],\n",
       " ['Dillon Nys', 'dnys1'],\n",
       " ['Will McGugan', 'willmcgugan'],\n",
       " ['Luca Palmieri', 'LukeMathWalker'],\n",
       " ['Payton Swick', 'sirbrillig'],\n",
       " ['Martí Climent', 'marticliment'],\n",
       " ['dgtlmoon'],\n",
       " ['Jelle Zijlstra', 'JelleZijlstra'],\n",
       " ['J. Nick Koston', 'bdraco'],\n",
       " ['Nuno Campos', 'nfcampos'],\n",
       " ['Juliette', 'jrfnl'],\n",
       " ['Lee Robinson', 'leerob']]"
      ]
     },
     "execution_count": 7,
     "metadata": {},
     "output_type": "execute_result"
    }
   ],
   "source": [
    "for elements in lugar:\n",
    "    lista.append(elements.text.strip().split('\\n'))\n",
    "    \n",
    "lista[:: 2] \n",
    "# obtengo un a lista de listas "
   ]
  },
  {
   "cell_type": "code",
   "execution_count": 8,
   "metadata": {},
   "outputs": [
    {
     "data": {
      "text/plain": [
       "['Mattias Wadman wader',\n",
       " 'lllyasviel',\n",
       " 'Lianmin Zheng merrymercy',\n",
       " 'Jerry Liu jerryjliu',\n",
       " 'Henrik Rydgård hrydgard',\n",
       " 'Harrison Chase hwchase17',\n",
       " 'Fons van der Plas fonsp',\n",
       " 'Steven Tey steven-tey',\n",
       " 'Andreas Thomas chronark',\n",
       " 'pilcrowOnPaper',\n",
       " 'Laurent Mazare LaurentMazare',\n",
       " 'yetone yetone',\n",
       " 'Tom Payne twpayne',\n",
       " 'Raphaël Benitte plouc',\n",
       " 'Dillon Nys dnys1',\n",
       " 'Will McGugan willmcgugan',\n",
       " 'Luca Palmieri LukeMathWalker',\n",
       " 'Payton Swick sirbrillig',\n",
       " 'Martí Climent marticliment',\n",
       " 'dgtlmoon',\n",
       " 'Jelle Zijlstra JelleZijlstra',\n",
       " 'J. Nick Koston bdraco',\n",
       " 'Nuno Campos nfcampos',\n",
       " 'Juliette jrfnl',\n",
       " 'Lee Robinson leerob']"
      ]
     },
     "execution_count": 8,
     "metadata": {},
     "output_type": "execute_result"
    }
   ],
   "source": [
    "# Simplifico a a una lista tal como solicita el enunciado\n",
    "\n",
    "lista_new = []\n",
    "\n",
    "for i in lista:\n",
    "\n",
    "    lista_new.append(' '.join(i))\n",
    "\n",
    "lista_new[::2]"
   ]
  },
  {
   "cell_type": "markdown",
   "metadata": {},
   "source": [
    "#### Display the names of the trending developers retrieved in the previous step.\n",
    "\n",
    "Your output should be a Python list of developer names. Each name should not contain any html tag.\n",
    "\n",
    "**Instructions:**\n",
    "\n",
    "1. Find out the html tag and class names used for the developer names.\n",
    "\n",
    "1. Use string manipulation techniques to replace whitespaces and linebreaks (i.e. `\\n`) in the *text* of each html element. Use a list to store the clean names.\n",
    "\n",
    "1. Print the list of names.\n",
    "\n",
    "Your output should look like below:\n",
    "\n",
    "```\n",
    "['trimstray (@trimstray)',\n",
    " 'joewalnes (JoeWalnes)',\n",
    " 'charlax (Charles-AxelDein)',\n",
    " 'ForrestKnight (ForrestKnight)',\n",
    " 'revery-ui (revery-ui)',\n",
    " 'alibaba (Alibaba)',\n",
    " 'Microsoft (Microsoft)',\n",
    " 'github (GitHub)',\n",
    " 'facebook (Facebook)',\n",
    " 'boazsegev (Bo)',\n",
    " 'google (Google)',\n",
    " 'cloudfetch',\n",
    " 'sindresorhus (SindreSorhus)',\n",
    " 'tensorflow',\n",
    " 'apache (TheApacheSoftwareFoundation)',\n",
    " 'DevonCrawford (DevonCrawford)',\n",
    " 'ARMmbed (ArmMbed)',\n",
    " 'vuejs (vuejs)',\n",
    " 'fastai (fast.ai)',\n",
    " 'QiShaoXuan (Qi)',\n",
    " 'joelparkerhenderson (JoelParkerHenderson)',\n",
    " 'torvalds (LinusTorvalds)',\n",
    " 'CyC2018',\n",
    " 'komeiji-satori (神楽坂覚々)',\n",
    " 'script-8']\n",
    " ```"
   ]
  },
  {
   "cell_type": "markdown",
   "metadata": {},
   "source": [
    "#### Display the trending Python repositories in GitHub\n",
    "\n",
    "The steps to solve this problem is similar to the previous one except that you need to find out the repository names instead of developer names."
   ]
  },
  {
   "cell_type": "code",
   "execution_count": 9,
   "metadata": {},
   "outputs": [],
   "source": [
    "# This is the url you will scrape in this exercise\n",
    "url = 'https://github.com/trending/python?since=daily'\n",
    "driver.get(url)"
   ]
  },
  {
   "cell_type": "code",
   "execution_count": 10,
   "metadata": {},
   "outputs": [
    {
     "data": {
      "text/plain": [
       "[<selenium.webdriver.remote.webelement.WebElement (session=\"85f8bfb06b864bd5051a94f7938b1d15\", element=\"95a0ea85-7405-4454-95de-a16cb9899841\")>,\n",
       " <selenium.webdriver.remote.webelement.WebElement (session=\"85f8bfb06b864bd5051a94f7938b1d15\", element=\"bbb462b3-73d6-49e1-a445-05fb1194a224\")>,\n",
       " <selenium.webdriver.remote.webelement.WebElement (session=\"85f8bfb06b864bd5051a94f7938b1d15\", element=\"3c429ddd-f2e7-4df1-8fbb-3604a7723066\")>,\n",
       " <selenium.webdriver.remote.webelement.WebElement (session=\"85f8bfb06b864bd5051a94f7938b1d15\", element=\"c739a14e-f667-4b03-bca5-6b284c80cf97\")>,\n",
       " <selenium.webdriver.remote.webelement.WebElement (session=\"85f8bfb06b864bd5051a94f7938b1d15\", element=\"32a9b2ce-0f90-4588-81aa-0a508929a894\")>,\n",
       " <selenium.webdriver.remote.webelement.WebElement (session=\"85f8bfb06b864bd5051a94f7938b1d15\", element=\"3c549015-d724-49ab-a808-7314d4d50a8f\")>,\n",
       " <selenium.webdriver.remote.webelement.WebElement (session=\"85f8bfb06b864bd5051a94f7938b1d15\", element=\"88ce8800-2058-4412-8f62-f4d864efb99c\")>,\n",
       " <selenium.webdriver.remote.webelement.WebElement (session=\"85f8bfb06b864bd5051a94f7938b1d15\", element=\"56de45f5-c6b1-4da2-8e24-3f5a486e3282\")>,\n",
       " <selenium.webdriver.remote.webelement.WebElement (session=\"85f8bfb06b864bd5051a94f7938b1d15\", element=\"e351f886-21cd-4545-a606-c64c6e746e80\")>,\n",
       " <selenium.webdriver.remote.webelement.WebElement (session=\"85f8bfb06b864bd5051a94f7938b1d15\", element=\"5ff28b55-cdac-4723-a1f7-bff187a584f0\")>,\n",
       " <selenium.webdriver.remote.webelement.WebElement (session=\"85f8bfb06b864bd5051a94f7938b1d15\", element=\"c8890637-8831-44f5-8a3d-42015dbd7262\")>,\n",
       " <selenium.webdriver.remote.webelement.WebElement (session=\"85f8bfb06b864bd5051a94f7938b1d15\", element=\"ad514363-61cd-475e-80eb-ad60c02bb222\")>,\n",
       " <selenium.webdriver.remote.webelement.WebElement (session=\"85f8bfb06b864bd5051a94f7938b1d15\", element=\"8d00d9e5-869b-4abe-8a54-04f799190b11\")>,\n",
       " <selenium.webdriver.remote.webelement.WebElement (session=\"85f8bfb06b864bd5051a94f7938b1d15\", element=\"b901e5e4-435b-4fdc-bb8c-1ce06e4d4be0\")>,\n",
       " <selenium.webdriver.remote.webelement.WebElement (session=\"85f8bfb06b864bd5051a94f7938b1d15\", element=\"b170e87b-b3ba-4573-978f-451735c54227\")>,\n",
       " <selenium.webdriver.remote.webelement.WebElement (session=\"85f8bfb06b864bd5051a94f7938b1d15\", element=\"d46d7d82-5b0b-4e63-8cd5-004c399e498e\")>,\n",
       " <selenium.webdriver.remote.webelement.WebElement (session=\"85f8bfb06b864bd5051a94f7938b1d15\", element=\"fdfb0b87-c13e-4a5e-b9c4-171487175056\")>,\n",
       " <selenium.webdriver.remote.webelement.WebElement (session=\"85f8bfb06b864bd5051a94f7938b1d15\", element=\"55bdcbc8-9a6e-4b01-8489-4632f93e651d\")>,\n",
       " <selenium.webdriver.remote.webelement.WebElement (session=\"85f8bfb06b864bd5051a94f7938b1d15\", element=\"9d2f1f8d-b141-42e9-b061-670ff934d3f0\")>,\n",
       " <selenium.webdriver.remote.webelement.WebElement (session=\"85f8bfb06b864bd5051a94f7938b1d15\", element=\"65a0c3bd-bf79-474e-abd3-ebd26b22bfcb\")>,\n",
       " <selenium.webdriver.remote.webelement.WebElement (session=\"85f8bfb06b864bd5051a94f7938b1d15\", element=\"bfa51661-88b8-4eaf-8e52-1e5038b22f5e\")>,\n",
       " <selenium.webdriver.remote.webelement.WebElement (session=\"85f8bfb06b864bd5051a94f7938b1d15\", element=\"5da38e9a-d0fa-4796-bd04-7741647394f2\")>,\n",
       " <selenium.webdriver.remote.webelement.WebElement (session=\"85f8bfb06b864bd5051a94f7938b1d15\", element=\"d910dc38-26f5-48fe-a7c5-d6c6bc78d8ad\")>,\n",
       " <selenium.webdriver.remote.webelement.WebElement (session=\"85f8bfb06b864bd5051a94f7938b1d15\", element=\"7f0ffb60-3337-47f4-9dd6-cd6101d0f39e\")>,\n",
       " <selenium.webdriver.remote.webelement.WebElement (session=\"85f8bfb06b864bd5051a94f7938b1d15\", element=\"8dab5c1d-2da6-4633-8979-57ef1b13abf8\")>]"
      ]
     },
     "execution_count": 10,
     "metadata": {},
     "output_type": "execute_result"
    }
   ],
   "source": [
    "#your code\n",
    "titulo = driver.find_elements(By.CSS_SELECTOR, \"h2.h3.lh-condensed\")\n",
    "titulo"
   ]
  },
  {
   "cell_type": "code",
   "execution_count": 11,
   "metadata": {},
   "outputs": [
    {
     "data": {
      "text/plain": [
       "['mlc-ai / mlc-llm',\n",
       " 'AIGC-Audio / AudioGPT',\n",
       " 'gventuri / pandas-ai',\n",
       " 'xtekky / gpt4free',\n",
       " 'irgolic / AutoPR',\n",
       " 'lamini-ai / lamini',\n",
       " 'deep-floyd / IF',\n",
       " 'deforum-art / deforum-stable-diffusion',\n",
       " 'home-assistant / core',\n",
       " 'cirediatpl / FigmaChain',\n",
       " 'IntelligenzaArtificiale / Free-AUTO-GPT-with-NO-API',\n",
       " 'mlc-ai / web-llm',\n",
       " 'AUTOMATIC1111 / stable-diffusion-webui',\n",
       " 'ddPn08 / Radiata',\n",
       " 'deforum-art / deforum-for-automatic1111-webui',\n",
       " 'ZrrSkywalker / LLaMA-Adapter',\n",
       " 'yt-dlp / yt-dlp',\n",
       " 'nlpxucan / WizardLM',\n",
       " 'GitHubDaily / ChatGPT-Prompt-Engineering-for-Developers-in-Chinese',\n",
       " 'georgia-tech-db / eva',\n",
       " 'xtekky / chatgpt-clone',\n",
       " 'mahdibland / V2RayAggregator',\n",
       " 'KurtBestor / Hitomi-Downloader',\n",
       " 'jaywalnut310 / vits',\n",
       " 'isaiahbjork / Auto-GPT-Crypto-Plugin']"
      ]
     },
     "execution_count": 11,
     "metadata": {},
     "output_type": "execute_result"
    }
   ],
   "source": [
    "lista = []\n",
    "for i in titulo:\n",
    "    i = i.text\n",
    "    lista.append(i)\n",
    "lista"
   ]
  },
  {
   "cell_type": "markdown",
   "metadata": {},
   "source": [
    "#### Display all the image links from Walt Disney wikipedia page"
   ]
  },
  {
   "cell_type": "code",
   "execution_count": 12,
   "metadata": {},
   "outputs": [],
   "source": [
    "# This is the url you will scrape in this exercise\n",
    "url = 'https://en.wikipedia.org/wiki/Walt_Disney'\n",
    "driver.get(url)"
   ]
  },
  {
   "cell_type": "code",
   "execution_count": 13,
   "metadata": {},
   "outputs": [],
   "source": [
    "#your code\n",
    "fotos = driver.find_elements(By.TAG_NAME, 'img')"
   ]
  },
  {
   "cell_type": "code",
   "execution_count": 14,
   "metadata": {},
   "outputs": [
    {
     "data": {
      "text/plain": [
       "['https://en.wikipedia.org/static/images/icons/wikipedia.png',\n",
       " 'https://en.wikipedia.org/static/images/mobile/copyright/wikipedia-wordmark-en.svg',\n",
       " 'https://en.wikipedia.org/static/images/mobile/copyright/wikipedia-tagline-en.svg',\n",
       " 'https://upload.wikimedia.org/wikipedia/foundation/2/20/CloseWindow19x19.png',\n",
       " 'https://upload.wikimedia.org/wikipedia/donate/thumb/b/b6/WLE_Austria_Logo_%28no_text%29_local.svg/50px-WLE_Austria_Logo_%28no_text%29_local.svg.png',\n",
       " 'https://upload.wikimedia.org/wikipedia/en/thumb/e/e7/Cscr-featured.svg/20px-Cscr-featured.svg.png',\n",
       " 'https://upload.wikimedia.org/wikipedia/en/thumb/8/8c/Extended-protection-shackle.svg/20px-Extended-protection-shackle.svg.png',\n",
       " 'https://upload.wikimedia.org/wikipedia/commons/thumb/d/df/Walt_Disney_1946.JPG/220px-Walt_Disney_1946.JPG',\n",
       " 'https://upload.wikimedia.org/wikipedia/commons/thumb/8/87/Walt_Disney_1942_signature.svg/150px-Walt_Disney_1942_signature.svg.png',\n",
       " 'https://upload.wikimedia.org/wikipedia/commons/thumb/3/3a/Walt_Disney_Birthplace_Exterior_Hermosa_Chicago_Illinois.jpg/220px-Walt_Disney_Birthplace_Exterior_Hermosa_Chicago_Illinois.jpg',\n",
       " 'https://upload.wikimedia.org/wikipedia/commons/thumb/c/c4/Walt_Disney_envelope_ca._1921.jpg/220px-Walt_Disney_envelope_ca._1921.jpg',\n",
       " 'https://upload.wikimedia.org/wikipedia/commons/thumb/0/0d/Trolley_Troubles_poster.jpg/170px-Trolley_Troubles_poster.jpg',\n",
       " 'https://upload.wikimedia.org/wikipedia/en/thumb/4/4e/Steamboat-willie.jpg/170px-Steamboat-willie.jpg',\n",
       " 'https://upload.wikimedia.org/wikipedia/commons/thumb/5/57/Walt_Disney_1935.jpg/170px-Walt_Disney_1935.jpg',\n",
       " 'https://upload.wikimedia.org/wikipedia/commons/thumb/c/cd/Walt_Disney_Snow_white_1937_trailer_screenshot_%2813%29.jpg/220px-Walt_Disney_Snow_white_1937_trailer_screenshot_%2813%29.jpg',\n",
       " 'https://upload.wikimedia.org/wikipedia/commons/thumb/1/15/Disney_drawing_goofy.jpg/170px-Disney_drawing_goofy.jpg',\n",
       " 'https://upload.wikimedia.org/wikipedia/commons/thumb/8/8c/WaltDisneyplansDisneylandDec1954.jpg/220px-WaltDisneyplansDisneylandDec1954.jpg',\n",
       " 'https://upload.wikimedia.org/wikipedia/commons/thumb/f/ff/Walt_disney_portrait_right.jpg/170px-Walt_disney_portrait_right.jpg',\n",
       " 'https://upload.wikimedia.org/wikipedia/commons/thumb/1/1a/Walt_Disney_Grave.JPG/170px-Walt_Disney_Grave.JPG',\n",
       " 'https://upload.wikimedia.org/wikipedia/commons/thumb/2/2d/Roy_O._Disney_with_Company_at_Press_Conference.jpg/170px-Roy_O._Disney_with_Company_at_Press_Conference.jpg',\n",
       " 'https://upload.wikimedia.org/wikipedia/commons/thumb/1/13/DisneySchiphol1951.jpg/220px-DisneySchiphol1951.jpg',\n",
       " 'https://upload.wikimedia.org/wikipedia/commons/thumb/6/6c/Disney1968.jpg/170px-Disney1968.jpg',\n",
       " 'https://upload.wikimedia.org/wikipedia/commons/thumb/b/b0/Disney_Oscar_1953_%28cropped%29.jpg/170px-Disney_Oscar_1953_%28cropped%29.jpg',\n",
       " 'https://upload.wikimedia.org/wikipedia/en/thumb/4/4a/Commons-logo.svg/30px-Commons-logo.svg.png',\n",
       " 'https://upload.wikimedia.org/wikipedia/commons/thumb/4/4c/Wikisource-logo.svg/38px-Wikisource-logo.svg.png',\n",
       " 'https://upload.wikimedia.org/wikipedia/commons/thumb/f/fa/Wikiquote-logo.svg/34px-Wikiquote-logo.svg.png',\n",
       " 'https://upload.wikimedia.org/wikipedia/en/thumb/8/8a/OOjs_UI_icon_edit-ltr-progressive.svg/10px-OOjs_UI_icon_edit-ltr-progressive.svg.png',\n",
       " 'https://upload.wikimedia.org/wikipedia/en/thumb/8/8a/OOjs_UI_icon_edit-ltr-progressive.svg/10px-OOjs_UI_icon_edit-ltr-progressive.svg.png',\n",
       " 'https://upload.wikimedia.org/wikipedia/commons/thumb/e/e3/Disneyland_Resort_logo.svg/135px-Disneyland_Resort_logo.svg.png',\n",
       " 'https://upload.wikimedia.org/wikipedia/commons/thumb/d/da/Animation_disc.svg/20px-Animation_disc.svg.png',\n",
       " 'https://upload.wikimedia.org/wikipedia/en/thumb/6/69/P_vip.svg/19px-P_vip.svg.png',\n",
       " 'https://upload.wikimedia.org/wikipedia/commons/thumb/1/1a/Magic_Kingdom_castle.jpg/15px-Magic_Kingdom_castle.jpg',\n",
       " 'https://upload.wikimedia.org/wikipedia/en/thumb/e/e7/Video-x-generic.svg/19px-Video-x-generic.svg.png',\n",
       " 'https://upload.wikimedia.org/wikipedia/commons/thumb/a/a3/Flag_of_Los_Angeles_County%2C_California.svg/21px-Flag_of_Los_Angeles_County%2C_California.svg.png',\n",
       " 'https://upload.wikimedia.org/wikipedia/commons/thumb/8/8c/Blank_television_set.svg/21px-Blank_television_set.svg.png',\n",
       " 'https://upload.wikimedia.org/wikipedia/en/thumb/a/a4/Flag_of_the_United_States.svg/21px-Flag_of_the_United_States.svg.png',\n",
       " 'https://upload.wikimedia.org/wikipedia/en/thumb/4/4a/Commons-logo.svg/14px-Commons-logo.svg.png',\n",
       " 'https://upload.wikimedia.org/wikipedia/commons/thumb/f/fa/Wikiquote-logo.svg/16px-Wikiquote-logo.svg.png',\n",
       " 'https://upload.wikimedia.org/wikipedia/commons/thumb/4/4c/Wikisource-logo.svg/18px-Wikisource-logo.svg.png',\n",
       " 'https://upload.wikimedia.org/wikipedia/commons/thumb/f/ff/Wikidata-logo.svg/21px-Wikidata-logo.svg.png',\n",
       " 'https://upload.wikimedia.org/wikipedia/en/thumb/8/8a/OOjs_UI_icon_edit-ltr-progressive.svg/10px-OOjs_UI_icon_edit-ltr-progressive.svg.png',\n",
       " 'https://en.wikipedia.org/static/images/footer/wikimedia-button.png',\n",
       " 'https://en.wikipedia.org/static/images/footer/poweredby_mediawiki_88x31.png']"
      ]
     },
     "execution_count": 14,
     "metadata": {},
     "output_type": "execute_result"
    }
   ],
   "source": [
    "[e.get_attribute(\"src\") for e in fotos]"
   ]
  },
  {
   "cell_type": "markdown",
   "metadata": {},
   "source": [
    "#### Retrieve an arbitary Wikipedia page of \"Python\" and create a list of links on that page"
   ]
  },
  {
   "cell_type": "code",
   "execution_count": 15,
   "metadata": {},
   "outputs": [],
   "source": [
    "# This is the url you will scrape in this exercise\n",
    "url ='https://en.wikipedia.org/wiki/Python'\n",
    "driver.get(url)"
   ]
  },
  {
   "cell_type": "code",
   "execution_count": 16,
   "metadata": {},
   "outputs": [
    {
     "data": {
      "text/plain": [
       "[<selenium.webdriver.remote.webelement.WebElement (session=\"85f8bfb06b864bd5051a94f7938b1d15\", element=\"ba6e9de0-30e3-4654-93db-a1ff4762a834\")>,\n",
       " <selenium.webdriver.remote.webelement.WebElement (session=\"85f8bfb06b864bd5051a94f7938b1d15\", element=\"14f97a85-135e-4762-96a4-55d63b7e4d05\")>,\n",
       " <selenium.webdriver.remote.webelement.WebElement (session=\"85f8bfb06b864bd5051a94f7938b1d15\", element=\"fdd646cf-cdf9-4f3f-b280-4637479dc210\")>,\n",
       " <selenium.webdriver.remote.webelement.WebElement (session=\"85f8bfb06b864bd5051a94f7938b1d15\", element=\"17d5a510-a104-4b96-8878-9a8548b829d4\")>,\n",
       " <selenium.webdriver.remote.webelement.WebElement (session=\"85f8bfb06b864bd5051a94f7938b1d15\", element=\"8580955b-c8c6-4242-9015-d4747592ccf6\")>,\n",
       " <selenium.webdriver.remote.webelement.WebElement (session=\"85f8bfb06b864bd5051a94f7938b1d15\", element=\"84363ac7-21be-440b-8099-172cfed96b20\")>,\n",
       " <selenium.webdriver.remote.webelement.WebElement (session=\"85f8bfb06b864bd5051a94f7938b1d15\", element=\"24a82d2a-592e-4420-ab23-6519eaa62b7d\")>,\n",
       " <selenium.webdriver.remote.webelement.WebElement (session=\"85f8bfb06b864bd5051a94f7938b1d15\", element=\"334edff4-2895-424d-ac2d-2e9b0d5279ff\")>,\n",
       " <selenium.webdriver.remote.webelement.WebElement (session=\"85f8bfb06b864bd5051a94f7938b1d15\", element=\"08f505cc-55c6-4e67-838b-8cd09d4bb888\")>,\n",
       " <selenium.webdriver.remote.webelement.WebElement (session=\"85f8bfb06b864bd5051a94f7938b1d15\", element=\"f58f2bf0-9afc-4ee7-8788-c21f323118d6\")>,\n",
       " <selenium.webdriver.remote.webelement.WebElement (session=\"85f8bfb06b864bd5051a94f7938b1d15\", element=\"013f4be2-7c6e-4b8b-bdb4-a0011f4ef6c0\")>,\n",
       " <selenium.webdriver.remote.webelement.WebElement (session=\"85f8bfb06b864bd5051a94f7938b1d15\", element=\"437541b4-a614-425a-afad-f0a1d246dd3e\")>,\n",
       " <selenium.webdriver.remote.webelement.WebElement (session=\"85f8bfb06b864bd5051a94f7938b1d15\", element=\"ccd3d0b7-2a1e-40f9-b720-67e200c1aa80\")>,\n",
       " <selenium.webdriver.remote.webelement.WebElement (session=\"85f8bfb06b864bd5051a94f7938b1d15\", element=\"e1dee85e-a87d-4bfc-8ec5-73798ec127c6\")>,\n",
       " <selenium.webdriver.remote.webelement.WebElement (session=\"85f8bfb06b864bd5051a94f7938b1d15\", element=\"03211e94-5c12-4248-8455-adf6ccd4d2a3\")>,\n",
       " <selenium.webdriver.remote.webelement.WebElement (session=\"85f8bfb06b864bd5051a94f7938b1d15\", element=\"37264cfc-99c2-448a-a1c3-f7f969697a39\")>,\n",
       " <selenium.webdriver.remote.webelement.WebElement (session=\"85f8bfb06b864bd5051a94f7938b1d15\", element=\"c43a2721-15a5-4979-b2d0-664d25aafcc9\")>,\n",
       " <selenium.webdriver.remote.webelement.WebElement (session=\"85f8bfb06b864bd5051a94f7938b1d15\", element=\"095fce21-1ba0-4098-ab78-14aa66846256\")>,\n",
       " <selenium.webdriver.remote.webelement.WebElement (session=\"85f8bfb06b864bd5051a94f7938b1d15\", element=\"e25d010b-60ce-473f-b1a9-86da0c762f0c\")>,\n",
       " <selenium.webdriver.remote.webelement.WebElement (session=\"85f8bfb06b864bd5051a94f7938b1d15\", element=\"672e5f43-edca-401d-90b7-66b36f1a0b1d\")>,\n",
       " <selenium.webdriver.remote.webelement.WebElement (session=\"85f8bfb06b864bd5051a94f7938b1d15\", element=\"08ec9938-e8a4-483c-aa09-5964d3307d98\")>,\n",
       " <selenium.webdriver.remote.webelement.WebElement (session=\"85f8bfb06b864bd5051a94f7938b1d15\", element=\"2933eff4-f904-45aa-91ed-c807aa05c5db\")>,\n",
       " <selenium.webdriver.remote.webelement.WebElement (session=\"85f8bfb06b864bd5051a94f7938b1d15\", element=\"1e3cf8eb-1ffd-432f-8375-f194d7f64b82\")>,\n",
       " <selenium.webdriver.remote.webelement.WebElement (session=\"85f8bfb06b864bd5051a94f7938b1d15\", element=\"4523d6fe-4695-446d-b836-54cf9cc54f36\")>,\n",
       " <selenium.webdriver.remote.webelement.WebElement (session=\"85f8bfb06b864bd5051a94f7938b1d15\", element=\"ce599f93-cc78-4b69-9f82-7b7313bc82de\")>,\n",
       " <selenium.webdriver.remote.webelement.WebElement (session=\"85f8bfb06b864bd5051a94f7938b1d15\", element=\"861eff81-4ce4-405f-8c55-0ac28d112e3c\")>,\n",
       " <selenium.webdriver.remote.webelement.WebElement (session=\"85f8bfb06b864bd5051a94f7938b1d15\", element=\"14b0c7a6-3891-4dc7-a4dc-f1dc3c13494f\")>,\n",
       " <selenium.webdriver.remote.webelement.WebElement (session=\"85f8bfb06b864bd5051a94f7938b1d15\", element=\"52cdbfe6-88e8-4209-a759-55c3f775b9bb\")>,\n",
       " <selenium.webdriver.remote.webelement.WebElement (session=\"85f8bfb06b864bd5051a94f7938b1d15\", element=\"28909887-7c22-4f91-8453-1b2f2ef316ef\")>,\n",
       " <selenium.webdriver.remote.webelement.WebElement (session=\"85f8bfb06b864bd5051a94f7938b1d15\", element=\"7e150aaa-b932-40fc-b698-d74f3dd5b36f\")>,\n",
       " <selenium.webdriver.remote.webelement.WebElement (session=\"85f8bfb06b864bd5051a94f7938b1d15\", element=\"0329b31b-4794-44ca-b746-03f02dc1b51d\")>,\n",
       " <selenium.webdriver.remote.webelement.WebElement (session=\"85f8bfb06b864bd5051a94f7938b1d15\", element=\"45774bff-abde-447e-82e0-52065a3b16cc\")>,\n",
       " <selenium.webdriver.remote.webelement.WebElement (session=\"85f8bfb06b864bd5051a94f7938b1d15\", element=\"97cdb29f-d4eb-44fd-abcb-b73bc1a3280f\")>,\n",
       " <selenium.webdriver.remote.webelement.WebElement (session=\"85f8bfb06b864bd5051a94f7938b1d15\", element=\"fb23aea1-b206-4766-b1af-14d40524d565\")>,\n",
       " <selenium.webdriver.remote.webelement.WebElement (session=\"85f8bfb06b864bd5051a94f7938b1d15\", element=\"a28ac487-ec11-41e9-b3bb-6373e09786a6\")>,\n",
       " <selenium.webdriver.remote.webelement.WebElement (session=\"85f8bfb06b864bd5051a94f7938b1d15\", element=\"8c7d4471-2843-49fb-b826-56be91eb10c7\")>,\n",
       " <selenium.webdriver.remote.webelement.WebElement (session=\"85f8bfb06b864bd5051a94f7938b1d15\", element=\"e1912cde-9d7d-4c7c-9b3a-7eeebf2e75b4\")>,\n",
       " <selenium.webdriver.remote.webelement.WebElement (session=\"85f8bfb06b864bd5051a94f7938b1d15\", element=\"0fa8c792-0ab7-4a02-8ba6-0e01b04eb054\")>,\n",
       " <selenium.webdriver.remote.webelement.WebElement (session=\"85f8bfb06b864bd5051a94f7938b1d15\", element=\"533a2938-94fc-4bb6-859c-2f4f370ab397\")>,\n",
       " <selenium.webdriver.remote.webelement.WebElement (session=\"85f8bfb06b864bd5051a94f7938b1d15\", element=\"c46acaa9-9c22-45c8-b1c5-8c19ff2271cf\")>,\n",
       " <selenium.webdriver.remote.webelement.WebElement (session=\"85f8bfb06b864bd5051a94f7938b1d15\", element=\"81bccbcc-e0ef-49c3-b7a9-7199e33c5e78\")>,\n",
       " <selenium.webdriver.remote.webelement.WebElement (session=\"85f8bfb06b864bd5051a94f7938b1d15\", element=\"bfb6ccbe-52ff-4c06-902b-7114ed58e8f2\")>,\n",
       " <selenium.webdriver.remote.webelement.WebElement (session=\"85f8bfb06b864bd5051a94f7938b1d15\", element=\"83b4fa9d-3155-4fe5-84f3-550433028530\")>,\n",
       " <selenium.webdriver.remote.webelement.WebElement (session=\"85f8bfb06b864bd5051a94f7938b1d15\", element=\"c11cfe68-a35a-404b-bb26-14bb950e83d7\")>,\n",
       " <selenium.webdriver.remote.webelement.WebElement (session=\"85f8bfb06b864bd5051a94f7938b1d15\", element=\"a463bebd-f3dc-4d89-ab66-48754fa17a08\")>,\n",
       " <selenium.webdriver.remote.webelement.WebElement (session=\"85f8bfb06b864bd5051a94f7938b1d15\", element=\"98017d85-0663-403d-9174-7834cb07a2f2\")>,\n",
       " <selenium.webdriver.remote.webelement.WebElement (session=\"85f8bfb06b864bd5051a94f7938b1d15\", element=\"9c47ea72-82a0-44b3-b6ee-771136c93c10\")>,\n",
       " <selenium.webdriver.remote.webelement.WebElement (session=\"85f8bfb06b864bd5051a94f7938b1d15\", element=\"620894b2-6a9e-41bb-9ac1-5e10cf66691b\")>,\n",
       " <selenium.webdriver.remote.webelement.WebElement (session=\"85f8bfb06b864bd5051a94f7938b1d15\", element=\"d4542ff0-b645-45d0-8217-c74ca288ef6d\")>,\n",
       " <selenium.webdriver.remote.webelement.WebElement (session=\"85f8bfb06b864bd5051a94f7938b1d15\", element=\"3ac1dc8a-9bc8-4b83-8486-17f6187d9f15\")>,\n",
       " <selenium.webdriver.remote.webelement.WebElement (session=\"85f8bfb06b864bd5051a94f7938b1d15\", element=\"c92891e6-5bb6-402b-b3a7-3f0d6b49e9c9\")>,\n",
       " <selenium.webdriver.remote.webelement.WebElement (session=\"85f8bfb06b864bd5051a94f7938b1d15\", element=\"68081a3b-3427-4ba3-bd19-e5dda33d9b3f\")>,\n",
       " <selenium.webdriver.remote.webelement.WebElement (session=\"85f8bfb06b864bd5051a94f7938b1d15\", element=\"b5ddb613-ea82-4d23-89fd-f02b8607649d\")>,\n",
       " <selenium.webdriver.remote.webelement.WebElement (session=\"85f8bfb06b864bd5051a94f7938b1d15\", element=\"d8ec7020-5886-49aa-b5a6-a80f2c5ad9db\")>,\n",
       " <selenium.webdriver.remote.webelement.WebElement (session=\"85f8bfb06b864bd5051a94f7938b1d15\", element=\"c7b7a2b8-8ca1-4833-8d2d-ed25c8b271fe\")>,\n",
       " <selenium.webdriver.remote.webelement.WebElement (session=\"85f8bfb06b864bd5051a94f7938b1d15\", element=\"c23e7f31-2810-486d-825c-4ba051bac829\")>,\n",
       " <selenium.webdriver.remote.webelement.WebElement (session=\"85f8bfb06b864bd5051a94f7938b1d15\", element=\"62ffb048-0496-4864-97b7-c5af0b0d1e74\")>,\n",
       " <selenium.webdriver.remote.webelement.WebElement (session=\"85f8bfb06b864bd5051a94f7938b1d15\", element=\"31ce6b52-5859-4d4a-b32b-e6b6da5127b5\")>,\n",
       " <selenium.webdriver.remote.webelement.WebElement (session=\"85f8bfb06b864bd5051a94f7938b1d15\", element=\"3ce98a94-d858-4200-819f-8e76981d563c\")>,\n",
       " <selenium.webdriver.remote.webelement.WebElement (session=\"85f8bfb06b864bd5051a94f7938b1d15\", element=\"7b055c1f-ff27-4c9c-a983-520460c60498\")>,\n",
       " <selenium.webdriver.remote.webelement.WebElement (session=\"85f8bfb06b864bd5051a94f7938b1d15\", element=\"f5b5dacb-e44b-4de9-a044-880d662d51f5\")>,\n",
       " <selenium.webdriver.remote.webelement.WebElement (session=\"85f8bfb06b864bd5051a94f7938b1d15\", element=\"d27df30f-e7ce-4f8c-9036-5be51dcd6bda\")>,\n",
       " <selenium.webdriver.remote.webelement.WebElement (session=\"85f8bfb06b864bd5051a94f7938b1d15\", element=\"20e03ed5-588a-4d83-813e-3aaca33b1eb1\")>,\n",
       " <selenium.webdriver.remote.webelement.WebElement (session=\"85f8bfb06b864bd5051a94f7938b1d15\", element=\"76085bb8-0acf-4288-866b-8552cd8bb4c1\")>,\n",
       " <selenium.webdriver.remote.webelement.WebElement (session=\"85f8bfb06b864bd5051a94f7938b1d15\", element=\"01039d09-1989-4e2f-9c98-fb5ea7572078\")>,\n",
       " <selenium.webdriver.remote.webelement.WebElement (session=\"85f8bfb06b864bd5051a94f7938b1d15\", element=\"0c6f067a-6ca3-4596-b056-bd9a2cce390f\")>,\n",
       " <selenium.webdriver.remote.webelement.WebElement (session=\"85f8bfb06b864bd5051a94f7938b1d15\", element=\"16b9eae7-e6b8-499b-adeb-86c22cb262b8\")>,\n",
       " <selenium.webdriver.remote.webelement.WebElement (session=\"85f8bfb06b864bd5051a94f7938b1d15\", element=\"dc49feca-0fbf-4374-b6fc-796333ea6519\")>,\n",
       " <selenium.webdriver.remote.webelement.WebElement (session=\"85f8bfb06b864bd5051a94f7938b1d15\", element=\"007977a7-2a78-40a9-b5d6-939f177b5720\")>,\n",
       " <selenium.webdriver.remote.webelement.WebElement (session=\"85f8bfb06b864bd5051a94f7938b1d15\", element=\"10a9b7be-0f98-476e-a63c-1a383c6fa923\")>,\n",
       " <selenium.webdriver.remote.webelement.WebElement (session=\"85f8bfb06b864bd5051a94f7938b1d15\", element=\"d4b71dc5-55de-4e5e-be3c-8da1bd22e791\")>,\n",
       " <selenium.webdriver.remote.webelement.WebElement (session=\"85f8bfb06b864bd5051a94f7938b1d15\", element=\"063d55b7-6c0d-4da8-9301-3add6f7bae76\")>,\n",
       " <selenium.webdriver.remote.webelement.WebElement (session=\"85f8bfb06b864bd5051a94f7938b1d15\", element=\"9d6bca5f-1563-4e03-844d-599dabfe6cab\")>,\n",
       " <selenium.webdriver.remote.webelement.WebElement (session=\"85f8bfb06b864bd5051a94f7938b1d15\", element=\"75d90f39-b61f-4466-bd25-43f16359c659\")>,\n",
       " <selenium.webdriver.remote.webelement.WebElement (session=\"85f8bfb06b864bd5051a94f7938b1d15\", element=\"a54119a5-6896-4359-bf24-cf05aed6c58d\")>,\n",
       " <selenium.webdriver.remote.webelement.WebElement (session=\"85f8bfb06b864bd5051a94f7938b1d15\", element=\"28f1a9b2-27ee-4026-953e-63a48070f47a\")>,\n",
       " <selenium.webdriver.remote.webelement.WebElement (session=\"85f8bfb06b864bd5051a94f7938b1d15\", element=\"e5b94d67-3fac-4dae-b6a2-7a29b1515288\")>,\n",
       " <selenium.webdriver.remote.webelement.WebElement (session=\"85f8bfb06b864bd5051a94f7938b1d15\", element=\"40463cbd-df6a-4d4f-889d-b3e744d51a1f\")>,\n",
       " <selenium.webdriver.remote.webelement.WebElement (session=\"85f8bfb06b864bd5051a94f7938b1d15\", element=\"b00e93f0-67ea-439b-8c7b-ff23a2b8439d\")>,\n",
       " <selenium.webdriver.remote.webelement.WebElement (session=\"85f8bfb06b864bd5051a94f7938b1d15\", element=\"349350f6-00c2-49ce-bb11-4faab171a2f2\")>,\n",
       " <selenium.webdriver.remote.webelement.WebElement (session=\"85f8bfb06b864bd5051a94f7938b1d15\", element=\"fd0a65de-00f3-4365-93cd-3785993946bc\")>,\n",
       " <selenium.webdriver.remote.webelement.WebElement (session=\"85f8bfb06b864bd5051a94f7938b1d15\", element=\"7f8c7b95-b09b-4822-84d3-d0ecdd39c148\")>,\n",
       " <selenium.webdriver.remote.webelement.WebElement (session=\"85f8bfb06b864bd5051a94f7938b1d15\", element=\"019c5128-c0e0-4d2a-a05f-192730e35c01\")>,\n",
       " <selenium.webdriver.remote.webelement.WebElement (session=\"85f8bfb06b864bd5051a94f7938b1d15\", element=\"b0989c0c-35d6-4f1a-b2db-1ae0cb9642e2\")>,\n",
       " <selenium.webdriver.remote.webelement.WebElement (session=\"85f8bfb06b864bd5051a94f7938b1d15\", element=\"5aa72e33-3273-4145-82a4-09fd98c6e45a\")>,\n",
       " <selenium.webdriver.remote.webelement.WebElement (session=\"85f8bfb06b864bd5051a94f7938b1d15\", element=\"eea194df-b7fa-4ade-92a9-43a905478c43\")>,\n",
       " <selenium.webdriver.remote.webelement.WebElement (session=\"85f8bfb06b864bd5051a94f7938b1d15\", element=\"ab307eac-981b-49ed-b0bb-b4137237d5e6\")>,\n",
       " <selenium.webdriver.remote.webelement.WebElement (session=\"85f8bfb06b864bd5051a94f7938b1d15\", element=\"5234935b-65b6-412d-9616-849a4819ae4b\")>,\n",
       " <selenium.webdriver.remote.webelement.WebElement (session=\"85f8bfb06b864bd5051a94f7938b1d15\", element=\"27b52755-87f8-4742-9411-f2dcd2bf9f59\")>,\n",
       " <selenium.webdriver.remote.webelement.WebElement (session=\"85f8bfb06b864bd5051a94f7938b1d15\", element=\"f259c58c-b572-41e8-a79a-5d9b5e0b1a77\")>,\n",
       " <selenium.webdriver.remote.webelement.WebElement (session=\"85f8bfb06b864bd5051a94f7938b1d15\", element=\"30b92113-d721-4d53-83ac-fa7674ea1075\")>,\n",
       " <selenium.webdriver.remote.webelement.WebElement (session=\"85f8bfb06b864bd5051a94f7938b1d15\", element=\"560a73bc-0bb6-4770-ac20-0294984cc7cf\")>,\n",
       " <selenium.webdriver.remote.webelement.WebElement (session=\"85f8bfb06b864bd5051a94f7938b1d15\", element=\"9ee448a9-3f85-40b3-aab1-76684449bd1a\")>,\n",
       " <selenium.webdriver.remote.webelement.WebElement (session=\"85f8bfb06b864bd5051a94f7938b1d15\", element=\"add913f5-b7b9-46fe-b744-47f2b9889249\")>,\n",
       " <selenium.webdriver.remote.webelement.WebElement (session=\"85f8bfb06b864bd5051a94f7938b1d15\", element=\"84758eb6-b9aa-42dd-8b98-8d9df61f74e5\")>,\n",
       " <selenium.webdriver.remote.webelement.WebElement (session=\"85f8bfb06b864bd5051a94f7938b1d15\", element=\"8f76dca4-d6f0-4f44-9555-2bc220441083\")>,\n",
       " <selenium.webdriver.remote.webelement.WebElement (session=\"85f8bfb06b864bd5051a94f7938b1d15\", element=\"73a32fca-b262-4688-abcf-53b9f6ace0f7\")>,\n",
       " <selenium.webdriver.remote.webelement.WebElement (session=\"85f8bfb06b864bd5051a94f7938b1d15\", element=\"b1b9b7c8-a14e-49db-baab-40e6ae653422\")>,\n",
       " <selenium.webdriver.remote.webelement.WebElement (session=\"85f8bfb06b864bd5051a94f7938b1d15\", element=\"a75459b4-f495-4975-b359-63123b7ab874\")>,\n",
       " <selenium.webdriver.remote.webelement.WebElement (session=\"85f8bfb06b864bd5051a94f7938b1d15\", element=\"86b4051f-8cb3-42a1-b2a9-a13607aa7ee2\")>,\n",
       " <selenium.webdriver.remote.webelement.WebElement (session=\"85f8bfb06b864bd5051a94f7938b1d15\", element=\"d2ee8f1c-1d26-404d-8e55-79304699fef0\")>,\n",
       " <selenium.webdriver.remote.webelement.WebElement (session=\"85f8bfb06b864bd5051a94f7938b1d15\", element=\"310cc1d1-0c5a-4d53-902e-81778c10c025\")>,\n",
       " <selenium.webdriver.remote.webelement.WebElement (session=\"85f8bfb06b864bd5051a94f7938b1d15\", element=\"c9a24fd5-a21d-4ce6-8de4-006c9fc295e0\")>,\n",
       " <selenium.webdriver.remote.webelement.WebElement (session=\"85f8bfb06b864bd5051a94f7938b1d15\", element=\"554f09da-9ff9-4e6f-bcb4-8e6d6c39c481\")>,\n",
       " <selenium.webdriver.remote.webelement.WebElement (session=\"85f8bfb06b864bd5051a94f7938b1d15\", element=\"95dcbce1-1e66-4e80-8688-08540369d62f\")>,\n",
       " <selenium.webdriver.remote.webelement.WebElement (session=\"85f8bfb06b864bd5051a94f7938b1d15\", element=\"94a95b23-a307-4b83-94e4-24f970a38932\")>,\n",
       " <selenium.webdriver.remote.webelement.WebElement (session=\"85f8bfb06b864bd5051a94f7938b1d15\", element=\"d77e3d02-359c-48a6-8a03-27ff1d685e87\")>,\n",
       " <selenium.webdriver.remote.webelement.WebElement (session=\"85f8bfb06b864bd5051a94f7938b1d15\", element=\"5b48f11e-b63b-4273-ad7f-c74dd82191eb\")>,\n",
       " <selenium.webdriver.remote.webelement.WebElement (session=\"85f8bfb06b864bd5051a94f7938b1d15\", element=\"a3c87f9f-94bc-4310-83f6-3f37b61ebbfa\")>,\n",
       " <selenium.webdriver.remote.webelement.WebElement (session=\"85f8bfb06b864bd5051a94f7938b1d15\", element=\"e21f344f-330f-4a9c-a845-7da740512476\")>,\n",
       " <selenium.webdriver.remote.webelement.WebElement (session=\"85f8bfb06b864bd5051a94f7938b1d15\", element=\"ac1674c5-36ec-41fa-a832-d805ef935752\")>,\n",
       " <selenium.webdriver.remote.webelement.WebElement (session=\"85f8bfb06b864bd5051a94f7938b1d15\", element=\"ca171cc6-0e15-49a1-bb23-1653a1bb918d\")>,\n",
       " <selenium.webdriver.remote.webelement.WebElement (session=\"85f8bfb06b864bd5051a94f7938b1d15\", element=\"f8fc96d2-132b-45a2-8e82-f284960e9b3b\")>,\n",
       " <selenium.webdriver.remote.webelement.WebElement (session=\"85f8bfb06b864bd5051a94f7938b1d15\", element=\"0e559ef5-392c-4f5b-a477-4db80b3cc661\")>,\n",
       " <selenium.webdriver.remote.webelement.WebElement (session=\"85f8bfb06b864bd5051a94f7938b1d15\", element=\"537cc7a2-99f2-4fc3-99e6-8628abeb1f6e\")>,\n",
       " <selenium.webdriver.remote.webelement.WebElement (session=\"85f8bfb06b864bd5051a94f7938b1d15\", element=\"8191369e-42ce-41c6-abf6-6df5c4d3ed79\")>,\n",
       " <selenium.webdriver.remote.webelement.WebElement (session=\"85f8bfb06b864bd5051a94f7938b1d15\", element=\"e5a3e44a-017c-4274-a43b-75eba0d85217\")>,\n",
       " <selenium.webdriver.remote.webelement.WebElement (session=\"85f8bfb06b864bd5051a94f7938b1d15\", element=\"12b8ada7-a478-4170-a55e-54f58717cf2a\")>,\n",
       " <selenium.webdriver.remote.webelement.WebElement (session=\"85f8bfb06b864bd5051a94f7938b1d15\", element=\"920c7833-d299-4049-ba46-2772fff797c6\")>,\n",
       " <selenium.webdriver.remote.webelement.WebElement (session=\"85f8bfb06b864bd5051a94f7938b1d15\", element=\"291a6ae6-a831-4523-ae84-f00b73b4e60e\")>,\n",
       " <selenium.webdriver.remote.webelement.WebElement (session=\"85f8bfb06b864bd5051a94f7938b1d15\", element=\"b3b95ee3-1c66-4986-94b2-bd8fedcf93b5\")>,\n",
       " <selenium.webdriver.remote.webelement.WebElement (session=\"85f8bfb06b864bd5051a94f7938b1d15\", element=\"84488bab-2575-4def-841e-8921665cc189\")>,\n",
       " <selenium.webdriver.remote.webelement.WebElement (session=\"85f8bfb06b864bd5051a94f7938b1d15\", element=\"25b00b4d-3eb0-41b5-bfd1-98779499fe4f\")>,\n",
       " <selenium.webdriver.remote.webelement.WebElement (session=\"85f8bfb06b864bd5051a94f7938b1d15\", element=\"86259b23-4147-4285-9daa-0023aec3f83f\")>,\n",
       " <selenium.webdriver.remote.webelement.WebElement (session=\"85f8bfb06b864bd5051a94f7938b1d15\", element=\"c1c63923-711c-422f-83f6-d7b41a34ee01\")>,\n",
       " <selenium.webdriver.remote.webelement.WebElement (session=\"85f8bfb06b864bd5051a94f7938b1d15\", element=\"ce72de47-c775-44a4-81e9-4929ebf7fd0f\")>,\n",
       " <selenium.webdriver.remote.webelement.WebElement (session=\"85f8bfb06b864bd5051a94f7938b1d15\", element=\"0547cd13-f7a1-4713-a0b5-2327691ec046\")>,\n",
       " <selenium.webdriver.remote.webelement.WebElement (session=\"85f8bfb06b864bd5051a94f7938b1d15\", element=\"87f5468c-c193-41e9-931b-8a8fa80dfac8\")>,\n",
       " <selenium.webdriver.remote.webelement.WebElement (session=\"85f8bfb06b864bd5051a94f7938b1d15\", element=\"c8a5a8bc-bad4-4854-b4ed-68352e8d3195\")>,\n",
       " <selenium.webdriver.remote.webelement.WebElement (session=\"85f8bfb06b864bd5051a94f7938b1d15\", element=\"049520dd-2f0d-4298-9d52-7f182a277d09\")>,\n",
       " <selenium.webdriver.remote.webelement.WebElement (session=\"85f8bfb06b864bd5051a94f7938b1d15\", element=\"760970d8-e563-4e15-9502-6308c961421d\")>,\n",
       " <selenium.webdriver.remote.webelement.WebElement (session=\"85f8bfb06b864bd5051a94f7938b1d15\", element=\"5e487c0e-4f8e-4fca-8356-7bcc493d9f15\")>,\n",
       " <selenium.webdriver.remote.webelement.WebElement (session=\"85f8bfb06b864bd5051a94f7938b1d15\", element=\"8f0c9bfd-1af4-4656-b054-d3db0137044c\")>,\n",
       " <selenium.webdriver.remote.webelement.WebElement (session=\"85f8bfb06b864bd5051a94f7938b1d15\", element=\"426abdde-be6d-4125-add9-428d2238711f\")>,\n",
       " <selenium.webdriver.remote.webelement.WebElement (session=\"85f8bfb06b864bd5051a94f7938b1d15\", element=\"b22d09ff-45d0-48ea-bea7-9be8f2b92013\")>,\n",
       " <selenium.webdriver.remote.webelement.WebElement (session=\"85f8bfb06b864bd5051a94f7938b1d15\", element=\"8d40f98c-e3b4-4629-8b17-460e6dbb6dc3\")>,\n",
       " <selenium.webdriver.remote.webelement.WebElement (session=\"85f8bfb06b864bd5051a94f7938b1d15\", element=\"e5c5fddd-d839-4da1-b2bd-f079282880cd\")>,\n",
       " <selenium.webdriver.remote.webelement.WebElement (session=\"85f8bfb06b864bd5051a94f7938b1d15\", element=\"d9be970a-8208-4f01-ad69-a5f08c42ebea\")>,\n",
       " <selenium.webdriver.remote.webelement.WebElement (session=\"85f8bfb06b864bd5051a94f7938b1d15\", element=\"2d3d271f-9349-4473-9c75-4edbdfe814f0\")>,\n",
       " <selenium.webdriver.remote.webelement.WebElement (session=\"85f8bfb06b864bd5051a94f7938b1d15\", element=\"d58402ba-1f8d-4a21-b236-e5db639dc763\")>,\n",
       " <selenium.webdriver.remote.webelement.WebElement (session=\"85f8bfb06b864bd5051a94f7938b1d15\", element=\"b0b179e4-6a5f-4ec6-bae6-84c48a537081\")>,\n",
       " <selenium.webdriver.remote.webelement.WebElement (session=\"85f8bfb06b864bd5051a94f7938b1d15\", element=\"45c88d26-cae8-46b6-8155-0dd2bb2aba87\")>,\n",
       " <selenium.webdriver.remote.webelement.WebElement (session=\"85f8bfb06b864bd5051a94f7938b1d15\", element=\"e8e10cc8-3936-47fc-8f52-55d0b8a39ef6\")>,\n",
       " <selenium.webdriver.remote.webelement.WebElement (session=\"85f8bfb06b864bd5051a94f7938b1d15\", element=\"2ede4db3-b84d-4aa8-9de2-13ea554baae4\")>,\n",
       " <selenium.webdriver.remote.webelement.WebElement (session=\"85f8bfb06b864bd5051a94f7938b1d15\", element=\"2749247a-c079-48dd-9d80-dc645f9fb64a\")>,\n",
       " <selenium.webdriver.remote.webelement.WebElement (session=\"85f8bfb06b864bd5051a94f7938b1d15\", element=\"74372ef0-7428-43fc-91d9-e3b223cd3ff0\")>,\n",
       " <selenium.webdriver.remote.webelement.WebElement (session=\"85f8bfb06b864bd5051a94f7938b1d15\", element=\"541b57cc-a2c2-4d7b-a413-7026697a05e8\")>,\n",
       " <selenium.webdriver.remote.webelement.WebElement (session=\"85f8bfb06b864bd5051a94f7938b1d15\", element=\"db8a0ad1-7169-4359-be9f-97a7367f74af\")>,\n",
       " <selenium.webdriver.remote.webelement.WebElement (session=\"85f8bfb06b864bd5051a94f7938b1d15\", element=\"81c23e24-b4c1-4ece-b797-3888f6579977\")>,\n",
       " <selenium.webdriver.remote.webelement.WebElement (session=\"85f8bfb06b864bd5051a94f7938b1d15\", element=\"2192a4f7-2b40-4589-9885-f4074cf1dfe5\")>,\n",
       " <selenium.webdriver.remote.webelement.WebElement (session=\"85f8bfb06b864bd5051a94f7938b1d15\", element=\"ac1c06d2-5713-4ba0-a79b-6812d6d2f790\")>,\n",
       " <selenium.webdriver.remote.webelement.WebElement (session=\"85f8bfb06b864bd5051a94f7938b1d15\", element=\"948abb2a-5d5e-42a4-8119-ebf64713a4ba\")>,\n",
       " <selenium.webdriver.remote.webelement.WebElement (session=\"85f8bfb06b864bd5051a94f7938b1d15\", element=\"ccaad13a-6105-4275-b017-26ef21a729ab\")>,\n",
       " <selenium.webdriver.remote.webelement.WebElement (session=\"85f8bfb06b864bd5051a94f7938b1d15\", element=\"0e0afdea-f9a6-4869-bd03-e3eba1b78b65\")>,\n",
       " <selenium.webdriver.remote.webelement.WebElement (session=\"85f8bfb06b864bd5051a94f7938b1d15\", element=\"c23bdfe1-5141-4e19-ab4a-0e7393cc6c58\")>,\n",
       " <selenium.webdriver.remote.webelement.WebElement (session=\"85f8bfb06b864bd5051a94f7938b1d15\", element=\"651efeec-b043-4518-bb19-d43c6dcd8e1f\")>,\n",
       " <selenium.webdriver.remote.webelement.WebElement (session=\"85f8bfb06b864bd5051a94f7938b1d15\", element=\"0d9a8d67-5f79-483d-88d3-f7046cfc1564\")>,\n",
       " <selenium.webdriver.remote.webelement.WebElement (session=\"85f8bfb06b864bd5051a94f7938b1d15\", element=\"9a0a1778-83c0-4591-8c6f-f870268b2345\")>,\n",
       " <selenium.webdriver.remote.webelement.WebElement (session=\"85f8bfb06b864bd5051a94f7938b1d15\", element=\"272fbdb4-1109-458b-baad-f035d744a21c\")>,\n",
       " <selenium.webdriver.remote.webelement.WebElement (session=\"85f8bfb06b864bd5051a94f7938b1d15\", element=\"40664f25-e9b8-48bc-8eda-e5c1be310cfc\")>,\n",
       " <selenium.webdriver.remote.webelement.WebElement (session=\"85f8bfb06b864bd5051a94f7938b1d15\", element=\"ac6e00bf-9f28-4d27-8124-5defbc0c11e1\")>]"
      ]
     },
     "execution_count": 16,
     "metadata": {},
     "output_type": "execute_result"
    }
   ],
   "source": [
    "#your code\n",
    "resultado = driver.find_elements(By.TAG_NAME, 'a')\n",
    "resultado"
   ]
  },
  {
   "cell_type": "code",
   "execution_count": 17,
   "metadata": {},
   "outputs": [
    {
     "data": {
      "text/plain": [
       "['https://en.wikipedia.org/wiki/Python#bodyContent',\n",
       " 'https://en.wikipedia.org/wiki/Main_Page',\n",
       " 'https://en.wikipedia.org/wiki/Wikipedia:Contents',\n",
       " 'https://en.wikipedia.org/wiki/Portal:Current_events',\n",
       " 'https://en.wikipedia.org/wiki/Special:Random',\n",
       " 'https://en.wikipedia.org/wiki/Wikipedia:About',\n",
       " 'https://en.wikipedia.org/wiki/Wikipedia:Contact_us',\n",
       " 'https://donate.wikimedia.org/wiki/Special:FundraiserRedirector?utm_source=donate&utm_medium=sidebar&utm_campaign=C13_en.wikipedia.org&uselang=en',\n",
       " 'https://en.wikipedia.org/wiki/Help:Contents',\n",
       " 'https://en.wikipedia.org/wiki/Help:Introduction',\n",
       " 'https://en.wikipedia.org/wiki/Wikipedia:Community_portal',\n",
       " 'https://en.wikipedia.org/wiki/Special:RecentChanges',\n",
       " 'https://en.wikipedia.org/wiki/Wikipedia:File_upload_wizard',\n",
       " 'https://en.wikipedia.org/wiki/Main_Page',\n",
       " 'https://en.wikipedia.org/wiki/Special:Search',\n",
       " 'https://en.wikipedia.org/w/index.php?title=Special:CreateAccount&returnto=Python',\n",
       " 'https://en.wikipedia.org/w/index.php?title=Special:UserLogin&returnto=Python',\n",
       " 'https://en.wikipedia.org/w/index.php?title=Special:CreateAccount&returnto=Python',\n",
       " 'https://en.wikipedia.org/w/index.php?title=Special:UserLogin&returnto=Python',\n",
       " 'https://en.wikipedia.org/wiki/Help:Introduction',\n",
       " 'https://en.wikipedia.org/wiki/Special:MyContributions',\n",
       " 'https://en.wikipedia.org/wiki/Special:MyTalk',\n",
       " 'https://en.wikipedia.org/wiki/Python#',\n",
       " 'https://en.wikipedia.org/wiki/Python#Snakes',\n",
       " 'https://en.wikipedia.org/wiki/Python#Computing',\n",
       " 'https://en.wikipedia.org/wiki/Python#People',\n",
       " 'https://en.wikipedia.org/wiki/Python#Roller_coasters',\n",
       " 'https://en.wikipedia.org/wiki/Python#Vehicles',\n",
       " 'https://en.wikipedia.org/wiki/Python#Weaponry',\n",
       " 'https://en.wikipedia.org/wiki/Python#Other_uses',\n",
       " 'https://en.wikipedia.org/wiki/Python#See_also',\n",
       " 'https://af.wikipedia.org/wiki/Python',\n",
       " 'https://als.wikipedia.org/wiki/Python',\n",
       " 'https://ar.wikipedia.org/wiki/%D8%A8%D8%A7%D9%8A%D8%AB%D9%88%D9%86_(%D8%AA%D9%88%D8%B6%D9%8A%D8%AD)',\n",
       " 'https://az.wikipedia.org/wiki/Python_(d%C9%99qiql%C9%99%C5%9Fdirm%C9%99)',\n",
       " 'https://bn.wikipedia.org/wiki/%E0%A6%AA%E0%A6%BE%E0%A6%87%E0%A6%A5%E0%A6%A8_(%E0%A6%A6%E0%A7%8D%E0%A6%AC%E0%A7%8D%E0%A6%AF%E0%A6%B0%E0%A7%8D%E0%A6%A5%E0%A6%A4%E0%A6%BE_%E0%A6%A8%E0%A6%BF%E0%A6%B0%E0%A6%B8%E0%A6%A8)',\n",
       " 'https://be.wikipedia.org/wiki/Python',\n",
       " 'https://bg.wikipedia.org/wiki/%D0%9F%D0%B8%D1%82%D0%BE%D0%BD_(%D0%BF%D0%BE%D1%8F%D1%81%D0%BD%D0%B5%D0%BD%D0%B8%D0%B5)',\n",
       " 'https://cs.wikipedia.org/wiki/Python_(rozcestn%C3%ADk)',\n",
       " 'https://da.wikipedia.org/wiki/Python',\n",
       " 'https://de.wikipedia.org/wiki/Python',\n",
       " 'https://eo.wikipedia.org/wiki/Pitono_(apartigilo)',\n",
       " 'https://eu.wikipedia.org/wiki/Python_(argipena)',\n",
       " 'https://fa.wikipedia.org/wiki/%D9%BE%D8%A7%DB%8C%D8%AA%D9%88%D9%86',\n",
       " 'https://fr.wikipedia.org/wiki/Python',\n",
       " 'https://ko.wikipedia.org/wiki/%ED%8C%8C%EC%9D%B4%EC%84%A0',\n",
       " 'https://hr.wikipedia.org/wiki/Python_(razdvojba)',\n",
       " 'https://io.wikipedia.org/wiki/Pitono',\n",
       " 'https://id.wikipedia.org/wiki/Python',\n",
       " 'https://ia.wikipedia.org/wiki/Python_(disambiguation)',\n",
       " 'https://is.wikipedia.org/wiki/Python_(a%C3%B0greining)',\n",
       " 'https://it.wikipedia.org/wiki/Python_(disambigua)',\n",
       " 'https://he.wikipedia.org/wiki/%D7%A4%D7%99%D7%AA%D7%95%D7%9F',\n",
       " 'https://ka.wikipedia.org/wiki/%E1%83%9E%E1%83%98%E1%83%97%E1%83%9D%E1%83%9C%E1%83%98_(%E1%83%9B%E1%83%A0%E1%83%90%E1%83%95%E1%83%90%E1%83%9A%E1%83%9B%E1%83%9C%E1%83%98%E1%83%A8%E1%83%95%E1%83%9C%E1%83%94%E1%83%9A%E1%83%9D%E1%83%95%E1%83%90%E1%83%9C%E1%83%98)',\n",
       " 'https://kg.wikipedia.org/wiki/Mboma_(nyoka)',\n",
       " 'https://la.wikipedia.org/wiki/Python_(discretiva)',\n",
       " 'https://lb.wikipedia.org/wiki/Python',\n",
       " 'https://hu.wikipedia.org/wiki/Python_(egy%C3%A9rtelm%C5%B1s%C3%ADt%C5%91_lap)',\n",
       " 'https://mr.wikipedia.org/wiki/%E0%A4%AA%E0%A4%BE%E0%A4%AF%E0%A4%A5%E0%A5%89%E0%A4%A8_(%E0%A4%86%E0%A4%9C%E0%A5%8D%E0%A4%9E%E0%A4%BE%E0%A4%B5%E0%A4%B2%E0%A5%80_%E0%A4%AD%E0%A4%BE%E0%A4%B7%E0%A4%BE)',\n",
       " 'https://nl.wikipedia.org/wiki/Python',\n",
       " 'https://ja.wikipedia.org/wiki/%E3%83%91%E3%82%A4%E3%82%BD%E3%83%B3',\n",
       " 'https://no.wikipedia.org/wiki/Pyton',\n",
       " 'https://pl.wikipedia.org/wiki/Pyton',\n",
       " 'https://pt.wikipedia.org/wiki/Python_(desambigua%C3%A7%C3%A3o)',\n",
       " 'https://ru.wikipedia.org/wiki/Python_(%D0%B7%D0%BD%D0%B0%D1%87%D0%B5%D0%BD%D0%B8%D1%8F)',\n",
       " 'https://sk.wikipedia.org/wiki/Python',\n",
       " 'https://sr.wikipedia.org/wiki/%D0%9F%D0%B8%D1%82%D0%BE%D0%BD_(%D0%B2%D0%B8%D1%88%D0%B5%D0%B7%D0%BD%D0%B0%D1%87%D0%BD%D0%B0_%D0%BE%D0%B4%D1%80%D0%B5%D0%B4%D0%BD%D0%B8%D1%86%D0%B0)',\n",
       " 'https://sh.wikipedia.org/wiki/Python',\n",
       " 'https://fi.wikipedia.org/wiki/Python',\n",
       " 'https://sv.wikipedia.org/wiki/Pyton',\n",
       " 'https://th.wikipedia.org/wiki/%E0%B9%84%E0%B8%9E%E0%B8%97%E0%B8%AD%E0%B8%99',\n",
       " 'https://tr.wikipedia.org/wiki/Python_(anlam_ayr%C4%B1m%C4%B1)',\n",
       " 'https://uk.wikipedia.org/wiki/%D0%9F%D1%96%D1%84%D0%BE%D0%BD',\n",
       " 'https://ur.wikipedia.org/wiki/%D9%BE%D8%A7%D8%A6%DB%8C%D8%AA%DA%BE%D9%88%D9%86',\n",
       " 'https://vi.wikipedia.org/wiki/Python',\n",
       " 'https://zh.wikipedia.org/wiki/Python_(%E6%B6%88%E6%AD%A7%E4%B9%89)',\n",
       " 'https://www.wikidata.org/wiki/Special:EntityPage/Q747452#sitelinks-wikipedia',\n",
       " 'https://en.wikipedia.org/wiki/Python',\n",
       " 'https://en.wikipedia.org/wiki/Talk:Python',\n",
       " 'https://en.wikipedia.org/wiki/Python',\n",
       " 'https://en.wikipedia.org/w/index.php?title=Python&action=edit&editintro=Template:Disambig_editintro',\n",
       " 'https://en.wikipedia.org/w/index.php?title=Python&action=history',\n",
       " 'https://en.wikipedia.org/wiki/Python',\n",
       " 'https://en.wikipedia.org/w/index.php?title=Python&action=edit',\n",
       " 'https://en.wikipedia.org/w/index.php?title=Python&action=history',\n",
       " 'https://en.wikipedia.org/wiki/Special:WhatLinksHere/Python',\n",
       " 'https://en.wikipedia.org/wiki/Special:RecentChangesLinked/Python',\n",
       " 'https://en.wikipedia.org/wiki/Wikipedia:File_Upload_Wizard',\n",
       " 'https://en.wikipedia.org/wiki/Special:SpecialPages',\n",
       " 'https://en.wikipedia.org/w/index.php?title=Python&oldid=1148531488',\n",
       " 'https://en.wikipedia.org/w/index.php?title=Python&action=info',\n",
       " 'https://en.wikipedia.org/w/index.php?title=Special:CiteThisPage&page=Python&id=1148531488&wpFormIdentifier=titleform',\n",
       " 'https://www.wikidata.org/wiki/Special:EntityPage/Q747452',\n",
       " 'https://www.wikidata.org/wiki/Special:EntityPage/Q747452#sitelinks-wikipedia',\n",
       " 'https://en.wikipedia.org/w/index.php?title=Special:DownloadAsPdf&page=Python&action=show-download-screen',\n",
       " 'https://en.wikipedia.org/w/index.php?title=Python&printable=yes',\n",
       " 'https://commons.wikimedia.org/wiki/Category:Python',\n",
       " 'https://en.wiktionary.org/wiki/Python',\n",
       " 'https://en.wiktionary.org/wiki/python',\n",
       " 'https://en.wikipedia.org/w/index.php?title=Python&action=edit&section=1&editintro=Template:Disambig_editintro',\n",
       " 'https://en.wikipedia.org/wiki/Pythonidae',\n",
       " 'https://en.wikipedia.org/wiki/Python_(genus)',\n",
       " 'https://en.wikipedia.org/wiki/Python_(mythology)',\n",
       " 'https://en.wikipedia.org/w/index.php?title=Python&action=edit&section=2&editintro=Template:Disambig_editintro',\n",
       " 'https://en.wikipedia.org/wiki/Python_(programming_language)',\n",
       " 'https://en.wikipedia.org/wiki/CMU_Common_Lisp',\n",
       " 'https://en.wikipedia.org/wiki/PERQ#PERQ_3',\n",
       " 'https://en.wikipedia.org/w/index.php?title=Python&action=edit&section=3&editintro=Template:Disambig_editintro',\n",
       " 'https://en.wikipedia.org/wiki/Python_of_Aenus',\n",
       " 'https://en.wikipedia.org/wiki/Python_(painter)',\n",
       " 'https://en.wikipedia.org/wiki/Python_of_Byzantium',\n",
       " 'https://en.wikipedia.org/wiki/Python_of_Catana',\n",
       " 'https://en.wikipedia.org/wiki/Python_Anghelo',\n",
       " 'https://en.wikipedia.org/w/index.php?title=Python&action=edit&section=4&editintro=Template:Disambig_editintro',\n",
       " 'https://en.wikipedia.org/wiki/Python_(Efteling)',\n",
       " 'https://en.wikipedia.org/wiki/Python_(Busch_Gardens_Tampa_Bay)',\n",
       " 'https://en.wikipedia.org/wiki/Python_(Coney_Island,_Cincinnati,_Ohio)',\n",
       " 'https://en.wikipedia.org/w/index.php?title=Python&action=edit&section=5&editintro=Template:Disambig_editintro',\n",
       " 'https://en.wikipedia.org/wiki/Python_(automobile_maker)',\n",
       " 'https://en.wikipedia.org/wiki/Python_(Ford_prototype)',\n",
       " 'https://en.wikipedia.org/w/index.php?title=Python&action=edit&section=6&editintro=Template:Disambig_editintro',\n",
       " 'https://en.wikipedia.org/wiki/Python_(missile)',\n",
       " 'https://en.wikipedia.org/wiki/Python_(nuclear_primary)',\n",
       " 'https://en.wikipedia.org/wiki/Colt_Python',\n",
       " 'https://en.wikipedia.org/w/index.php?title=Python&action=edit&section=7&editintro=Template:Disambig_editintro',\n",
       " 'https://en.wikipedia.org/wiki/Python_(codename)',\n",
       " 'https://en.wikipedia.org/wiki/Python_(film)',\n",
       " 'https://en.wikipedia.org/wiki/Monty_Python',\n",
       " 'https://en.wikipedia.org/wiki/Python_(Monty)_Pictures',\n",
       " 'https://en.wikipedia.org/wiki/Timon_of_Phlius',\n",
       " 'https://en.wikipedia.org/w/index.php?title=Python&action=edit&section=8&editintro=Template:Disambig_editintro',\n",
       " 'https://en.wikipedia.org/wiki/Pyton',\n",
       " 'https://en.wikipedia.org/wiki/Pithon',\n",
       " 'https://en.wikipedia.org/wiki/File:Disambig_gray.svg',\n",
       " 'https://en.wikipedia.org/wiki/Help:Disambiguation',\n",
       " 'https://en.wikipedia.org/w/index.php?title=Special:WhatLinksHere/Python&namespace=0',\n",
       " 'https://en.wikipedia.org/w/index.php?title=Python&oldid=1148531488',\n",
       " 'https://en.wikipedia.org/wiki/Help:Category',\n",
       " 'https://en.wikipedia.org/wiki/Category:Disambiguation_pages',\n",
       " 'https://en.wikipedia.org/wiki/Category:Human_name_disambiguation_pages',\n",
       " 'https://en.wikipedia.org/wiki/Category:Disambiguation_pages_with_given-name-holder_lists',\n",
       " 'https://en.wikipedia.org/wiki/Category:Short_description_is_different_from_Wikidata',\n",
       " 'https://en.wikipedia.org/wiki/Category:All_article_disambiguation_pages',\n",
       " 'https://en.wikipedia.org/wiki/Category:All_disambiguation_pages',\n",
       " 'https://en.wikipedia.org/wiki/Category:Animal_common_name_disambiguation_pages',\n",
       " 'https://en.wikipedia.org/wiki/Wikipedia:Text_of_the_Creative_Commons_Attribution-ShareAlike_3.0_Unported_License',\n",
       " 'https://creativecommons.org/licenses/by-sa/3.0/',\n",
       " 'https://foundation.wikimedia.org/wiki/Terms_of_Use',\n",
       " 'https://foundation.wikimedia.org/wiki/Privacy_policy',\n",
       " 'https://www.wikimediafoundation.org/',\n",
       " 'https://foundation.wikimedia.org/wiki/Privacy_policy',\n",
       " 'https://en.wikipedia.org/wiki/Wikipedia:About',\n",
       " 'https://en.wikipedia.org/wiki/Wikipedia:General_disclaimer',\n",
       " 'https://en.wikipedia.org/wiki/Wikipedia:Contact_us',\n",
       " 'https://en.m.wikipedia.org/w/index.php?title=Python&mobileaction=toggle_view_mobile',\n",
       " 'https://developer.wikimedia.org/',\n",
       " 'https://stats.wikimedia.org/#/en.wikipedia.org',\n",
       " 'https://foundation.wikimedia.org/wiki/Cookie_statement',\n",
       " 'https://en.wikipedia.org/wiki/Python#',\n",
       " 'https://wikimediafoundation.org/',\n",
       " 'https://www.mediawiki.org/']"
      ]
     },
     "execution_count": 17,
     "metadata": {},
     "output_type": "execute_result"
    }
   ],
   "source": [
    "[e.get_attribute(\"href\") for e in resultado]\n"
   ]
  },
  {
   "cell_type": "markdown",
   "metadata": {},
   "source": [
    "#### Number of Titles that have changed in the United States Code since its last release point "
   ]
  },
  {
   "cell_type": "code",
   "execution_count": 18,
   "metadata": {},
   "outputs": [],
   "source": [
    "# This is the url you will scrape in this exercise\n",
    "url = 'http://uscode.house.gov/download/download.shtml'\n",
    "driver.get(url)"
   ]
  },
  {
   "cell_type": "code",
   "execution_count": 19,
   "metadata": {},
   "outputs": [
    {
     "data": {
      "text/plain": [
       "[<selenium.webdriver.remote.webelement.WebElement (session=\"85f8bfb06b864bd5051a94f7938b1d15\", element=\"9cec778a-622b-4d77-94fa-501523f651aa\")>,\n",
       " <selenium.webdriver.remote.webelement.WebElement (session=\"85f8bfb06b864bd5051a94f7938b1d15\", element=\"a16d192e-91c7-44ad-a48c-4643fae99615\")>,\n",
       " <selenium.webdriver.remote.webelement.WebElement (session=\"85f8bfb06b864bd5051a94f7938b1d15\", element=\"90cca88b-160e-47e3-8d04-1897f21c4a2b\")>,\n",
       " <selenium.webdriver.remote.webelement.WebElement (session=\"85f8bfb06b864bd5051a94f7938b1d15\", element=\"caa252a9-fb02-427f-939c-bee6a8eb4ffa\")>,\n",
       " <selenium.webdriver.remote.webelement.WebElement (session=\"85f8bfb06b864bd5051a94f7938b1d15\", element=\"5c193c4f-767c-4052-b833-4c3907cab6f4\")>,\n",
       " <selenium.webdriver.remote.webelement.WebElement (session=\"85f8bfb06b864bd5051a94f7938b1d15\", element=\"39539613-520d-457d-bfdf-d062870022e7\")>,\n",
       " <selenium.webdriver.remote.webelement.WebElement (session=\"85f8bfb06b864bd5051a94f7938b1d15\", element=\"422286d5-44ed-488d-b173-f656af4146ed\")>,\n",
       " <selenium.webdriver.remote.webelement.WebElement (session=\"85f8bfb06b864bd5051a94f7938b1d15\", element=\"1d44ffb1-fc3e-44dc-ad05-81e921d8b140\")>,\n",
       " <selenium.webdriver.remote.webelement.WebElement (session=\"85f8bfb06b864bd5051a94f7938b1d15\", element=\"5b927b45-5e06-428f-9353-da3f44af90bc\")>,\n",
       " <selenium.webdriver.remote.webelement.WebElement (session=\"85f8bfb06b864bd5051a94f7938b1d15\", element=\"0bdb0e76-7ca8-4948-aa75-42636a80b888\")>,\n",
       " <selenium.webdriver.remote.webelement.WebElement (session=\"85f8bfb06b864bd5051a94f7938b1d15\", element=\"5a81104d-c0f9-4660-9d54-b619158b7d43\")>,\n",
       " <selenium.webdriver.remote.webelement.WebElement (session=\"85f8bfb06b864bd5051a94f7938b1d15\", element=\"5f305446-f8db-4572-a723-e482ba5c97ad\")>,\n",
       " <selenium.webdriver.remote.webelement.WebElement (session=\"85f8bfb06b864bd5051a94f7938b1d15\", element=\"0e6329bd-499b-4020-ba20-c1acc949f2ad\")>,\n",
       " <selenium.webdriver.remote.webelement.WebElement (session=\"85f8bfb06b864bd5051a94f7938b1d15\", element=\"011e9bbb-b5c0-47d0-9151-818e8587d6f9\")>,\n",
       " <selenium.webdriver.remote.webelement.WebElement (session=\"85f8bfb06b864bd5051a94f7938b1d15\", element=\"c8903b9d-29d0-46ed-9197-18406baf19f1\")>,\n",
       " <selenium.webdriver.remote.webelement.WebElement (session=\"85f8bfb06b864bd5051a94f7938b1d15\", element=\"6c7116ed-3bfd-4e23-8942-02e331cfd7fa\")>,\n",
       " <selenium.webdriver.remote.webelement.WebElement (session=\"85f8bfb06b864bd5051a94f7938b1d15\", element=\"05eddd82-027a-4d7a-b631-aff3bdf74369\")>,\n",
       " <selenium.webdriver.remote.webelement.WebElement (session=\"85f8bfb06b864bd5051a94f7938b1d15\", element=\"63a8f218-df6b-47db-a89d-bfc94c124c59\")>,\n",
       " <selenium.webdriver.remote.webelement.WebElement (session=\"85f8bfb06b864bd5051a94f7938b1d15\", element=\"89e9c8ca-75a4-48f6-a2f2-5b168ee186d5\")>,\n",
       " <selenium.webdriver.remote.webelement.WebElement (session=\"85f8bfb06b864bd5051a94f7938b1d15\", element=\"dd641168-4785-4b87-b274-a3c4f0ff770a\")>,\n",
       " <selenium.webdriver.remote.webelement.WebElement (session=\"85f8bfb06b864bd5051a94f7938b1d15\", element=\"e693e80b-77bf-4aa3-bdf5-66f8be67b402\")>,\n",
       " <selenium.webdriver.remote.webelement.WebElement (session=\"85f8bfb06b864bd5051a94f7938b1d15\", element=\"09c6608b-876f-4fce-9e13-acbd9f68510c\")>,\n",
       " <selenium.webdriver.remote.webelement.WebElement (session=\"85f8bfb06b864bd5051a94f7938b1d15\", element=\"2b152d5f-3ce9-4b8e-bb3b-d90f38bb39ab\")>,\n",
       " <selenium.webdriver.remote.webelement.WebElement (session=\"85f8bfb06b864bd5051a94f7938b1d15\", element=\"75c752ba-1c2a-4704-8ebb-2094a0f4e251\")>,\n",
       " <selenium.webdriver.remote.webelement.WebElement (session=\"85f8bfb06b864bd5051a94f7938b1d15\", element=\"8097e3e0-daf2-49b1-b99f-33113fefd94a\")>,\n",
       " <selenium.webdriver.remote.webelement.WebElement (session=\"85f8bfb06b864bd5051a94f7938b1d15\", element=\"e5a469bf-a558-477a-85f7-a4a6901e00b2\")>,\n",
       " <selenium.webdriver.remote.webelement.WebElement (session=\"85f8bfb06b864bd5051a94f7938b1d15\", element=\"c47c1532-8c9a-4800-a900-11bbd6645215\")>,\n",
       " <selenium.webdriver.remote.webelement.WebElement (session=\"85f8bfb06b864bd5051a94f7938b1d15\", element=\"5853eb90-7405-4cbf-aefb-5489e1ff3361\")>,\n",
       " <selenium.webdriver.remote.webelement.WebElement (session=\"85f8bfb06b864bd5051a94f7938b1d15\", element=\"8fe3fb2f-2935-447e-bb49-6a4d9ba0cf22\")>,\n",
       " <selenium.webdriver.remote.webelement.WebElement (session=\"85f8bfb06b864bd5051a94f7938b1d15\", element=\"a3337e65-ca27-41dd-9ca4-b5cd9f9a4cbd\")>,\n",
       " <selenium.webdriver.remote.webelement.WebElement (session=\"85f8bfb06b864bd5051a94f7938b1d15\", element=\"09dde8bf-7d6e-4086-a469-677d5c8f4260\")>,\n",
       " <selenium.webdriver.remote.webelement.WebElement (session=\"85f8bfb06b864bd5051a94f7938b1d15\", element=\"a3b7d31f-ef0f-4dc5-b4b4-613f0cc22250\")>,\n",
       " <selenium.webdriver.remote.webelement.WebElement (session=\"85f8bfb06b864bd5051a94f7938b1d15\", element=\"5f6699bc-e1e8-4994-b789-87e995884b92\")>,\n",
       " <selenium.webdriver.remote.webelement.WebElement (session=\"85f8bfb06b864bd5051a94f7938b1d15\", element=\"441f885a-a9bc-464d-83f2-c740e6408f32\")>,\n",
       " <selenium.webdriver.remote.webelement.WebElement (session=\"85f8bfb06b864bd5051a94f7938b1d15\", element=\"d0f57495-5a6b-4046-b2b2-961bdc68905a\")>,\n",
       " <selenium.webdriver.remote.webelement.WebElement (session=\"85f8bfb06b864bd5051a94f7938b1d15\", element=\"e73c0691-83f2-4478-9660-5fbead694535\")>,\n",
       " <selenium.webdriver.remote.webelement.WebElement (session=\"85f8bfb06b864bd5051a94f7938b1d15\", element=\"1e91932c-2510-4d8a-b47b-4634a00a18e3\")>]"
      ]
     },
     "execution_count": 19,
     "metadata": {},
     "output_type": "execute_result"
    }
   ],
   "source": [
    "#your code\n",
    "titulos = driver.find_elements(By.CLASS_NAME, 'usctitlechanged')\n",
    "titulos"
   ]
  },
  {
   "cell_type": "code",
   "execution_count": 20,
   "metadata": {},
   "outputs": [],
   "source": [
    "tit_final = []"
   ]
  },
  {
   "cell_type": "code",
   "execution_count": 21,
   "metadata": {},
   "outputs": [
    {
     "data": {
      "text/plain": [
       "['Title 1 - General Provisions ٭',\n",
       " 'Title 2 - The Congress',\n",
       " 'Title 3 - The President ٭',\n",
       " 'Title 5 - Government Organization and Employees ٭',\n",
       " 'Title 6 - Domestic Security',\n",
       " 'Title 8 - Aliens and Nationality',\n",
       " 'Title 10 - Armed Forces ٭',\n",
       " 'Title 12 - Banks and Banking',\n",
       " 'Title 14 - Coast Guard ٭',\n",
       " 'Title 15 - Commerce and Trade',\n",
       " 'Title 16 - Conservation',\n",
       " 'Title 17 - Copyrights ٭',\n",
       " 'Title 18 - Crimes and Criminal Procedure ٭',\n",
       " 'Title 20 - Education',\n",
       " 'Title 21 - Food and Drugs',\n",
       " 'Title 22 - Foreign Relations and Intercourse',\n",
       " 'Title 25 - Indians',\n",
       " 'Title 26 - Internal Revenue Code',\n",
       " 'Title 28 - Judiciary and Judicial Procedure ٭',\n",
       " 'Title 29 - Labor',\n",
       " 'Title 31 - Money and Finance ٭',\n",
       " 'Title 32 - National Guard ٭',\n",
       " 'Title 33 - Navigation and Navigable Waters',\n",
       " 'Title 34 - Crime Control and Law Enforcement',\n",
       " 'Title 36 - Patriotic and National Observances, Ceremonies, and Organizations ٭',\n",
       " 'Title 37 - Pay and Allowances of the Uniformed Services ٭',\n",
       " \"Title 38 - Veterans' Benefits ٭\",\n",
       " 'Title 40 - Public Buildings, Property, and Works ٭',\n",
       " 'Title 41 - Public Contracts ٭',\n",
       " 'Title 42 - The Public Health and Welfare',\n",
       " 'Title 43 - Public Lands',\n",
       " 'Title 44 - Public Printing and Documents ٭',\n",
       " 'Title 46 - Shipping ٭',\n",
       " 'Title 48 - Territories and Insular Possessions',\n",
       " 'Title 49 - Transportation ٭',\n",
       " 'Title 50 - War and National Defense',\n",
       " 'Title 51 - National and Commercial Space Programs ٭']"
      ]
     },
     "execution_count": 21,
     "metadata": {},
     "output_type": "execute_result"
    }
   ],
   "source": [
    "for i in titulos:\n",
    "    i = i.text\n",
    "    tit_final.append(i)\n",
    "tit_final"
   ]
  },
  {
   "cell_type": "markdown",
   "metadata": {},
   "source": [
    "#### A Python list with the top ten FBI's Most Wanted names "
   ]
  },
  {
   "cell_type": "code",
   "execution_count": 22,
   "metadata": {},
   "outputs": [],
   "source": [
    "# This is the url you will scrape in this exercise\n",
    "url = 'https://www.fbi.gov/wanted/topten'\n",
    "driver.get(url)"
   ]
  },
  {
   "cell_type": "code",
   "execution_count": 23,
   "metadata": {},
   "outputs": [
    {
     "data": {
      "text/plain": [
       "[<selenium.webdriver.remote.webelement.WebElement (session=\"85f8bfb06b864bd5051a94f7938b1d15\", element=\"2c8a377a-606f-4e88-8feb-21bef43ed5db\")>,\n",
       " <selenium.webdriver.remote.webelement.WebElement (session=\"85f8bfb06b864bd5051a94f7938b1d15\", element=\"e5dd8fab-8ace-46b1-89ef-2c9622c39527\")>,\n",
       " <selenium.webdriver.remote.webelement.WebElement (session=\"85f8bfb06b864bd5051a94f7938b1d15\", element=\"521dfc4b-ccb4-422a-abc0-cf8e4d50a685\")>,\n",
       " <selenium.webdriver.remote.webelement.WebElement (session=\"85f8bfb06b864bd5051a94f7938b1d15\", element=\"2a54d82f-3316-4453-a29f-66c6a40c4564\")>,\n",
       " <selenium.webdriver.remote.webelement.WebElement (session=\"85f8bfb06b864bd5051a94f7938b1d15\", element=\"d77b9948-b219-46f8-916f-51eb207517bd\")>,\n",
       " <selenium.webdriver.remote.webelement.WebElement (session=\"85f8bfb06b864bd5051a94f7938b1d15\", element=\"75950b43-25ab-460e-986a-ce03dc7e9bf6\")>,\n",
       " <selenium.webdriver.remote.webelement.WebElement (session=\"85f8bfb06b864bd5051a94f7938b1d15\", element=\"c445f85d-b8a8-4bf0-8b8b-dbea70e0e98d\")>,\n",
       " <selenium.webdriver.remote.webelement.WebElement (session=\"85f8bfb06b864bd5051a94f7938b1d15\", element=\"49b07fa9-999f-4f34-bb47-06bd88367c5e\")>,\n",
       " <selenium.webdriver.remote.webelement.WebElement (session=\"85f8bfb06b864bd5051a94f7938b1d15\", element=\"93f9bf02-556c-4a73-97fd-6b2d582e33f8\")>,\n",
       " <selenium.webdriver.remote.webelement.WebElement (session=\"85f8bfb06b864bd5051a94f7938b1d15\", element=\"52d30acd-ec9b-42a5-b219-46130b13cf6a\")>,\n",
       " <selenium.webdriver.remote.webelement.WebElement (session=\"85f8bfb06b864bd5051a94f7938b1d15\", element=\"1dd9ed67-2c3c-4814-93f8-57ec58248ff0\")>]"
      ]
     },
     "execution_count": 23,
     "metadata": {},
     "output_type": "execute_result"
    }
   ],
   "source": [
    "#your code\n",
    "top = driver.find_elements(By.CLASS_NAME, 'title')\n",
    "top"
   ]
  },
  {
   "cell_type": "code",
   "execution_count": 24,
   "metadata": {},
   "outputs": [
    {
     "data": {
      "text/plain": [
       "['MOST WANTED',\n",
       " 'BHADRESHKUMAR CHETANBHAI PATEL',\n",
       " 'WILVER VILLEGAS-PALOMINO',\n",
       " 'ALEJANDRO ROSALES CASTILLO',\n",
       " 'RUJA IGNATOVA',\n",
       " 'ARNOLDO JIMENEZ',\n",
       " 'OMAR ALEXANDER CARDENAS',\n",
       " 'ALEXIS FLORES',\n",
       " 'YULAN ADONAY ARCHAGA CARIAS',\n",
       " 'MICHAEL JAMES PRATT',\n",
       " 'JOSE RODOLFO VILLARREAL-HERNANDEZ']"
      ]
     },
     "execution_count": 24,
     "metadata": {},
     "output_type": "execute_result"
    }
   ],
   "source": [
    "top10 = []\n",
    "for i in top:\n",
    "    i = i.text\n",
    "    top10.append(i)\n",
    "top10"
   ]
  },
  {
   "cell_type": "code",
   "execution_count": null,
   "metadata": {},
   "outputs": [],
   "source": [
    "\n"
   ]
  },
  {
   "cell_type": "code",
   "execution_count": null,
   "metadata": {},
   "outputs": [],
   "source": []
  },
  {
   "cell_type": "markdown",
   "metadata": {},
   "source": [
    "####  20 latest earthquakes info (date, time, latitude, longitude and region name) by the EMSC as a pandas dataframe"
   ]
  },
  {
   "cell_type": "code",
   "execution_count": 25,
   "metadata": {},
   "outputs": [],
   "source": [
    "# This is the url you will scrape in this exercise\n",
    "url = 'https://www.emsc-csem.org/Earthquake/'"
   ]
  },
  {
   "cell_type": "code",
   "execution_count": 26,
   "metadata": {},
   "outputs": [],
   "source": [
    "#your code"
   ]
  },
  {
   "cell_type": "markdown",
   "metadata": {},
   "source": [
    "#### Count number of tweets by a given Twitter account."
   ]
  },
  {
   "cell_type": "markdown",
   "metadata": {},
   "source": [
    "You will need to include a ***try/except block*** for account names not found. \n",
    "<br>***Hint:*** the program should count the number of tweets for any provided account"
   ]
  },
  {
   "cell_type": "code",
   "execution_count": 27,
   "metadata": {},
   "outputs": [],
   "source": [
    "# This is the url you will scrape in this exercise \n",
    "# You will need to add the account credentials to this url\n",
    "url = 'https://twitter.com/'"
   ]
  },
  {
   "cell_type": "code",
   "execution_count": 28,
   "metadata": {},
   "outputs": [],
   "source": [
    "#your code"
   ]
  },
  {
   "cell_type": "markdown",
   "metadata": {},
   "source": [
    "#### Number of followers of a given twitter account"
   ]
  },
  {
   "cell_type": "markdown",
   "metadata": {},
   "source": [
    "You will need to include a ***try/except block*** in case account/s name not found. \n",
    "<br>***Hint:*** the program should count the followers for any provided account"
   ]
  },
  {
   "cell_type": "code",
   "execution_count": 29,
   "metadata": {},
   "outputs": [],
   "source": [
    "# This is the url you will scrape in this exercise \n",
    "# You will need to add the account credentials to this url\n",
    "url = 'https://twitter.com/'"
   ]
  },
  {
   "cell_type": "code",
   "execution_count": 30,
   "metadata": {},
   "outputs": [],
   "source": [
    "#your code"
   ]
  },
  {
   "cell_type": "markdown",
   "metadata": {},
   "source": [
    "#### List all language names and number of related articles in the order they appear in wikipedia.org"
   ]
  },
  {
   "cell_type": "code",
   "execution_count": 31,
   "metadata": {},
   "outputs": [],
   "source": [
    "# This is the url you will scrape in this exercise\n",
    "url = 'https://www.wikipedia.org/'\n",
    "driver.get(url)"
   ]
  },
  {
   "cell_type": "code",
   "execution_count": 32,
   "metadata": {},
   "outputs": [
    {
     "data": {
      "text/plain": [
       "[<selenium.webdriver.remote.webelement.WebElement (session=\"85f8bfb06b864bd5051a94f7938b1d15\", element=\"b1b61a4e-b585-411e-9574-85ed30cb1c4f\")>,\n",
       " <selenium.webdriver.remote.webelement.WebElement (session=\"85f8bfb06b864bd5051a94f7938b1d15\", element=\"06149de1-dbee-460c-826f-00fb8b0a6179\")>,\n",
       " <selenium.webdriver.remote.webelement.WebElement (session=\"85f8bfb06b864bd5051a94f7938b1d15\", element=\"7651ead5-e97c-4de0-81ee-8bf739183ffe\")>,\n",
       " <selenium.webdriver.remote.webelement.WebElement (session=\"85f8bfb06b864bd5051a94f7938b1d15\", element=\"7a9fa382-2eca-4129-a0d7-24a607007f9d\")>,\n",
       " <selenium.webdriver.remote.webelement.WebElement (session=\"85f8bfb06b864bd5051a94f7938b1d15\", element=\"455b8cb4-26ff-42f2-91c7-6d407ebb406d\")>,\n",
       " <selenium.webdriver.remote.webelement.WebElement (session=\"85f8bfb06b864bd5051a94f7938b1d15\", element=\"f542b399-47ce-46ab-b657-383a6ef949f3\")>,\n",
       " <selenium.webdriver.remote.webelement.WebElement (session=\"85f8bfb06b864bd5051a94f7938b1d15\", element=\"fcb4dd17-1316-4fd0-9f9b-debc785e36c9\")>,\n",
       " <selenium.webdriver.remote.webelement.WebElement (session=\"85f8bfb06b864bd5051a94f7938b1d15\", element=\"4c14844d-e3cc-4f13-aae0-de43fdc3e2bf\")>,\n",
       " <selenium.webdriver.remote.webelement.WebElement (session=\"85f8bfb06b864bd5051a94f7938b1d15\", element=\"3caea589-e20e-442b-ae58-cd5da3450f8a\")>,\n",
       " <selenium.webdriver.remote.webelement.WebElement (session=\"85f8bfb06b864bd5051a94f7938b1d15\", element=\"5998b55a-4476-4871-ace8-d70abc55aaf8\")>,\n",
       " <selenium.webdriver.remote.webelement.WebElement (session=\"85f8bfb06b864bd5051a94f7938b1d15\", element=\"4cf72fcb-e67d-40f3-96b2-831f5020d4cb\")>,\n",
       " <selenium.webdriver.remote.webelement.WebElement (session=\"85f8bfb06b864bd5051a94f7938b1d15\", element=\"80ca2156-96b9-4c4b-b48d-8d215ea2eafc\")>]"
      ]
     },
     "execution_count": 32,
     "metadata": {},
     "output_type": "execute_result"
    }
   ],
   "source": [
    "#your code\n",
    "lenguajes = driver.find_elements(By.TAG_NAME, 'strong')\n",
    "lenguajes"
   ]
  },
  {
   "cell_type": "code",
   "execution_count": 33,
   "metadata": {},
   "outputs": [
    {
     "data": {
      "text/plain": [
       "['La enciclopedia libre',\n",
       " 'Español',\n",
       " 'English',\n",
       " 'Русский',\n",
       " '日本語',\n",
       " 'Deutsch',\n",
       " 'Français',\n",
       " 'Italiano',\n",
       " '中文',\n",
       " 'فارسی',\n",
       " 'Português',\n",
       " 'Descargar Wikipedia para Android o iOS']"
      ]
     },
     "execution_count": 33,
     "metadata": {},
     "output_type": "execute_result"
    }
   ],
   "source": [
    "idioms = []\n",
    "for i in lenguajes:\n",
    "    i = i.text\n",
    "    idioms.append(i)\n",
    "idioms"
   ]
  },
  {
   "cell_type": "code",
   "execution_count": 34,
   "metadata": {},
   "outputs": [],
   "source": [
    "idioms10 = idioms[1:-1]"
   ]
  },
  {
   "cell_type": "code",
   "execution_count": 35,
   "metadata": {},
   "outputs": [
    {
     "data": {
      "text/plain": [
       "['Español',\n",
       " 'English',\n",
       " 'Русский',\n",
       " '日本語',\n",
       " 'Deutsch',\n",
       " 'Français',\n",
       " 'Italiano',\n",
       " '中文',\n",
       " 'فارسی',\n",
       " 'Português']"
      ]
     },
     "execution_count": 35,
     "metadata": {},
     "output_type": "execute_result"
    }
   ],
   "source": [
    "idioms10"
   ]
  },
  {
   "cell_type": "code",
   "execution_count": 36,
   "metadata": {},
   "outputs": [],
   "source": [
    "articulos = driver.find_elements(By.TAG_NAME, 'bdi')"
   ]
  },
  {
   "cell_type": "code",
   "execution_count": 37,
   "metadata": {},
   "outputs": [
    {
     "data": {
      "text/plain": [
       "[<selenium.webdriver.remote.webelement.WebElement (session=\"85f8bfb06b864bd5051a94f7938b1d15\", element=\"a9483945-9fa1-4666-bc36-dbd573d22f28\")>,\n",
       " <selenium.webdriver.remote.webelement.WebElement (session=\"85f8bfb06b864bd5051a94f7938b1d15\", element=\"3dae4c3e-18ee-4fe5-8b53-318bd574e0fe\")>,\n",
       " <selenium.webdriver.remote.webelement.WebElement (session=\"85f8bfb06b864bd5051a94f7938b1d15\", element=\"906f7def-01f0-4e62-9f65-123b5c30e278\")>,\n",
       " <selenium.webdriver.remote.webelement.WebElement (session=\"85f8bfb06b864bd5051a94f7938b1d15\", element=\"6e058b76-1a8e-4eb2-bf59-14f0a12acc14\")>,\n",
       " <selenium.webdriver.remote.webelement.WebElement (session=\"85f8bfb06b864bd5051a94f7938b1d15\", element=\"0821a71f-4a95-44fa-9c38-900509dd9875\")>,\n",
       " <selenium.webdriver.remote.webelement.WebElement (session=\"85f8bfb06b864bd5051a94f7938b1d15\", element=\"a3eb4452-8150-468a-8d68-a4e7a3a584a8\")>,\n",
       " <selenium.webdriver.remote.webelement.WebElement (session=\"85f8bfb06b864bd5051a94f7938b1d15\", element=\"b03c5d52-90b3-49a0-8e9d-c319cea35b48\")>,\n",
       " <selenium.webdriver.remote.webelement.WebElement (session=\"85f8bfb06b864bd5051a94f7938b1d15\", element=\"e27e2018-adb6-45ed-98ff-6729a1e25c11\")>,\n",
       " <selenium.webdriver.remote.webelement.WebElement (session=\"85f8bfb06b864bd5051a94f7938b1d15\", element=\"232afa50-9ad3-4e73-82d4-dfc5583d2691\")>,\n",
       " <selenium.webdriver.remote.webelement.WebElement (session=\"85f8bfb06b864bd5051a94f7938b1d15\", element=\"5e38b53a-861d-4861-853d-e71f3c2292c7\")>,\n",
       " <selenium.webdriver.remote.webelement.WebElement (session=\"85f8bfb06b864bd5051a94f7938b1d15\", element=\"9655d859-2915-44a4-97a0-9c24cad07c99\")>,\n",
       " <selenium.webdriver.remote.webelement.WebElement (session=\"85f8bfb06b864bd5051a94f7938b1d15\", element=\"bf04d019-df4f-4b9a-99f4-56f9d6f75ed8\")>,\n",
       " <selenium.webdriver.remote.webelement.WebElement (session=\"85f8bfb06b864bd5051a94f7938b1d15\", element=\"d3c8c630-cc63-470a-b7b2-b4a9c245ff5f\")>,\n",
       " <selenium.webdriver.remote.webelement.WebElement (session=\"85f8bfb06b864bd5051a94f7938b1d15\", element=\"e43c3e71-d564-48e7-a181-6c6354fe331e\")>,\n",
       " <selenium.webdriver.remote.webelement.WebElement (session=\"85f8bfb06b864bd5051a94f7938b1d15\", element=\"2574ecd0-21d6-4f09-8b6b-37854ff51c50\")>,\n",
       " <selenium.webdriver.remote.webelement.WebElement (session=\"85f8bfb06b864bd5051a94f7938b1d15\", element=\"b75af16e-53e9-48d3-a3c3-64ea1dfc7a29\")>,\n",
       " <selenium.webdriver.remote.webelement.WebElement (session=\"85f8bfb06b864bd5051a94f7938b1d15\", element=\"cf4dca13-eae0-4135-a8a6-69ad892ee33d\")>,\n",
       " <selenium.webdriver.remote.webelement.WebElement (session=\"85f8bfb06b864bd5051a94f7938b1d15\", element=\"9a7e5c2a-450f-4f0c-92d1-9426da76f8d6\")>,\n",
       " <selenium.webdriver.remote.webelement.WebElement (session=\"85f8bfb06b864bd5051a94f7938b1d15\", element=\"9fe5d667-bf9a-4f37-9619-2b54e32d1427\")>,\n",
       " <selenium.webdriver.remote.webelement.WebElement (session=\"85f8bfb06b864bd5051a94f7938b1d15\", element=\"cacc9861-53db-4f45-9bb5-50a8b3825b00\")>,\n",
       " <selenium.webdriver.remote.webelement.WebElement (session=\"85f8bfb06b864bd5051a94f7938b1d15\", element=\"7c8ba7e7-91b7-4df4-b810-772ed066d837\")>,\n",
       " <selenium.webdriver.remote.webelement.WebElement (session=\"85f8bfb06b864bd5051a94f7938b1d15\", element=\"4f16df35-9b98-47ed-868d-6aa10913733f\")>,\n",
       " <selenium.webdriver.remote.webelement.WebElement (session=\"85f8bfb06b864bd5051a94f7938b1d15\", element=\"600a43ef-5c0b-40c6-bb31-82de038c3e04\")>,\n",
       " <selenium.webdriver.remote.webelement.WebElement (session=\"85f8bfb06b864bd5051a94f7938b1d15\", element=\"2a5b4123-d15b-4bed-b45f-f2e4cf6349d6\")>,\n",
       " <selenium.webdriver.remote.webelement.WebElement (session=\"85f8bfb06b864bd5051a94f7938b1d15\", element=\"8408afcd-032b-4ef8-b63c-d7a7b144f0e1\")>,\n",
       " <selenium.webdriver.remote.webelement.WebElement (session=\"85f8bfb06b864bd5051a94f7938b1d15\", element=\"4028ac00-d76f-4cd4-bdab-6e830b5ed133\")>,\n",
       " <selenium.webdriver.remote.webelement.WebElement (session=\"85f8bfb06b864bd5051a94f7938b1d15\", element=\"8d1db8c2-a2b7-4886-a191-441ac6eb8a51\")>,\n",
       " <selenium.webdriver.remote.webelement.WebElement (session=\"85f8bfb06b864bd5051a94f7938b1d15\", element=\"b6cd4463-2136-4933-9782-9cf497cec4bd\")>,\n",
       " <selenium.webdriver.remote.webelement.WebElement (session=\"85f8bfb06b864bd5051a94f7938b1d15\", element=\"82a98357-6709-4b7b-b88a-efba1c07a002\")>,\n",
       " <selenium.webdriver.remote.webelement.WebElement (session=\"85f8bfb06b864bd5051a94f7938b1d15\", element=\"c146e504-920a-422b-bd11-00e19e1a51a9\")>,\n",
       " <selenium.webdriver.remote.webelement.WebElement (session=\"85f8bfb06b864bd5051a94f7938b1d15\", element=\"6f5d08ef-0735-4031-86d8-7b57c8e2ef06\")>,\n",
       " <selenium.webdriver.remote.webelement.WebElement (session=\"85f8bfb06b864bd5051a94f7938b1d15\", element=\"6def1dcb-ce96-469e-92c1-76863c49d15b\")>,\n",
       " <selenium.webdriver.remote.webelement.WebElement (session=\"85f8bfb06b864bd5051a94f7938b1d15\", element=\"75f0cac0-00bc-44bf-95f0-4681f8b973d7\")>,\n",
       " <selenium.webdriver.remote.webelement.WebElement (session=\"85f8bfb06b864bd5051a94f7938b1d15\", element=\"6962bf8b-4825-4e74-8d05-af8cc17964f7\")>,\n",
       " <selenium.webdriver.remote.webelement.WebElement (session=\"85f8bfb06b864bd5051a94f7938b1d15\", element=\"6de7cb0b-c61b-4a69-99e6-a53670fcdfa0\")>,\n",
       " <selenium.webdriver.remote.webelement.WebElement (session=\"85f8bfb06b864bd5051a94f7938b1d15\", element=\"3147b2e5-fcf1-426f-a1d1-9626a8d3b490\")>,\n",
       " <selenium.webdriver.remote.webelement.WebElement (session=\"85f8bfb06b864bd5051a94f7938b1d15\", element=\"6ded52ca-e573-4324-b0bb-bebc01eeeabe\")>]"
      ]
     },
     "execution_count": 37,
     "metadata": {},
     "output_type": "execute_result"
    }
   ],
   "source": [
    "articulos"
   ]
  },
  {
   "cell_type": "code",
   "execution_count": 38,
   "metadata": {},
   "outputs": [
    {
     "data": {
      "text/plain": [
       "['1 854 000+',\n",
       " '6 644 000+',\n",
       " '1 909 000+',\n",
       " '1 370 000+',\n",
       " '2 792 000+',\n",
       " '2 514 000+',\n",
       " '1 806 000+',\n",
       " '1 347 000+',\n",
       " 'فارسی',\n",
       " '959 000+',\n",
       " '1 101 000+',\n",
       " '',\n",
       " '',\n",
       " '',\n",
       " '',\n",
       " '',\n",
       " '',\n",
       " '',\n",
       " '',\n",
       " '',\n",
       " '',\n",
       " '',\n",
       " '',\n",
       " '',\n",
       " '',\n",
       " '',\n",
       " '',\n",
       " '',\n",
       " '',\n",
       " '',\n",
       " '',\n",
       " '',\n",
       " '',\n",
       " '',\n",
       " '',\n",
       " '',\n",
       " '']"
      ]
     },
     "execution_count": 38,
     "metadata": {},
     "output_type": "execute_result"
    }
   ],
   "source": [
    "numeros = []\n",
    "for e in articulos:\n",
    "    e = e.text\n",
    "    numeros.append(e)\n",
    "numeros\n",
    "\n",
    "#no se porque me da los numeros de esta manera\n"
   ]
  },
  {
   "cell_type": "code",
   "execution_count": null,
   "metadata": {},
   "outputs": [],
   "source": []
  },
  {
   "cell_type": "markdown",
   "metadata": {},
   "source": [
    "#### A list with the different kind of datasets available in data.gov.uk "
   ]
  },
  {
   "cell_type": "code",
   "execution_count": 39,
   "metadata": {},
   "outputs": [],
   "source": [
    "# This is the url you will scrape in this exercise\n",
    "url = 'https://data.gov.uk/'"
   ]
  },
  {
   "cell_type": "code",
   "execution_count": 40,
   "metadata": {},
   "outputs": [],
   "source": [
    "#your code "
   ]
  },
  {
   "cell_type": "markdown",
   "metadata": {},
   "source": [
    "#### Top 10 languages by number of native speakers stored in a Pandas Dataframe"
   ]
  },
  {
   "cell_type": "code",
   "execution_count": 41,
   "metadata": {},
   "outputs": [],
   "source": [
    "# This is the url you will scrape in this exercise\n",
    "url = 'https://en.wikipedia.org/wiki/List_of_languages_by_number_of_native_speakers'"
   ]
  },
  {
   "cell_type": "code",
   "execution_count": 42,
   "metadata": {},
   "outputs": [],
   "source": [
    "#your code"
   ]
  },
  {
   "cell_type": "markdown",
   "metadata": {},
   "source": [
    "### BONUS QUESTIONS"
   ]
  },
  {
   "cell_type": "markdown",
   "metadata": {},
   "source": [
    "#### Scrape a certain number of tweets of a given Twitter account."
   ]
  },
  {
   "cell_type": "code",
   "execution_count": 43,
   "metadata": {},
   "outputs": [],
   "source": [
    "# This is the url you will scrape in this exercise \n",
    "# You will need to add the account credentials to this url\n",
    "url = 'https://twitter.com/'"
   ]
  },
  {
   "cell_type": "code",
   "execution_count": 44,
   "metadata": {},
   "outputs": [],
   "source": [
    "# your code"
   ]
  },
  {
   "cell_type": "markdown",
   "metadata": {},
   "source": [
    "#### IMDB's Top 250 data (movie name, Initial release, director name and stars) as a pandas dataframe"
   ]
  },
  {
   "cell_type": "code",
   "execution_count": 45,
   "metadata": {},
   "outputs": [],
   "source": [
    "# This is the url you will scrape in this exercise \n",
    "url = 'https://www.imdb.com/chart/top'"
   ]
  },
  {
   "cell_type": "code",
   "execution_count": 46,
   "metadata": {},
   "outputs": [],
   "source": [
    "# your code"
   ]
  },
  {
   "cell_type": "markdown",
   "metadata": {},
   "source": [
    "#### Movie name, year and a brief summary of the top 10 random movies (IMDB) as a pandas dataframe."
   ]
  },
  {
   "cell_type": "code",
   "execution_count": 47,
   "metadata": {},
   "outputs": [],
   "source": [
    "#This is the url you will scrape in this exercise\n",
    "url = 'http://www.imdb.com/chart/top'"
   ]
  },
  {
   "cell_type": "code",
   "execution_count": 48,
   "metadata": {},
   "outputs": [],
   "source": [
    "#your code"
   ]
  },
  {
   "cell_type": "markdown",
   "metadata": {},
   "source": [
    "#### Find the live weather report (temperature, wind speed, description and weather) of a given city."
   ]
  },
  {
   "cell_type": "code",
   "execution_count": null,
   "metadata": {},
   "outputs": [],
   "source": [
    "#https://openweathermap.org/current\n",
    "city = city=input('Enter the city:')\n",
    "url = 'http://api.openweathermap.org/data/2.5/weather?'+'q='+city+'&APPID=b35975e18dc93725acb092f7272cc6b8&units=metric'"
   ]
  },
  {
   "cell_type": "code",
   "execution_count": null,
   "metadata": {},
   "outputs": [],
   "source": [
    "# your code"
   ]
  },
  {
   "cell_type": "markdown",
   "metadata": {},
   "source": [
    "#### Book name,price and stock availability as a pandas dataframe."
   ]
  },
  {
   "cell_type": "code",
   "execution_count": null,
   "metadata": {},
   "outputs": [],
   "source": [
    "# This is the url you will scrape in this exercise. \n",
    "# It is a fictional bookstore created to be scraped. \n",
    "url = 'http://books.toscrape.com/'"
   ]
  },
  {
   "cell_type": "code",
   "execution_count": null,
   "metadata": {},
   "outputs": [],
   "source": [
    "#your code"
   ]
  }
 ],
 "metadata": {
  "kernelspec": {
   "display_name": "Python 3 (ipykernel)",
   "language": "python",
   "name": "python3"
  },
  "language_info": {
   "codemirror_mode": {
    "name": "ipython",
    "version": 3
   },
   "file_extension": ".py",
   "mimetype": "text/x-python",
   "name": "python",
   "nbconvert_exporter": "python",
   "pygments_lexer": "ipython3",
   "version": "3.9.13"
  }
 },
 "nbformat": 4,
 "nbformat_minor": 2
}
