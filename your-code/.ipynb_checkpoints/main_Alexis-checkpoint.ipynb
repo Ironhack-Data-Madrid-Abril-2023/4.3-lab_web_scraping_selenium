{
 "cells": [
  {
   "cell_type": "markdown",
   "metadata": {},
   "source": [
    "# Web Scraping Lab\n",
    "\n",
    "You will find in this notebook some scrapy exercises to practise your scraping skills.\n",
    "\n",
    "**Tips:**\n",
    "\n",
    "- Check the response status code for each request to ensure you have obtained the intended contennt.\n",
    "- Print the response text in each request to understand the kind of info you are getting and its format.\n",
    "- Check for patterns in the response text to extract the data/info requested in each question.\n",
    "- Visit each url and take a look at its source through Chrome DevTools. You'll need to identify the html tags, special class names etc. used for the html content you are expected to extract."
   ]
  },
  {
   "cell_type": "markdown",
   "metadata": {},
   "source": [
    "- [Selenium Doc](https://www.selenium.dev/documentation/)\n",
    "- [Requests library](http://docs.python-requests.org/en/master/#the-user-guide) documentation \n",
    "- [Urllib](https://docs.python.org/3/library/urllib.html#module-urllib)\n",
    "- [re lib](https://docs.python.org/3/library/re.html)\n",
    "- [lxml lib](https://lxml.de/)\n",
    "- [Scrapy](https://scrapy.org/)\n",
    "- [List of HTTP status codes](https://en.wikipedia.org/wiki/List_of_HTTP_status_codes)\n",
    "- [HTML basics](http://www.simplehtmlguide.com/cheatsheet.php)\n",
    "- [CSS basics](https://www.cssbasics.com/#page_start)"
   ]
  },
  {
   "cell_type": "markdown",
   "metadata": {},
   "source": [
    "#### Below are the libraries and modules you may need. `Selenium` and `pandas` are imported for you."
   ]
  },
  {
   "cell_type": "code",
   "execution_count": 56,
   "metadata": {},
   "outputs": [],
   "source": [
    "import pandas as pd\n",
    "from selenium.webdriver.chrome.options import Options\n",
    "from webdriver_manager.chrome import ChromeDriverManager\n",
    "from selenium import webdriver\n",
    "from selenium.webdriver.common.by import By\n",
    "\n",
    "import warnings\n",
    "warnings.filterwarnings('ignore')   # para quitar esos prints\n",
    "import itertools"
   ]
  },
  {
   "cell_type": "markdown",
   "metadata": {},
   "source": [
    "#### Enable the options you may need. In the next cell you have an example of them but you can choose to use them or not."
   ]
  },
  {
   "cell_type": "code",
   "execution_count": 57,
   "metadata": {},
   "outputs": [],
   "source": [
    "#driver configuration\n",
    "opciones=Options()\n",
    "\n",
    "opciones.add_experimental_option('excludeSwitches', ['enable-automation'])\n",
    "opciones.add_experimental_option('useAutomationExtension', False)\n",
    "opciones.headless=False    # si True, no aperece la ventana (headless=no visible)\n",
    "opciones.add_argument('--start-maximized')         # comienza maximizado\n",
    "#opciones.add_argument('user-data-dir=selenium')    # mantiene las cookies\n",
    "#opciones.add_extension('driver_folder/adblock.crx')       # adblocker\n",
    "opciones.add_argument('--incognito')"
   ]
  },
  {
   "cell_type": "code",
   "execution_count": 58,
   "metadata": {},
   "outputs": [],
   "source": [
    "PATH = ChromeDriverManager().install()"
   ]
  },
  {
   "cell_type": "code",
   "execution_count": 59,
   "metadata": {},
   "outputs": [],
   "source": [
    "driver=webdriver.Chrome(PATH, options=opciones)      # abre una venta una de chrome"
   ]
  },
  {
   "cell_type": "markdown",
   "metadata": {},
   "source": [
    "#### Download, parse, and print the content from the Trending Developers page from GitHub:"
   ]
  },
  {
   "cell_type": "code",
   "execution_count": 5,
   "metadata": {},
   "outputs": [],
   "source": [
    "# This is the url you will scrape in this exercise\n",
    "url = 'https://github.com/trending/developers'\n",
    "driver.get(url)"
   ]
  },
  {
   "cell_type": "code",
   "execution_count": 6,
   "metadata": {},
   "outputs": [],
   "source": [
    "#your code\n",
    "lugar = driver.find_elements(By.CLASS_NAME, 'col-md-6')\n",
    "lista = []"
   ]
  },
  {
   "cell_type": "code",
   "execution_count": 7,
   "metadata": {},
   "outputs": [
    {
     "data": {
      "text/plain": [
       "[['Steven Tey', 'steven-tey'],\n",
       " ['pilcrowOnPaper'],\n",
       " ['Lianmin Zheng', 'merrymercy'],\n",
       " ['Henrik Rydgård', 'hrydgard'],\n",
       " ['Andreas Thomas', 'chronark'],\n",
       " ['Raphaël Benitte', 'plouc'],\n",
       " ['Ariel Mashraki', 'a8m'],\n",
       " ['Georgios Konstantopoulos', 'gakonst'],\n",
       " ['Bas Nijholt', 'basnijholt'],\n",
       " ['Tom Payne', 'twpayne'],\n",
       " ['dgtlmoon'],\n",
       " ['Mattias Wadman', 'wader'],\n",
       " ['Laurent Mazare', 'LaurentMazare'],\n",
       " ['Anders Jenbo', 'AJenbo'],\n",
       " ['Tianon Gravi', 'tianon'],\n",
       " ['lllyasviel'],\n",
       " ['Andrea Aime', 'aaime'],\n",
       " ['Luca Palmieri', 'LukeMathWalker'],\n",
       " ['Harrison Chase', 'hwchase17'],\n",
       " ['Eric Meadows-Jönsson', 'ericmj'],\n",
       " ['Brad Fitzpatrick', 'bradfitz'],\n",
       " ['Jerry Liu', 'jerryjliu'],\n",
       " ['Fons van der Plas', 'fonsp'],\n",
       " ['Simon L.', 'szaimen'],\n",
       " ['Silvio Traversaro', 'traversaro']]"
      ]
     },
     "execution_count": 7,
     "metadata": {},
     "output_type": "execute_result"
    }
   ],
   "source": [
    "for elements in lugar:\n",
    "    lista.append(elements.text.strip().split('\\n'))\n",
    "    \n",
    "lista[:: 2] \n",
    "# obtengo un a lista de listas "
   ]
  },
  {
   "cell_type": "code",
   "execution_count": 8,
   "metadata": {},
   "outputs": [
    {
     "data": {
      "text/plain": [
       "['Steven Tey steven-tey',\n",
       " 'pilcrowOnPaper',\n",
       " 'Lianmin Zheng merrymercy',\n",
       " 'Henrik Rydgård hrydgard',\n",
       " 'Andreas Thomas chronark',\n",
       " 'Raphaël Benitte plouc',\n",
       " 'Ariel Mashraki a8m',\n",
       " 'Georgios Konstantopoulos gakonst',\n",
       " 'Bas Nijholt basnijholt',\n",
       " 'Tom Payne twpayne',\n",
       " 'dgtlmoon',\n",
       " 'Mattias Wadman wader',\n",
       " 'Laurent Mazare LaurentMazare',\n",
       " 'Anders Jenbo AJenbo',\n",
       " 'Tianon Gravi tianon',\n",
       " 'lllyasviel',\n",
       " 'Andrea Aime aaime',\n",
       " 'Luca Palmieri LukeMathWalker',\n",
       " 'Harrison Chase hwchase17',\n",
       " 'Eric Meadows-Jönsson ericmj',\n",
       " 'Brad Fitzpatrick bradfitz',\n",
       " 'Jerry Liu jerryjliu',\n",
       " 'Fons van der Plas fonsp',\n",
       " 'Simon L. szaimen',\n",
       " 'Silvio Traversaro traversaro']"
      ]
     },
     "execution_count": 8,
     "metadata": {},
     "output_type": "execute_result"
    }
   ],
   "source": [
    "# Simplifico a a una lista tal como solicita el enunciado\n",
    "\n",
    "lista_new = []\n",
    "\n",
    "for i in lista:\n",
    "\n",
    "    lista_new.append(' '.join(i))\n",
    "\n",
    "lista_new[::2]"
   ]
  },
  {
   "cell_type": "markdown",
   "metadata": {},
   "source": [
    "#### Display the names of the trending developers retrieved in the previous step.\n",
    "\n",
    "Your output should be a Python list of developer names. Each name should not contain any html tag.\n",
    "\n",
    "**Instructions:**\n",
    "\n",
    "1. Find out the html tag and class names used for the developer names.\n",
    "\n",
    "1. Use string manipulation techniques to replace whitespaces and linebreaks (i.e. `\\n`) in the *text* of each html element. Use a list to store the clean names.\n",
    "\n",
    "1. Print the list of names.\n",
    "\n",
    "Your output should look like below:\n",
    "\n",
    "```\n",
    "['trimstray (@trimstray)',\n",
    " 'joewalnes (JoeWalnes)',\n",
    " 'charlax (Charles-AxelDein)',\n",
    " 'ForrestKnight (ForrestKnight)',\n",
    " 'revery-ui (revery-ui)',\n",
    " 'alibaba (Alibaba)',\n",
    " 'Microsoft (Microsoft)',\n",
    " 'github (GitHub)',\n",
    " 'facebook (Facebook)',\n",
    " 'boazsegev (Bo)',\n",
    " 'google (Google)',\n",
    " 'cloudfetch',\n",
    " 'sindresorhus (SindreSorhus)',\n",
    " 'tensorflow',\n",
    " 'apache (TheApacheSoftwareFoundation)',\n",
    " 'DevonCrawford (DevonCrawford)',\n",
    " 'ARMmbed (ArmMbed)',\n",
    " 'vuejs (vuejs)',\n",
    " 'fastai (fast.ai)',\n",
    " 'QiShaoXuan (Qi)',\n",
    " 'joelparkerhenderson (JoelParkerHenderson)',\n",
    " 'torvalds (LinusTorvalds)',\n",
    " 'CyC2018',\n",
    " 'komeiji-satori (神楽坂覚々)',\n",
    " 'script-8']\n",
    " ```"
   ]
  },
  {
   "cell_type": "markdown",
   "metadata": {},
   "source": [
    "#### Display the trending Python repositories in GitHub\n",
    "\n",
    "The steps to solve this problem is similar to the previous one except that you need to find out the repository names instead of developer names."
   ]
  },
  {
   "cell_type": "code",
   "execution_count": 9,
   "metadata": {},
   "outputs": [],
   "source": [
    "# This is the url you will scrape in this exercise\n",
    "url = 'https://github.com/trending/python?since=daily'\n",
    "driver.get(url)"
   ]
  },
  {
   "cell_type": "code",
   "execution_count": 10,
   "metadata": {},
   "outputs": [
    {
     "data": {
      "text/plain": [
       "[<selenium.webdriver.remote.webelement.WebElement (session=\"7ff67b91f1258bbfaa6fa4ad14e4adad\", element=\"ec1fd28c-8e64-437b-aa6d-3308b22727c2\")>,\n",
       " <selenium.webdriver.remote.webelement.WebElement (session=\"7ff67b91f1258bbfaa6fa4ad14e4adad\", element=\"1a748ae0-d212-4100-a6a2-0035291a10dc\")>,\n",
       " <selenium.webdriver.remote.webelement.WebElement (session=\"7ff67b91f1258bbfaa6fa4ad14e4adad\", element=\"18402060-417b-4075-8465-1de289b4a72a\")>,\n",
       " <selenium.webdriver.remote.webelement.WebElement (session=\"7ff67b91f1258bbfaa6fa4ad14e4adad\", element=\"d9b54306-32aa-427d-9b26-043c0b1c2f95\")>,\n",
       " <selenium.webdriver.remote.webelement.WebElement (session=\"7ff67b91f1258bbfaa6fa4ad14e4adad\", element=\"fa916f9e-90ef-4893-9bae-28711cdb09ee\")>,\n",
       " <selenium.webdriver.remote.webelement.WebElement (session=\"7ff67b91f1258bbfaa6fa4ad14e4adad\", element=\"81315d98-8021-496a-9ebf-94de6e621278\")>,\n",
       " <selenium.webdriver.remote.webelement.WebElement (session=\"7ff67b91f1258bbfaa6fa4ad14e4adad\", element=\"28f1f905-fb46-497a-922b-688ba943d983\")>,\n",
       " <selenium.webdriver.remote.webelement.WebElement (session=\"7ff67b91f1258bbfaa6fa4ad14e4adad\", element=\"b344946b-cea4-41ed-9ff3-7c2ecd9b9130\")>,\n",
       " <selenium.webdriver.remote.webelement.WebElement (session=\"7ff67b91f1258bbfaa6fa4ad14e4adad\", element=\"c43e5003-efc2-4778-8c62-fdc5c50f39ed\")>,\n",
       " <selenium.webdriver.remote.webelement.WebElement (session=\"7ff67b91f1258bbfaa6fa4ad14e4adad\", element=\"89e5e326-2732-4b19-9aba-ff99fe6bfb4e\")>,\n",
       " <selenium.webdriver.remote.webelement.WebElement (session=\"7ff67b91f1258bbfaa6fa4ad14e4adad\", element=\"419cd81d-7431-4f98-a35f-b556e4492639\")>,\n",
       " <selenium.webdriver.remote.webelement.WebElement (session=\"7ff67b91f1258bbfaa6fa4ad14e4adad\", element=\"aa701f0e-e761-43ef-bd59-fb58a10a43f8\")>,\n",
       " <selenium.webdriver.remote.webelement.WebElement (session=\"7ff67b91f1258bbfaa6fa4ad14e4adad\", element=\"c67e193e-da17-411c-a617-b2988a92600b\")>,\n",
       " <selenium.webdriver.remote.webelement.WebElement (session=\"7ff67b91f1258bbfaa6fa4ad14e4adad\", element=\"2a0b6d0e-220e-4f24-8428-38f8685cac35\")>,\n",
       " <selenium.webdriver.remote.webelement.WebElement (session=\"7ff67b91f1258bbfaa6fa4ad14e4adad\", element=\"6a066781-4bc3-4dae-92fe-46f672f54e4b\")>,\n",
       " <selenium.webdriver.remote.webelement.WebElement (session=\"7ff67b91f1258bbfaa6fa4ad14e4adad\", element=\"ddf64746-410e-4166-8f4e-9f34746418d6\")>,\n",
       " <selenium.webdriver.remote.webelement.WebElement (session=\"7ff67b91f1258bbfaa6fa4ad14e4adad\", element=\"e248a3ae-fbe8-45ff-8194-49db1638cb18\")>,\n",
       " <selenium.webdriver.remote.webelement.WebElement (session=\"7ff67b91f1258bbfaa6fa4ad14e4adad\", element=\"44f979d9-b5c0-4bf2-bccc-07b1071ae3ce\")>,\n",
       " <selenium.webdriver.remote.webelement.WebElement (session=\"7ff67b91f1258bbfaa6fa4ad14e4adad\", element=\"a0ce5322-e3c1-4da2-b5d7-2d478036cccc\")>,\n",
       " <selenium.webdriver.remote.webelement.WebElement (session=\"7ff67b91f1258bbfaa6fa4ad14e4adad\", element=\"71d54c7f-6a44-49e7-80bb-3c3b6b680e66\")>,\n",
       " <selenium.webdriver.remote.webelement.WebElement (session=\"7ff67b91f1258bbfaa6fa4ad14e4adad\", element=\"13a73ea8-bebd-4b60-8b83-10b1142cd5ff\")>,\n",
       " <selenium.webdriver.remote.webelement.WebElement (session=\"7ff67b91f1258bbfaa6fa4ad14e4adad\", element=\"c57fa9ef-82a0-45f7-b7a0-5102f2c4879a\")>,\n",
       " <selenium.webdriver.remote.webelement.WebElement (session=\"7ff67b91f1258bbfaa6fa4ad14e4adad\", element=\"34e2da6a-ef49-4b83-8d28-960042a7b61a\")>,\n",
       " <selenium.webdriver.remote.webelement.WebElement (session=\"7ff67b91f1258bbfaa6fa4ad14e4adad\", element=\"be65e3d1-2c34-4101-a997-a8b3c21bac98\")>,\n",
       " <selenium.webdriver.remote.webelement.WebElement (session=\"7ff67b91f1258bbfaa6fa4ad14e4adad\", element=\"df087b5f-7716-47eb-a6ba-db62d4c0672e\")>]"
      ]
     },
     "execution_count": 10,
     "metadata": {},
     "output_type": "execute_result"
    }
   ],
   "source": [
    "#your code\n",
    "titulo = driver.find_elements(By.CSS_SELECTOR, \"h2.h3.lh-condensed\")\n",
    "titulo"
   ]
  },
  {
   "cell_type": "code",
   "execution_count": 11,
   "metadata": {},
   "outputs": [
    {
     "data": {
      "text/plain": [
       "['gventuri / pandas-ai',\n",
       " 'mlc-ai / mlc-llm',\n",
       " 'xtekky / gpt4free',\n",
       " 'AIGC-Audio / AudioGPT',\n",
       " 'karpathy / nanoGPT',\n",
       " 'mishalhossin / Discord-Chatbot-Gpt4Free',\n",
       " 'xtekky / chatgpt-clone',\n",
       " 'georgia-tech-db / eva',\n",
       " 'frappe / frappe',\n",
       " 'farshadz1997 / Microsoft-Rewards-bot',\n",
       " 'mlc-ai / web-llm',\n",
       " 'ZrrSkywalker / LLaMA-Adapter',\n",
       " 'psf / black',\n",
       " 'Asabeneh / 30-Days-Of-Python',\n",
       " 'gptforfree / gpt4free',\n",
       " 'Arize-ai / phoenix',\n",
       " 'KurtBestor / Hitomi-Downloader',\n",
       " 'Luodian / Otter',\n",
       " 'gd3kr / BlenderGPT',\n",
       " 'yerfor / GeneFace',\n",
       " 'adieyal / sd-dynamic-prompts',\n",
       " 'ansible / ansible',\n",
       " 'WeOpenML / PandaLM',\n",
       " 'apache / tvm',\n",
       " 'openedx / edx-platform']"
      ]
     },
     "execution_count": 11,
     "metadata": {},
     "output_type": "execute_result"
    }
   ],
   "source": [
    "lista = []\n",
    "for i in titulo:\n",
    "    i = i.text\n",
    "    lista.append(i)\n",
    "lista"
   ]
  },
  {
   "cell_type": "markdown",
   "metadata": {},
   "source": [
    "#### Display all the image links from Walt Disney wikipedia page"
   ]
  },
  {
   "cell_type": "code",
   "execution_count": 12,
   "metadata": {},
   "outputs": [],
   "source": [
    "# This is the url you will scrape in this exercise\n",
    "url = 'https://en.wikipedia.org/wiki/Walt_Disney'\n",
    "driver.get(url)"
   ]
  },
  {
   "cell_type": "code",
   "execution_count": 13,
   "metadata": {},
   "outputs": [],
   "source": [
    "#your code\n",
    "fotos = driver.find_elements(By.TAG_NAME, 'img')"
   ]
  },
  {
   "cell_type": "code",
   "execution_count": 14,
   "metadata": {},
   "outputs": [
    {
     "data": {
      "text/plain": [
       "['https://en.wikipedia.org/static/images/icons/wikipedia.png',\n",
       " 'https://en.wikipedia.org/static/images/mobile/copyright/wikipedia-wordmark-en.svg',\n",
       " 'https://en.wikipedia.org/static/images/mobile/copyright/wikipedia-tagline-en.svg',\n",
       " 'https://upload.wikimedia.org/wikipedia/en/thumb/e/e7/Cscr-featured.svg/20px-Cscr-featured.svg.png',\n",
       " 'https://upload.wikimedia.org/wikipedia/en/thumb/8/8c/Extended-protection-shackle.svg/20px-Extended-protection-shackle.svg.png',\n",
       " 'https://upload.wikimedia.org/wikipedia/commons/thumb/d/df/Walt_Disney_1946.JPG/220px-Walt_Disney_1946.JPG',\n",
       " 'https://upload.wikimedia.org/wikipedia/commons/thumb/8/87/Walt_Disney_1942_signature.svg/150px-Walt_Disney_1942_signature.svg.png',\n",
       " 'https://upload.wikimedia.org/wikipedia/commons/thumb/3/3a/Walt_Disney_Birthplace_Exterior_Hermosa_Chicago_Illinois.jpg/220px-Walt_Disney_Birthplace_Exterior_Hermosa_Chicago_Illinois.jpg',\n",
       " 'https://upload.wikimedia.org/wikipedia/commons/thumb/c/c4/Walt_Disney_envelope_ca._1921.jpg/220px-Walt_Disney_envelope_ca._1921.jpg',\n",
       " 'https://upload.wikimedia.org/wikipedia/commons/thumb/0/0d/Trolley_Troubles_poster.jpg/170px-Trolley_Troubles_poster.jpg',\n",
       " 'https://upload.wikimedia.org/wikipedia/en/thumb/4/4e/Steamboat-willie.jpg/170px-Steamboat-willie.jpg',\n",
       " 'https://upload.wikimedia.org/wikipedia/commons/thumb/5/57/Walt_Disney_1935.jpg/170px-Walt_Disney_1935.jpg',\n",
       " 'https://upload.wikimedia.org/wikipedia/commons/thumb/c/cd/Walt_Disney_Snow_white_1937_trailer_screenshot_%2813%29.jpg/220px-Walt_Disney_Snow_white_1937_trailer_screenshot_%2813%29.jpg',\n",
       " 'https://upload.wikimedia.org/wikipedia/commons/thumb/1/15/Disney_drawing_goofy.jpg/170px-Disney_drawing_goofy.jpg',\n",
       " 'https://upload.wikimedia.org/wikipedia/commons/thumb/8/8c/WaltDisneyplansDisneylandDec1954.jpg/220px-WaltDisneyplansDisneylandDec1954.jpg',\n",
       " 'https://upload.wikimedia.org/wikipedia/commons/thumb/f/ff/Walt_disney_portrait_right.jpg/170px-Walt_disney_portrait_right.jpg',\n",
       " 'https://upload.wikimedia.org/wikipedia/commons/thumb/1/1a/Walt_Disney_Grave.JPG/170px-Walt_Disney_Grave.JPG',\n",
       " 'https://upload.wikimedia.org/wikipedia/commons/thumb/2/2d/Roy_O._Disney_with_Company_at_Press_Conference.jpg/170px-Roy_O._Disney_with_Company_at_Press_Conference.jpg',\n",
       " 'https://upload.wikimedia.org/wikipedia/commons/thumb/1/13/DisneySchiphol1951.jpg/220px-DisneySchiphol1951.jpg',\n",
       " 'https://upload.wikimedia.org/wikipedia/commons/thumb/6/6c/Disney1968.jpg/170px-Disney1968.jpg',\n",
       " 'https://upload.wikimedia.org/wikipedia/commons/thumb/b/b0/Disney_Oscar_1953_%28cropped%29.jpg/170px-Disney_Oscar_1953_%28cropped%29.jpg',\n",
       " 'https://upload.wikimedia.org/wikipedia/en/thumb/4/4a/Commons-logo.svg/30px-Commons-logo.svg.png',\n",
       " 'https://upload.wikimedia.org/wikipedia/commons/thumb/4/4c/Wikisource-logo.svg/38px-Wikisource-logo.svg.png',\n",
       " 'https://upload.wikimedia.org/wikipedia/commons/thumb/f/fa/Wikiquote-logo.svg/34px-Wikiquote-logo.svg.png',\n",
       " 'https://upload.wikimedia.org/wikipedia/en/thumb/8/8a/OOjs_UI_icon_edit-ltr-progressive.svg/10px-OOjs_UI_icon_edit-ltr-progressive.svg.png',\n",
       " 'https://upload.wikimedia.org/wikipedia/en/thumb/8/8a/OOjs_UI_icon_edit-ltr-progressive.svg/10px-OOjs_UI_icon_edit-ltr-progressive.svg.png',\n",
       " 'https://upload.wikimedia.org/wikipedia/commons/thumb/e/e3/Disneyland_Resort_logo.svg/135px-Disneyland_Resort_logo.svg.png',\n",
       " 'https://upload.wikimedia.org/wikipedia/commons/thumb/d/da/Animation_disc.svg/20px-Animation_disc.svg.png',\n",
       " 'https://upload.wikimedia.org/wikipedia/en/thumb/6/69/P_vip.svg/19px-P_vip.svg.png',\n",
       " 'https://upload.wikimedia.org/wikipedia/commons/thumb/1/1a/Magic_Kingdom_castle.jpg/15px-Magic_Kingdom_castle.jpg',\n",
       " 'https://upload.wikimedia.org/wikipedia/en/thumb/e/e7/Video-x-generic.svg/19px-Video-x-generic.svg.png',\n",
       " 'https://upload.wikimedia.org/wikipedia/commons/thumb/a/a3/Flag_of_Los_Angeles_County%2C_California.svg/21px-Flag_of_Los_Angeles_County%2C_California.svg.png',\n",
       " 'https://upload.wikimedia.org/wikipedia/commons/thumb/8/8c/Blank_television_set.svg/21px-Blank_television_set.svg.png',\n",
       " 'https://upload.wikimedia.org/wikipedia/en/thumb/a/a4/Flag_of_the_United_States.svg/21px-Flag_of_the_United_States.svg.png',\n",
       " 'https://upload.wikimedia.org/wikipedia/en/thumb/4/4a/Commons-logo.svg/14px-Commons-logo.svg.png',\n",
       " 'https://upload.wikimedia.org/wikipedia/commons/thumb/f/fa/Wikiquote-logo.svg/16px-Wikiquote-logo.svg.png',\n",
       " 'https://upload.wikimedia.org/wikipedia/commons/thumb/4/4c/Wikisource-logo.svg/18px-Wikisource-logo.svg.png',\n",
       " 'https://upload.wikimedia.org/wikipedia/commons/thumb/f/ff/Wikidata-logo.svg/21px-Wikidata-logo.svg.png',\n",
       " 'https://upload.wikimedia.org/wikipedia/en/thumb/8/8a/OOjs_UI_icon_edit-ltr-progressive.svg/10px-OOjs_UI_icon_edit-ltr-progressive.svg.png',\n",
       " 'https://en.wikipedia.org/static/images/footer/wikimedia-button.png',\n",
       " 'https://en.wikipedia.org/static/images/footer/poweredby_mediawiki_88x31.png']"
      ]
     },
     "execution_count": 14,
     "metadata": {},
     "output_type": "execute_result"
    }
   ],
   "source": [
    "[e.get_attribute(\"src\") for e in fotos]"
   ]
  },
  {
   "cell_type": "markdown",
   "metadata": {},
   "source": [
    "#### Retrieve an arbitary Wikipedia page of \"Python\" and create a list of links on that page"
   ]
  },
  {
   "cell_type": "code",
   "execution_count": 15,
   "metadata": {},
   "outputs": [],
   "source": [
    "# This is the url you will scrape in this exercise\n",
    "url ='https://en.wikipedia.org/wiki/Python'\n",
    "driver.get(url)"
   ]
  },
  {
   "cell_type": "code",
   "execution_count": 16,
   "metadata": {},
   "outputs": [
    {
     "data": {
      "text/plain": [
       "[<selenium.webdriver.remote.webelement.WebElement (session=\"7ff67b91f1258bbfaa6fa4ad14e4adad\", element=\"093b5fc7-c513-468f-9300-ea9cf16a7f19\")>,\n",
       " <selenium.webdriver.remote.webelement.WebElement (session=\"7ff67b91f1258bbfaa6fa4ad14e4adad\", element=\"dbbc8d04-b0d7-4824-b385-9beab687f699\")>,\n",
       " <selenium.webdriver.remote.webelement.WebElement (session=\"7ff67b91f1258bbfaa6fa4ad14e4adad\", element=\"2acc734a-d3ae-498e-9cba-557aee34d18a\")>,\n",
       " <selenium.webdriver.remote.webelement.WebElement (session=\"7ff67b91f1258bbfaa6fa4ad14e4adad\", element=\"ee5d59f3-bb06-4798-81f3-af19bd9cba8e\")>,\n",
       " <selenium.webdriver.remote.webelement.WebElement (session=\"7ff67b91f1258bbfaa6fa4ad14e4adad\", element=\"6a3fcf01-15a3-4f7c-875f-b8d658155f6b\")>,\n",
       " <selenium.webdriver.remote.webelement.WebElement (session=\"7ff67b91f1258bbfaa6fa4ad14e4adad\", element=\"3fc8880b-59c6-417f-924c-1b3cba2a1d18\")>,\n",
       " <selenium.webdriver.remote.webelement.WebElement (session=\"7ff67b91f1258bbfaa6fa4ad14e4adad\", element=\"39a78816-9022-4947-9226-87943fe1f996\")>,\n",
       " <selenium.webdriver.remote.webelement.WebElement (session=\"7ff67b91f1258bbfaa6fa4ad14e4adad\", element=\"b3fe4e8e-40f2-44cf-bc38-2cbe5d5b9668\")>,\n",
       " <selenium.webdriver.remote.webelement.WebElement (session=\"7ff67b91f1258bbfaa6fa4ad14e4adad\", element=\"3ea7eb60-5a39-4fd1-9e5f-8135fb6e01d1\")>,\n",
       " <selenium.webdriver.remote.webelement.WebElement (session=\"7ff67b91f1258bbfaa6fa4ad14e4adad\", element=\"5459fdd9-fe02-4ea8-b7d2-6800ca7f5097\")>,\n",
       " <selenium.webdriver.remote.webelement.WebElement (session=\"7ff67b91f1258bbfaa6fa4ad14e4adad\", element=\"3f9ab3d8-777c-411e-bdcd-c82d9d46facf\")>,\n",
       " <selenium.webdriver.remote.webelement.WebElement (session=\"7ff67b91f1258bbfaa6fa4ad14e4adad\", element=\"3228499a-f1f8-4ab3-bcd8-dc80544fdd63\")>,\n",
       " <selenium.webdriver.remote.webelement.WebElement (session=\"7ff67b91f1258bbfaa6fa4ad14e4adad\", element=\"fa679618-a2d6-4dbd-8477-193f9f72f6eb\")>,\n",
       " <selenium.webdriver.remote.webelement.WebElement (session=\"7ff67b91f1258bbfaa6fa4ad14e4adad\", element=\"a561e687-c2df-43b2-988b-105d1b3b3903\")>,\n",
       " <selenium.webdriver.remote.webelement.WebElement (session=\"7ff67b91f1258bbfaa6fa4ad14e4adad\", element=\"1ae564b2-0796-458a-9108-a28b63cb3c7f\")>,\n",
       " <selenium.webdriver.remote.webelement.WebElement (session=\"7ff67b91f1258bbfaa6fa4ad14e4adad\", element=\"ccf525cc-b255-45c4-b8d8-a5a6837fec2b\")>,\n",
       " <selenium.webdriver.remote.webelement.WebElement (session=\"7ff67b91f1258bbfaa6fa4ad14e4adad\", element=\"7ef1b93f-c80c-4a42-ba84-70c6a24a4ebb\")>,\n",
       " <selenium.webdriver.remote.webelement.WebElement (session=\"7ff67b91f1258bbfaa6fa4ad14e4adad\", element=\"94d08f17-ac6f-41e3-bcc6-cd845fea7c35\")>,\n",
       " <selenium.webdriver.remote.webelement.WebElement (session=\"7ff67b91f1258bbfaa6fa4ad14e4adad\", element=\"5b002fac-67db-44ac-960d-e8b238771ef6\")>,\n",
       " <selenium.webdriver.remote.webelement.WebElement (session=\"7ff67b91f1258bbfaa6fa4ad14e4adad\", element=\"25e4cbbc-f728-4616-81f8-00be966515fe\")>,\n",
       " <selenium.webdriver.remote.webelement.WebElement (session=\"7ff67b91f1258bbfaa6fa4ad14e4adad\", element=\"d035a025-7871-4bbb-b363-7bedbbed7292\")>,\n",
       " <selenium.webdriver.remote.webelement.WebElement (session=\"7ff67b91f1258bbfaa6fa4ad14e4adad\", element=\"7c800597-ba21-499e-a6a8-26e9a9c0d287\")>,\n",
       " <selenium.webdriver.remote.webelement.WebElement (session=\"7ff67b91f1258bbfaa6fa4ad14e4adad\", element=\"9a1b04b8-7523-41c3-9965-6df8a44d4866\")>,\n",
       " <selenium.webdriver.remote.webelement.WebElement (session=\"7ff67b91f1258bbfaa6fa4ad14e4adad\", element=\"3d360d8d-3dfd-447b-9e0c-c20eac85f485\")>,\n",
       " <selenium.webdriver.remote.webelement.WebElement (session=\"7ff67b91f1258bbfaa6fa4ad14e4adad\", element=\"bf9b69cb-9781-429c-86dd-fd0fe7fd7c11\")>,\n",
       " <selenium.webdriver.remote.webelement.WebElement (session=\"7ff67b91f1258bbfaa6fa4ad14e4adad\", element=\"b56f08ba-a9d7-443e-947e-e3a770f48f3e\")>,\n",
       " <selenium.webdriver.remote.webelement.WebElement (session=\"7ff67b91f1258bbfaa6fa4ad14e4adad\", element=\"ac1adbcc-985a-4747-909f-4493b47d6222\")>,\n",
       " <selenium.webdriver.remote.webelement.WebElement (session=\"7ff67b91f1258bbfaa6fa4ad14e4adad\", element=\"d6b2776f-1c19-4d55-8320-32675cd80b9b\")>,\n",
       " <selenium.webdriver.remote.webelement.WebElement (session=\"7ff67b91f1258bbfaa6fa4ad14e4adad\", element=\"77168909-cde7-47ac-9018-8c6ef4cc7244\")>,\n",
       " <selenium.webdriver.remote.webelement.WebElement (session=\"7ff67b91f1258bbfaa6fa4ad14e4adad\", element=\"55dec446-5254-4ec1-8805-5d817e887f30\")>,\n",
       " <selenium.webdriver.remote.webelement.WebElement (session=\"7ff67b91f1258bbfaa6fa4ad14e4adad\", element=\"adffa6ee-47ce-453b-9fc2-416a9dfbee8b\")>,\n",
       " <selenium.webdriver.remote.webelement.WebElement (session=\"7ff67b91f1258bbfaa6fa4ad14e4adad\", element=\"402549ca-3d61-41f2-b399-21c14ea87bde\")>,\n",
       " <selenium.webdriver.remote.webelement.WebElement (session=\"7ff67b91f1258bbfaa6fa4ad14e4adad\", element=\"c3e16a15-6af5-4b92-b19c-9d72a2a0774d\")>,\n",
       " <selenium.webdriver.remote.webelement.WebElement (session=\"7ff67b91f1258bbfaa6fa4ad14e4adad\", element=\"d5306ddf-3841-4631-94d0-075e9938af07\")>,\n",
       " <selenium.webdriver.remote.webelement.WebElement (session=\"7ff67b91f1258bbfaa6fa4ad14e4adad\", element=\"b5c9b3f6-2d44-43fa-a808-5bb30d082470\")>,\n",
       " <selenium.webdriver.remote.webelement.WebElement (session=\"7ff67b91f1258bbfaa6fa4ad14e4adad\", element=\"72fea0f7-2087-4360-91ae-088a010b1e9d\")>,\n",
       " <selenium.webdriver.remote.webelement.WebElement (session=\"7ff67b91f1258bbfaa6fa4ad14e4adad\", element=\"1296a8fd-cbd5-4831-b4f3-fa7e81a3df88\")>,\n",
       " <selenium.webdriver.remote.webelement.WebElement (session=\"7ff67b91f1258bbfaa6fa4ad14e4adad\", element=\"915b93b5-0950-4acd-a064-be936cd42561\")>,\n",
       " <selenium.webdriver.remote.webelement.WebElement (session=\"7ff67b91f1258bbfaa6fa4ad14e4adad\", element=\"e96e1b9f-efc2-43ea-8a2a-afbd96bafbc7\")>,\n",
       " <selenium.webdriver.remote.webelement.WebElement (session=\"7ff67b91f1258bbfaa6fa4ad14e4adad\", element=\"a0dbe611-cfba-4a68-8c96-75394a684a80\")>,\n",
       " <selenium.webdriver.remote.webelement.WebElement (session=\"7ff67b91f1258bbfaa6fa4ad14e4adad\", element=\"078ead01-a321-464c-977e-7fdff8a2a0e8\")>,\n",
       " <selenium.webdriver.remote.webelement.WebElement (session=\"7ff67b91f1258bbfaa6fa4ad14e4adad\", element=\"66891501-d92b-42d4-8ea2-2de3f5914b3f\")>,\n",
       " <selenium.webdriver.remote.webelement.WebElement (session=\"7ff67b91f1258bbfaa6fa4ad14e4adad\", element=\"50616ba3-b1e4-4c81-8d5b-a3028a19a09a\")>,\n",
       " <selenium.webdriver.remote.webelement.WebElement (session=\"7ff67b91f1258bbfaa6fa4ad14e4adad\", element=\"3494979c-6958-4e05-a340-f94e8a24567a\")>,\n",
       " <selenium.webdriver.remote.webelement.WebElement (session=\"7ff67b91f1258bbfaa6fa4ad14e4adad\", element=\"63590e7d-3414-4048-aea5-757708af7583\")>,\n",
       " <selenium.webdriver.remote.webelement.WebElement (session=\"7ff67b91f1258bbfaa6fa4ad14e4adad\", element=\"69d310cf-d012-4a9b-b712-0c21bd6e69c9\")>,\n",
       " <selenium.webdriver.remote.webelement.WebElement (session=\"7ff67b91f1258bbfaa6fa4ad14e4adad\", element=\"436396ad-379a-4e25-b73f-5b8b8ab6d525\")>,\n",
       " <selenium.webdriver.remote.webelement.WebElement (session=\"7ff67b91f1258bbfaa6fa4ad14e4adad\", element=\"ee88a63e-534e-4bd8-9625-5fdef2547559\")>,\n",
       " <selenium.webdriver.remote.webelement.WebElement (session=\"7ff67b91f1258bbfaa6fa4ad14e4adad\", element=\"f6f2ea3f-cff8-458f-b2f2-1e73fac9d7ff\")>,\n",
       " <selenium.webdriver.remote.webelement.WebElement (session=\"7ff67b91f1258bbfaa6fa4ad14e4adad\", element=\"5845800c-e61c-4594-b5e6-0daf769cde57\")>,\n",
       " <selenium.webdriver.remote.webelement.WebElement (session=\"7ff67b91f1258bbfaa6fa4ad14e4adad\", element=\"7c00c981-39c4-4caf-b90c-68ff2bd44b1f\")>,\n",
       " <selenium.webdriver.remote.webelement.WebElement (session=\"7ff67b91f1258bbfaa6fa4ad14e4adad\", element=\"469a85a5-9173-4d3d-a5cd-fe1c88413816\")>,\n",
       " <selenium.webdriver.remote.webelement.WebElement (session=\"7ff67b91f1258bbfaa6fa4ad14e4adad\", element=\"701d6e77-31e1-4b4a-a91a-a589bdf192d8\")>,\n",
       " <selenium.webdriver.remote.webelement.WebElement (session=\"7ff67b91f1258bbfaa6fa4ad14e4adad\", element=\"f33b4918-15f4-4aa4-90d5-93d81b555d38\")>,\n",
       " <selenium.webdriver.remote.webelement.WebElement (session=\"7ff67b91f1258bbfaa6fa4ad14e4adad\", element=\"2af33c14-7bc3-4f63-8db7-3ffa66ab34a3\")>,\n",
       " <selenium.webdriver.remote.webelement.WebElement (session=\"7ff67b91f1258bbfaa6fa4ad14e4adad\", element=\"a28fb91d-8404-496f-ab06-8044e400aaaf\")>,\n",
       " <selenium.webdriver.remote.webelement.WebElement (session=\"7ff67b91f1258bbfaa6fa4ad14e4adad\", element=\"ef9cc738-b0f0-4767-b63c-1ba2e920b7fd\")>,\n",
       " <selenium.webdriver.remote.webelement.WebElement (session=\"7ff67b91f1258bbfaa6fa4ad14e4adad\", element=\"4f4623e4-35a5-4e6a-8a32-d56497fafa79\")>,\n",
       " <selenium.webdriver.remote.webelement.WebElement (session=\"7ff67b91f1258bbfaa6fa4ad14e4adad\", element=\"68998571-aa66-4195-bda8-e3c1e5dcfd1f\")>,\n",
       " <selenium.webdriver.remote.webelement.WebElement (session=\"7ff67b91f1258bbfaa6fa4ad14e4adad\", element=\"77800955-0592-4234-8378-0a2f89ba4246\")>,\n",
       " <selenium.webdriver.remote.webelement.WebElement (session=\"7ff67b91f1258bbfaa6fa4ad14e4adad\", element=\"72557eed-5867-408c-86eb-f20bf32116bc\")>,\n",
       " <selenium.webdriver.remote.webelement.WebElement (session=\"7ff67b91f1258bbfaa6fa4ad14e4adad\", element=\"8566e61d-b595-4a76-a356-8217471f134f\")>,\n",
       " <selenium.webdriver.remote.webelement.WebElement (session=\"7ff67b91f1258bbfaa6fa4ad14e4adad\", element=\"28b8d911-c1c9-4fd5-9a5a-3e82cf1979da\")>,\n",
       " <selenium.webdriver.remote.webelement.WebElement (session=\"7ff67b91f1258bbfaa6fa4ad14e4adad\", element=\"97a8c389-04da-4228-9321-1f5165e8b68d\")>,\n",
       " <selenium.webdriver.remote.webelement.WebElement (session=\"7ff67b91f1258bbfaa6fa4ad14e4adad\", element=\"c68b3a27-2eaf-4f81-b10d-95773684b6c1\")>,\n",
       " <selenium.webdriver.remote.webelement.WebElement (session=\"7ff67b91f1258bbfaa6fa4ad14e4adad\", element=\"bc80807c-3d9e-4c9e-afb6-f16103d348be\")>,\n",
       " <selenium.webdriver.remote.webelement.WebElement (session=\"7ff67b91f1258bbfaa6fa4ad14e4adad\", element=\"ea5c43bc-f373-4cf7-9864-b1ca08495f73\")>,\n",
       " <selenium.webdriver.remote.webelement.WebElement (session=\"7ff67b91f1258bbfaa6fa4ad14e4adad\", element=\"c7e52990-2a8e-4d28-8312-aa99d5454252\")>,\n",
       " <selenium.webdriver.remote.webelement.WebElement (session=\"7ff67b91f1258bbfaa6fa4ad14e4adad\", element=\"966694ff-e197-4528-876b-6c957256c8e1\")>,\n",
       " <selenium.webdriver.remote.webelement.WebElement (session=\"7ff67b91f1258bbfaa6fa4ad14e4adad\", element=\"b26744dd-2834-49c0-b91c-f0efa8fbc574\")>,\n",
       " <selenium.webdriver.remote.webelement.WebElement (session=\"7ff67b91f1258bbfaa6fa4ad14e4adad\", element=\"06b9e6ae-0b13-4782-8028-35ff653b09a0\")>,\n",
       " <selenium.webdriver.remote.webelement.WebElement (session=\"7ff67b91f1258bbfaa6fa4ad14e4adad\", element=\"e6a00054-1cb1-4830-8056-a2dbf46e3366\")>,\n",
       " <selenium.webdriver.remote.webelement.WebElement (session=\"7ff67b91f1258bbfaa6fa4ad14e4adad\", element=\"882075a4-3c7c-4dc1-833b-12ce2d38d2bb\")>,\n",
       " <selenium.webdriver.remote.webelement.WebElement (session=\"7ff67b91f1258bbfaa6fa4ad14e4adad\", element=\"934778b0-751b-4537-b55b-305a0fe80f18\")>,\n",
       " <selenium.webdriver.remote.webelement.WebElement (session=\"7ff67b91f1258bbfaa6fa4ad14e4adad\", element=\"7d11cc05-1ea4-4ad0-951e-4305c41a811e\")>,\n",
       " <selenium.webdriver.remote.webelement.WebElement (session=\"7ff67b91f1258bbfaa6fa4ad14e4adad\", element=\"64de8039-3fd2-4153-945b-7e463dce6288\")>,\n",
       " <selenium.webdriver.remote.webelement.WebElement (session=\"7ff67b91f1258bbfaa6fa4ad14e4adad\", element=\"886598c2-df0e-41e8-aba2-8042c0ca9eca\")>,\n",
       " <selenium.webdriver.remote.webelement.WebElement (session=\"7ff67b91f1258bbfaa6fa4ad14e4adad\", element=\"673bf045-a5f1-420c-b869-865eae5fb5a7\")>,\n",
       " <selenium.webdriver.remote.webelement.WebElement (session=\"7ff67b91f1258bbfaa6fa4ad14e4adad\", element=\"413aaa36-7529-46b9-97f5-c483dcd05399\")>,\n",
       " <selenium.webdriver.remote.webelement.WebElement (session=\"7ff67b91f1258bbfaa6fa4ad14e4adad\", element=\"d26560a3-3721-47df-af0c-6419038d81a4\")>,\n",
       " <selenium.webdriver.remote.webelement.WebElement (session=\"7ff67b91f1258bbfaa6fa4ad14e4adad\", element=\"09e82244-5372-458b-afab-00f838385379\")>,\n",
       " <selenium.webdriver.remote.webelement.WebElement (session=\"7ff67b91f1258bbfaa6fa4ad14e4adad\", element=\"984a2037-158c-4be5-a843-f5e6e2dfb02b\")>,\n",
       " <selenium.webdriver.remote.webelement.WebElement (session=\"7ff67b91f1258bbfaa6fa4ad14e4adad\", element=\"c62c8574-b576-4951-b88b-b67cb65c4787\")>,\n",
       " <selenium.webdriver.remote.webelement.WebElement (session=\"7ff67b91f1258bbfaa6fa4ad14e4adad\", element=\"5ad67464-b837-476a-9a2d-3d8af010565a\")>,\n",
       " <selenium.webdriver.remote.webelement.WebElement (session=\"7ff67b91f1258bbfaa6fa4ad14e4adad\", element=\"daedcd25-3746-4c8a-9cda-f5bad0ac2706\")>,\n",
       " <selenium.webdriver.remote.webelement.WebElement (session=\"7ff67b91f1258bbfaa6fa4ad14e4adad\", element=\"22cd8ee8-5c29-4461-8d21-71b60d1a7abc\")>,\n",
       " <selenium.webdriver.remote.webelement.WebElement (session=\"7ff67b91f1258bbfaa6fa4ad14e4adad\", element=\"7ca5698e-c2de-4109-8161-9aa97f853571\")>,\n",
       " <selenium.webdriver.remote.webelement.WebElement (session=\"7ff67b91f1258bbfaa6fa4ad14e4adad\", element=\"fe7fa021-af68-4170-8743-d851705154c4\")>,\n",
       " <selenium.webdriver.remote.webelement.WebElement (session=\"7ff67b91f1258bbfaa6fa4ad14e4adad\", element=\"c6d5daaa-7943-4dd6-a1b2-3f1d2b3dd552\")>,\n",
       " <selenium.webdriver.remote.webelement.WebElement (session=\"7ff67b91f1258bbfaa6fa4ad14e4adad\", element=\"b5776efd-3120-4442-99ab-af863b24742e\")>,\n",
       " <selenium.webdriver.remote.webelement.WebElement (session=\"7ff67b91f1258bbfaa6fa4ad14e4adad\", element=\"5fbe125b-6a6c-482c-89c6-691cefba5b24\")>,\n",
       " <selenium.webdriver.remote.webelement.WebElement (session=\"7ff67b91f1258bbfaa6fa4ad14e4adad\", element=\"f918579c-c53f-4f51-806a-7372d2a2b6e9\")>,\n",
       " <selenium.webdriver.remote.webelement.WebElement (session=\"7ff67b91f1258bbfaa6fa4ad14e4adad\", element=\"647742f1-1179-4dfd-b2a6-ca3cbf0be52d\")>,\n",
       " <selenium.webdriver.remote.webelement.WebElement (session=\"7ff67b91f1258bbfaa6fa4ad14e4adad\", element=\"3ca0948e-a5b5-4ec6-b019-3066470810e2\")>,\n",
       " <selenium.webdriver.remote.webelement.WebElement (session=\"7ff67b91f1258bbfaa6fa4ad14e4adad\", element=\"5565dabc-3175-40dd-a5fe-a358eef3b1cd\")>,\n",
       " <selenium.webdriver.remote.webelement.WebElement (session=\"7ff67b91f1258bbfaa6fa4ad14e4adad\", element=\"8cde54d2-49ac-4652-8c73-aab62b5c89ac\")>,\n",
       " <selenium.webdriver.remote.webelement.WebElement (session=\"7ff67b91f1258bbfaa6fa4ad14e4adad\", element=\"2a870fd0-e476-4272-96a1-2361d056429a\")>,\n",
       " <selenium.webdriver.remote.webelement.WebElement (session=\"7ff67b91f1258bbfaa6fa4ad14e4adad\", element=\"824a889d-c3c1-40ef-b912-42fea4645c26\")>,\n",
       " <selenium.webdriver.remote.webelement.WebElement (session=\"7ff67b91f1258bbfaa6fa4ad14e4adad\", element=\"54a61170-c5b9-4d49-ad27-358182d12f2b\")>,\n",
       " <selenium.webdriver.remote.webelement.WebElement (session=\"7ff67b91f1258bbfaa6fa4ad14e4adad\", element=\"2ea1506a-df83-4747-a08b-96fbdfcc2e79\")>,\n",
       " <selenium.webdriver.remote.webelement.WebElement (session=\"7ff67b91f1258bbfaa6fa4ad14e4adad\", element=\"9d5563b9-4f25-4f99-a0f8-a93604883699\")>,\n",
       " <selenium.webdriver.remote.webelement.WebElement (session=\"7ff67b91f1258bbfaa6fa4ad14e4adad\", element=\"2d2d1410-bae3-4d56-aea1-4d608ad1507e\")>,\n",
       " <selenium.webdriver.remote.webelement.WebElement (session=\"7ff67b91f1258bbfaa6fa4ad14e4adad\", element=\"27601c1a-ade0-4ce0-8e72-35964e4fb1d9\")>,\n",
       " <selenium.webdriver.remote.webelement.WebElement (session=\"7ff67b91f1258bbfaa6fa4ad14e4adad\", element=\"35f41239-f992-4345-9d97-a31c8c4e261b\")>,\n",
       " <selenium.webdriver.remote.webelement.WebElement (session=\"7ff67b91f1258bbfaa6fa4ad14e4adad\", element=\"076abcb6-02b5-424f-ab2b-59018fda3bf5\")>,\n",
       " <selenium.webdriver.remote.webelement.WebElement (session=\"7ff67b91f1258bbfaa6fa4ad14e4adad\", element=\"114d25e8-4018-4493-90f3-95fa37a7725c\")>,\n",
       " <selenium.webdriver.remote.webelement.WebElement (session=\"7ff67b91f1258bbfaa6fa4ad14e4adad\", element=\"362f9d23-1351-4ca6-94e5-62a9b6776117\")>,\n",
       " <selenium.webdriver.remote.webelement.WebElement (session=\"7ff67b91f1258bbfaa6fa4ad14e4adad\", element=\"45f866b1-72fa-4ff9-99bd-f024461709a1\")>,\n",
       " <selenium.webdriver.remote.webelement.WebElement (session=\"7ff67b91f1258bbfaa6fa4ad14e4adad\", element=\"f0773ac4-b048-4196-98e6-e6e8f059582e\")>,\n",
       " <selenium.webdriver.remote.webelement.WebElement (session=\"7ff67b91f1258bbfaa6fa4ad14e4adad\", element=\"5575be51-fb1e-471b-a7bd-5fe0d6ab09da\")>,\n",
       " <selenium.webdriver.remote.webelement.WebElement (session=\"7ff67b91f1258bbfaa6fa4ad14e4adad\", element=\"2d858e91-3650-4e6e-967d-0e3e853d2dde\")>,\n",
       " <selenium.webdriver.remote.webelement.WebElement (session=\"7ff67b91f1258bbfaa6fa4ad14e4adad\", element=\"84690061-922d-49df-8be4-5a002e5a78c0\")>,\n",
       " <selenium.webdriver.remote.webelement.WebElement (session=\"7ff67b91f1258bbfaa6fa4ad14e4adad\", element=\"10071caf-43b9-42a1-8aff-b890b10ed30f\")>,\n",
       " <selenium.webdriver.remote.webelement.WebElement (session=\"7ff67b91f1258bbfaa6fa4ad14e4adad\", element=\"2bf9ac83-cd14-4fb7-bb68-86c8e0050e29\")>,\n",
       " <selenium.webdriver.remote.webelement.WebElement (session=\"7ff67b91f1258bbfaa6fa4ad14e4adad\", element=\"3c05ee13-7796-41fa-9533-efecb4186825\")>,\n",
       " <selenium.webdriver.remote.webelement.WebElement (session=\"7ff67b91f1258bbfaa6fa4ad14e4adad\", element=\"0eb233bd-12bf-4b4f-99ab-90a1cb8fb969\")>,\n",
       " <selenium.webdriver.remote.webelement.WebElement (session=\"7ff67b91f1258bbfaa6fa4ad14e4adad\", element=\"ef3a03ff-a554-4d33-957a-bf87ce16087b\")>,\n",
       " <selenium.webdriver.remote.webelement.WebElement (session=\"7ff67b91f1258bbfaa6fa4ad14e4adad\", element=\"15cf10bf-059c-4c3f-bc9e-d68a05b08333\")>,\n",
       " <selenium.webdriver.remote.webelement.WebElement (session=\"7ff67b91f1258bbfaa6fa4ad14e4adad\", element=\"c938737f-b793-4614-ae13-f723aebf550a\")>,\n",
       " <selenium.webdriver.remote.webelement.WebElement (session=\"7ff67b91f1258bbfaa6fa4ad14e4adad\", element=\"1d68b266-ffaf-4492-96eb-42d7263b05af\")>,\n",
       " <selenium.webdriver.remote.webelement.WebElement (session=\"7ff67b91f1258bbfaa6fa4ad14e4adad\", element=\"b21638d3-9343-46c8-be99-bb8822f8ee47\")>,\n",
       " <selenium.webdriver.remote.webelement.WebElement (session=\"7ff67b91f1258bbfaa6fa4ad14e4adad\", element=\"10c87610-1557-4250-a6c7-de9e01083789\")>,\n",
       " <selenium.webdriver.remote.webelement.WebElement (session=\"7ff67b91f1258bbfaa6fa4ad14e4adad\", element=\"d5f61e53-e46d-4660-9e41-9e35c73f2d4b\")>,\n",
       " <selenium.webdriver.remote.webelement.WebElement (session=\"7ff67b91f1258bbfaa6fa4ad14e4adad\", element=\"2f79624b-ef0a-4858-bede-f7b839ae4a56\")>,\n",
       " <selenium.webdriver.remote.webelement.WebElement (session=\"7ff67b91f1258bbfaa6fa4ad14e4adad\", element=\"bd96458f-ff12-42a9-ab83-7872ce57f4d5\")>,\n",
       " <selenium.webdriver.remote.webelement.WebElement (session=\"7ff67b91f1258bbfaa6fa4ad14e4adad\", element=\"9bf25c9e-afcb-4cfd-a296-353ef5073af4\")>,\n",
       " <selenium.webdriver.remote.webelement.WebElement (session=\"7ff67b91f1258bbfaa6fa4ad14e4adad\", element=\"3ea781b6-8c2a-443f-b47f-3e295adeee44\")>,\n",
       " <selenium.webdriver.remote.webelement.WebElement (session=\"7ff67b91f1258bbfaa6fa4ad14e4adad\", element=\"02332155-52e3-458c-b590-537de3560a72\")>,\n",
       " <selenium.webdriver.remote.webelement.WebElement (session=\"7ff67b91f1258bbfaa6fa4ad14e4adad\", element=\"03b2d868-68d6-4e96-a70a-5ffb38171a30\")>,\n",
       " <selenium.webdriver.remote.webelement.WebElement (session=\"7ff67b91f1258bbfaa6fa4ad14e4adad\", element=\"47176116-6801-4eba-9be2-93bcca9d0097\")>,\n",
       " <selenium.webdriver.remote.webelement.WebElement (session=\"7ff67b91f1258bbfaa6fa4ad14e4adad\", element=\"11896ec2-9025-4727-bb55-7131e5ea594e\")>,\n",
       " <selenium.webdriver.remote.webelement.WebElement (session=\"7ff67b91f1258bbfaa6fa4ad14e4adad\", element=\"88a5e99e-d27e-4855-973b-73662f2be752\")>,\n",
       " <selenium.webdriver.remote.webelement.WebElement (session=\"7ff67b91f1258bbfaa6fa4ad14e4adad\", element=\"41a2c1db-7567-43cb-a5d4-18bb272c18c6\")>,\n",
       " <selenium.webdriver.remote.webelement.WebElement (session=\"7ff67b91f1258bbfaa6fa4ad14e4adad\", element=\"1beb24d3-fdd4-457a-8033-46ede9eff207\")>,\n",
       " <selenium.webdriver.remote.webelement.WebElement (session=\"7ff67b91f1258bbfaa6fa4ad14e4adad\", element=\"e83c5494-0495-4ba9-9c81-5b978dbd6a80\")>,\n",
       " <selenium.webdriver.remote.webelement.WebElement (session=\"7ff67b91f1258bbfaa6fa4ad14e4adad\", element=\"880a8967-29ec-4048-804e-fbbe5ac7a99d\")>,\n",
       " <selenium.webdriver.remote.webelement.WebElement (session=\"7ff67b91f1258bbfaa6fa4ad14e4adad\", element=\"e9dd2223-f424-49bd-b147-67e524ebad3b\")>,\n",
       " <selenium.webdriver.remote.webelement.WebElement (session=\"7ff67b91f1258bbfaa6fa4ad14e4adad\", element=\"e98920ab-77d4-43ff-8920-d2574b6af601\")>,\n",
       " <selenium.webdriver.remote.webelement.WebElement (session=\"7ff67b91f1258bbfaa6fa4ad14e4adad\", element=\"0b6912a4-3306-473e-8677-6fb5febf031b\")>,\n",
       " <selenium.webdriver.remote.webelement.WebElement (session=\"7ff67b91f1258bbfaa6fa4ad14e4adad\", element=\"532496cd-0c74-40d6-bd0b-6518af7c3f34\")>,\n",
       " <selenium.webdriver.remote.webelement.WebElement (session=\"7ff67b91f1258bbfaa6fa4ad14e4adad\", element=\"9843abcf-7148-4a71-a0da-b44605c032cd\")>,\n",
       " <selenium.webdriver.remote.webelement.WebElement (session=\"7ff67b91f1258bbfaa6fa4ad14e4adad\", element=\"9398cc86-8197-4156-ba64-ddbec4b5e50d\")>,\n",
       " <selenium.webdriver.remote.webelement.WebElement (session=\"7ff67b91f1258bbfaa6fa4ad14e4adad\", element=\"9a2366bb-9262-4035-8bc6-4c245cd9dd92\")>,\n",
       " <selenium.webdriver.remote.webelement.WebElement (session=\"7ff67b91f1258bbfaa6fa4ad14e4adad\", element=\"88d311a7-6cbd-4517-bd74-c70954e05471\")>,\n",
       " <selenium.webdriver.remote.webelement.WebElement (session=\"7ff67b91f1258bbfaa6fa4ad14e4adad\", element=\"c0a87ae5-927a-4486-ae91-6b142f86b044\")>,\n",
       " <selenium.webdriver.remote.webelement.WebElement (session=\"7ff67b91f1258bbfaa6fa4ad14e4adad\", element=\"8adb2b59-2d1e-4f89-bfb1-b085551c98e5\")>,\n",
       " <selenium.webdriver.remote.webelement.WebElement (session=\"7ff67b91f1258bbfaa6fa4ad14e4adad\", element=\"9f9398db-c46b-4ed7-9a17-f8d012ac32e5\")>,\n",
       " <selenium.webdriver.remote.webelement.WebElement (session=\"7ff67b91f1258bbfaa6fa4ad14e4adad\", element=\"8cba69fa-849a-4540-ab29-939d5dd684f9\")>,\n",
       " <selenium.webdriver.remote.webelement.WebElement (session=\"7ff67b91f1258bbfaa6fa4ad14e4adad\", element=\"f0c8112b-c841-4b16-be67-a1a964760367\")>,\n",
       " <selenium.webdriver.remote.webelement.WebElement (session=\"7ff67b91f1258bbfaa6fa4ad14e4adad\", element=\"cfcbcd79-e7e0-4f93-8820-6c9523abfda9\")>,\n",
       " <selenium.webdriver.remote.webelement.WebElement (session=\"7ff67b91f1258bbfaa6fa4ad14e4adad\", element=\"c1cb8256-91dd-4356-be9b-0073fbcd873c\")>,\n",
       " <selenium.webdriver.remote.webelement.WebElement (session=\"7ff67b91f1258bbfaa6fa4ad14e4adad\", element=\"64dfe805-1a93-4cd8-85a2-70ab223a3e25\")>,\n",
       " <selenium.webdriver.remote.webelement.WebElement (session=\"7ff67b91f1258bbfaa6fa4ad14e4adad\", element=\"12e2869d-2a65-4598-bcc1-ef41f42540cc\")>,\n",
       " <selenium.webdriver.remote.webelement.WebElement (session=\"7ff67b91f1258bbfaa6fa4ad14e4adad\", element=\"36dd3b86-eceb-4ddb-9326-52e9c5fe0e6b\")>,\n",
       " <selenium.webdriver.remote.webelement.WebElement (session=\"7ff67b91f1258bbfaa6fa4ad14e4adad\", element=\"338619f2-e389-41f9-b929-1232fb7c5483\")>,\n",
       " <selenium.webdriver.remote.webelement.WebElement (session=\"7ff67b91f1258bbfaa6fa4ad14e4adad\", element=\"d5e04130-8e3c-4131-9ea0-c5f70cdd5f7e\")>,\n",
       " <selenium.webdriver.remote.webelement.WebElement (session=\"7ff67b91f1258bbfaa6fa4ad14e4adad\", element=\"0a425241-42c4-48d7-b9cc-7152803a2d95\")>,\n",
       " <selenium.webdriver.remote.webelement.WebElement (session=\"7ff67b91f1258bbfaa6fa4ad14e4adad\", element=\"957e0eaf-307d-4ec9-b7b7-c5b340fcfaa9\")>,\n",
       " <selenium.webdriver.remote.webelement.WebElement (session=\"7ff67b91f1258bbfaa6fa4ad14e4adad\", element=\"ff58fdc4-10b1-4d08-b306-8f3981d37ce5\")>,\n",
       " <selenium.webdriver.remote.webelement.WebElement (session=\"7ff67b91f1258bbfaa6fa4ad14e4adad\", element=\"a7658c04-d378-423c-94b1-d7327a8bc207\")>,\n",
       " <selenium.webdriver.remote.webelement.WebElement (session=\"7ff67b91f1258bbfaa6fa4ad14e4adad\", element=\"b2612aea-40ad-4a50-bbcd-759e2222e509\")>]"
      ]
     },
     "execution_count": 16,
     "metadata": {},
     "output_type": "execute_result"
    }
   ],
   "source": [
    "#your code\n",
    "resultado = driver.find_elements(By.TAG_NAME, 'a')\n",
    "resultado"
   ]
  },
  {
   "cell_type": "code",
   "execution_count": 17,
   "metadata": {},
   "outputs": [
    {
     "data": {
      "text/plain": [
       "['https://en.wikipedia.org/wiki/Python#bodyContent',\n",
       " 'https://en.wikipedia.org/wiki/Main_Page',\n",
       " 'https://en.wikipedia.org/wiki/Wikipedia:Contents',\n",
       " 'https://en.wikipedia.org/wiki/Portal:Current_events',\n",
       " 'https://en.wikipedia.org/wiki/Special:Random',\n",
       " 'https://en.wikipedia.org/wiki/Wikipedia:About',\n",
       " 'https://en.wikipedia.org/wiki/Wikipedia:Contact_us',\n",
       " 'https://donate.wikimedia.org/wiki/Special:FundraiserRedirector?utm_source=donate&utm_medium=sidebar&utm_campaign=C13_en.wikipedia.org&uselang=en',\n",
       " 'https://en.wikipedia.org/wiki/Help:Contents',\n",
       " 'https://en.wikipedia.org/wiki/Help:Introduction',\n",
       " 'https://en.wikipedia.org/wiki/Wikipedia:Community_portal',\n",
       " 'https://en.wikipedia.org/wiki/Special:RecentChanges',\n",
       " 'https://en.wikipedia.org/wiki/Wikipedia:File_upload_wizard',\n",
       " 'https://en.wikipedia.org/wiki/Main_Page',\n",
       " 'https://en.wikipedia.org/wiki/Special:Search',\n",
       " 'https://en.wikipedia.org/w/index.php?title=Special:CreateAccount&returnto=Python',\n",
       " 'https://en.wikipedia.org/w/index.php?title=Special:UserLogin&returnto=Python',\n",
       " 'https://en.wikipedia.org/w/index.php?title=Special:CreateAccount&returnto=Python',\n",
       " 'https://en.wikipedia.org/w/index.php?title=Special:UserLogin&returnto=Python',\n",
       " 'https://en.wikipedia.org/wiki/Help:Introduction',\n",
       " 'https://en.wikipedia.org/wiki/Special:MyContributions',\n",
       " 'https://en.wikipedia.org/wiki/Special:MyTalk',\n",
       " 'https://en.wikipedia.org/wiki/Python#',\n",
       " 'https://en.wikipedia.org/wiki/Python#Snakes',\n",
       " 'https://en.wikipedia.org/wiki/Python#Computing',\n",
       " 'https://en.wikipedia.org/wiki/Python#People',\n",
       " 'https://en.wikipedia.org/wiki/Python#Roller_coasters',\n",
       " 'https://en.wikipedia.org/wiki/Python#Vehicles',\n",
       " 'https://en.wikipedia.org/wiki/Python#Weaponry',\n",
       " 'https://en.wikipedia.org/wiki/Python#Other_uses',\n",
       " 'https://en.wikipedia.org/wiki/Python#See_also',\n",
       " 'https://af.wikipedia.org/wiki/Python',\n",
       " 'https://als.wikipedia.org/wiki/Python',\n",
       " 'https://ar.wikipedia.org/wiki/%D8%A8%D8%A7%D9%8A%D8%AB%D9%88%D9%86_(%D8%AA%D9%88%D8%B6%D9%8A%D8%AD)',\n",
       " 'https://az.wikipedia.org/wiki/Python_(d%C9%99qiql%C9%99%C5%9Fdirm%C9%99)',\n",
       " 'https://bn.wikipedia.org/wiki/%E0%A6%AA%E0%A6%BE%E0%A6%87%E0%A6%A5%E0%A6%A8_(%E0%A6%A6%E0%A7%8D%E0%A6%AC%E0%A7%8D%E0%A6%AF%E0%A6%B0%E0%A7%8D%E0%A6%A5%E0%A6%A4%E0%A6%BE_%E0%A6%A8%E0%A6%BF%E0%A6%B0%E0%A6%B8%E0%A6%A8)',\n",
       " 'https://be.wikipedia.org/wiki/Python',\n",
       " 'https://bg.wikipedia.org/wiki/%D0%9F%D0%B8%D1%82%D0%BE%D0%BD_(%D0%BF%D0%BE%D1%8F%D1%81%D0%BD%D0%B5%D0%BD%D0%B8%D0%B5)',\n",
       " 'https://cs.wikipedia.org/wiki/Python_(rozcestn%C3%ADk)',\n",
       " 'https://da.wikipedia.org/wiki/Python',\n",
       " 'https://de.wikipedia.org/wiki/Python',\n",
       " 'https://eo.wikipedia.org/wiki/Pitono_(apartigilo)',\n",
       " 'https://eu.wikipedia.org/wiki/Python_(argipena)',\n",
       " 'https://fa.wikipedia.org/wiki/%D9%BE%D8%A7%DB%8C%D8%AA%D9%88%D9%86',\n",
       " 'https://fr.wikipedia.org/wiki/Python',\n",
       " 'https://ko.wikipedia.org/wiki/%ED%8C%8C%EC%9D%B4%EC%84%A0',\n",
       " 'https://hr.wikipedia.org/wiki/Python_(razdvojba)',\n",
       " 'https://io.wikipedia.org/wiki/Pitono',\n",
       " 'https://id.wikipedia.org/wiki/Python',\n",
       " 'https://ia.wikipedia.org/wiki/Python_(disambiguation)',\n",
       " 'https://is.wikipedia.org/wiki/Python_(a%C3%B0greining)',\n",
       " 'https://it.wikipedia.org/wiki/Python_(disambigua)',\n",
       " 'https://he.wikipedia.org/wiki/%D7%A4%D7%99%D7%AA%D7%95%D7%9F',\n",
       " 'https://ka.wikipedia.org/wiki/%E1%83%9E%E1%83%98%E1%83%97%E1%83%9D%E1%83%9C%E1%83%98_(%E1%83%9B%E1%83%A0%E1%83%90%E1%83%95%E1%83%90%E1%83%9A%E1%83%9B%E1%83%9C%E1%83%98%E1%83%A8%E1%83%95%E1%83%9C%E1%83%94%E1%83%9A%E1%83%9D%E1%83%95%E1%83%90%E1%83%9C%E1%83%98)',\n",
       " 'https://kg.wikipedia.org/wiki/Mboma_(nyoka)',\n",
       " 'https://la.wikipedia.org/wiki/Python_(discretiva)',\n",
       " 'https://lb.wikipedia.org/wiki/Python',\n",
       " 'https://hu.wikipedia.org/wiki/Python_(egy%C3%A9rtelm%C5%B1s%C3%ADt%C5%91_lap)',\n",
       " 'https://mr.wikipedia.org/wiki/%E0%A4%AA%E0%A4%BE%E0%A4%AF%E0%A4%A5%E0%A5%89%E0%A4%A8_(%E0%A4%86%E0%A4%9C%E0%A5%8D%E0%A4%9E%E0%A4%BE%E0%A4%B5%E0%A4%B2%E0%A5%80_%E0%A4%AD%E0%A4%BE%E0%A4%B7%E0%A4%BE)',\n",
       " 'https://nl.wikipedia.org/wiki/Python',\n",
       " 'https://ja.wikipedia.org/wiki/%E3%83%91%E3%82%A4%E3%82%BD%E3%83%B3',\n",
       " 'https://no.wikipedia.org/wiki/Pyton',\n",
       " 'https://pl.wikipedia.org/wiki/Pyton',\n",
       " 'https://pt.wikipedia.org/wiki/Python_(desambigua%C3%A7%C3%A3o)',\n",
       " 'https://ru.wikipedia.org/wiki/Python_(%D0%B7%D0%BD%D0%B0%D1%87%D0%B5%D0%BD%D0%B8%D1%8F)',\n",
       " 'https://sk.wikipedia.org/wiki/Python',\n",
       " 'https://sr.wikipedia.org/wiki/%D0%9F%D0%B8%D1%82%D0%BE%D0%BD_(%D0%B2%D0%B8%D1%88%D0%B5%D0%B7%D0%BD%D0%B0%D1%87%D0%BD%D0%B0_%D0%BE%D0%B4%D1%80%D0%B5%D0%B4%D0%BD%D0%B8%D1%86%D0%B0)',\n",
       " 'https://sh.wikipedia.org/wiki/Python',\n",
       " 'https://fi.wikipedia.org/wiki/Python',\n",
       " 'https://sv.wikipedia.org/wiki/Pyton',\n",
       " 'https://th.wikipedia.org/wiki/%E0%B9%84%E0%B8%9E%E0%B8%97%E0%B8%AD%E0%B8%99',\n",
       " 'https://tr.wikipedia.org/wiki/Python_(anlam_ayr%C4%B1m%C4%B1)',\n",
       " 'https://uk.wikipedia.org/wiki/%D0%9F%D1%96%D1%84%D0%BE%D0%BD',\n",
       " 'https://ur.wikipedia.org/wiki/%D9%BE%D8%A7%D8%A6%DB%8C%D8%AA%DA%BE%D9%88%D9%86',\n",
       " 'https://vi.wikipedia.org/wiki/Python',\n",
       " 'https://zh.wikipedia.org/wiki/Python_(%E6%B6%88%E6%AD%A7%E4%B9%89)',\n",
       " 'https://www.wikidata.org/wiki/Special:EntityPage/Q747452#sitelinks-wikipedia',\n",
       " 'https://en.wikipedia.org/wiki/Python',\n",
       " 'https://en.wikipedia.org/wiki/Talk:Python',\n",
       " 'https://en.wikipedia.org/wiki/Python',\n",
       " 'https://en.wikipedia.org/w/index.php?title=Python&action=edit&editintro=Template:Disambig_editintro',\n",
       " 'https://en.wikipedia.org/w/index.php?title=Python&action=history',\n",
       " 'https://en.wikipedia.org/wiki/Python',\n",
       " 'https://en.wikipedia.org/w/index.php?title=Python&action=edit',\n",
       " 'https://en.wikipedia.org/w/index.php?title=Python&action=history',\n",
       " 'https://en.wikipedia.org/wiki/Special:WhatLinksHere/Python',\n",
       " 'https://en.wikipedia.org/wiki/Special:RecentChangesLinked/Python',\n",
       " 'https://en.wikipedia.org/wiki/Wikipedia:File_Upload_Wizard',\n",
       " 'https://en.wikipedia.org/wiki/Special:SpecialPages',\n",
       " 'https://en.wikipedia.org/w/index.php?title=Python&oldid=1148531488',\n",
       " 'https://en.wikipedia.org/w/index.php?title=Python&action=info',\n",
       " 'https://en.wikipedia.org/w/index.php?title=Special:CiteThisPage&page=Python&id=1148531488&wpFormIdentifier=titleform',\n",
       " 'https://www.wikidata.org/wiki/Special:EntityPage/Q747452',\n",
       " 'https://www.wikidata.org/wiki/Special:EntityPage/Q747452#sitelinks-wikipedia',\n",
       " 'https://en.wikipedia.org/w/index.php?title=Special:DownloadAsPdf&page=Python&action=show-download-screen',\n",
       " 'https://en.wikipedia.org/w/index.php?title=Python&printable=yes',\n",
       " 'https://commons.wikimedia.org/wiki/Category:Python',\n",
       " 'https://en.wiktionary.org/wiki/Python',\n",
       " 'https://en.wiktionary.org/wiki/python',\n",
       " 'https://en.wikipedia.org/w/index.php?title=Python&action=edit&section=1&editintro=Template:Disambig_editintro',\n",
       " 'https://en.wikipedia.org/wiki/Pythonidae',\n",
       " 'https://en.wikipedia.org/wiki/Python_(genus)',\n",
       " 'https://en.wikipedia.org/wiki/Python_(mythology)',\n",
       " 'https://en.wikipedia.org/w/index.php?title=Python&action=edit&section=2&editintro=Template:Disambig_editintro',\n",
       " 'https://en.wikipedia.org/wiki/Python_(programming_language)',\n",
       " 'https://en.wikipedia.org/wiki/CMU_Common_Lisp',\n",
       " 'https://en.wikipedia.org/wiki/PERQ#PERQ_3',\n",
       " 'https://en.wikipedia.org/w/index.php?title=Python&action=edit&section=3&editintro=Template:Disambig_editintro',\n",
       " 'https://en.wikipedia.org/wiki/Python_of_Aenus',\n",
       " 'https://en.wikipedia.org/wiki/Python_(painter)',\n",
       " 'https://en.wikipedia.org/wiki/Python_of_Byzantium',\n",
       " 'https://en.wikipedia.org/wiki/Python_of_Catana',\n",
       " 'https://en.wikipedia.org/wiki/Python_Anghelo',\n",
       " 'https://en.wikipedia.org/w/index.php?title=Python&action=edit&section=4&editintro=Template:Disambig_editintro',\n",
       " 'https://en.wikipedia.org/wiki/Python_(Efteling)',\n",
       " 'https://en.wikipedia.org/wiki/Python_(Busch_Gardens_Tampa_Bay)',\n",
       " 'https://en.wikipedia.org/wiki/Python_(Coney_Island,_Cincinnati,_Ohio)',\n",
       " 'https://en.wikipedia.org/w/index.php?title=Python&action=edit&section=5&editintro=Template:Disambig_editintro',\n",
       " 'https://en.wikipedia.org/wiki/Python_(automobile_maker)',\n",
       " 'https://en.wikipedia.org/wiki/Python_(Ford_prototype)',\n",
       " 'https://en.wikipedia.org/w/index.php?title=Python&action=edit&section=6&editintro=Template:Disambig_editintro',\n",
       " 'https://en.wikipedia.org/wiki/Python_(missile)',\n",
       " 'https://en.wikipedia.org/wiki/Python_(nuclear_primary)',\n",
       " 'https://en.wikipedia.org/wiki/Colt_Python',\n",
       " 'https://en.wikipedia.org/w/index.php?title=Python&action=edit&section=7&editintro=Template:Disambig_editintro',\n",
       " 'https://en.wikipedia.org/wiki/Python_(codename)',\n",
       " 'https://en.wikipedia.org/wiki/Python_(film)',\n",
       " 'https://en.wikipedia.org/wiki/Monty_Python',\n",
       " 'https://en.wikipedia.org/wiki/Python_(Monty)_Pictures',\n",
       " 'https://en.wikipedia.org/wiki/Timon_of_Phlius',\n",
       " 'https://en.wikipedia.org/w/index.php?title=Python&action=edit&section=8&editintro=Template:Disambig_editintro',\n",
       " 'https://en.wikipedia.org/wiki/Pyton',\n",
       " 'https://en.wikipedia.org/wiki/Pithon',\n",
       " 'https://en.wikipedia.org/wiki/File:Disambig_gray.svg',\n",
       " 'https://en.wikipedia.org/wiki/Help:Disambiguation',\n",
       " 'https://en.wikipedia.org/w/index.php?title=Special:WhatLinksHere/Python&namespace=0',\n",
       " 'https://en.wikipedia.org/w/index.php?title=Python&oldid=1148531488',\n",
       " 'https://en.wikipedia.org/wiki/Help:Category',\n",
       " 'https://en.wikipedia.org/wiki/Category:Disambiguation_pages',\n",
       " 'https://en.wikipedia.org/wiki/Category:Human_name_disambiguation_pages',\n",
       " 'https://en.wikipedia.org/wiki/Category:Disambiguation_pages_with_given-name-holder_lists',\n",
       " 'https://en.wikipedia.org/wiki/Category:Short_description_is_different_from_Wikidata',\n",
       " 'https://en.wikipedia.org/wiki/Category:All_article_disambiguation_pages',\n",
       " 'https://en.wikipedia.org/wiki/Category:All_disambiguation_pages',\n",
       " 'https://en.wikipedia.org/wiki/Category:Animal_common_name_disambiguation_pages',\n",
       " 'https://en.wikipedia.org/wiki/Wikipedia:Text_of_the_Creative_Commons_Attribution-ShareAlike_3.0_Unported_License',\n",
       " 'https://creativecommons.org/licenses/by-sa/3.0/',\n",
       " 'https://foundation.wikimedia.org/wiki/Terms_of_Use',\n",
       " 'https://foundation.wikimedia.org/wiki/Privacy_policy',\n",
       " 'https://www.wikimediafoundation.org/',\n",
       " 'https://foundation.wikimedia.org/wiki/Privacy_policy',\n",
       " 'https://en.wikipedia.org/wiki/Wikipedia:About',\n",
       " 'https://en.wikipedia.org/wiki/Wikipedia:General_disclaimer',\n",
       " 'https://en.wikipedia.org/wiki/Wikipedia:Contact_us',\n",
       " 'https://en.m.wikipedia.org/w/index.php?title=Python&mobileaction=toggle_view_mobile',\n",
       " 'https://developer.wikimedia.org/',\n",
       " 'https://stats.wikimedia.org/#/en.wikipedia.org',\n",
       " 'https://foundation.wikimedia.org/wiki/Cookie_statement',\n",
       " 'https://en.wikipedia.org/wiki/Python#',\n",
       " 'https://wikimediafoundation.org/',\n",
       " 'https://www.mediawiki.org/']"
      ]
     },
     "execution_count": 17,
     "metadata": {},
     "output_type": "execute_result"
    }
   ],
   "source": [
    "[e.get_attribute(\"href\") for e in resultado]\n"
   ]
  },
  {
   "cell_type": "markdown",
   "metadata": {},
   "source": [
    "#### Number of Titles that have changed in the United States Code since its last release point "
   ]
  },
  {
   "cell_type": "code",
   "execution_count": 18,
   "metadata": {},
   "outputs": [],
   "source": [
    "# This is the url you will scrape in this exercise\n",
    "url = 'http://uscode.house.gov/download/download.shtml'\n",
    "driver.get(url)"
   ]
  },
  {
   "cell_type": "code",
   "execution_count": 19,
   "metadata": {},
   "outputs": [
    {
     "data": {
      "text/plain": [
       "[<selenium.webdriver.remote.webelement.WebElement (session=\"7ff67b91f1258bbfaa6fa4ad14e4adad\", element=\"72a19acf-634e-438a-93a8-440da721e6fb\")>,\n",
       " <selenium.webdriver.remote.webelement.WebElement (session=\"7ff67b91f1258bbfaa6fa4ad14e4adad\", element=\"784e358c-7915-45ad-9460-f47a55741ce9\")>,\n",
       " <selenium.webdriver.remote.webelement.WebElement (session=\"7ff67b91f1258bbfaa6fa4ad14e4adad\", element=\"78bdc4fd-98fc-47f2-ad19-ae43ea2436cc\")>,\n",
       " <selenium.webdriver.remote.webelement.WebElement (session=\"7ff67b91f1258bbfaa6fa4ad14e4adad\", element=\"7df80117-f159-441f-ad1a-56b7b947d743\")>,\n",
       " <selenium.webdriver.remote.webelement.WebElement (session=\"7ff67b91f1258bbfaa6fa4ad14e4adad\", element=\"1f1d0f94-e5a1-46a3-bdf7-fe67959498ed\")>,\n",
       " <selenium.webdriver.remote.webelement.WebElement (session=\"7ff67b91f1258bbfaa6fa4ad14e4adad\", element=\"d79ba528-1eb2-4258-ad40-2810c823f3f7\")>,\n",
       " <selenium.webdriver.remote.webelement.WebElement (session=\"7ff67b91f1258bbfaa6fa4ad14e4adad\", element=\"8c66593f-40cc-4bf4-86c0-863e59868682\")>,\n",
       " <selenium.webdriver.remote.webelement.WebElement (session=\"7ff67b91f1258bbfaa6fa4ad14e4adad\", element=\"30514a44-8855-4e59-8c1e-c35a303031a0\")>,\n",
       " <selenium.webdriver.remote.webelement.WebElement (session=\"7ff67b91f1258bbfaa6fa4ad14e4adad\", element=\"01e3e235-6f44-4f7a-84b4-2c644f58eeba\")>,\n",
       " <selenium.webdriver.remote.webelement.WebElement (session=\"7ff67b91f1258bbfaa6fa4ad14e4adad\", element=\"5a35f703-d097-4f1b-be7d-c5ed9a108021\")>,\n",
       " <selenium.webdriver.remote.webelement.WebElement (session=\"7ff67b91f1258bbfaa6fa4ad14e4adad\", element=\"0b960b9b-a303-4314-9df4-398ebb459a58\")>,\n",
       " <selenium.webdriver.remote.webelement.WebElement (session=\"7ff67b91f1258bbfaa6fa4ad14e4adad\", element=\"550cd21a-d8bd-4151-82d2-c98e0021ba57\")>,\n",
       " <selenium.webdriver.remote.webelement.WebElement (session=\"7ff67b91f1258bbfaa6fa4ad14e4adad\", element=\"523e2bbe-cdfe-4d5d-96b2-099604c18043\")>,\n",
       " <selenium.webdriver.remote.webelement.WebElement (session=\"7ff67b91f1258bbfaa6fa4ad14e4adad\", element=\"a1b3c70c-a756-45a8-87ad-96ab1733341f\")>,\n",
       " <selenium.webdriver.remote.webelement.WebElement (session=\"7ff67b91f1258bbfaa6fa4ad14e4adad\", element=\"8a89f7aa-43fd-410c-8afc-349bd1eed54f\")>,\n",
       " <selenium.webdriver.remote.webelement.WebElement (session=\"7ff67b91f1258bbfaa6fa4ad14e4adad\", element=\"902e94a8-ed7d-4ebb-9b5a-aa3dc8731ce2\")>,\n",
       " <selenium.webdriver.remote.webelement.WebElement (session=\"7ff67b91f1258bbfaa6fa4ad14e4adad\", element=\"0eeb46b6-6489-46fa-9ad8-1762b50d877f\")>,\n",
       " <selenium.webdriver.remote.webelement.WebElement (session=\"7ff67b91f1258bbfaa6fa4ad14e4adad\", element=\"9f5139c2-932f-402b-bc49-f1ad57334b35\")>,\n",
       " <selenium.webdriver.remote.webelement.WebElement (session=\"7ff67b91f1258bbfaa6fa4ad14e4adad\", element=\"fddb25e2-bde0-4d6f-98f0-d377255d0190\")>,\n",
       " <selenium.webdriver.remote.webelement.WebElement (session=\"7ff67b91f1258bbfaa6fa4ad14e4adad\", element=\"8de737c9-d92c-429d-9306-88ae0c62e058\")>,\n",
       " <selenium.webdriver.remote.webelement.WebElement (session=\"7ff67b91f1258bbfaa6fa4ad14e4adad\", element=\"8eee7446-cbb8-478a-a8f1-e419a523a5b0\")>,\n",
       " <selenium.webdriver.remote.webelement.WebElement (session=\"7ff67b91f1258bbfaa6fa4ad14e4adad\", element=\"bf89c7b9-ea42-410a-9092-8cea5c30788b\")>,\n",
       " <selenium.webdriver.remote.webelement.WebElement (session=\"7ff67b91f1258bbfaa6fa4ad14e4adad\", element=\"2333475f-d3b8-46e3-829d-9f9ea5cda74e\")>,\n",
       " <selenium.webdriver.remote.webelement.WebElement (session=\"7ff67b91f1258bbfaa6fa4ad14e4adad\", element=\"6d109bae-7487-4420-b7fe-eaf10c0ebdab\")>,\n",
       " <selenium.webdriver.remote.webelement.WebElement (session=\"7ff67b91f1258bbfaa6fa4ad14e4adad\", element=\"347af046-981a-4780-9f41-0e9fb4b7e7e9\")>,\n",
       " <selenium.webdriver.remote.webelement.WebElement (session=\"7ff67b91f1258bbfaa6fa4ad14e4adad\", element=\"fe20b937-0c66-4086-b010-7afdadf27b3d\")>,\n",
       " <selenium.webdriver.remote.webelement.WebElement (session=\"7ff67b91f1258bbfaa6fa4ad14e4adad\", element=\"89abde59-f2ed-46e0-a5d9-6b82a6061e4e\")>,\n",
       " <selenium.webdriver.remote.webelement.WebElement (session=\"7ff67b91f1258bbfaa6fa4ad14e4adad\", element=\"372de430-8f45-446b-869b-21bd6ae6d5d1\")>,\n",
       " <selenium.webdriver.remote.webelement.WebElement (session=\"7ff67b91f1258bbfaa6fa4ad14e4adad\", element=\"b2d12eb1-3b67-4e90-8df7-b563409958c0\")>,\n",
       " <selenium.webdriver.remote.webelement.WebElement (session=\"7ff67b91f1258bbfaa6fa4ad14e4adad\", element=\"1f8b9dd3-b4d3-4208-982f-ac9c6198c067\")>,\n",
       " <selenium.webdriver.remote.webelement.WebElement (session=\"7ff67b91f1258bbfaa6fa4ad14e4adad\", element=\"3fa38c90-3053-490b-96cf-05c9f03356bb\")>,\n",
       " <selenium.webdriver.remote.webelement.WebElement (session=\"7ff67b91f1258bbfaa6fa4ad14e4adad\", element=\"1745fa1f-dc29-418f-8857-7a197ae1ceb9\")>,\n",
       " <selenium.webdriver.remote.webelement.WebElement (session=\"7ff67b91f1258bbfaa6fa4ad14e4adad\", element=\"f4798b42-442b-4955-abde-dc0c0d8f1350\")>,\n",
       " <selenium.webdriver.remote.webelement.WebElement (session=\"7ff67b91f1258bbfaa6fa4ad14e4adad\", element=\"e8832889-1e54-41f2-b242-38c33ebcf71a\")>,\n",
       " <selenium.webdriver.remote.webelement.WebElement (session=\"7ff67b91f1258bbfaa6fa4ad14e4adad\", element=\"209adf01-3dcc-4e80-b551-3801d89e30af\")>,\n",
       " <selenium.webdriver.remote.webelement.WebElement (session=\"7ff67b91f1258bbfaa6fa4ad14e4adad\", element=\"9bc7688c-ae6f-4688-9f0c-79bcb999e469\")>,\n",
       " <selenium.webdriver.remote.webelement.WebElement (session=\"7ff67b91f1258bbfaa6fa4ad14e4adad\", element=\"b2172f56-1f7e-4e3d-8b9c-31b6e0e9d216\")>]"
      ]
     },
     "execution_count": 19,
     "metadata": {},
     "output_type": "execute_result"
    }
   ],
   "source": [
    "#your code\n",
    "titulos = driver.find_elements(By.CLASS_NAME, 'usctitlechanged')\n",
    "titulos"
   ]
  },
  {
   "cell_type": "code",
   "execution_count": 20,
   "metadata": {},
   "outputs": [],
   "source": [
    "tit_final = []"
   ]
  },
  {
   "cell_type": "code",
   "execution_count": 21,
   "metadata": {},
   "outputs": [
    {
     "data": {
      "text/plain": [
       "['Title 1 - General Provisions ٭',\n",
       " 'Title 2 - The Congress',\n",
       " 'Title 3 - The President ٭',\n",
       " 'Title 5 - Government Organization and Employees ٭',\n",
       " 'Title 6 - Domestic Security',\n",
       " 'Title 8 - Aliens and Nationality',\n",
       " 'Title 10 - Armed Forces ٭',\n",
       " 'Title 12 - Banks and Banking',\n",
       " 'Title 14 - Coast Guard ٭',\n",
       " 'Title 15 - Commerce and Trade',\n",
       " 'Title 16 - Conservation',\n",
       " 'Title 17 - Copyrights ٭',\n",
       " 'Title 18 - Crimes and Criminal Procedure ٭',\n",
       " 'Title 20 - Education',\n",
       " 'Title 21 - Food and Drugs',\n",
       " 'Title 22 - Foreign Relations and Intercourse',\n",
       " 'Title 25 - Indians',\n",
       " 'Title 26 - Internal Revenue Code',\n",
       " 'Title 28 - Judiciary and Judicial Procedure ٭',\n",
       " 'Title 29 - Labor',\n",
       " 'Title 31 - Money and Finance ٭',\n",
       " 'Title 32 - National Guard ٭',\n",
       " 'Title 33 - Navigation and Navigable Waters',\n",
       " 'Title 34 - Crime Control and Law Enforcement',\n",
       " 'Title 36 - Patriotic and National Observances, Ceremonies, and Organizations ٭',\n",
       " 'Title 37 - Pay and Allowances of the Uniformed Services ٭',\n",
       " \"Title 38 - Veterans' Benefits ٭\",\n",
       " 'Title 40 - Public Buildings, Property, and Works ٭',\n",
       " 'Title 41 - Public Contracts ٭',\n",
       " 'Title 42 - The Public Health and Welfare',\n",
       " 'Title 43 - Public Lands',\n",
       " 'Title 44 - Public Printing and Documents ٭',\n",
       " 'Title 46 - Shipping ٭',\n",
       " 'Title 48 - Territories and Insular Possessions',\n",
       " 'Title 49 - Transportation ٭',\n",
       " 'Title 50 - War and National Defense',\n",
       " 'Title 51 - National and Commercial Space Programs ٭']"
      ]
     },
     "execution_count": 21,
     "metadata": {},
     "output_type": "execute_result"
    }
   ],
   "source": [
    "for i in titulos:\n",
    "    i = i.text\n",
    "    tit_final.append(i)\n",
    "tit_final"
   ]
  },
  {
   "cell_type": "markdown",
   "metadata": {},
   "source": [
    "#### A Python list with the top ten FBI's Most Wanted names "
   ]
  },
  {
   "cell_type": "code",
   "execution_count": 22,
   "metadata": {},
   "outputs": [],
   "source": [
    "# This is the url you will scrape in this exercise\n",
    "url = 'https://www.fbi.gov/wanted/topten'\n",
    "driver.get(url)"
   ]
  },
  {
   "cell_type": "code",
   "execution_count": 23,
   "metadata": {},
   "outputs": [
    {
     "data": {
      "text/plain": [
       "[<selenium.webdriver.remote.webelement.WebElement (session=\"7ff67b91f1258bbfaa6fa4ad14e4adad\", element=\"2c553c20-8d96-449f-a000-8bbceb2b7402\")>,\n",
       " <selenium.webdriver.remote.webelement.WebElement (session=\"7ff67b91f1258bbfaa6fa4ad14e4adad\", element=\"10bdff8d-6b87-4194-8a9e-bc41bc607b14\")>,\n",
       " <selenium.webdriver.remote.webelement.WebElement (session=\"7ff67b91f1258bbfaa6fa4ad14e4adad\", element=\"6996cc6d-af31-4eea-bd52-6f2170bc1496\")>,\n",
       " <selenium.webdriver.remote.webelement.WebElement (session=\"7ff67b91f1258bbfaa6fa4ad14e4adad\", element=\"d829682c-62e5-4bb2-88ea-d43ab8655d71\")>,\n",
       " <selenium.webdriver.remote.webelement.WebElement (session=\"7ff67b91f1258bbfaa6fa4ad14e4adad\", element=\"85dccf02-1d36-44c1-962d-c4e87f10a04e\")>,\n",
       " <selenium.webdriver.remote.webelement.WebElement (session=\"7ff67b91f1258bbfaa6fa4ad14e4adad\", element=\"64a52dfd-55da-40e9-9afd-8ef86b31ab74\")>,\n",
       " <selenium.webdriver.remote.webelement.WebElement (session=\"7ff67b91f1258bbfaa6fa4ad14e4adad\", element=\"8dc999e0-7930-475c-bbfe-b7f6a599de21\")>,\n",
       " <selenium.webdriver.remote.webelement.WebElement (session=\"7ff67b91f1258bbfaa6fa4ad14e4adad\", element=\"6a1b09d5-9f2f-4c13-a25e-e82a9bd2fa0e\")>,\n",
       " <selenium.webdriver.remote.webelement.WebElement (session=\"7ff67b91f1258bbfaa6fa4ad14e4adad\", element=\"05534a83-8ab9-4574-86d7-bbfaec5d7808\")>,\n",
       " <selenium.webdriver.remote.webelement.WebElement (session=\"7ff67b91f1258bbfaa6fa4ad14e4adad\", element=\"299398ab-3dc9-40c9-a9ef-39e5bad68354\")>,\n",
       " <selenium.webdriver.remote.webelement.WebElement (session=\"7ff67b91f1258bbfaa6fa4ad14e4adad\", element=\"2d9ef4be-10c5-43e3-9dc6-c7e0843e18bf\")>]"
      ]
     },
     "execution_count": 23,
     "metadata": {},
     "output_type": "execute_result"
    }
   ],
   "source": [
    "#your code\n",
    "top = driver.find_elements(By.CLASS_NAME, 'title')\n",
    "top"
   ]
  },
  {
   "cell_type": "code",
   "execution_count": 24,
   "metadata": {},
   "outputs": [
    {
     "data": {
      "text/plain": [
       "['MOST WANTED',\n",
       " 'YULAN ADONAY ARCHAGA CARIAS',\n",
       " 'BHADRESHKUMAR CHETANBHAI PATEL',\n",
       " 'WILVER VILLEGAS-PALOMINO',\n",
       " 'ALEJANDRO ROSALES CASTILLO',\n",
       " 'RUJA IGNATOVA',\n",
       " 'ARNOLDO JIMENEZ',\n",
       " 'OMAR ALEXANDER CARDENAS',\n",
       " 'ALEXIS FLORES',\n",
       " 'MICHAEL JAMES PRATT',\n",
       " 'JOSE RODOLFO VILLARREAL-HERNANDEZ']"
      ]
     },
     "execution_count": 24,
     "metadata": {},
     "output_type": "execute_result"
    }
   ],
   "source": [
    "top10 = []\n",
    "for i in top:\n",
    "    i = i.text\n",
    "    top10.append(i)\n",
    "top10"
   ]
  },
  {
   "cell_type": "markdown",
   "metadata": {},
   "source": [
    "####  20 latest earthquakes info (date, time, latitude, longitude and region name) by the EMSC as a pandas dataframe"
   ]
  },
  {
   "cell_type": "code",
   "execution_count": 25,
   "metadata": {},
   "outputs": [],
   "source": [
    "# This is the url you will scrape in this exercise\n",
    "url = 'https://www.emsc-csem.org/Earthquake/'"
   ]
  },
  {
   "cell_type": "code",
   "execution_count": 26,
   "metadata": {},
   "outputs": [],
   "source": [
    "#your code"
   ]
  },
  {
   "cell_type": "markdown",
   "metadata": {},
   "source": [
    "#### Count number of tweets by a given Twitter account."
   ]
  },
  {
   "cell_type": "markdown",
   "metadata": {},
   "source": [
    "You will need to include a ***try/except block*** for account names not found. \n",
    "<br>***Hint:*** the program should count the number of tweets for any provided account"
   ]
  },
  {
   "cell_type": "code",
   "execution_count": 27,
   "metadata": {},
   "outputs": [],
   "source": [
    "# This is the url you will scrape in this exercise \n",
    "# You will need to add the account credentials to this url\n",
    "url = 'https://twitter.com/'"
   ]
  },
  {
   "cell_type": "code",
   "execution_count": 28,
   "metadata": {},
   "outputs": [],
   "source": [
    "#your code"
   ]
  },
  {
   "cell_type": "markdown",
   "metadata": {},
   "source": [
    "#### Number of followers of a given twitter account"
   ]
  },
  {
   "cell_type": "markdown",
   "metadata": {},
   "source": [
    "You will need to include a ***try/except block*** in case account/s name not found. \n",
    "<br>***Hint:*** the program should count the followers for any provided account"
   ]
  },
  {
   "cell_type": "code",
   "execution_count": 29,
   "metadata": {},
   "outputs": [],
   "source": [
    "# This is the url you will scrape in this exercise \n",
    "# You will need to add the account credentials to this url\n",
    "url = 'https://twitter.com/'"
   ]
  },
  {
   "cell_type": "code",
   "execution_count": 30,
   "metadata": {},
   "outputs": [],
   "source": [
    "#your code"
   ]
  },
  {
   "cell_type": "markdown",
   "metadata": {},
   "source": [
    "#### List all language names and number of related articles in the order they appear in wikipedia.org"
   ]
  },
  {
   "cell_type": "code",
   "execution_count": 31,
   "metadata": {},
   "outputs": [],
   "source": [
    "# This is the url you will scrape in this exercise\n",
    "url = 'https://www.wikipedia.org/'\n",
    "driver.get(url)"
   ]
  },
  {
   "cell_type": "code",
   "execution_count": 32,
   "metadata": {},
   "outputs": [
    {
     "data": {
      "text/plain": [
       "[<selenium.webdriver.remote.webelement.WebElement (session=\"7ff67b91f1258bbfaa6fa4ad14e4adad\", element=\"6fd71ab2-8fc9-4bed-8c1b-6fbf023643e4\")>,\n",
       " <selenium.webdriver.remote.webelement.WebElement (session=\"7ff67b91f1258bbfaa6fa4ad14e4adad\", element=\"97efb8e7-db0f-478f-9e8a-4d7d8e6df357\")>,\n",
       " <selenium.webdriver.remote.webelement.WebElement (session=\"7ff67b91f1258bbfaa6fa4ad14e4adad\", element=\"064d1fa4-4d8d-48f9-a9a3-12992abf5061\")>,\n",
       " <selenium.webdriver.remote.webelement.WebElement (session=\"7ff67b91f1258bbfaa6fa4ad14e4adad\", element=\"6dcb0b77-f1b3-4da4-a131-cfa1cb03b623\")>,\n",
       " <selenium.webdriver.remote.webelement.WebElement (session=\"7ff67b91f1258bbfaa6fa4ad14e4adad\", element=\"b1cee6a2-d463-4a7a-b482-803f3ca4e949\")>,\n",
       " <selenium.webdriver.remote.webelement.WebElement (session=\"7ff67b91f1258bbfaa6fa4ad14e4adad\", element=\"def5dc2b-63e6-4cd9-a327-d173888b3c48\")>,\n",
       " <selenium.webdriver.remote.webelement.WebElement (session=\"7ff67b91f1258bbfaa6fa4ad14e4adad\", element=\"f0d8347e-44c4-404c-8846-6680d8cfe11a\")>,\n",
       " <selenium.webdriver.remote.webelement.WebElement (session=\"7ff67b91f1258bbfaa6fa4ad14e4adad\", element=\"58f01a98-f6ae-448e-b9eb-1dfb655950c8\")>,\n",
       " <selenium.webdriver.remote.webelement.WebElement (session=\"7ff67b91f1258bbfaa6fa4ad14e4adad\", element=\"f7ebfa7a-c56c-484c-a31d-080411f8e767\")>,\n",
       " <selenium.webdriver.remote.webelement.WebElement (session=\"7ff67b91f1258bbfaa6fa4ad14e4adad\", element=\"8f51f55b-d1ff-426c-9ee4-69656aba2c19\")>,\n",
       " <selenium.webdriver.remote.webelement.WebElement (session=\"7ff67b91f1258bbfaa6fa4ad14e4adad\", element=\"a8b1857f-0cdf-45fe-b516-a88bc9b178f2\")>,\n",
       " <selenium.webdriver.remote.webelement.WebElement (session=\"7ff67b91f1258bbfaa6fa4ad14e4adad\", element=\"36c6d037-653e-4bd8-a712-c07997424bfd\")>]"
      ]
     },
     "execution_count": 32,
     "metadata": {},
     "output_type": "execute_result"
    }
   ],
   "source": [
    "#your code\n",
    "lenguajes = driver.find_elements(By.TAG_NAME, 'strong')\n",
    "lenguajes"
   ]
  },
  {
   "cell_type": "code",
   "execution_count": 33,
   "metadata": {},
   "outputs": [
    {
     "data": {
      "text/plain": [
       "['La enciclopedia libre',\n",
       " 'Español',\n",
       " 'English',\n",
       " 'Русский',\n",
       " '日本語',\n",
       " 'Deutsch',\n",
       " 'Français',\n",
       " 'Italiano',\n",
       " '中文',\n",
       " 'فارسی',\n",
       " 'Português',\n",
       " 'Descargar Wikipedia para Android o iOS']"
      ]
     },
     "execution_count": 33,
     "metadata": {},
     "output_type": "execute_result"
    }
   ],
   "source": [
    "idioms = []\n",
    "for i in lenguajes:\n",
    "    i = i.text\n",
    "    idioms.append(i)\n",
    "idioms"
   ]
  },
  {
   "cell_type": "code",
   "execution_count": 34,
   "metadata": {},
   "outputs": [],
   "source": [
    "idioms10 = idioms[1:-1]"
   ]
  },
  {
   "cell_type": "code",
   "execution_count": 35,
   "metadata": {},
   "outputs": [
    {
     "data": {
      "text/plain": [
       "['Español',\n",
       " 'English',\n",
       " 'Русский',\n",
       " '日本語',\n",
       " 'Deutsch',\n",
       " 'Français',\n",
       " 'Italiano',\n",
       " '中文',\n",
       " 'فارسی',\n",
       " 'Português']"
      ]
     },
     "execution_count": 35,
     "metadata": {},
     "output_type": "execute_result"
    }
   ],
   "source": [
    "idioms10"
   ]
  },
  {
   "cell_type": "code",
   "execution_count": 36,
   "metadata": {},
   "outputs": [],
   "source": [
    "articulos = driver.find_elements(By.TAG_NAME, 'bdi')"
   ]
  },
  {
   "cell_type": "code",
   "execution_count": 37,
   "metadata": {},
   "outputs": [
    {
     "data": {
      "text/plain": [
       "['1 854 000+',\n",
       " '6 644 000+',\n",
       " '1 909 000+',\n",
       " '1 370 000+',\n",
       " '2 792 000+',\n",
       " '2 514 000+',\n",
       " '1 806 000+',\n",
       " '1 347 000+',\n",
       " 'فارسی',\n",
       " '959 000+',\n",
       " '1 101 000+',\n",
       " '',\n",
       " '',\n",
       " '',\n",
       " '',\n",
       " '',\n",
       " '',\n",
       " '',\n",
       " '',\n",
       " '',\n",
       " '',\n",
       " '',\n",
       " '',\n",
       " '',\n",
       " '',\n",
       " '',\n",
       " '',\n",
       " '',\n",
       " '',\n",
       " '',\n",
       " '',\n",
       " '',\n",
       " '',\n",
       " '',\n",
       " '',\n",
       " '',\n",
       " '']"
      ]
     },
     "execution_count": 37,
     "metadata": {},
     "output_type": "execute_result"
    }
   ],
   "source": [
    "numeros = []\n",
    "for e in articulos:\n",
    "    e = e.text\n",
    "    numeros.append(e)\n",
    "numeros\n",
    "\n",
    "#no se porque me da los numeros de esta manera"
   ]
  },
  {
   "cell_type": "code",
   "execution_count": 38,
   "metadata": {},
   "outputs": [
    {
     "data": {
      "text/plain": [
       "['1854000+',\n",
       " '6644000+',\n",
       " '1909000+',\n",
       " '1370000+',\n",
       " '2792000+',\n",
       " '2514000+',\n",
       " '1806000+',\n",
       " '1347000+',\n",
       " 'فارسی',\n",
       " '959000+',\n",
       " '1101000+']"
      ]
     },
     "execution_count": 38,
     "metadata": {},
     "output_type": "execute_result"
    }
   ],
   "source": [
    "numeros = [e.text.replace(\" \", \"\") for e in articulos if e.text!=\"\"]\n",
    "# presento los numeros que me interesan aunque sigo viendo el diccionario al revez\n",
    "numeros"
   ]
  },
  {
   "cell_type": "code",
   "execution_count": 39,
   "metadata": {},
   "outputs": [
    {
     "data": {
      "text/plain": [
       "'فارسی'"
      ]
     },
     "execution_count": 39,
     "metadata": {},
     "output_type": "execute_result"
    }
   ],
   "source": [
    "numeros.pop(-3)"
   ]
  },
  {
   "cell_type": "code",
   "execution_count": 40,
   "metadata": {},
   "outputs": [
    {
     "data": {
      "text/plain": [
       "['1854000+',\n",
       " '6644000+',\n",
       " '1909000+',\n",
       " '1370000+',\n",
       " '2792000+',\n",
       " '2514000+',\n",
       " '1806000+',\n",
       " '1347000+',\n",
       " '959000+',\n",
       " '1101000+']"
      ]
     },
     "execution_count": 40,
     "metadata": {},
     "output_type": "execute_result"
    }
   ],
   "source": [
    "numeros"
   ]
  },
  {
   "cell_type": "code",
   "execution_count": 41,
   "metadata": {},
   "outputs": [],
   "source": [
    "respuest = list(zip(idioms10, numeros))"
   ]
  },
  {
   "cell_type": "code",
   "execution_count": 42,
   "metadata": {},
   "outputs": [
    {
     "data": {
      "text/plain": [
       "[('Español', '1854000+'),\n",
       " ('English', '6644000+'),\n",
       " ('Русский', '1909000+'),\n",
       " ('日本語', '1370000+'),\n",
       " ('Deutsch', '2792000+'),\n",
       " ('Français', '2514000+'),\n",
       " ('Italiano', '1806000+'),\n",
       " ('中文', '1347000+'),\n",
       " ('فارسی', '959000+'),\n",
       " ('Português', '1101000+')]"
      ]
     },
     "execution_count": 42,
     "metadata": {},
     "output_type": "execute_result"
    }
   ],
   "source": [
    "respuest"
   ]
  },
  {
   "cell_type": "markdown",
   "metadata": {},
   "source": [
    "#### A list with the different kind of datasets available in data.gov.uk "
   ]
  },
  {
   "cell_type": "code",
   "execution_count": 43,
   "metadata": {},
   "outputs": [],
   "source": [
    "# This is the url you will scrape in this exercise\n",
    "url = 'https://data.gov.uk/'\n",
    "driver.get(url)"
   ]
  },
  {
   "cell_type": "code",
   "execution_count": 44,
   "metadata": {},
   "outputs": [],
   "source": [
    "#your code \n",
    "uk = driver.find_elements(By.CLASS_NAME, 'govuk-link')\n",
    "list_uk = []"
   ]
  },
  {
   "cell_type": "code",
   "execution_count": 45,
   "metadata": {},
   "outputs": [
    {
     "data": {
      "text/plain": [
       "['cookies to collect information',\n",
       " 'View cookies',\n",
       " '',\n",
       " 'feedback',\n",
       " 'Business and economy',\n",
       " 'Crime and justice',\n",
       " 'Defence',\n",
       " 'Education',\n",
       " 'Environment',\n",
       " 'Government',\n",
       " 'Government spending',\n",
       " 'Health',\n",
       " 'Mapping',\n",
       " 'Society',\n",
       " 'Towns and cities',\n",
       " 'Transport',\n",
       " 'Digital service performance',\n",
       " 'Government reference data']"
      ]
     },
     "execution_count": 45,
     "metadata": {},
     "output_type": "execute_result"
    }
   ],
   "source": [
    "for i in uk:\n",
    "    i = i.text\n",
    "    list_uk.append(i)\n",
    "list_uk"
   ]
  },
  {
   "cell_type": "code",
   "execution_count": 46,
   "metadata": {},
   "outputs": [],
   "source": [
    "del list_uk[:4]"
   ]
  },
  {
   "cell_type": "code",
   "execution_count": 47,
   "metadata": {},
   "outputs": [
    {
     "data": {
      "text/plain": [
       "['Business and economy',\n",
       " 'Crime and justice',\n",
       " 'Defence',\n",
       " 'Education',\n",
       " 'Environment',\n",
       " 'Government',\n",
       " 'Government spending',\n",
       " 'Health',\n",
       " 'Mapping',\n",
       " 'Society',\n",
       " 'Towns and cities',\n",
       " 'Transport',\n",
       " 'Digital service performance',\n",
       " 'Government reference data']"
      ]
     },
     "execution_count": 47,
     "metadata": {},
     "output_type": "execute_result"
    }
   ],
   "source": [
    "list_uk"
   ]
  },
  {
   "cell_type": "markdown",
   "metadata": {},
   "source": [
    "#### Top 10 languages by number of native speakers stored in a Pandas Dataframe"
   ]
  },
  {
   "cell_type": "code",
   "execution_count": 66,
   "metadata": {},
   "outputs": [],
   "source": [
    "# This is the url you will scrape in this exercise\n",
    "url = 'https://en.wikipedia.org/wiki/List_of_languages_by_number_of_native_speakers'"
   ]
  },
  {
   "cell_type": "code",
   "execution_count": 67,
   "metadata": {},
   "outputs": [],
   "source": [
    "driver.get(url)"
   ]
  },
  {
   "cell_type": "code",
   "execution_count": 68,
   "metadata": {},
   "outputs": [
    {
     "data": {
      "text/plain": [
       "'Mandarin Chinese'"
      ]
     },
     "execution_count": 68,
     "metadata": {},
     "output_type": "execute_result"
    }
   ],
   "source": [
    "#your code\n",
    "wiki = driver.find_elements(By.XPATH, '//td//a[@class=\"mw-redirect\"]')\n",
    "wiki[0].text"
   ]
  },
  {
   "cell_type": "code",
   "execution_count": 69,
   "metadata": {},
   "outputs": [
    {
     "data": {
      "text/plain": [
       "['Mandarin Chinese',\n",
       " 'Spanish',\n",
       " 'English',\n",
       " 'Hindi',\n",
       " 'Portuguese',\n",
       " 'Bengali',\n",
       " 'Russian',\n",
       " 'Japanese',\n",
       " 'Yue Chinese',\n",
       " 'Vietnamese']"
      ]
     },
     "execution_count": 69,
     "metadata": {},
     "output_type": "execute_result"
    }
   ],
   "source": [
    "wiki_p = []\n",
    "for i in wiki:\n",
    "    i = i.text\n",
    "    wiki_p.append(i)\n",
    "wiki_p[:10]"
   ]
  },
  {
   "cell_type": "code",
   "execution_count": 74,
   "metadata": {},
   "outputs": [],
   "source": [
    "df = pd.DataFrame({'language by number of native speakers': wiki_p[:10]})"
   ]
  },
  {
   "cell_type": "code",
   "execution_count": 75,
   "metadata": {},
   "outputs": [
    {
     "data": {
      "text/html": [
       "<div>\n",
       "<style scoped>\n",
       "    .dataframe tbody tr th:only-of-type {\n",
       "        vertical-align: middle;\n",
       "    }\n",
       "\n",
       "    .dataframe tbody tr th {\n",
       "        vertical-align: top;\n",
       "    }\n",
       "\n",
       "    .dataframe thead th {\n",
       "        text-align: right;\n",
       "    }\n",
       "</style>\n",
       "<table border=\"1\" class=\"dataframe\">\n",
       "  <thead>\n",
       "    <tr style=\"text-align: right;\">\n",
       "      <th></th>\n",
       "      <th>language by number of native speakers</th>\n",
       "    </tr>\n",
       "  </thead>\n",
       "  <tbody>\n",
       "    <tr>\n",
       "      <th>0</th>\n",
       "      <td>Mandarin Chinese</td>\n",
       "    </tr>\n",
       "    <tr>\n",
       "      <th>1</th>\n",
       "      <td>Spanish</td>\n",
       "    </tr>\n",
       "    <tr>\n",
       "      <th>2</th>\n",
       "      <td>English</td>\n",
       "    </tr>\n",
       "    <tr>\n",
       "      <th>3</th>\n",
       "      <td>Hindi</td>\n",
       "    </tr>\n",
       "    <tr>\n",
       "      <th>4</th>\n",
       "      <td>Portuguese</td>\n",
       "    </tr>\n",
       "    <tr>\n",
       "      <th>5</th>\n",
       "      <td>Bengali</td>\n",
       "    </tr>\n",
       "    <tr>\n",
       "      <th>6</th>\n",
       "      <td>Russian</td>\n",
       "    </tr>\n",
       "    <tr>\n",
       "      <th>7</th>\n",
       "      <td>Japanese</td>\n",
       "    </tr>\n",
       "    <tr>\n",
       "      <th>8</th>\n",
       "      <td>Yue Chinese</td>\n",
       "    </tr>\n",
       "    <tr>\n",
       "      <th>9</th>\n",
       "      <td>Vietnamese</td>\n",
       "    </tr>\n",
       "  </tbody>\n",
       "</table>\n",
       "</div>"
      ],
      "text/plain": [
       "  language by number of native speakers\n",
       "0                      Mandarin Chinese\n",
       "1                               Spanish\n",
       "2                               English\n",
       "3                                 Hindi\n",
       "4                            Portuguese\n",
       "5                               Bengali\n",
       "6                               Russian\n",
       "7                              Japanese\n",
       "8                           Yue Chinese\n",
       "9                            Vietnamese"
      ]
     },
     "execution_count": 75,
     "metadata": {},
     "output_type": "execute_result"
    }
   ],
   "source": [
    "df"
   ]
  },
  {
   "cell_type": "markdown",
   "metadata": {},
   "source": [
    "### BONUS QUESTIONS"
   ]
  },
  {
   "cell_type": "markdown",
   "metadata": {},
   "source": [
    "#### Scrape a certain number of tweets of a given Twitter account."
   ]
  },
  {
   "cell_type": "code",
   "execution_count": null,
   "metadata": {},
   "outputs": [],
   "source": [
    "# This is the url you will scrape in this exercise \n",
    "# You will need to add the account credentials to this url\n",
    "url = 'https://twitter.com/'"
   ]
  },
  {
   "cell_type": "code",
   "execution_count": null,
   "metadata": {},
   "outputs": [],
   "source": [
    "# your code"
   ]
  },
  {
   "cell_type": "markdown",
   "metadata": {},
   "source": [
    "#### IMDB's Top 250 data (movie name, Initial release, director name and stars) as a pandas dataframe"
   ]
  },
  {
   "cell_type": "code",
   "execution_count": null,
   "metadata": {},
   "outputs": [],
   "source": [
    "# This is the url you will scrape in this exercise \n",
    "url = 'https://www.imdb.com/chart/top'"
   ]
  },
  {
   "cell_type": "code",
   "execution_count": null,
   "metadata": {},
   "outputs": [],
   "source": [
    "# your code"
   ]
  },
  {
   "cell_type": "markdown",
   "metadata": {},
   "source": [
    "#### Movie name, year and a brief summary of the top 10 random movies (IMDB) as a pandas dataframe."
   ]
  },
  {
   "cell_type": "code",
   "execution_count": null,
   "metadata": {},
   "outputs": [],
   "source": [
    "#This is the url you will scrape in this exercise\n",
    "url = 'http://www.imdb.com/chart/top'"
   ]
  },
  {
   "cell_type": "code",
   "execution_count": null,
   "metadata": {},
   "outputs": [],
   "source": [
    "#your code"
   ]
  },
  {
   "cell_type": "markdown",
   "metadata": {},
   "source": [
    "#### Find the live weather report (temperature, wind speed, description and weather) of a given city."
   ]
  },
  {
   "cell_type": "code",
   "execution_count": null,
   "metadata": {},
   "outputs": [],
   "source": [
    "#https://openweathermap.org/current\n",
    "city = city=input('Enter the city:')\n",
    "url = 'http://api.openweathermap.org/data/2.5/weather?'+'q='+city+'&APPID=b35975e18dc93725acb092f7272cc6b8&units=metric'"
   ]
  },
  {
   "cell_type": "code",
   "execution_count": null,
   "metadata": {},
   "outputs": [],
   "source": [
    "# your code"
   ]
  },
  {
   "cell_type": "markdown",
   "metadata": {},
   "source": [
    "#### Book name,price and stock availability as a pandas dataframe."
   ]
  },
  {
   "cell_type": "code",
   "execution_count": null,
   "metadata": {},
   "outputs": [],
   "source": [
    "# This is the url you will scrape in this exercise. \n",
    "# It is a fictional bookstore created to be scraped. \n",
    "url = 'http://books.toscrape.com/'"
   ]
  },
  {
   "cell_type": "code",
   "execution_count": null,
   "metadata": {},
   "outputs": [],
   "source": [
    "#your code"
   ]
  }
 ],
 "metadata": {
  "kernelspec": {
   "display_name": "Python 3 (ipykernel)",
   "language": "python",
   "name": "python3"
  },
  "language_info": {
   "codemirror_mode": {
    "name": "ipython",
    "version": 3
   },
   "file_extension": ".py",
   "mimetype": "text/x-python",
   "name": "python",
   "nbconvert_exporter": "python",
   "pygments_lexer": "ipython3",
   "version": "3.9.13"
  }
 },
 "nbformat": 4,
 "nbformat_minor": 2
}
