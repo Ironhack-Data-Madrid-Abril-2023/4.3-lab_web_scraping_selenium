{
 "cells": [
  {
   "cell_type": "markdown",
   "metadata": {},
   "source": [
    "# Web Scraping Lab\n",
    "\n",
    "You will find in this notebook some scrapy exercises to practise your scraping skills.\n",
    "\n",
    "**Tips:**\n",
    "\n",
    "- Check the response status code for each request to ensure you have obtained the intended contennt.\n",
    "- Print the response text in each request to understand the kind of info you are getting and its format.\n",
    "- Check for patterns in the response text to extract the data/info requested in each question.\n",
    "- Visit each url and take a look at its source through Chrome DevTools. You'll need to identify the html tags, special class names etc. used for the html content you are expected to extract."
   ]
  },
  {
   "cell_type": "markdown",
   "metadata": {},
   "source": [
    "- [Selenium Doc](https://www.selenium.dev/documentation/)\n",
    "- [Requests library](http://docs.python-requests.org/en/master/#the-user-guide) documentation \n",
    "- [Urllib](https://docs.python.org/3/library/urllib.html#module-urllib)\n",
    "- [re lib](https://docs.python.org/3/library/re.html)\n",
    "- [lxml lib](https://lxml.de/)\n",
    "- [Scrapy](https://scrapy.org/)\n",
    "- [List of HTTP status codes](https://en.wikipedia.org/wiki/List_of_HTTP_status_codes)\n",
    "- [HTML basics](http://www.simplehtmlguide.com/cheatsheet.php)\n",
    "- [CSS basics](https://www.cssbasics.com/#page_start)"
   ]
  },
  {
   "cell_type": "markdown",
   "metadata": {},
   "source": [
    "#### Below are the libraries and modules you may need. `Selenium` and `pandas` are imported for you."
   ]
  },
  {
   "cell_type": "code",
   "execution_count": null,
   "metadata": {},
   "outputs": [],
   "source": [
    "#pip install selenium\n",
    "#%pip install webdriver-manager"
   ]
  },
  {
   "cell_type": "code",
   "execution_count": 57,
   "metadata": {},
   "outputs": [],
   "source": [
    "import pandas as pd\n",
    "from selenium import webdriver\n",
    "from selenium.webdriver.chrome.options import Options\n",
    "from webdriver_manager.chrome import ChromeDriverManager\n",
    "import time\n",
    "import warnings\n",
    "warnings.filterwarnings('ignore')\n",
    "from selenium.webdriver.common.keys import Keys\n",
    "import re\n",
    "import urllib.request\n",
    "from selenium.webdriver.common.by import By\n"
   ]
  },
  {
   "cell_type": "markdown",
   "metadata": {},
   "source": [
    "#### Enable the options you may need. In the next cell you have an example of them but you can choose to use them or not."
   ]
  },
  {
   "cell_type": "code",
   "execution_count": 58,
   "metadata": {},
   "outputs": [],
   "source": [
    "#driver configuration\n",
    "opciones=Options()\n",
    "\n",
    "opciones.add_experimental_option('excludeSwitches', ['enable-automation'])\n",
    "opciones.add_experimental_option('useAutomationExtension', False)\n",
    "opciones.headless=False    # si True, no aperece la ventana (headless=no visible)\n",
    "opciones.add_argument('--start-maximized')         # comienza maximizado\n",
    "#opciones.add_argument('user-data-dir=selenium')    # mantiene las cookies\n",
    "#opciones.add_extension('driver_folder/adblock.crx')       # adblocker\n",
    "opciones.add_argument('--incognito')"
   ]
  },
  {
   "cell_type": "code",
   "execution_count": 161,
   "metadata": {},
   "outputs": [],
   "source": [
    "PATH = ChromeDriverManager().install()    # instala driver de chrome\n",
    "\n",
    "driver = webdriver.Chrome(PATH)      # abre una ventana de chrome\n",
    "\n",
    "driver.get('https://www.google.es')"
   ]
  },
  {
   "cell_type": "markdown",
   "metadata": {},
   "source": [
    "#### Download, parse, and print the content from the Trending Developers page from GitHub:"
   ]
  },
  {
   "cell_type": "code",
   "execution_count": 60,
   "metadata": {},
   "outputs": [],
   "source": [
    "# This is the url you will scrape in this exercise\n",
    "url = 'https://github.com/trending/developers'"
   ]
  },
  {
   "cell_type": "code",
   "execution_count": 61,
   "metadata": {},
   "outputs": [],
   "source": [
    "#your code\n",
    "\n",
    "driver=webdriver.Chrome(PATH)       # abre una venta una de chrome\n",
    "\n",
    "driver.get(url)\n",
    "\n",
    "\n"
   ]
  },
  {
   "cell_type": "code",
   "execution_count": 62,
   "metadata": {},
   "outputs": [
    {
     "data": {
      "text/plain": [
       "<selenium.webdriver.remote.webelement.WebElement (session=\"f974f063ad27c585022315b5a03c5264\", element=\"981f7445-6100-445c-a62a-499738a87d07\")>"
      ]
     },
     "execution_count": 62,
     "metadata": {},
     "output_type": "execute_result"
    }
   ],
   "source": [
    "DeveloperBox = driver.find_element(By.XPATH, '/html/body/div[1]/div[4]/main/div[3]/div')\n",
    "DeveloperBox"
   ]
  },
  {
   "cell_type": "code",
   "execution_count": 63,
   "metadata": {},
   "outputs": [
    {
     "data": {
      "text/plain": [
       "['Mattias Wadman',\n",
       " 'lllyasviel',\n",
       " 'Lianmin Zheng',\n",
       " 'Jerry Liu',\n",
       " 'Henrik Rydgård',\n",
       " 'Harrison Chase',\n",
       " 'Fons van der Plas',\n",
       " 'Steven Tey',\n",
       " 'Andreas Thomas',\n",
       " 'pilcrowOnPaper',\n",
       " 'Laurent Mazare',\n",
       " 'yetone',\n",
       " 'Tom Payne',\n",
       " 'Raphaël Benitte',\n",
       " 'Dillon Nys',\n",
       " 'Will McGugan',\n",
       " 'Luca Palmieri',\n",
       " 'Payton Swick',\n",
       " 'Martí Climent',\n",
       " 'dgtlmoon',\n",
       " 'Jelle Zijlstra',\n",
       " 'J. Nick Koston',\n",
       " 'Nuno Campos',\n",
       " 'Juliette',\n",
       " 'Lee Robinson']"
      ]
     },
     "execution_count": 63,
     "metadata": {},
     "output_type": "execute_result"
    }
   ],
   "source": [
    "Developer = DeveloperBox.find_elements(By.CLASS_NAME, 'h3.lh-condensed')\n",
    "\n",
    "[element.text for element in Developer]"
   ]
  },
  {
   "cell_type": "markdown",
   "metadata": {},
   "source": [
    "#### Display the names of the trending developers retrieved in the previous step.\n",
    "\n",
    "Your output should be a Python list of developer names. Each name should not contain any html tag.\n",
    "\n",
    "**Instructions:**\n",
    "\n",
    "1. Find out the html tag and class names used for the developer names.\n",
    "\n",
    "1. Use string manipulation techniques to replace whitespaces and linebreaks (i.e. `\\n`) in the *text* of each html element. Use a list to store the clean names.\n",
    "\n",
    "1. Print the list of names.\n",
    "\n",
    "Your output should look like below:\n",
    "\n",
    "```\n",
    "['trimstray (@trimstray)',\n",
    " 'joewalnes (JoeWalnes)',\n",
    " 'charlax (Charles-AxelDein)',\n",
    " 'ForrestKnight (ForrestKnight)',\n",
    " 'revery-ui (revery-ui)',\n",
    " 'alibaba (Alibaba)',\n",
    " 'Microsoft (Microsoft)',\n",
    " 'github (GitHub)',\n",
    " 'facebook (Facebook)',\n",
    " 'boazsegev (Bo)',\n",
    " 'google (Google)',\n",
    " 'cloudfetch',\n",
    " 'sindresorhus (SindreSorhus)',\n",
    " 'tensorflow',\n",
    " 'apache (TheApacheSoftwareFoundation)',\n",
    " 'DevonCrawford (DevonCrawford)',\n",
    " 'ARMmbed (ArmMbed)',\n",
    " 'vuejs (vuejs)',\n",
    " 'fastai (fast.ai)',\n",
    " 'QiShaoXuan (Qi)',\n",
    " 'joelparkerhenderson (JoelParkerHenderson)',\n",
    " 'torvalds (LinusTorvalds)',\n",
    " 'CyC2018',\n",
    " 'komeiji-satori (神楽坂覚々)',\n",
    " 'script-8']\n",
    " ```"
   ]
  },
  {
   "cell_type": "code",
   "execution_count": null,
   "metadata": {},
   "outputs": [],
   "source": [
    "#your code"
   ]
  },
  {
   "cell_type": "markdown",
   "metadata": {},
   "source": [
    "#### Display the trending Python repositories in GitHub\n",
    "\n",
    "The steps to solve this problem is similar to the previous one except that you need to find out the repository names instead of developer names."
   ]
  },
  {
   "cell_type": "code",
   "execution_count": 64,
   "metadata": {},
   "outputs": [],
   "source": [
    "# This is the url you will scrape in this exercise\n",
    "urlRepo = 'https://github.com/trending/python?since=daily'"
   ]
  },
  {
   "cell_type": "markdown",
   "metadata": {},
   "source": []
  },
  {
   "cell_type": "code",
   "execution_count": 65,
   "metadata": {},
   "outputs": [],
   "source": [
    "#your code\n",
    "driver=webdriver.Chrome(PATH)       # abre una venta una de chrome\n",
    "\n",
    "driver.get(urlRepo)\n",
    "\n",
    "\n"
   ]
  },
  {
   "cell_type": "code",
   "execution_count": 66,
   "metadata": {},
   "outputs": [
    {
     "data": {
      "text/plain": [
       "'Repositories\\nDevelopers\\nSpoken Language: Any\\nLanguage: Python\\nDate range: Today\\nmlc-ai / mlc-llm\\nEnable everyone to develop, optimize and deploy AI models natively on everyone\\'s devices.\\nPython 3,966 225 Built by\\n1,275 stars today\\nAIGC-Audio / AudioGPT\\nAudioGPT: Understanding and Generating Speech, Music, Sound, and Talking Head\\nPython 6,496 559 Built by\\n760 stars today\\ngventuri / pandas-ai\\nPandas AI is a Python library that integrates generative artificial intelligence capabilities into Pandas, making dataframes conversational\\nPython 1,489 86 Built by\\n463 stars today\\nxtekky / gpt4free\\ndecentralising the Ai Industry, just some language model api\\'s...\\nPython 25,926 5,367 Built by\\n2,769 stars today\\nirgolic / AutoPR\\nFix issues with AI-generated pull requests, powered by ChatGPT\\nPython 585 41 Built by\\n71 stars today\\nlamini-ai / lamini\\nPython 1,275 81 Built by\\n185 stars today\\ndeep-floyd / IF\\nPython 4,970 288 Built by\\n283 stars today\\ndeforum-art / deforum-stable-diffusion\\nPython 903 207 Built by\\n78 stars today\\nhome-assistant / core\\n🏡 Open source home automation that puts local control and privacy first.\\nPython 60,118 22,984 Built by\\n158 stars today\\ncirediatpl / FigmaChain\\nFigmaChain is a set of Python scripts that generate HTML/CSS code based on Figma designs. Using OpenAI\\'s GPT-3 model, FigmaChain enables developers to quickly generate HTML/CSS code from a Figma design input. It also includes a Streamlit-based chatbot interface for interactive code generation.\\nPython 424 36 Built by\\n38 stars today\\nIntelligenzaArtificiale / Free-AUTO-GPT-with-NO-API\\nFree AUTOGPT with NO API is a repository that offers a simple version of Autogpt, an autonomous AI agent capable of performing tasks independently. Unlike other versions, our implementation does not rely on any paid OpenAI API, making it accessible to anyone.\\nJupyter Notebook 742 93 Built by\\n141 stars today\\nmlc-ai / web-llm\\nBringing large-language models and chat to web browsers. Everything runs inside the browser with no server support.\\nPython 5,051 260 Built by\\n106 stars today\\nAUTOMATIC1111 / stable-diffusion-webui\\nStable Diffusion web UI\\nPython 70,980 13,432 Built by\\n292 stars today\\nddPn08 / Radiata\\nStable diffusion webui based on diffusers.\\nPython 816 56 Built by\\n16 stars today\\ndeforum-art / deforum-for-automatic1111-webui\\nDeforum extension script for AUTOMATIC1111\\'s Stable Diffusion webui\\nPython 1,151 153 Built by\\n6 stars today\\nZrrSkywalker / LLaMA-Adapter\\nFine-tuning LLaMA to follow Instructions within 1 Hour and 1.2M Parameters\\nPython 2,973 183 Built by\\n105 stars today\\nyt-dlp / yt-dlp\\nA youtube-dl fork with additional features and fixes\\nPython 46,519 3,819 Built by\\n83 stars today\\nnlpxucan / WizardLM\\nWizardLM: Empowering Large Pre-Trained Language Models to Follow Complex Instructions\\nPython 1,223 75 Built by\\n49 stars today\\nGitHubDaily / ChatGPT-Prompt-Engineering-for-Developers-in-Chinese\\n《面向开发者的 ChatGPT 提示词工程》非官方版中英双语字幕 Unofficial subtitles of \"ChatGPT Prompt Engineering for Developers\"\\nJupyter Notebook 369 36 Built by\\n54 stars today\\ngeorgia-tech-db / eva\\nAI-Relational Database System | SQL meets Deep Learning\\nPython 1,089 131 Built by\\n232 stars today\\nxtekky / chatgpt-clone\\nChatGPT interface with better UI\\nPython 1,651 510 Built by\\n174 stars today\\nmahdibland / V2RayAggregator\\nCollect Lots of Shadowsocks, ShadowsocksR, Trojan, Vmess from Public Sources & Filter Best Nodes By Speed\\nPython 737 165 Built by\\n5 stars today\\nKurtBestor / Hitomi-Downloader\\n🍰 Desktop utility to download images/videos/music/text from various websites, and more.\\nPython 12,581 1,376 Built by\\n62 stars today\\njaywalnut310 / vits\\nVITS: Conditional Variational Autoencoder with Adversarial Learning for End-to-End Text-to-Speech\\nPython 3,597 809 Built by\\n48 stars today\\nisaiahbjork / Auto-GPT-Crypto-Plugin\\nThe AutoGPT Crypto Plugin is a software tool that enables traders to connect their Crypto wallet or exchange to Auto-GPT.\\nPython 89 13 Built by\\n8 stars today'"
      ]
     },
     "execution_count": 66,
     "metadata": {},
     "output_type": "execute_result"
    }
   ],
   "source": [
    "RepoBox= driver.find_element(By.XPATH, '/html/body/div[1]/div[4]/main/div[3]/div')\n",
    "RepoBox.text\n"
   ]
  },
  {
   "cell_type": "code",
   "execution_count": 67,
   "metadata": {},
   "outputs": [
    {
     "data": {
      "text/plain": [
       "['mlc-ai / mlc-llm',\n",
       " 'AIGC-Audio / AudioGPT',\n",
       " 'gventuri / pandas-ai',\n",
       " 'xtekky / gpt4free',\n",
       " 'irgolic / AutoPR',\n",
       " 'lamini-ai / lamini',\n",
       " 'deep-floyd / IF',\n",
       " 'deforum-art / deforum-stable-diffusion',\n",
       " 'home-assistant / core',\n",
       " 'cirediatpl / FigmaChain',\n",
       " 'IntelligenzaArtificiale / Free-AUTO-GPT-with-NO-API',\n",
       " 'mlc-ai / web-llm',\n",
       " 'AUTOMATIC1111 / stable-diffusion-webui',\n",
       " 'ddPn08 / Radiata',\n",
       " 'deforum-art / deforum-for-automatic1111-webui',\n",
       " 'ZrrSkywalker / LLaMA-Adapter',\n",
       " 'yt-dlp / yt-dlp',\n",
       " 'nlpxucan / WizardLM',\n",
       " 'GitHubDaily / ChatGPT-Prompt-Engineering-for-Developers-in-Chinese',\n",
       " 'georgia-tech-db / eva',\n",
       " 'xtekky / chatgpt-clone',\n",
       " 'mahdibland / V2RayAggregator',\n",
       " 'KurtBestor / Hitomi-Downloader',\n",
       " 'jaywalnut310 / vits',\n",
       " 'isaiahbjork / Auto-GPT-Crypto-Plugin']"
      ]
     },
     "execution_count": 67,
     "metadata": {},
     "output_type": "execute_result"
    }
   ],
   "source": [
    "Repos = RepoBox.find_elements(By.CLASS_NAME, 'h3.lh-condensed')\n",
    "\n",
    "[element.text for element in Repos]"
   ]
  },
  {
   "cell_type": "markdown",
   "metadata": {},
   "source": [
    "#### Display all the image links from Walt Disney wikipedia page"
   ]
  },
  {
   "cell_type": "code",
   "execution_count": 69,
   "metadata": {},
   "outputs": [],
   "source": [
    "# This is the url you will scrape in this exercise\n",
    "urlDis = 'https://en.wikipedia.org/wiki/Walt_Disney'"
   ]
  },
  {
   "cell_type": "markdown",
   "metadata": {},
   "source": []
  },
  {
   "cell_type": "code",
   "execution_count": 70,
   "metadata": {},
   "outputs": [],
   "source": [
    "#your code\n",
    "driver=webdriver.Chrome(PATH)       # abre una venta una de chrome\n",
    "\n",
    "driver.get(urlDis)\n"
   ]
  },
  {
   "cell_type": "code",
   "execution_count": 116,
   "metadata": {},
   "outputs": [
    {
     "data": {
      "text/plain": [
       "<selenium.webdriver.remote.webelement.WebElement (session=\"47e6694d1e9c18ed4034e63eb7ce29d2\", element=\"1ba26a6e-fcf4-4f3d-89d7-75ac28245169\")>"
      ]
     },
     "execution_count": 116,
     "metadata": {},
     "output_type": "execute_result"
    }
   ],
   "source": [
    "\n",
    "DisBox= driver.find_element(By.XPATH, '//*[@id=\"mw-content-text\"]/div[1]')\n",
    "DisBox"
   ]
  },
  {
   "cell_type": "code",
   "execution_count": 119,
   "metadata": {},
   "outputs": [
    {
     "data": {
      "text/plain": [
       "['https://upload.wikimedia.org/wikipedia/en/thumb/c/cb/Flyingcircus_2.jpg/250px-Flyingcircus_2.jpg',\n",
       " 'https://upload.wikimedia.org/wikipedia/commons/thumb/c/cc/The_Four_Yorkshiremen%2C_2014_%28crop%29.jpg/220px-The_Four_Yorkshiremen%2C_2014_%28crop%29.jpg',\n",
       " 'https://upload.wikimedia.org/wikipedia/commons/thumb/a/a3/Monty_Python_Live_02-07-14_12_56_41_%2814415567757%29.jpg/220px-Monty_Python_Live_02-07-14_12_56_41_%2814415567757%29.jpg',\n",
       " 'https://upload.wikimedia.org/wikipedia/commons/thumb/4/47/Monty_Python_Live_02-07-14_12_46_43_%2814415411808%29.jpg/220px-Monty_Python_Live_02-07-14_12_46_43_%2814415411808%29.jpg',\n",
       " 'https://upload.wikimedia.org/wikipedia/commons/thumb/a/ab/Monty_python_foot.png/220px-Monty_python_foot.png',\n",
       " 'https://upload.wikimedia.org/wikipedia/commons/thumb/2/25/Monty_Python_Live_02-07-14_12_24_16_%2814598681721%29.jpg/220px-Monty_Python_Live_02-07-14_12_24_16_%2814598681721%29.jpg',\n",
       " 'https://upload.wikimedia.org/wikipedia/commons/thumb/8/89/Lumebrjack_Song_O2_Arena.jpg/220px-Lumebrjack_Song_O2_Arena.jpg',\n",
       " 'https://upload.wikimedia.org/wikipedia/commons/thumb/7/7c/EMP_Seattle_%2826120000225%29.jpg/190px-EMP_Seattle_%2826120000225%29.jpg',\n",
       " 'https://upload.wikimedia.org/wikipedia/commons/thumb/f/f6/Terry_Jones_Monty_Python_O2_Arena_%28cropped%29_%282%29.jpg/170px-Terry_Jones_Monty_Python_O2_Arena_%28cropped%29_%282%29.jpg',\n",
       " 'https://upload.wikimedia.org/wikipedia/commons/thumb/0/02/Monty_Python_%284624404749%29.jpg/220px-Monty_Python_%284624404749%29.jpg',\n",
       " 'https://upload.wikimedia.org/wikipedia/commons/thumb/0/03/Monty_Python_O2_Arena.jpg/220px-Monty_Python_O2_Arena.jpg',\n",
       " 'https://upload.wikimedia.org/wikipedia/commons/thumb/f/f7/Shubert_Theatre_NYC_from_Shubert_Alley.jpg/215px-Shubert_Theatre_NYC_from_Shubert_Alley.jpg',\n",
       " 'https://upload.wikimedia.org/wikipedia/commons/thumb/4/44/Neil_Innes_by_Luke_Ford_adjust.jpg/170px-Neil_Innes_by_Luke_Ford_adjust.jpg',\n",
       " 'https://upload.wikimedia.org/wikipedia/commons/thumb/d/da/Monty_Python_Live_%28Mostly%29.jpg/220px-Monty_Python_Live_%28Mostly%29.jpg',\n",
       " 'https://upload.wikimedia.org/wikipedia/commons/thumb/d/dd/Dead_Parrot_O2_Arena.jpg/220px-Dead_Parrot_O2_Arena.jpg',\n",
       " 'https://upload.wikimedia.org/wikipedia/commons/thumb/f/f3/Monty_Python_Live_02-07-14_12_51_26_%2814578960366%29.jpg/220px-Monty_Python_Live_02-07-14_12_51_26_%2814578960366%29.jpg',\n",
       " 'https://upload.wikimedia.org/wikipedia/commons/thumb/3/38/10.18.09CarolClevelandByLuigiNovi.jpg/170px-10.18.09CarolClevelandByLuigiNovi.jpg',\n",
       " 'https://upload.wikimedia.org/wikipedia/commons/thumb/4/40/Monty_Python_Live_02-07-14_13_00_13_%2814415341590%29.jpg/220px-Monty_Python_Live_02-07-14_13_00_13_%2814415341590%29.jpg',\n",
       " 'https://upload.wikimedia.org/wikipedia/commons/thumb/8/8e/Monty_Python_Live_02-07-14_13_04_42_%2814598710791%29.jpg/220px-Monty_Python_Live_02-07-14_13_04_42_%2814598710791%29.jpg',\n",
       " 'https://upload.wikimedia.org/wikipedia/commons/thumb/2/25/Monty_Python_Live_02-07-14_12_27_13_%2814415368570%29.jpg/220px-Monty_Python_Live_02-07-14_12_27_13_%2814415368570%29.jpg',\n",
       " 'https://upload.wikimedia.org/wikipedia/en/timeline/mmw3rhbapk6utywpiek5otfxiazv8ke.png',\n",
       " 'https://upload.wikimedia.org/wikipedia/commons/thumb/5/5a/SMirC-laugh.svg/28px-SMirC-laugh.svg.png',\n",
       " 'https://upload.wikimedia.org/wikipedia/en/thumb/0/06/Wiktionary-logo-v2.svg/27px-Wiktionary-logo-v2.svg.png',\n",
       " 'https://upload.wikimedia.org/wikipedia/en/thumb/4/4a/Commons-logo.svg/20px-Commons-logo.svg.png',\n",
       " 'https://upload.wikimedia.org/wikipedia/commons/thumb/f/fa/Wikiquote-logo.svg/23px-Wikiquote-logo.svg.png',\n",
       " 'https://upload.wikimedia.org/wikipedia/commons/thumb/d/dd/Wikivoyage-Logo-v3-icon.svg/27px-Wikivoyage-Logo-v3-icon.svg.png',\n",
       " 'https://upload.wikimedia.org/wikipedia/commons/thumb/f/ff/Wikidata-logo.svg/27px-Wikidata-logo.svg.png',\n",
       " 'https://upload.wikimedia.org/wikipedia/en/thumb/8/8a/OOjs_UI_icon_edit-ltr-progressive.svg/10px-OOjs_UI_icon_edit-ltr-progressive.svg.png']"
      ]
     },
     "execution_count": 119,
     "metadata": {},
     "output_type": "execute_result"
    }
   ],
   "source": [
    "\n",
    "Disney = DisBox.find_elements(By.TAG_NAME, 'img')\n",
    "\n",
    "Disimgs= []\n",
    "for element in Disney:\n",
    "    src = element.get_attribute('src')\n",
    "    Disimgs.append(src)\n",
    "\n",
    "Disimgs\n",
    "\n"
   ]
  },
  {
   "cell_type": "markdown",
   "metadata": {},
   "source": [
    "#### Retrieve an arbitary Wikipedia page of \"Python\" and create a list of links on that page"
   ]
  },
  {
   "cell_type": "code",
   "execution_count": 132,
   "metadata": {},
   "outputs": [],
   "source": [
    "# This is the url you will scrape in this exercise\n",
    "'https://en.wikipedia.org/wiki/Python' \n",
    "\n",
    "urlPy = 'https://en.wikipedia.org/wiki/Monty_Python'"
   ]
  },
  {
   "cell_type": "code",
   "execution_count": 133,
   "metadata": {},
   "outputs": [],
   "source": [
    "#your code\n",
    "driver=webdriver.Chrome(PATH)       # abre una venta una de chrome\n",
    "\n",
    "driver.get(urlPy)\n"
   ]
  },
  {
   "cell_type": "code",
   "execution_count": 134,
   "metadata": {},
   "outputs": [
    {
     "data": {
      "text/plain": [
       "<selenium.webdriver.remote.webelement.WebElement (session=\"e76ec50341d66b61e55afa98e6a73c77\", element=\"ec79f89a-60d8-4c3e-883d-032e073c16d9\")>"
      ]
     },
     "execution_count": 134,
     "metadata": {},
     "output_type": "execute_result"
    }
   ],
   "source": [
    "PyBox= driver.find_element(By.XPATH, '//*[@id=\"mw-content-text\"]/div[1]')\n",
    "PyBox"
   ]
  },
  {
   "cell_type": "code",
   "execution_count": 140,
   "metadata": {},
   "outputs": [
    {
     "data": {
      "text/plain": [
       "['https://en.wikipedia.org/wiki/Monty_Python%27s_Flying_Circus',\n",
       " 'https://en.wikipedia.org/wiki/Pythonesque_(play)',\n",
       " 'https://en.wikipedia.org/wiki/The_Pythons_(film)',\n",
       " 'https://en.wikipedia.org/wiki/File:Flyingcircus_2.jpg',\n",
       " 'https://en.wikipedia.org/wiki/Monty_Python#cite_note-1',\n",
       " 'https://en.wikipedia.org/wiki/Comedic_genres',\n",
       " 'https://en.wikipedia.org/wiki/Satire',\n",
       " 'https://en.wikipedia.org/wiki/Surreal_humour',\n",
       " 'https://en.wikipedia.org/wiki/Black_comedy',\n",
       " 'https://en.wikipedia.org/wiki/Wordplay',\n",
       " 'https://en.wikipedia.org/wiki/Wit',\n",
       " 'https://en.wikipedia.org/wiki/Graham_Chapman',\n",
       " 'https://en.wikipedia.org/wiki/John_Cleese',\n",
       " 'https://en.wikipedia.org/wiki/Terry_Gilliam',\n",
       " 'https://en.wikipedia.org/wiki/Eric_Idle',\n",
       " 'https://en.wikipedia.org/wiki/Terry_Jones',\n",
       " 'https://en.wikipedia.org/wiki/Michael_Palin',\n",
       " 'http://montypython.com/',\n",
       " 'https://en.wikipedia.org/wiki/Monty_Python#cite_note-2',\n",
       " 'https://en.wikipedia.org/wiki/Monty_Python#cite_note-3',\n",
       " 'https://en.wikipedia.org/wiki/Graham_Chapman',\n",
       " 'https://en.wikipedia.org/wiki/John_Cleese',\n",
       " 'https://en.wikipedia.org/wiki/Terry_Gilliam',\n",
       " 'https://en.wikipedia.org/wiki/Eric_Idle',\n",
       " 'https://en.wikipedia.org/wiki/Terry_Jones',\n",
       " 'https://en.wikipedia.org/wiki/Michael_Palin',\n",
       " 'https://en.wikipedia.org/wiki/Sketch_comedy',\n",
       " 'https://en.wikipedia.org/wiki/Monty_Python%27s_Flying_Circus',\n",
       " 'https://en.wikipedia.org/wiki/The_Beatles',\n",
       " 'https://en.wikipedia.org/wiki/Monty_Python#cite_note-CNN_Beatles-4',\n",
       " 'https://en.wikipedia.org/wiki/Monty_Python#cite_note-Atlantic_Beatles-5',\n",
       " 'https://en.wikipedia.org/wiki/Monty_Python#cite_note-BBC_Beatles-6',\n",
       " 'https://en.wikipedia.org/wiki/Monty_Python#cite_note-7',\n",
       " 'https://en.wikipedia.org/wiki/Stream_of_consciousness_writing',\n",
       " 'https://en.wikipedia.org/wiki/Monty_Python#cite_note-8',\n",
       " 'https://en.wikipedia.org/wiki/Monty_Python#cite_note-9',\n",
       " 'https://en.wikipedia.org/wiki/Monty_Python_and_the_Holy_Grail',\n",
       " 'https://en.wikipedia.org/wiki/Monty_Python%27s_Life_of_Brian',\n",
       " 'https://en.wikipedia.org/wiki/Monty_Python%27s_The_Meaning_of_Life',\n",
       " 'https://en.wikipedia.org/wiki/Saturday_Night_Live',\n",
       " 'https://en.wikipedia.org/wiki/41st_British_Academy_Film_Awards',\n",
       " 'https://en.wikipedia.org/wiki/British_Academy_Film_Awards',\n",
       " 'https://en.wikipedia.org/wiki/American_Film_Institute',\n",
       " 'https://en.wikipedia.org/wiki/Monty_Python#cite_note-10',\n",
       " 'https://en.wikipedia.org/wiki/Monty_Python#cite_note-11',\n",
       " 'https://en.wikipedia.org/w/index.php?title=Monty_Python&action=edit&section=1',\n",
       " 'https://en.wikipedia.org/wiki/Oxford_University',\n",
       " 'https://en.wikipedia.org/wiki/The_Oxford_Revue',\n",
       " 'https://en.wikipedia.org/wiki/Cambridge_University',\n",
       " 'https://en.wikipedia.org/wiki/New_York_City',\n",
       " 'https://en.wikipedia.org/wiki/Footlights',\n",
       " 'https://en.wikipedia.org/wiki/Revue',\n",
       " 'https://en.wikipedia.org/wiki/Cambridge_Footlights_Revue',\n",
       " 'https://en.wikipedia.org/wiki/The_Goodies',\n",
       " 'https://en.wikipedia.org/wiki/Tim_Brooke-Taylor',\n",
       " 'https://en.wikipedia.org/wiki/Bill_Oddie',\n",
       " 'https://en.wikipedia.org/wiki/Graeme_Garden',\n",
       " 'https://en.wikipedia.org/wiki/Jonathan_Lynn',\n",
       " 'https://en.wikipedia.org/wiki/Yes_Minister',\n",
       " 'https://en.wikipedia.org/wiki/Monty_Python#cite_note-12',\n",
       " 'https://en.wikipedia.org/wiki/Germaine_Greer',\n",
       " 'https://en.wikipedia.org/wiki/Clive_James',\n",
       " 'https://en.wikipedia.org/wiki/Pembroke_College,_Cambridge',\n",
       " 'https://en.wikipedia.org/wiki/Pembroke_Players',\n",
       " 'https://en.wikipedia.org/wiki/Monty_Python#cite_note-13',\n",
       " 'https://en.wikipedia.org/wiki/I%27m_Sorry,_I%27ll_Read_That_Again',\n",
       " 'https://en.wikipedia.org/wiki/The_Frost_Report',\n",
       " 'https://en.wikipedia.org/wiki/At_Last_the_1948_Show',\n",
       " 'https://en.wikipedia.org/wiki/Twice_a_Fortnight',\n",
       " 'https://en.wikipedia.org/wiki/Do_Not_Adjust_Your_Set',\n",
       " 'https://en.wikipedia.org/wiki/Bonzo_Dog_Band',\n",
       " 'https://en.wikipedia.org/wiki/We_Have_Ways_of_Making_You_Laugh',\n",
       " 'https://en.wikipedia.org/wiki/How_to_Irritate_People',\n",
       " 'https://en.wikipedia.org/wiki/The_Complete_and_Utter_History_of_Britain',\n",
       " 'https://en.wikipedia.org/wiki/Doctor_in_the_House_(TV_series)',\n",
       " 'https://en.wikipedia.org/wiki/The_Frost_Report',\n",
       " 'https://en.wikipedia.org/wiki/Monty_Python#cite_note-14',\n",
       " 'https://en.wikipedia.org/wiki/File:The_Four_Yorkshiremen,_2014_(crop).jpg',\n",
       " 'https://en.wikipedia.org/wiki/File:The_Four_Yorkshiremen,_2014_(crop).jpg',\n",
       " 'https://en.wikipedia.org/wiki/Four_Yorkshiremen_sketch',\n",
       " 'https://en.wikipedia.org/wiki/Tim_Brooke-Taylor',\n",
       " 'https://en.wikipedia.org/wiki/Marty_Feldman',\n",
       " 'https://en.wikipedia.org/wiki/At_Last_the_1948_Show',\n",
       " 'https://en.wikipedia.org/wiki/Do_Not_Adjust_Your_Set',\n",
       " 'https://en.wikipedia.org/wiki/ITV_(TV_network)',\n",
       " 'https://en.wikipedia.org/wiki/Thames_Television',\n",
       " 'https://en.wikipedia.org/wiki/BBC',\n",
       " 'https://en.wikipedia.org/wiki/Double_act',\n",
       " 'https://en.wikipedia.org/wiki/Monty_Python#cite_note-auto-15',\n",
       " 'https://en.wikipedia.org/wiki/Monty_Python#cite_note-16',\n",
       " 'https://en.wikipedia.org/wiki/Monty_Python#cite_note-17',\n",
       " 'https://en.wikipedia.org/wiki/Basil_Street',\n",
       " 'https://en.wikipedia.org/wiki/Monty_Python#cite_note-18',\n",
       " 'https://en.wikipedia.org/w/index.php?title=Monty_Python&action=edit&section=2',\n",
       " 'https://en.wikipedia.org/wiki/Monty_Python%27s_Flying_Circus',\n",
       " 'https://en.wikipedia.org/w/index.php?title=Monty_Python&action=edit&section=3',\n",
       " 'https://en.wikipedia.org/wiki/Ian_MacNaughton',\n",
       " 'https://en.wikipedia.org/wiki/Barry_Took',\n",
       " 'https://en.wikipedia.org/wiki/John_Howard_Davies',\n",
       " 'https://en.wikipedia.org/wiki/Monty_Python#cite_note-:0-19',\n",
       " 'https://en.wikipedia.org/wiki/Peter_Cook',\n",
       " 'https://en.wikipedia.org/wiki/Alan_Bennett',\n",
       " 'https://en.wikipedia.org/wiki/Jonathan_Miller',\n",
       " 'https://en.wikipedia.org/wiki/Dudley_Moore',\n",
       " 'https://en.wikipedia.org/wiki/Beyond_the_Fringe',\n",
       " 'https://en.wikipedia.org/wiki/Satire_boom',\n",
       " 'https://en.wikipedia.org/wiki/Monty_Python#cite_note-20',\n",
       " 'https://en.wikipedia.org/wiki/Not_Only..._But_Also',\n",
       " 'https://en.wikipedia.org/wiki/Monty_Python#cite_note-21',\n",
       " 'https://en.wikipedia.org/wiki/Spike_Milligan',\n",
       " 'https://en.wikipedia.org/wiki/The_Goon_Show',\n",
       " 'https://en.wikipedia.org/wiki/Peter_Sellers',\n",
       " 'https://en.wikipedia.org/wiki/Q..._(TV_series)',\n",
       " 'https://en.wikipedia.org/wiki/Monty_Python#cite_note-Goon_influence-22',\n",
       " 'https://en.wikipedia.org/wiki/Monty_Python#cite_note-23',\n",
       " 'https://en.wikipedia.org/wiki/Television_comedy',\n",
       " 'https://en.wikipedia.org/wiki/Monty_Python#cite_note-MilliganHisPartInOurLives-24',\n",
       " 'https://en.wikipedia.org/wiki/File:Monty_Python_Live_02-07-14_12_56_41_(14415567757).jpg',\n",
       " 'https://en.wikipedia.org/wiki/File:Monty_Python_Live_02-07-14_12_56_41_(14415567757).jpg',\n",
       " 'https://en.wikipedia.org/wiki/The_Ministry_of_Silly_Walks',\n",
       " 'https://en.wikipedia.org/wiki/Bowler_hat',\n",
       " 'https://en.wikipedia.org/wiki/Civil_servant',\n",
       " 'https://en.wikipedia.org/wiki/Grant_(money)',\n",
       " 'https://en.wikipedia.org/wiki/Monty_Python%27s_Flying_Circus',\n",
       " 'https://en.wikipedia.org/wiki/Stream-of-consciousness',\n",
       " 'https://en.wikipedia.org/wiki/Monty_Python#cite_note-Gilliam_animation-25',\n",
       " 'https://en.wikipedia.org/wiki/Monty_Python#cite_note-Circus_profile-26',\n",
       " 'https://en.wikipedia.org/wiki/Monty_Python#cite_note-Gilliam_animation-25',\n",
       " 'https://en.wikipedia.org/wiki/File:Monty_Python_Live_02-07-14_12_46_43_(14415411808).jpg',\n",
       " 'https://en.wikipedia.org/wiki/File:Monty_Python_Live_02-07-14_12_46_43_(14415411808).jpg',\n",
       " 'https://en.wikipedia.org/wiki/The_Spanish_Inquisition_(Monty_Python)',\n",
       " 'https://en.wikipedia.org/wiki/Spanish_Inquisition',\n",
       " 'https://en.wikipedia.org/wiki/Anagram',\n",
       " 'https://en.wikipedia.org/wiki/Monty_Python#cite_note-27',\n",
       " 'https://en.wikipedia.org/wiki/Monty_Python#cite_note-Gilliam_animation-25',\n",
       " 'https://en.wikipedia.org/wiki/Monty_Python#cite_note-:0-19',\n",
       " 'https://en.wikipedia.org/wiki/Wikipedia:Citation_needed',\n",
       " 'https://en.wikipedia.org/wiki/Barry_Took',\n",
       " 'https://en.wikipedia.org/wiki/Monty_Python#cite_note-:0-19',\n",
       " 'https://en.wikipedia.org/wiki/Monty_Python#cite_note-28',\n",
       " 'https://en.wikipedia.org/wiki/Baron_Manfred_von_Richthofen',\n",
       " 'https://en.wikipedia.org/wiki/Manfred_von_Richthofen#Flying_Circus',\n",
       " 'https://en.wikipedia.org/wiki/The_Royal_Guardsmen',\n",
       " 'https://en.wikipedia.org/wiki/Snoopy_vs._the_Red_Baron_(song)',\n",
       " 'https://en.wikipedia.org/wiki/Flying_circus',\n",
       " 'https://en.wikipedia.org/wiki/Monty_Python#cite_note-29',\n",
       " 'https://en.wikipedia.org/wiki/Monty_Python_Live_at_Aspen',\n",
       " 'https://en.wikipedia.org/wiki/The_Comedy_Festival',\n",
       " 'https://en.wikipedia.org/wiki/American_Film_Institute',\n",
       " 'https://en.wikipedia.org/wiki/Field_Marshal',\n",
       " 'https://en.wikipedia.org/wiki/Bernard_Montgomery,_1st_Viscount_Montgomery_of_Alamein',\n",
       " 'https://en.wikipedia.org/wiki/World_War_II',\n",
       " 'https://en.wikipedia.org/wiki/Monty_Python#cite_note-30',\n",
       " 'https://en.wikipedia.org/w/index.php?title=Monty_Python&action=edit&section=4',\n",
       " 'https://en.wikipedia.org/wiki/Cold_open',\n",
       " 'https://en.wikipedia.org/wiki/Monty_Python#cite_note-MBC_piece-31',\n",
       " 'https://en.wikipedia.org/wiki/Robinson_Crusoe',\n",
       " 'https://en.wikipedia.org/wiki/Title_sequence',\n",
       " 'https://en.wikipedia.org/wiki/Closing_credits',\n",
       " 'https://en.wikipedia.org/wiki/History_of_BBC_television_idents#BBC_Television_Service/BBC_One',\n",
       " 'https://en.wikipedia.org/wiki/Monty_Python#cite_note-32',\n",
       " 'https://en.wikipedia.org/wiki/Subversive',\n",
       " 'https://en.wikipedia.org/wiki/Monty_Python#cite_note-Goon_influence-22',\n",
       " 'https://en.wikipedia.org/wiki/Monty_Python#cite_note-25_sketches-33',\n",
       " 'https://en.wikipedia.org/wiki/Fourth_wall',\n",
       " 'https://en.wikipedia.org/wiki/The_Colonel_(Monty_Python)',\n",
       " 'https://en.wikipedia.org/wiki/Monty_Python#cite_note-34',\n",
       " 'https://en.wikipedia.org/wiki/File:Monty_python_foot.png',\n",
       " 'https://en.wikipedia.org/wiki/File:Monty_python_foot.png',\n",
       " 'https://en.wikipedia.org/wiki/The_Foot_of_Cupid',\n",
       " 'https://en.wikipedia.org/wiki/Monty_Python#cite_note-35',\n",
       " 'https://en.wikipedia.org/wiki/And_Now_For_Something_Completely_Different',\n",
       " 'https://en.wikipedia.org/wiki/Monty_Python#cite_note-36',\n",
       " 'https://en.wikipedia.org/wiki/Theme_music',\n",
       " 'https://en.wikipedia.org/wiki/Band_of_the_Grenadier_Guards',\n",
       " 'https://en.wikipedia.org/wiki/John_Philip_Sousa',\n",
       " 'https://en.wikipedia.org/wiki/The_Liberty_Bell_(march)',\n",
       " 'https://en.wikipedia.org/wiki/Monty_Python#cite_note-37',\n",
       " 'https://en.wikipedia.org/wiki/Berne_Convention',\n",
       " 'https://en.wikipedia.org/wiki/Copyright_law_of_the_United_States',\n",
       " 'https://en.wikipedia.org/wiki/Public_domain',\n",
       " 'https://en.wikipedia.org/wiki/Monty_Python#cite_note-38',\n",
       " 'https://en.wikipedia.org/wiki/Royalty_payment',\n",
       " 'https://en.wikipedia.org/wiki/Monty_Python#cite_note-39',\n",
       " 'https://en.wikipedia.org/wiki/File:Monty_Python_Live_02-07-14_12_24_16_(14598681721).jpg',\n",
       " 'https://en.wikipedia.org/wiki/File:Monty_Python_Live_02-07-14_12_24_16_(14598681721).jpg',\n",
       " 'https://en.wikipedia.org/wiki/Monty_Python#cite_note-40',\n",
       " 'https://en.wikipedia.org/wiki/Surrealism',\n",
       " 'https://en.wikipedia.org/wiki/Collage',\n",
       " 'https://en.wikipedia.org/wiki/Stop_motion',\n",
       " 'https://en.wikipedia.org/wiki/Monty_Python#cite_note-Gilliam_animation-25',\n",
       " 'https://en.wikipedia.org/wiki/Victorian_era',\n",
       " 'https://en.wikipedia.org/wiki/Engraving',\n",
       " 'https://en.wikipedia.org/wiki/Cupid',\n",
       " 'https://en.wikipedia.org/wiki/Italian_Renaissance',\n",
       " 'https://en.wikipedia.org/wiki/Venus,_Cupid,_Folly_and_Time',\n",
       " 'https://en.wikipedia.org/wiki/Bronzino',\n",
       " 'https://en.wikipedia.org/wiki/Trademark_look',\n",
       " 'https://en.wikipedia.org/wiki/Monty_Python#cite_note-Gilliam_animation-25',\n",
       " 'https://en.wikipedia.org/wiki/Cross-dressing',\n",
       " 'https://en.wikipedia.org/wiki/Falsetto',\n",
       " 'https://en.wikipedia.org/wiki/Monty_Python#cite_note-41',\n",
       " 'https://en.wikipedia.org/wiki/Monty_Python#cite_note-Circus_profile-26',\n",
       " 'https://en.wikipedia.org/wiki/Monty_Python#cite_note-Circus_profile-26',\n",
       " 'https://en.wikipedia.org/wiki/Carol_Cleveland',\n",
       " 'https://en.wikipedia.org/wiki/Monty_Python#cite_note-42',\n",
       " 'https://en.wikipedia.org/wiki/Monty_Python%27s_Life_of_Brian',\n",
       " 'https://en.wikipedia.org/wiki/Monty_Python#cite_note-43',\n",
       " 'https://en.wikipedia.org/wiki/Dead_Parrot_sketch',\n",
       " 'https://en.wikipedia.org/wiki/The_Lumberjack_Song',\n",
       " 'https://en.wikipedia.org/wiki/Spam_(Monty_Python)',\n",
       " 'https://en.wikipedia.org/wiki/Email_spam',\n",
       " 'https://en.wikipedia.org/wiki/Monty_Python#cite_note-44',\n",
       " 'https://en.wikipedia.org/wiki/Nudge_Nudge',\n",
       " 'https://en.wikipedia.org/wiki/The_Spanish_Inquisition_(Monty_Python)',\n",
       " 'https://en.wikipedia.org/wiki/Upper_Class_Twit_of_the_Year',\n",
       " 'https://en.wikipedia.org/wiki/Cheese_Shop_sketch',\n",
       " 'https://en.wikipedia.org/wiki/The_Ministry_of_Silly_Walks',\n",
       " 'https://en.wikipedia.org/wiki/Argument_Clinic',\n",
       " 'https://en.wikipedia.org/wiki/The_Funniest_Joke_in_the_World',\n",
       " 'https://en.wikipedia.org/wiki/Google_Translate',\n",
       " 'https://en.wikipedia.org/wiki/Four_Yorkshiremen_sketch',\n",
       " 'https://en.wikipedia.org/wiki/Monty_Python#cite_note-45',\n",
       " 'https://en.wikipedia.org/wiki/Monty_Python#cite_note-Greatest_skits-46',\n",
       " 'https://en.wikipedia.org/wiki/Spam_(food)',\n",
       " 'https://en.wikipedia.org/wiki/Monty_Python#cite_note-Thomas-47',\n",
       " 'https://en.wikipedia.org/wiki/Monty_Python#cite_note-48',\n",
       " 'https://en.wikipedia.org/wiki/Monty_Python#cite_note-49',\n",
       " 'https://en.wikipedia.org/wiki/List_of_recurring_Monty_Python%27s_Flying_Circus_characters#Gumbys',\n",
       " 'https://en.wikipedia.org/wiki/Monty_Python#cite_note-50',\n",
       " 'https://en.wikipedia.org/w/index.php?title=Monty_Python&action=edit&section=5',\n",
       " 'https://en.wikipedia.org/wiki/Canadian_Broadcasting_Corporation',\n",
       " 'https://en.wikipedia.org/wiki/Monty_Python#cite_note-FlyingCircusCanada-51',\n",
       " 'https://en.wikipedia.org/wiki/List_of_Monty_Python%27s_Flying_Circus_episodes#Series_1',\n",
       " 'https://en.wikipedia.org/wiki/List_of_Monty_Python%27s_Flying_Circus_episodes#Series_2',\n",
       " 'https://en.wikipedia.org/wiki/Monty_Python#cite_note-FlyingCircusCanada-51',\n",
       " 'https://en.wikipedia.org/wiki/Monty_Python#cite_note-FlyingCircusCanada-51',\n",
       " 'https://en.wikipedia.org/wiki/Montreal',\n",
       " 'https://en.wikipedia.org/wiki/Monty_Python#cite_note-FlyingCircusCanada-51',\n",
       " 'https://en.wikipedia.org/wiki/File:Lumebrjack_Song_O2_Arena.jpg',\n",
       " 'https://en.wikipedia.org/wiki/File:Lumebrjack_Song_O2_Arena.jpg',\n",
       " 'https://en.wikipedia.org/wiki/The_Lumberjack_Song',\n",
       " 'https://en.wikipedia.org/wiki/And_Now_for_Something_Completely_Different#American_audiences',\n",
       " 'https://en.wikipedia.org/wiki/And_Now_for_Something_Completely_Different',\n",
       " 'https://en.wikipedia.org/wiki/Greg_Garrison',\n",
       " 'https://en.wikipedia.org/wiki/Wikipedia:Citation_needed',\n",
       " 'https://en.wikipedia.org/wiki/The_Dean_Martin_Comedy_World',\n",
       " 'https://en.wikipedia.org/wiki/Wikipedia:Citation_needed',\n",
       " 'https://en.wikipedia.org/wiki/Wikipedia:Citation_needed',\n",
       " 'https://en.wikipedia.org/wiki/Wikipedia:Citation_needed',\n",
       " 'https://en.wikipedia.org/wiki/PBS',\n",
       " 'https://en.wikipedia.org/wiki/KERA-TV',\n",
       " 'https://en.wikipedia.org/wiki/Dallas',\n",
       " 'https://en.wikipedia.org/wiki/Monty_Python#cite_note-52',\n",
       " 'https://en.wikipedia.org/wiki/Monty_Python#cite_note-53',\n",
       " 'https://en.wikipedia.org/wiki/FM_radio',\n",
       " 'https://en.wikipedia.org/wiki/Monty_Python#cite_note-54',\n",
       " 'https://en.wikipedia.org/wiki/The_New_York_Times',\n",
       " 'https://en.wikipedia.org/wiki/Monty_Python#cite_note-NY_Times-55',\n",
       " 'https://en.wikipedia.org/wiki/Monty_Python#cite_note-NY_Times-55',\n",
       " 'https://en.wikipedia.org/wiki/American_Broadcasting_Company',\n",
       " 'https://en.wikipedia.org/wiki/Gilliam_v._American_Broadcasting_Companies,_Inc.',\n",
       " 'https://en.wikipedia.org/wiki/Monty_Python#cite_note-56',\n",
       " 'https://en.wikipedia.org/wiki/Are_You_Being_Served%3F',\n",
       " 'https://en.wikipedia.org/wiki/Monty_Python#cite_note-StewartStewart1999-57',\n",
       " 'https://en.wikipedia.org/wiki/Spijkenisse',\n",
       " 'https://en.wikipedia.org/wiki/Monty_Python#cite_note-58',\n",
       " 'https://en.wikipedia.org/w/index.php?title=Monty_Python&action=edit&section=6',\n",
       " 'https://en.wikipedia.org/wiki/Monty_Python#cite_note-auto-15',\n",
       " 'https://en.wikipedia.org/wiki/Air_Canada',\n",
       " 'https://en.wikipedia.org/wiki/Toronto',\n",
       " 'https://en.wikipedia.org/wiki/Monty_Python#cite_note-59',\n",
       " 'https://en.wikipedia.org/wiki/Monty_Python#cite_note-60',\n",
       " 'https://en.wikipedia.org/wiki/Monty_Python#cite_note-Season_four-61',\n",
       " 'https://en.wikipedia.org/wiki/Monty_Python#cite_note-Season_four-61',\n",
       " 'https://en.wikipedia.org/wiki/Neil_Innes',\n",
       " 'https://en.wikipedia.org/wiki/Monty_Python#cite_note-62',\n",
       " 'https://en.wikipedia.org/w/index.php?title=Monty_Python&action=edit&section=7',\n",
       " 'https://en.wikipedia.org/w/index.php?title=Monty_Python&action=edit&section=8',\n",
       " 'https://en.wikipedia.org/w/index.php?title=Monty_Python&action=edit&section=9',\n",
       " 'https://en.wikipedia.org/wiki/And_Now_for_Something_Completely_Different',\n",
       " 'https://en.wikipedia.org/wiki/Ian_MacNaughton',\n",
       " 'https://en.wikipedia.org/wiki/How_Not_to_Be_Seen',\n",
       " 'https://en.wikipedia.org/wiki/Monty_Python#cite_note-Five_films-63',\n",
       " 'https://en.wikipedia.org/wiki/Playboy',\n",
       " 'https://en.wikipedia.org/wiki/Victor_Lownes',\n",
       " 'https://en.wikipedia.org/wiki/Monty_Python#cite_note-Collin-64',\n",
       " 'https://en.wikipedia.org/wiki/Midnight_movie',\n",
       " 'https://en.wikipedia.org/w/index.php?title=Monty_Python&action=edit&section=10',\n",
       " 'https://en.wikipedia.org/wiki/Monty_Python_and_the_Holy_Grail',\n",
       " 'https://en.wikipedia.org/wiki/File:EMP_Seattle_(26120000225).jpg',\n",
       " 'https://en.wikipedia.org/wiki/File:EMP_Seattle_(26120000225).jpg',\n",
       " 'https://en.wikipedia.org/wiki/Museum_of_Pop_Culture',\n",
       " 'https://en.wikipedia.org/wiki/Monty_Python_and_the_Holy_Grail',\n",
       " 'https://en.wikipedia.org/wiki/King_Arthur',\n",
       " 'https://en.wikipedia.org/wiki/Pink_Floyd',\n",
       " 'https://en.wikipedia.org/wiki/Jethro_Tull_(band)',\n",
       " 'https://en.wikipedia.org/wiki/Led_Zeppelin',\n",
       " 'https://en.wikipedia.org/wiki/Tony_Stratton-Smith',\n",
       " 'https://en.wikipedia.org/wiki/Charisma_Records',\n",
       " 'https://en.wikipedia.org/wiki/Monty_Python#cite_note-65',\n",
       " 'https://en.wikipedia.org/wiki/Black_Knight_(Monty_Python)',\n",
       " 'https://en.wikipedia.org/wiki/Sam_Peckinpah',\n",
       " 'https://en.wikipedia.org/wiki/Monty_Python#cite_note-66',\n",
       " 'https://en.wikipedia.org/wiki/Monty_Python#cite_note-Python_quotes-67',\n",
       " 'https://en.wikipedia.org/wiki/American_Broadcasting_Company',\n",
       " 'https://en.wikipedia.org/wiki/Channel_4',\n",
       " 'https://en.wikipedia.org/wiki/Monty_Python#cite_note-Channel4_comedies-68',\n",
       " 'https://en.wikipedia.org/w/index.php?title=Monty_Python&action=edit&section=11',\n",
       " 'https://en.wikipedia.org/wiki/Monty_Python%27s_Life_of_Brian',\n",
       " 'https://en.wikipedia.org/wiki/Monty_Python#cite_note-69',\n",
       " 'https://en.wikipedia.org/wiki/New_Testament',\n",
       " 'https://en.wikipedia.org/wiki/Monty_Python#cite_note-theologian-70',\n",
       " 'https://en.wikipedia.org/wiki/Monty_Python#cite_note-TJones-71',\n",
       " 'https://en.wikipedia.org/wiki/Monty_Python#cite_note-TJones-71',\n",
       " 'https://en.wikipedia.org/wiki/Monty_Python#cite_note-Python_quotes-67',\n",
       " 'https://en.wikipedia.org/wiki/Mount_of_Olives',\n",
       " 'https://en.wikipedia.org/wiki/Beatitudes',\n",
       " 'https://en.wikipedia.org/wiki/Kenneth_Colley',\n",
       " 'https://en.wikipedia.org/wiki/Monty_Python#cite_note-theologian-70',\n",
       " 'https://en.wikipedia.org/wiki/Tunisia',\n",
       " 'https://en.wikipedia.org/wiki/The_Beatles',\n",
       " 'https://en.wikipedia.org/wiki/George_Harrison',\n",
       " 'https://en.wikipedia.org/wiki/Denis_O%27Brien_(producer)',\n",
       " 'https://en.wikipedia.org/wiki/HandMade_Films',\n",
       " 'https://en.wikipedia.org/wiki/Monty_Python#cite_note-Harrison-72',\n",
       " 'https://en.wikipedia.org/wiki/Monty_Python#cite_note-Harrison-72',\n",
       " 'https://en.wikipedia.org/wiki/Monty_Python#cite_note-Greatest_comedies-73',\n",
       " 'https://en.wikipedia.org/wiki/Monty_Python#cite_note-Guardian_comedies-74',\n",
       " 'https://en.wikipedia.org/wiki/100_Greatest_(TV_series)',\n",
       " 'https://en.wikipedia.org/wiki/Monty_Python#cite_note-Channel4_comedies-68',\n",
       " 'https://en.wikipedia.org/wiki/Richard_Burridge_(priest)',\n",
       " 'https://en.wikipedia.org/wiki/Monty_Python#cite_note-theologian-70',\n",
       " 'https://en.wikipedia.org/w/index.php?title=Monty_Python&action=edit&section=12',\n",
       " 'https://en.wikipedia.org/wiki/Monty_Python_Live_at_the_Hollywood_Bowl',\n",
       " 'https://en.wikipedia.org/wiki/Hollywood_Bowl',\n",
       " 'https://en.wikipedia.org/wiki/Terry_Hughes_(film_director)',\n",
       " 'https://en.wikipedia.org/wiki/Monty_Python#cite_note-75',\n",
       " 'https://en.wikipedia.org/wiki/Monty_Python%27s_Contractual_Obligation_Album',\n",
       " 'https://en.wikipedia.org/wiki/Monty_Python#cite_note-76',\n",
       " 'https://en.wikipedia.org/wiki/Dave_Chappelle',\n",
       " 'https://en.wikipedia.org/wiki/Monty_Python#cite_note-77',\n",
       " 'https://en.wikipedia.org/w/index.php?title=Monty_Python&action=edit&section=13',\n",
       " 'https://en.wikipedia.org/wiki/Monty_Python%27s_The_Meaning_of_Life',\n",
       " 'https://en.wikipedia.org/wiki/File:Terry_Jones_Monty_Python_O2_Arena_(cropped)_(2).jpg',\n",
       " 'https://en.wikipedia.org/wiki/File:Terry_Jones_Monty_Python_O2_Arena_(cropped)_(2).jpg',\n",
       " 'https://en.wikipedia.org/wiki/Mr_Creosote',\n",
       " 'https://en.wikipedia.org/wiki/Terry_Jones',\n",
       " 'https://en.wikipedia.org/wiki/Monty_Python#cite_note-78',\n",
       " 'https://en.wikipedia.org/wiki/Galaxy_Song',\n",
       " 'https://en.wikipedia.org/wiki/Every_Sperm_Is_Sacred',\n",
       " 'https://en.wikipedia.org/wiki/Monty_Python#cite_note-Making_Meaning-79',\n",
       " 'https://en.wikipedia.org/wiki/Black_comedy',\n",
       " 'https://en.wikipedia.org/wiki/Liver',\n",
       " 'https://en.wikipedia.org/wiki/Anaesthetic',\n",
       " 'https://en.wikipedia.org/wiki/Mr_Creosote',\n",
       " 'https://en.wikipedia.org/wiki/Monty_Python#cite_note-Python_quotes-67',\n",
       " 'https://en.wikipedia.org/wiki/Monty_Python#cite_note-80',\n",
       " 'https://en.wikipedia.org/wiki/Monty_Python#cite_note-Making_Meaning-79',\n",
       " 'https://en.wikipedia.org/wiki/The_Crimson_Permanent_Assurance',\n",
       " 'https://en.wikipedia.org/wiki/Parrot_Sketch_Not_Included_%E2%80%93_20_Years_of_Monty_Python',\n",
       " 'https://en.wikipedia.org/wiki/Monty_Python#cite_note-Five_films-63',\n",
       " 'https://en.wikipedia.org/wiki/1983_Cannes_Film_Festival',\n",
       " 'https://en.wikipedia.org/wiki/Grand_Prix_(Cannes_Film_Festival)',\n",
       " 'https://en.wikipedia.org/wiki/Monty_Python#cite_note-81',\n",
       " 'https://en.wikipedia.org/w/index.php?title=Monty_Python&action=edit&section=14',\n",
       " 'https://en.wikipedia.org/wiki/Amnesty_International',\n",
       " 'https://en.wikipedia.org/wiki/Benefit_concert',\n",
       " 'https://en.wikipedia.org/wiki/The_Secret_Policeman%27s_Ball',\n",
       " 'https://en.wikipedia.org/wiki/Monty_Python#cite_note-Guardian2012-82',\n",
       " 'https://en.wikipedia.org/wiki/Monty_Python#cite_note-Amnesty_Ball-83',\n",
       " 'https://en.wikipedia.org/wiki/Bob_Geldof',\n",
       " 'https://en.wikipedia.org/wiki/Live_Aid',\n",
       " 'https://en.wikipedia.org/wiki/U2',\n",
       " 'https://en.wikipedia.org/wiki/Pete_Townshend',\n",
       " 'https://en.wikipedia.org/wiki/Sting_(musician)',\n",
       " 'https://en.wikipedia.org/wiki/Monty_Python#cite_note-Guardian2012-82',\n",
       " 'https://en.wikipedia.org/wiki/Monty_Python#cite_note-Amnesty-84',\n",
       " 'https://en.wikipedia.org/wiki/Bono',\n",
       " 'https://en.wikipedia.org/wiki/Monty_Python#cite_note-Amnesty-84',\n",
       " 'https://en.wikipedia.org/wiki/Monty_Python#cite_note-85',\n",
       " 'https://en.wikipedia.org/wiki/Monty_Python#cite_note-Amnesty_Ball-83',\n",
       " 'https://en.wikipedia.org/wiki/Neil_Innes',\n",
       " 'https://en.wikipedia.org/wiki/A_Poke_in_the_Eye_(With_a_Sharp_Stick)',\n",
       " 'https://en.wikipedia.org/wiki/Her_Majesty%27s_Theatre',\n",
       " 'https://en.wikipedia.org/wiki/West_End_theatre',\n",
       " 'https://en.wikipedia.org/wiki/Monty_Python#cite_note-Guardian2012-82',\n",
       " 'https://en.wikipedia.org/wiki/Rowan_Atkinson',\n",
       " 'https://en.wikipedia.org/wiki/Billy_Connolly',\n",
       " 'https://en.wikipedia.org/wiki/Monty_Python#cite_note-performers-86',\n",
       " 'https://en.wikipedia.org/wiki/Eric_Clapton',\n",
       " 'https://en.wikipedia.org/wiki/Phil_Collins',\n",
       " 'https://en.wikipedia.org/wiki/Monty_Python#cite_note-performers-86',\n",
       " 'https://en.wikipedia.org/wiki/Stephen_Fry',\n",
       " 'https://en.wikipedia.org/wiki/Hugh_Laurie',\n",
       " 'https://en.wikipedia.org/wiki/Spitting_Image',\n",
       " 'https://en.wikipedia.org/wiki/Monty_Python#cite_note-87',\n",
       " 'https://en.wikipedia.org/w/index.php?title=Monty_Python&action=edit&section=15',\n",
       " 'https://en.wikipedia.org/wiki/File:Monty_Python_(4624404749).jpg',\n",
       " 'https://en.wikipedia.org/wiki/File:Monty_Python_(4624404749).jpg',\n",
       " 'https://en.wikipedia.org/wiki/Blue_plaque',\n",
       " 'https://en.wikipedia.org/wiki/Neal%27s_Yard',\n",
       " 'https://en.wikipedia.org/wiki/Monty_Python#cite_note-theguardian/gilliam-cleese-row-88',\n",
       " 'https://en.wikipedia.org/wiki/A_Fish_Called_Wanda',\n",
       " 'https://en.wikipedia.org/wiki/Time_Bandits',\n",
       " 'https://en.wikipedia.org/wiki/Jabberwocky_(film)',\n",
       " 'https://en.wikipedia.org/wiki/Brazil_(1985_film)',\n",
       " 'https://en.wikipedia.org/wiki/The_Adventures_of_Baron_Munchausen',\n",
       " 'https://en.wikipedia.org/wiki/Yellowbeard',\n",
       " 'https://en.wikipedia.org/wiki/Spike_Milligan',\n",
       " 'https://en.wikipedia.org/wiki/Marty_Feldman',\n",
       " 'https://en.wikipedia.org/wiki/Monty_Python#cite_note-89',\n",
       " 'https://en.wikipedia.org/wiki/Ripping_Yarns',\n",
       " 'https://en.wikipedia.org/wiki/Erik_the_Viking',\n",
       " 'https://en.wikipedia.org/wiki/The_Wind_in_the_Willows_(1996_film)',\n",
       " 'https://en.wikipedia.org/wiki/Kenneth_Grahame',\n",
       " 'https://en.wikipedia.org/wiki/The_Wind_in_the_Willows',\n",
       " 'https://en.wikipedia.org/wiki/Steve_Coogan',\n",
       " 'https://en.wikipedia.org/wiki/Monty_Python#cite_note-Reunions-90',\n",
       " 'https://en.wikipedia.org/wiki/Cheers',\n",
       " 'https://en.wikipedia.org/wiki/3rd_Rock_from_the_Sun',\n",
       " 'https://en.wikipedia.org/wiki/James_Bond_movies',\n",
       " 'https://en.wikipedia.org/wiki/Will_%26_Grace',\n",
       " 'https://en.wikipedia.org/wiki/Monty_Python#cite_note-91',\n",
       " 'https://en.wikipedia.org/wiki/Fawlty_Towers',\n",
       " 'https://en.wikipedia.org/wiki/Connie_Booth',\n",
       " 'https://en.wikipedia.org/wiki/BFI_TV_100',\n",
       " 'https://en.wikipedia.org/wiki/Monty_Python#cite_note-92',\n",
       " 'https://en.wikipedia.org/wiki/Monty_Python#cite_note-93',\n",
       " 'https://en.wikipedia.org/wiki/Basil_Fawlty',\n",
       " 'https://en.wikipedia.org/wiki/Homer_Simpson',\n",
       " 'https://en.wikipedia.org/wiki/100_Greatest_(TV_series)',\n",
       " 'https://en.wikipedia.org/wiki/Monty_Python#cite_note-94',\n",
       " 'https://en.wikipedia.org/wiki/Rutland_Weekend_Television',\n",
       " 'https://en.wikipedia.org/wiki/The_Rutles',\n",
       " 'https://en.wikipedia.org/wiki/Cult',\n",
       " 'https://en.wikipedia.org/wiki/Mockumentary',\n",
       " 'https://en.wikipedia.org/wiki/All_You_Need_Is_Cash',\n",
       " 'https://en.wikipedia.org/wiki/Nuns_on_the_Run',\n",
       " 'https://en.wikipedia.org/wiki/Robbie_Coltrane',\n",
       " 'https://en.wikipedia.org/wiki/This_Song',\n",
       " 'https://en.wikipedia.org/wiki/Crackerbox_Palace',\n",
       " 'https://en.wikipedia.org/wiki/Always_Look_on_the_Bright_Side_of_Life',\n",
       " 'https://en.wikipedia.org/wiki/Monty_Python#cite_note-95',\n",
       " 'https://en.wikipedia.org/wiki/Simon_Mayo',\n",
       " 'https://en.wikipedia.org/wiki/BBC_Radio_1',\n",
       " 'https://en.wikipedia.org/wiki/Spamalot',\n",
       " 'https://en.wikipedia.org/wiki/Las_Vegas_Valley',\n",
       " \"https://en.wikipedia.org/wiki/Monty_Python#cite_note-ParkerO'Shea2006-96\",\n",
       " 'https://en.wikipedia.org/wiki/Not_the_Messiah_(He%27s_a_Very_Naughty_Boy)',\n",
       " 'https://en.wikipedia.org/wiki/Oratorio',\n",
       " 'https://en.wikipedia.org/wiki/Luminato',\n",
       " 'https://en.wikipedia.org/wiki/Toronto',\n",
       " 'https://en.wikipedia.org/w/index.php?title=Monty_Python&action=edit&section=16',\n",
       " 'https://en.wikipedia.org/wiki/File:Monty_Python_O2_Arena.jpg',\n",
       " 'https://en.wikipedia.org/wiki/File:Monty_Python_O2_Arena.jpg',\n",
       " \"https://en.wikipedia.org/wiki/Monty_Python#cite_note-ParkerO'Shea2006-96\",\n",
       " 'https://en.wikipedia.org/wiki/British_Academy_Film_Awards',\n",
       " 'https://en.wikipedia.org/wiki/Monty_Python#cite_note-97',\n",
       " 'https://en.wikipedia.org/wiki/Parrot_Sketch_Not_Included_%E2%80%93_20_Years_of_Monty_Python',\n",
       " 'https://en.wikipedia.org/wiki/Monty_Python#cite_note-Reunions-90',\n",
       " 'https://en.wikipedia.org/wiki/Monty_Python#cite_note-98',\n",
       " 'https://en.wikipedia.org/wiki/Mr._Toad%27s_Wild_Ride_(film)',\n",
       " 'https://en.wikipedia.org/wiki/Monty_Python#cite_note-TJones-71',\n",
       " 'https://en.wikipedia.org/wiki/Dead_Parrot_sketch',\n",
       " 'https://en.wikipedia.org/wiki/Saturday_Night_Live',\n",
       " 'https://en.wikipedia.org/wiki/Monty_Python#cite_note-Reunions-90',\n",
       " 'https://en.wikipedia.org/wiki/Empire_Inspiration_Award',\n",
       " 'https://en.wikipedia.org/wiki/Elton_John',\n",
       " 'https://en.wikipedia.org/wiki/Monty_Python#cite_note-99',\n",
       " 'https://en.wikipedia.org/wiki/The_Comedy_Festival',\n",
       " 'https://en.wikipedia.org/wiki/American_Film_Institute',\n",
       " 'https://en.wikipedia.org/wiki/Monty_Python#cite_note-NilsenNilsen2000-100',\n",
       " 'https://en.wikipedia.org/wiki/Monty_Python_Live_at_Aspen',\n",
       " 'https://en.wikipedia.org/wiki/Robert_Klein',\n",
       " 'https://en.wikipedia.org/wiki/Eddie_Izzard',\n",
       " 'https://en.wikipedia.org/wiki/BBC_Two',\n",
       " 'https://en.wikipedia.org/wiki/Monty_Python#cite_note-Reunions-90',\n",
       " 'https://en.wikipedia.org/wiki/Sit_on_My_Face',\n",
       " 'https://en.wikipedia.org/wiki/Concert_for_George',\n",
       " 'https://en.wikipedia.org/wiki/Tom_Hanks',\n",
       " 'https://en.wikipedia.org/wiki/Monty_Python#cite_note-Rolling_Stone-101',\n",
       " 'https://en.wikipedia.org/wiki/File:Shubert_Theatre_NYC_from_Shubert_Alley.jpg',\n",
       " 'https://en.wikipedia.org/wiki/File:Shubert_Theatre_NYC_from_Shubert_Alley.jpg',\n",
       " 'https://en.wikipedia.org/wiki/Spamalot',\n",
       " 'https://en.wikipedia.org/wiki/Shubert_Theatre_(New_York_City)',\n",
       " 'https://en.wikipedia.org/wiki/Tony_Award_for_Best_Musical',\n",
       " 'https://en.wikipedia.org/wiki/West_End_theatre',\n",
       " 'https://en.wikipedia.org/wiki/Tim_Curry',\n",
       " 'https://en.wikipedia.org/wiki/Hank_Azaria',\n",
       " 'https://en.wikipedia.org/wiki/Monty_Python#cite_note-102',\n",
       " 'https://en.wikipedia.org/wiki/John_Lennon',\n",
       " 'https://en.wikipedia.org/wiki/Monty_Python#cite_note-103',\n",
       " 'https://en.wikipedia.org/wiki/Monty_Python#cite_note-ChapmanCleese2005-104',\n",
       " 'https://en.wikipedia.org/wiki/The_Pythons_Autobiography_by_The_Pythons',\n",
       " 'https://en.wikipedia.org/wiki/Monty_Python#cite_note-105',\n",
       " 'https://en.wikipedia.org/wiki/Monty_Python#cite_note-106',\n",
       " 'https://en.wikipedia.org/wiki/Spamalot',\n",
       " 'https://en.wikipedia.org/wiki/Tony_Awards',\n",
       " 'https://en.wikipedia.org/wiki/Mike_Nichols',\n",
       " 'https://en.wikipedia.org/wiki/Sara_Ramirez',\n",
       " 'https://en.wikipedia.org/wiki/Lady_of_the_Lake',\n",
       " 'https://en.wikipedia.org/wiki/Tim_Curry',\n",
       " 'https://en.wikipedia.org/wiki/Michael_McGrath_(actor)',\n",
       " 'https://en.wikipedia.org/wiki/David_Hyde_Pierce',\n",
       " 'https://en.wikipedia.org/wiki/Hank_Azaria',\n",
       " 'https://en.wikipedia.org/wiki/Sir_Lancelot',\n",
       " 'https://en.wikipedia.org/wiki/Knights_who_say_Ni',\n",
       " 'https://en.wikipedia.org/wiki/Christopher_Sieber',\n",
       " 'https://en.wikipedia.org/wiki/Sir_Galahad',\n",
       " 'https://en.wikipedia.org/wiki/Monty_Python#cite_note-107',\n",
       " 'https://en.wikipedia.org/wiki/Monty_Python#cite_note-108',\n",
       " 'https://en.wikipedia.org/wiki/PBS',\n",
       " 'https://en.wikipedia.org/wiki/Monty_Python%27s_Personal_Best',\n",
       " 'https://en.wikipedia.org/wiki/Monty_Python#cite_note-109',\n",
       " 'https://en.wikipedia.org/wiki/Monty_Python#cite_note-110',\n",
       " 'https://en.wikipedia.org/wiki/File:Neil_Innes_by_Luke_Ford_adjust.jpg',\n",
       " 'https://en.wikipedia.org/wiki/File:Neil_Innes_by_Luke_Ford_adjust.jpg',\n",
       " 'https://en.wikipedia.org/wiki/Neil_Innes',\n",
       " 'https://en.wikipedia.org/wiki/Monty_Python:_Almost_the_Truth_(Lawyers_Cut)',\n",
       " 'https://en.wikipedia.org/wiki/Monty_Python#cite_note-111',\n",
       " 'https://en.wikipedia.org/wiki/Brian_Song',\n",
       " 'https://en.wikipedia.org/wiki/Iron_Maiden',\n",
       " 'https://en.wikipedia.org/wiki/Bruce_Dickinson',\n",
       " 'https://en.wikipedia.org/wiki/Monty_Python#cite_note-112',\n",
       " 'https://en.wikipedia.org/wiki/Not_the_Messiah_(He%27s_a_Very_Naughty_Boy)',\n",
       " 'https://en.wikipedia.org/wiki/Royal_Albert_Hall',\n",
       " 'https://en.wikipedia.org/wiki/Monty_Python#cite_note-113',\n",
       " 'https://en.wikipedia.org/wiki/British_Academy_of_Film_and_Television_Arts',\n",
       " 'https://en.wikipedia.org/wiki/Monty_Python#cite_note-114',\n",
       " 'https://en.wikipedia.org/wiki/A_Liar%27s_Autobiography:_The_Untrue_Story_of_Monty_Python%27s_Graham_Chapman',\n",
       " 'https://en.wikipedia.org/wiki/A_Liar%27s_Autobiography',\n",
       " 'https://en.wikipedia.org/wiki/Epix_(TV_channel)',\n",
       " 'https://en.wikipedia.org/wiki/Monty_Python#cite_note-115',\n",
       " 'https://en.wikipedia.org/wiki/Science_fiction',\n",
       " 'https://en.wikipedia.org/wiki/Absolutely_Anything',\n",
       " 'https://en.wikipedia.org/wiki/Monty_Python#cite_note-VR1118049265-116',\n",
       " 'https://en.wikipedia.org/wiki/Computer-generated_imagery',\n",
       " 'https://en.wikipedia.org/wiki/Gavin_Scott',\n",
       " 'https://en.wikipedia.org/wiki/Simon_Pegg',\n",
       " 'https://en.wikipedia.org/wiki/Kate_Beckinsale',\n",
       " 'https://en.wikipedia.org/wiki/Robin_Williams',\n",
       " 'https://en.wikipedia.org/wiki/Monty_Python#cite_note-117',\n",
       " 'https://en.wikipedia.org/wiki/Monty_Python#cite_note-118',\n",
       " 'https://en.wikipedia.org/wiki/Monty_Python#cite_note-119',\n",
       " 'https://en.wikipedia.org/wiki/Monty_Python#cite_note-gfm-120',\n",
       " 'https://en.wikipedia.org/w/index.php?title=Monty_Python&action=edit&section=17',\n",
       " 'https://en.wikipedia.org/wiki/Monty_Python_Live_(Mostly)',\n",
       " 'https://en.wikipedia.org/wiki/File:Monty_Python_Live_(Mostly).jpg',\n",
       " 'https://en.wikipedia.org/wiki/File:Monty_Python_Live_(Mostly).jpg',\n",
       " 'https://en.wikipedia.org/wiki/The_O2_Arena',\n",
       " 'https://en.wikipedia.org/wiki/Mark_Forstater',\n",
       " 'https://en.wikipedia.org/wiki/Spamalot',\n",
       " 'https://en.wikipedia.org/wiki/Monty_Python#cite_note-121',\n",
       " 'https://en.wikipedia.org/wiki/Monty_Python#cite_note-122',\n",
       " 'https://en.wikipedia.org/wiki/The_O2_Arena',\n",
       " 'https://en.wikipedia.org/wiki/Monty_Python#cite_note-123',\n",
       " 'https://en.wikipedia.org/wiki/Monty_Python#cite_note-124',\n",
       " 'https://en.wikipedia.org/wiki/Monty_Python#cite_note-125',\n",
       " 'https://en.wikipedia.org/wiki/Monty_Python#cite_note-Record_sales-126',\n",
       " 'https://en.wikipedia.org/wiki/South_Park',\n",
       " 'https://en.wikipedia.org/wiki/Trey_Parker',\n",
       " 'https://en.wikipedia.org/wiki/Matt_Stone',\n",
       " 'https://en.wikipedia.org/wiki/Monty_Python#cite_note-127',\n",
       " 'https://en.wikipedia.org/wiki/Mick_Jagger',\n",
       " 'https://en.wikipedia.org/wiki/Charlie_Watts',\n",
       " 'https://en.wikipedia.org/wiki/Monty_Python#cite_note-Thomas-47',\n",
       " 'https://en.wikipedia.org/wiki/Monty_Python#cite_note-O2_Shows-128',\n",
       " 'https://en.wikipedia.org/wiki/Monty_Python#cite_note-129',\n",
       " 'https://en.wikipedia.org/wiki/Gold_(UK_TV_channel)',\n",
       " 'https://en.wikipedia.org/wiki/National_CineMedia',\n",
       " 'https://en.wikipedia.org/wiki/Dish_Network',\n",
       " 'https://en.wikipedia.org/wiki/Monty_Python#cite_note-telegraph-130',\n",
       " 'https://en.wikipedia.org/w/index.php?title=Monty_Python&action=edit&section=18',\n",
       " 'https://en.wikipedia.org/w/index.php?title=Monty_Python&action=edit&section=19',\n",
       " 'https://en.wikipedia.org/wiki/Graham_Chapman',\n",
       " 'https://en.wikipedia.org/wiki/Footlights',\n",
       " 'https://en.wikipedia.org/wiki/Cambridge_University',\n",
       " 'https://en.wikipedia.org/wiki/A_Liar%27s_Autobiography:_Volume_VI',\n",
       " 'https://en.wikipedia.org/wiki/A_Liar%27s_Autobiography:_The_Untrue_Story_of_Monty_Python%27s_Graham_Chapman',\n",
       " 'https://en.wikipedia.org/wiki/Monty_Python#cite_note-131',\n",
       " 'https://en.wikipedia.org/w/index.php?title=Monty_Python&action=edit&section=20',\n",
       " 'https://en.wikipedia.org/wiki/File:Dead_Parrot_O2_Arena.jpg',\n",
       " 'https://en.wikipedia.org/wiki/File:Dead_Parrot_O2_Arena.jpg',\n",
       " 'https://en.wikipedia.org/wiki/John_Cleese',\n",
       " 'https://en.wikipedia.org/wiki/Dead_Parrot_sketch',\n",
       " 'https://en.wikipedia.org/wiki/John_Cleese',\n",
       " 'https://en.wikipedia.org/wiki/Video_Arts',\n",
       " 'https://en.wikipedia.org/wiki/Fawlty_Towers',\n",
       " 'https://en.wikipedia.org/wiki/Connie_Booth',\n",
       " 'https://en.wikipedia.org/wiki/Basil_Fawlty',\n",
       " 'https://en.wikipedia.org/wiki/British_Academy_Television_Award_for_Best_Entertainment_Performance',\n",
       " 'https://en.wikipedia.org/wiki/Monty_Python#cite_note-132',\n",
       " 'https://en.wikipedia.org/wiki/A_Fish_Called_Wanda',\n",
       " 'https://en.wikipedia.org/wiki/Academy_Award_for_Best_Original_Screenplay',\n",
       " 'https://en.wikipedia.org/wiki/Monty_Python#cite_note-133',\n",
       " 'https://en.wikipedia.org/w/index.php?title=Monty_Python&action=edit&section=21',\n",
       " 'https://en.wikipedia.org/wiki/Terry_Gilliam',\n",
       " 'https://en.wikipedia.org/wiki/Monty_Python#cite_note-134',\n",
       " 'https://en.wikipedia.org/wiki/Harvey_Kurtzman',\n",
       " 'https://en.wikipedia.org/wiki/Help!_(magazine)',\n",
       " 'https://en.wikipedia.org/wiki/The_Crimson_Permanent_Assurance',\n",
       " 'https://en.wikipedia.org/wiki/Monty_Python#cite_note-135',\n",
       " 'https://en.wikipedia.org/w/index.php?title=Monty_Python&action=edit&section=22',\n",
       " 'https://en.wikipedia.org/wiki/File:Monty_Python_Live_02-07-14_12_51_26_(14578960366).jpg',\n",
       " 'https://en.wikipedia.org/wiki/File:Monty_Python_Live_02-07-14_12_51_26_(14578960366).jpg',\n",
       " 'https://en.wikipedia.org/wiki/Eric_Idle',\n",
       " 'https://en.wikipedia.org/wiki/Galaxy_Song',\n",
       " 'https://en.wikipedia.org/wiki/Wordplay',\n",
       " 'https://en.wikipedia.org/wiki/Always_Look_on_the_Bright_Side_of_Life',\n",
       " 'https://en.wikipedia.org/wiki/Eric_Idle',\n",
       " 'https://en.wikipedia.org/wiki/Wordplay',\n",
       " 'https://en.wikipedia.org/wiki/Saturday_Night_Live',\n",
       " 'https://en.wikipedia.org/wiki/Splitting_Heirs',\n",
       " 'https://en.wikipedia.org/wiki/An_Alan_Smithee_Film:_Burn_Hollywood_Burn',\n",
       " 'https://en.wikipedia.org/wiki/Tony_Award',\n",
       " 'https://en.wikipedia.org/wiki/Spamalot',\n",
       " 'https://en.wikipedia.org/wiki/Not_the_Messiah_(He%27s_a_Very_Naughty_Boy)',\n",
       " 'https://en.wikipedia.org/wiki/Oratorio',\n",
       " 'https://en.wikipedia.org/wiki/Monty_Python#cite_note-136',\n",
       " 'https://en.wikipedia.org/wiki/2012_Summer_Olympics_closing_ceremony',\n",
       " 'https://en.wikipedia.org/wiki/Monty_Python#cite_note-137',\n",
       " 'https://en.wikipedia.org/w/index.php?title=Monty_Python&action=edit&section=23',\n",
       " 'https://en.wikipedia.org/wiki/Terry_Jones',\n",
       " 'https://en.wikipedia.org/wiki/Fossil_fuel',\n",
       " 'https://en.wikipedia.org/wiki/Rupert_Bear',\n",
       " 'https://en.wikipedia.org/wiki/Middle_Ages',\n",
       " 'https://en.wikipedia.org/wiki/Monty_Python#cite_note-138',\n",
       " 'https://en.wikipedia.org/wiki/Monty_Python#cite_note-139',\n",
       " 'https://en.wikipedia.org/wiki/Monty_Python#cite_note-140',\n",
       " 'https://en.wikipedia.org/wiki/Monty_Python#cite_note-141',\n",
       " 'https://en.wikipedia.org/w/index.php?title=Monty_Python&action=edit&section=24',\n",
       " 'https://en.wikipedia.org/wiki/Michael_Palin',\n",
       " 'https://en.wikipedia.org/wiki/Oxford_University',\n",
       " 'https://en.wikipedia.org/wiki/Knight_Commander_of_the_Order_of_St._Michael_and_St._George',\n",
       " 'https://en.wikipedia.org/wiki/2019_New_Year_Honours',\n",
       " 'https://en.wikipedia.org/wiki/Buckingham_Palace',\n",
       " 'https://en.wikipedia.org/wiki/Monty_Python#cite_note-142',\n",
       " 'https://en.wikipedia.org/w/index.php?title=Monty_Python&action=edit&section=25',\n",
       " 'https://en.wikipedia.org/wiki/George_Martin',\n",
       " 'https://en.wikipedia.org/wiki/Fifth_Beatle',\n",
       " 'https://en.wikipedia.org/wiki/Neil_Innes',\n",
       " 'https://en.wikipedia.org/wiki/Carol_Cleveland',\n",
       " 'https://en.wikipedia.org/wiki/Monty_Python#cite_note-143',\n",
       " 'https://en.wikipedia.org/wiki/File:10.18.09CarolClevelandByLuigiNovi.jpg',\n",
       " 'https://en.wikipedia.org/wiki/File:10.18.09CarolClevelandByLuigiNovi.jpg',\n",
       " 'https://en.wikipedia.org/wiki/Carol_Cleveland',\n",
       " 'https://en.wikipedia.org/wiki/Monty_Python#cite_note-25_sketches-33',\n",
       " 'https://en.wikipedia.org/wiki/Neil_Innes',\n",
       " 'https://en.wikipedia.org/wiki/Douglas_Adams',\n",
       " 'https://en.wikipedia.org/wiki/Monty_Python_Live_at_the_Hollywood_Bowl',\n",
       " 'https://en.wikipedia.org/wiki/Concert_for_George',\n",
       " 'https://en.wikipedia.org/wiki/Monty_Python#cite_note-144',\n",
       " 'https://en.wikipedia.org/wiki/Bonzo_Dog_Band',\n",
       " 'https://en.wikipedia.org/wiki/The_Rutles',\n",
       " 'https://en.wikipedia.org/wiki/All_You_Need_Is_Cash',\n",
       " 'https://en.wikipedia.org/wiki/Mockumentary',\n",
       " 'https://en.wikipedia.org/wiki/Chicago_Tribune',\n",
       " 'https://en.wikipedia.org/wiki/Monty_Python#cite_note-145',\n",
       " 'https://en.wikipedia.org/wiki/Monty_Python#cite_note-146',\n",
       " 'https://en.wikipedia.org/wiki/Carol_Cleveland',\n",
       " 'https://en.wikipedia.org/wiki/John_Howard_Davies',\n",
       " 'https://en.wikipedia.org/wiki/Ian_MacNaughton',\n",
       " 'https://en.wikipedia.org/wiki/Monty_Python#cite_note-147',\n",
       " 'https://en.wikipedia.org/wiki/Monty_Python#cite_note-Cleveland-148',\n",
       " 'https://en.wikipedia.org/wiki/Time_(magazine)',\n",
       " 'https://en.wikipedia.org/wiki/Monty_Python#cite_note-Cleveland-148',\n",
       " 'https://en.wikipedia.org/w/index.php?title=Monty_Python&action=edit&section=26',\n",
       " 'https://en.wikipedia.org/wiki/Connie_Booth',\n",
       " 'https://en.wikipedia.org/wiki/Monty_Python#cite_note-149',\n",
       " 'https://en.wikipedia.org/wiki/Douglas_Adams',\n",
       " 'https://en.wikipedia.org/wiki/West_End_theatre',\n",
       " 'https://en.wikipedia.org/wiki/Patient_Abuse',\n",
       " 'https://en.wikipedia.org/wiki/Monty_Python#cite_note-150',\n",
       " 'https://en.wikipedia.org/wiki/Out_of_the_Trees',\n",
       " 'https://en.wikipedia.org/wiki/Monty_Python#cite_note-151',\n",
       " 'https://en.wikipedia.org/wiki/Ian_Davidson_(scriptwriter)',\n",
       " 'https://en.wikipedia.org/wiki/Python_Night_%E2%80%93_30_Years_of_Monty_Python',\n",
       " 'https://en.wikipedia.org/wiki/Monty_Python#cite_note-152',\n",
       " 'https://en.wikipedia.org/wiki/Eddie_Izzard',\n",
       " 'https://en.wikipedia.org/wiki/Aspen,_Colorado',\n",
       " 'https://en.wikipedia.org/wiki/Monty_Python#cite_note-153',\n",
       " 'https://en.wikipedia.org/wiki/Fred_Tomlinson_(singer)',\n",
       " 'https://en.wikipedia.org/wiki/Monty_Python#cite_note-154',\n",
       " 'https://en.wikipedia.org/wiki/The_Lumberjack_Song',\n",
       " 'https://en.wikipedia.org/wiki/John_Howard_Davies',\n",
       " 'https://en.wikipedia.org/wiki/Lyn_Ashley',\n",
       " 'https://en.wikipedia.org/wiki/John_Young_(actor)',\n",
       " 'https://en.wikipedia.org/wiki/Flanagan_(model)',\n",
       " 'https://en.wikipedia.org/wiki/Monty_Python#cite_note-155',\n",
       " 'https://en.wikipedia.org/wiki/Monty_Python#cite_note-156',\n",
       " 'https://en.wikipedia.org/w/index.php?title=Monty_Python&action=edit&section=27',\n",
       " 'https://en.wikipedia.org/wiki/File:Monty_Python_Live_02-07-14_13_00_13_(14415341590).jpg',\n",
       " 'https://en.wikipedia.org/wiki/File:Monty_Python_Live_02-07-14_13_00_13_(14415341590).jpg',\n",
       " 'https://en.wikipedia.org/wiki/Argument_Clinic',\n",
       " 'https://en.wikipedia.org/wiki/CNN',\n",
       " 'https://en.wikipedia.org/wiki/Monty_Python#cite_note-CNN_Beatles-4',\n",
       " 'https://en.wikipedia.org/wiki/Monty_Python#cite_note-Perry-157',\n",
       " 'https://en.wikipedia.org/wiki/Monty_Python#cite_note-Hardcastle&ReischIntro-158',\n",
       " 'https://en.wikipedia.org/wiki/The_Beatles',\n",
       " 'https://en.wikipedia.org/wiki/Monty_Python#cite_note-CNN_Beatles-4',\n",
       " 'https://en.wikipedia.org/wiki/Monty_Python#cite_note-Atlantic_Beatles-5',\n",
       " 'https://en.wikipedia.org/wiki/Monty_Python#cite_note-BBC_Beatles-6',\n",
       " 'https://en.wikipedia.org/wiki/Neil_Gaiman',\n",
       " 'https://en.wikipedia.org/wiki/Monty_Python#cite_note-Greatest_skits-46',\n",
       " 'https://en.wikipedia.org/w/index.php?title=Monty_Python&action=edit&section=28',\n",
       " 'https://en.wikipedia.org/wiki/Mike_Myers',\n",
       " 'https://en.wikipedia.org/wiki/Monty_Python#cite_note-BBC_America-159',\n",
       " 'https://en.wikipedia.org/wiki/Sacha_Baron_Cohen',\n",
       " 'https://en.wikipedia.org/wiki/Monty_Python#cite_note-160',\n",
       " 'https://en.wikipedia.org/wiki/David_Cross',\n",
       " 'https://en.wikipedia.org/wiki/Monty_Python#cite_note-161',\n",
       " 'https://en.wikipedia.org/wiki/Rowan_Atkinson',\n",
       " 'https://en.wikipedia.org/wiki/Monty_Python#cite_note-162',\n",
       " 'https://en.wikipedia.org/wiki/Seth_MacFarlane',\n",
       " 'https://en.wikipedia.org/wiki/Monty_Python#cite_note-163',\n",
       " 'https://en.wikipedia.org/wiki/Seth_Meyers',\n",
       " 'https://en.wikipedia.org/wiki/Monty_Python#cite_note-164',\n",
       " 'https://en.wikipedia.org/wiki/Trey_Parker',\n",
       " 'https://en.wikipedia.org/wiki/Monty_Python#cite_note-165',\n",
       " 'https://en.wikipedia.org/wiki/Matt_Stone',\n",
       " 'https://en.wikipedia.org/wiki/Monty_Python#cite_note-parkerstone-166',\n",
       " 'https://en.wikipedia.org/wiki/Vic_and_Bob',\n",
       " 'https://en.wikipedia.org/wiki/Monty_Python#cite_note-167',\n",
       " 'https://en.wikipedia.org/wiki/Mike_Myers',\n",
       " 'https://en.wikipedia.org/wiki/Monty_Python#cite_note-Collin-64',\n",
       " 'https://en.wikipedia.org/wiki/Russell_Brand',\n",
       " 'https://en.wikipedia.org/wiki/Monty_Python#cite_note-168',\n",
       " 'https://en.wikipedia.org/wiki/Jerry_Seinfeld',\n",
       " 'https://en.wikipedia.org/wiki/Monty_Python#cite_note-Seinfeld-169',\n",
       " 'https://en.wikipedia.org/wiki/Eddie_Izzard',\n",
       " 'https://en.wikipedia.org/wiki/Monty_Python#cite_note-170',\n",
       " 'https://en.wikipedia.org/wiki/%22Weird_Al%22_Yankovic',\n",
       " 'https://en.wikipedia.org/wiki/Monty_Python#cite_note-171',\n",
       " 'https://en.wikipedia.org/wiki/Matt_Groening',\n",
       " 'https://en.wikipedia.org/wiki/The_Simpsons',\n",
       " 'https://en.wikipedia.org/wiki/The_Simpsons_(season_5)',\n",
       " 'https://en.wikipedia.org/wiki/The_Simpsons_(season_6)',\n",
       " 'https://en.wikipedia.org/wiki/Monty_Python#cite_note-172',\n",
       " 'https://en.wikipedia.org/wiki/Jim_Carrey',\n",
       " 'https://en.wikipedia.org/wiki/The_Funniest_Joke_in_the_World',\n",
       " 'https://en.wikipedia.org/wiki/Monty_Python#cite_note-173',\n",
       " 'https://en.wikipedia.org/wiki/Simon_Pegg',\n",
       " 'https://en.wikipedia.org/wiki/Three_Flavours_Cornetto',\n",
       " 'https://en.wikipedia.org/wiki/Shaun_of_the_Dead',\n",
       " 'https://en.wikipedia.org/wiki/The_World%27s_End_(film)',\n",
       " 'https://en.wikipedia.org/wiki/Monty_Python#cite_note-174',\n",
       " 'https://en.wikipedia.org/wiki/Parade_(magazine)',\n",
       " 'https://en.wikipedia.org/wiki/Monty_Python#cite_note-Seinfeld-169',\n",
       " 'https://en.wikipedia.org/wiki/Rob_Paulsen',\n",
       " 'https://en.wikipedia.org/wiki/Pinky_and_the_Brain#Pinky',\n",
       " 'https://en.wikipedia.org/wiki/Animaniacs',\n",
       " 'https://en.wikipedia.org/wiki/Pinky_and_the_Brain',\n",
       " 'https://en.wikipedia.org/wiki/Monty_Python#cite_note-175',\n",
       " 'https://en.wikipedia.org/wiki/Monty_Python#cite_note-176',\n",
       " 'https://en.wikipedia.org/wiki/John_Oliver',\n",
       " 'https://en.wikipedia.org/wiki/Monty_Python#cite_note-177',\n",
       " 'https://en.wikipedia.org/wiki/Tina_Fey',\n",
       " 'https://en.wikipedia.org/wiki/Saturday_Night_Live',\n",
       " 'https://en.wikipedia.org/wiki/Monty_Python#cite_note-BBC_America-159',\n",
       " 'https://en.wikipedia.org/wiki/Stephen_Merchant',\n",
       " 'https://en.wikipedia.org/wiki/The_Office_(British_TV_series)',\n",
       " 'https://en.wikipedia.org/wiki/Ricky_Gervais',\n",
       " 'https://en.wikipedia.org/wiki/Monty_Python#cite_note-178',\n",
       " 'https://en.wikipedia.org/w/index.php?title=Monty_Python&action=edit&section=29',\n",
       " 'https://en.wikipedia.org/wiki/Asteroid',\n",
       " 'https://en.wikipedia.org/wiki/9617_Grahamchapman',\n",
       " 'https://en.wikipedia.org/wiki/9618_Johncleese',\n",
       " 'https://en.wikipedia.org/wiki/9619_Terrygilliam',\n",
       " 'https://en.wikipedia.org/wiki/9620_Ericidle',\n",
       " 'https://en.wikipedia.org/wiki/9621_Michaelpalin',\n",
       " 'https://en.wikipedia.org/wiki/9622_Terryjones',\n",
       " 'https://en.wikipedia.org/wiki/13681_Monty_Python',\n",
       " 'https://en.wikipedia.org/wiki/SpaceX',\n",
       " 'https://en.wikipedia.org/wiki/Low_Earth_orbit',\n",
       " 'https://en.wikipedia.org/wiki/SpaceX_COTS_Demo_Flight_1',\n",
       " 'https://en.wikipedia.org/wiki/Elon_Musk',\n",
       " 'https://en.wikipedia.org/wiki/Monty_Python#cite_note-179',\n",
       " 'https://en.wikipedia.org/wiki/Palmerston_North',\n",
       " 'https://en.wikipedia.org/wiki/Monty_Python#cite_note-thegeektwins.com-180',\n",
       " 'https://en.wikipedia.org/w/index.php?title=Monty_Python&action=edit&section=30',\n",
       " 'https://en.wiktionary.org/wiki/Pythonesque',\n",
       " 'https://en.wikipedia.org/wiki/Surreal_humour',\n",
       " 'https://en.wikipedia.org/wiki/Monty_Python#cite_note-181',\n",
       " 'https://en.wikipedia.org/wiki/Monty_Python#cite_note-182',\n",
       " 'https://en.wikipedia.org/wiki/Oxford_English_Dictionary',\n",
       " 'https://en.wikipedia.org/wiki/Monty_Python#cite_note-183',\n",
       " 'https://en.wikipedia.org/wiki/South_Park',\n",
       " 'https://en.wikipedia.org/wiki/Monty_Python#cite_note-184',\n",
       " 'https://en.wikipedia.org/wiki/Good_Eats',\n",
       " 'https://en.wikipedia.org/wiki/Alton_Brown',\n",
       " 'https://en.wikipedia.org/wiki/Monty_Python#cite_note-185',\n",
       " 'https://en.wikipedia.org/wiki/Robbie_Collin',\n",
       " 'https://en.wikipedia.org/wiki/Austin_Powers',\n",
       " 'https://en.wikipedia.org/wiki/Christopher_Guest',\n",
       " 'https://en.wikipedia.org/wiki/Will_Ferrell',\n",
       " 'https://en.wikipedia.org/wiki/Monty_Python#cite_note-Collin-64',\n",
       " 'https://en.wikipedia.org/w/index.php?title=Monty_Python&action=edit&section=31',\n",
       " 'https://en.wikipedia.org/wiki/Anime',\n",
       " 'https://en.wikipedia.org/wiki/Girls_und_Panzer',\n",
       " 'https://en.wikipedia.org/wiki/Monty_Python#cite_note-186',\n",
       " 'https://en.wikipedia.org/w/index.php?title=Monty_Python&action=edit&section=32',\n",
       " 'https://en.wikipedia.org/wiki/Lexicon',\n",
       " 'https://en.wikipedia.org/wiki/File:Monty_Python_Live_02-07-14_13_04_42_(14598710791).jpg',\n",
       " 'https://en.wikipedia.org/wiki/File:Monty_Python_Live_02-07-14_13_04_42_(14598710791).jpg',\n",
       " 'https://en.wikipedia.org/wiki/Spam_(Monty_Python)',\n",
       " 'https://en.wikipedia.org/wiki/Spamming',\n",
       " 'https://en.wikipedia.org/wiki/Spam_(Monty_Python)',\n",
       " 'https://en.wikipedia.org/wiki/Monty_Python#cite_note-tools.ietf.org-187',\n",
       " 'https://en.wikipedia.org/wiki/Viking',\n",
       " 'https://en.wikipedia.org/wiki/Monty_Python#cite_note-188',\n",
       " 'https://en.wikipedia.org/wiki/Python_(programming_language)',\n",
       " 'https://en.wikipedia.org/wiki/Guido_van_Rossum',\n",
       " 'https://en.wikipedia.org/wiki/Integrated_development_environment',\n",
       " 'https://en.wikipedia.org/wiki/IDLE_(Python)',\n",
       " 'https://en.wikipedia.org/wiki/Eric_(software)',\n",
       " 'https://en.wikipedia.org/wiki/April_Fool%27s_Day',\n",
       " 'https://en.wikipedia.org/wiki/Larry_Wall',\n",
       " 'https://en.wikipedia.org/wiki/Perl',\n",
       " 'https://en.wikipedia.org/wiki/Dead_Parrot_sketch',\n",
       " 'https://en.wikipedia.org/wiki/Parrot_virtual_machine',\n",
       " 'https://en.wikipedia.org/wiki/Bytecode',\n",
       " 'https://en.wikipedia.org/wiki/Monty_Python#cite_note-189',\n",
       " 'https://en.wikipedia.org/wiki/Cheese_Shop_sketch',\n",
       " 'https://en.wikipedia.org/wiki/Bicycle_Repair_Man',\n",
       " 'https://en.wikipedia.org/wiki/Monty_Python#cite_note-190',\n",
       " 'https://en.wikipedia.org/wiki/Miocene',\n",
       " 'https://en.wikipedia.org/wiki/Australian_Fossil_Mammal_Sites_(Riversleigh)',\n",
       " 'https://en.wikipedia.org/wiki/Palaeontologist',\n",
       " 'https://en.wikipedia.org/wiki/Taxonomy_(biology)',\n",
       " 'https://en.wikipedia.org/wiki/Montypythonoides',\n",
       " 'https://en.wikipedia.org/wiki/Monty_Python#cite_note-191',\n",
       " 'https://en.wikipedia.org/wiki/Ben_%26_Jerry%27s',\n",
       " 'https://en.wikipedia.org/wiki/Monty_Python#cite_note-192',\n",
       " 'https://en.wikipedia.org/wiki/Monty_Python#cite_note-193',\n",
       " 'https://en.wikipedia.org/wiki/North_Yorkshire',\n",
       " 'https://en.wikipedia.org/wiki/Bemaraha_woolly_lemur',\n",
       " 'https://en.wikipedia.org/wiki/Monty_Python#cite_note-194',\n",
       " 'https://en.wikipedia.org/wiki/Monty_Python#cite_note-195',\n",
       " 'https://en.wikipedia.org/wiki/Monty_Python_and_the_Holy_Grail',\n",
       " 'https://en.wikipedia.org/wiki/Monty_Python#cite_note-thegeektwins.com-180',\n",
       " 'https://en.wikipedia.org/wiki/Toad_the_Wet_Sprocket',\n",
       " 'https://en.wikipedia.org/wiki/Monty_Python#cite_note-196',\n",
       " 'https://en.wikipedia.org/wiki/Monty_Python%27s_Contractual_Obligation_Album',\n",
       " 'https://en.wikipedia.org/wiki/Monty_Python#cite_note-197',\n",
       " 'https://en.wikipedia.org/w/index.php?title=Monty_Python&action=edit&section=33',\n",
       " 'https://en.wikipedia.org/wiki/File:Monty_Python_Live_02-07-14_12_27_13_(14415368570).jpg',\n",
       " 'https://en.wikipedia.org/wiki/File:Monty_Python_Live_02-07-14_12_27_13_(14415368570).jpg',\n",
       " 'https://en.wikipedia.org/wiki/List_of_recurring_Monty_Python%27s_Flying_Circus_characters#Gumbys',\n",
       " 'https://en.wikipedia.org/wiki/St_George%27s_Day',\n",
       " 'https://en.wikipedia.org/wiki/Trafalgar_Square',\n",
       " 'https://en.wikipedia.org/wiki/Always_Look_on_the_Bright_Side_of_Life',\n",
       " 'https://en.wikipedia.org/wiki/Guinness_World_Records',\n",
       " 'https://en.wikipedia.org/wiki/Monty_Python#cite_note-198',\n",
       " 'https://en.wikipedia.org/wiki/List_of_recurring_Monty_Python%27s_Flying_Circus_characters#Gumbys',\n",
       " 'https://en.wikipedia.org/wiki/Monty_Python#cite_note-199',\n",
       " 'https://en.wikipedia.org/wiki/Monty_Python#cite_note-200',\n",
       " 'https://en.wikipedia.org/w/index.php?title=Monty_Python&action=edit&section=34',\n",
       " 'https://en.wikipedia.org/w/index.php?title=Monty_Python&action=edit&section=35',\n",
       " 'https://en.wikipedia.org/wiki/Monty_Python_mediagraphy',\n",
       " 'https://en.wikipedia.org/w/index.php?title=Monty_Python&action=edit&section=36',\n",
       " 'https://en.wikipedia.org/wiki/Monty_Python%27s_Flying_Circus',\n",
       " 'https://en.wikipedia.org/wiki/List_of_Monty_Python%27s_Flying_Circus_episodes',\n",
       " 'https://en.wikipedia.org/wiki/Monty_Python%27s_Fliegender_Zirkus',\n",
       " 'https://en.wikipedia.org/wiki/Westdeutscher_Rundfunk',\n",
       " 'https://en.wikipedia.org/wiki/Dubbing_(filmmaking)',\n",
       " 'https://en.wikipedia.org/wiki/Monty_Python%27s_Personal_Best',\n",
       " 'https://en.wikipedia.org/w/index.php?title=Monty_Python&action=edit&section=37',\n",
       " 'https://en.wikipedia.org/wiki/And_Now_for_Something_Completely_Different',\n",
       " 'https://en.wikipedia.org/wiki/Monty_Python_and_the_Holy_Grail',\n",
       " 'https://en.wikipedia.org/wiki/Monty_Python%27s_Life_of_Brian',\n",
       " 'https://en.wikipedia.org/wiki/Monty_Python_Live_at_the_Hollywood_Bowl',\n",
       " 'https://en.wikipedia.org/wiki/Terry_Hughes_(director)',\n",
       " 'https://en.wikipedia.org/wiki/Limited_release',\n",
       " 'https://en.wikipedia.org/wiki/Monty_Python%27s_The_Meaning_of_Life',\n",
       " 'https://en.wikipedia.org/w/index.php?title=Monty_Python&action=edit&section=38',\n",
       " 'https://en.wikipedia.org/wiki/Monty_Python%27s_Flying_Circus_(album)',\n",
       " 'https://en.wikipedia.org/wiki/Another_Monty_Python_Record',\n",
       " 'https://en.wikipedia.org/wiki/Monty_Python%27s_Previous_Record',\n",
       " 'https://en.wikipedia.org/wiki/The_Monty_Python_Matching_Tie_and_Handkerchief',\n",
       " 'https://en.wikipedia.org/wiki/Live_at_Drury_Lane',\n",
       " 'https://en.wikipedia.org/wiki/The_Album_of_the_Soundtrack_of_the_Trailer_of_the_Film_of_Monty_Python_and_the_Holy_Grail',\n",
       " 'https://en.wikipedia.org/wiki/Monty_Python_Live_at_City_Center',\n",
       " 'https://en.wikipedia.org/wiki/The_Monty_Python_Instant_Record_Collection',\n",
       " 'https://en.wikipedia.org/wiki/Monty_Python%27s_Life_of_Brian_(album)',\n",
       " 'https://en.wikipedia.org/wiki/Monty_Python%27s_Contractual_Obligation_Album',\n",
       " 'https://en.wikipedia.org/wiki/The_Monty_Python_Instant_Record_Collection',\n",
       " 'https://en.wikipedia.org/wiki/Monty_Python%27s_The_Meaning_of_Life_(album)',\n",
       " 'https://en.wikipedia.org/wiki/The_Final_Rip_Off',\n",
       " 'https://en.wikipedia.org/wiki/Monty_Python_Sings',\n",
       " 'https://en.wikipedia.org/wiki/The_Ultimate_Monty_Python_Rip_Off',\n",
       " 'https://en.wikipedia.org/wiki/Monty_Python_Sings',\n",
       " 'https://en.wikipedia.org/wiki/The_Hastily_Cobbled_Together_for_a_Fast_Buck_Album',\n",
       " 'https://en.wikipedia.org/w/index.php?title=Monty_Python&action=edit&section=39',\n",
       " 'https://en.wikipedia.org/wiki/Spamalot',\n",
       " 'https://en.wikipedia.org/wiki/Mike_Nichols',\n",
       " 'https://en.wikipedia.org/wiki/John_Du_Prez',\n",
       " 'https://en.wikipedia.org/wiki/Hank_Azaria',\n",
       " 'https://en.wikipedia.org/wiki/Tim_Curry',\n",
       " 'https://en.wikipedia.org/wiki/David_Hyde_Pierce',\n",
       " 'https://en.wikipedia.org/wiki/Tony_Award',\n",
       " 'https://en.wikipedia.org/wiki/Royal_Mail',\n",
       " 'https://en.wikipedia.org/wiki/Monty_Python#cite_note-201',\n",
       " 'https://en.wikipedia.org/wiki/Not_the_Messiah_(He%27s_a_Very_Naughty_Boy)',\n",
       " 'https://en.wikipedia.org/wiki/Toronto_Symphony_Orchestra',\n",
       " 'https://en.wikipedia.org/wiki/Luminato',\n",
       " 'https://en.wikipedia.org/wiki/Toronto',\n",
       " 'https://en.wikipedia.org/wiki/Peter_Oundjian',\n",
       " 'https://en.wikipedia.org/wiki/Messiah_(Handel)',\n",
       " 'https://en.wikipedia.org/wiki/Monty_Python#cite_note-202',\n",
       " 'https://en.wikipedia.org/wiki/Monty_Python_Live_(Mostly)',\n",
       " 'https://en.wikipedia.org/wiki/Monty_Python#cite_note-O2_Shows-128',\n",
       " 'https://en.wikipedia.org/wiki/The_O2_Arena',\n",
       " 'https://en.wikipedia.org/wiki/Monty_Python#cite_note-Record_sales-126',\n",
       " 'https://en.wikipedia.org/wiki/Monty_Python#cite_note-O2_Shows-128',\n",
       " 'https://en.wikipedia.org/w/index.php?title=Monty_Python&action=edit&section=40',\n",
       " 'https://en.wikipedia.org/wiki/Monty_Python%27s_Big_Red_Book',\n",
       " 'https://en.wikipedia.org/wiki/ISBN_(identifier)',\n",
       " 'https://en.wikipedia.org/wiki/Special:BookSources/0-416-66890-9',\n",
       " 'https://en.wikipedia.org/wiki/The_Brand_New_Monty_Python_Bok',\n",
       " 'https://en.wikipedia.org/wiki/ISBN_(identifier)',\n",
       " 'https://en.wikipedia.org/wiki/Special:BookSources/0-413-30130-3',\n",
       " 'https://en.wikipedia.org/wiki/ISBN_(identifier)',\n",
       " 'https://en.wikipedia.org/wiki/Special:BookSources/0-413-69000-8',\n",
       " 'https://en.wikipedia.org/wiki/Monty_Python_and_the_Holy_Grail_(Book)',\n",
       " 'https://en.wikipedia.org/wiki/ISBN_(identifier)',\n",
       " 'https://en.wikipedia.org/wiki/Special:BookSources/0-413-38520-5',\n",
       " 'https://en.wikipedia.org/wiki/Monty_Python%27s_The_Life_of_Brian/MONTYPYTHONSCRAPBOOK',\n",
       " 'https://en.wikipedia.org/wiki/ISBN_(identifier)',\n",
       " 'https://en.wikipedia.org/wiki/Special:BookSources/0-413-46550-0',\n",
       " 'https://en.wikipedia.org/wiki/Monty_Python%27s_The_Meaning_of_Life_(book)',\n",
       " 'https://en.wikipedia.org/wiki/ISBN_(identifier)',\n",
       " 'https://en.wikipedia.org/wiki/Special:BookSources/0-413-53380-8',\n",
       " 'https://en.wikipedia.org/wiki/ISBN_(identifier)',\n",
       " 'https://en.wikipedia.org/wiki/Special:BookSources/0-413-62540-0',\n",
       " 'https://en.wikipedia.org/wiki/ISBN_(identifier)',\n",
       " 'https://en.wikipedia.org/wiki/Special:BookSources/0-413-62550-8',\n",
       " 'https://en.wikipedia.org/wiki/ISBN_(identifier)',\n",
       " 'https://en.wikipedia.org/wiki/Special:BookSources/978-0-413-49450-4',\n",
       " 'https://en.wikipedia.org/wiki/The_Pythons_Autobiography_by_The_Pythons',\n",
       " 'https://en.wikipedia.org/wiki/ISBN_(identifier)',\n",
       " 'https://en.wikipedia.org/wiki/Special:BookSources/978-1-9848-2258-1',\n",
       " 'https://en.wikipedia.org/w/index.php?title=Monty_Python&action=edit&section=41',\n",
       " 'https://en.wikipedia.org/wiki/Monty_Python%27s_Flying_Circus:_The_Computer_Game',\n",
       " 'https://en.wikipedia.org/wiki/Virgin_Interactive',\n",
       " 'https://en.wikipedia.org/wiki/Monty_Python#cite_note-203',\n",
       " 'https://en.wikipedia.org/wiki/Monty_Python#cite_note-204',\n",
       " 'https://en.wikipedia.org/wiki/Monty_Python%27s_Complete_Waste_of_Time',\n",
       " 'https://en.wikipedia.org/wiki/Monty_Python_%26_the_Quest_for_the_Holy_Grail',\n",
       " 'https://en.wikipedia.org/wiki/Monty_Python%27s_The_Meaning_of_Life_(video_game)',\n",
       " 'https://en.wikipedia.org/wiki/Monty_Python#cite_note-205',\n",
       " 'https://en.wikipedia.org/wiki/Monty_Python#cite_note-206',\n",
       " 'https://en.wikipedia.org/wiki/Monty_Python%27s_Cow_Tossing',\n",
       " 'https://en.wikipedia.org/wiki/Monty_Python#cite_note-207',\n",
       " 'https://en.wikipedia.org/w/index.php?title=Monty_Python&action=edit&section=42',\n",
       " 'https://en.wikipedia.org/wiki/File:SMirC-laugh.svg',\n",
       " 'https://en.wikipedia.org/wiki/Portal:Comedy',\n",
       " 'https://en.wikipedia.org/wiki/List_of_recurring_Monty_Python%27s_Flying_Circus_characters',\n",
       " 'https://en.wikipedia.org/wiki/Python_(Monty)_Pictures',\n",
       " 'https://en.wikipedia.org/wiki/The_Firesign_Theatre',\n",
       " 'https://en.wikipedia.org/w/index.php?title=Monty_Python&action=edit&section=43',\n",
       " 'https://en.wikipedia.org/w/index.php?title=Monty_Python&action=edit&section=44',\n",
       " 'https://en.wikipedia.org/wiki/Monty_Python#cite_ref-1',\n",
       " 'https://en.wikipedia.org/wiki/George_W._Bush',\n",
       " 'https://web.archive.org/web/20070828222440/http://www.tagesspiegel.de/kultur/;art772,2004101',\n",
       " 'http://www.tagesspiegel.de/kultur/;art772,2004101',\n",
       " 'https://en.wikipedia.org/wiki/Monty_Python#cite_ref-2',\n",
       " 'https://en.wikipedia.org/wiki/Monty_Python#cite_ref-3',\n",
       " 'https://en.wikipedia.org/wiki/ISBN_(identifier)',\n",
       " 'https://en.wikipedia.org/wiki/Special:BookSources/978-0-7528-5293-5',\n",
       " 'https://en.wikipedia.org/wiki/Monty_Python#cite_ref-CNN_Beatles_4-0',\n",
       " 'https://en.wikipedia.org/wiki/Monty_Python#cite_ref-CNN_Beatles_4-1',\n",
       " 'https://en.wikipedia.org/wiki/Monty_Python#cite_ref-CNN_Beatles_4-2',\n",
       " 'http://www.cnn.com/2003/SHOWBIZ/TV/12/10/monty.python/index.html',\n",
       " 'https://en.wikipedia.org/wiki/Monty_Python#cite_ref-Atlantic_Beatles_5-0',\n",
       " 'https://en.wikipedia.org/wiki/Monty_Python#cite_ref-Atlantic_Beatles_5-1',\n",
       " 'https://www.theatlantic.com/magazine/archive/2013/01/the-beatles-of-comedy/309185/',\n",
       " 'https://en.wikipedia.org/wiki/The_Atlantic_(magazine)',\n",
       " 'https://en.wikipedia.org/wiki/Monty_Python#cite_ref-BBC_Beatles_6-0',\n",
       " 'https://en.wikipedia.org/wiki/Monty_Python#cite_ref-BBC_Beatles_6-1',\n",
       " 'https://www.bbc.co.uk/comedy/guide/articles/m/montypythonsflyi_1299002137.shtml',\n",
       " 'https://en.wikipedia.org/wiki/Monty_Python#cite_ref-7',\n",
       " 'http://articles.orlandosentinel.com/1994-10-02/entertainment/9409300444_1_python-flying-circus-monty-python-comedy',\n",
       " 'https://en.wikipedia.org/wiki/Monty_Python#cite_ref-8',\n",
       " 'https://web.archive.org/web/20140202131614/http://www.etonline.com/movies/120548_Holy_Flying_Circus_clip/index.html',\n",
       " 'https://en.wikipedia.org/wiki/Entertainment_Tonight',\n",
       " 'http://www.etonline.com/movies/120548_Holy_Flying_Circus_clip/index.html',\n",
       " 'https://en.wikipedia.org/wiki/Monty_Python#cite_ref-9',\n",
       " 'http://www.christianpost.com/news/monty-python-reunion-planned-for-new-movie-68087/',\n",
       " 'https://en.wikipedia.org/wiki/Monty_Python#cite_ref-10',\n",
       " 'https://www.theguardian.com/uk/2005/jan/02/arts.artsnews',\n",
       " 'https://en.wikipedia.org/wiki/Monty_Python#cite_ref-11',\n",
       " 'http://news.bbc.co.uk/1/hi/entertainment/tv_and_radio/4141019.stm',\n",
       " 'https://en.wikipedia.org/wiki/Monty_Python#cite_ref-12',\n",
       " 'https://en.wikipedia.org/wiki/ISBN_(identifier)',\n",
       " 'https://en.wikipedia.org/wiki/Special:BookSources/978-0-413-51150-8',\n",
       " 'https://en.wikipedia.org/wiki/Monty_Python#cite_ref-13',\n",
       " 'https://web.archive.org/web/20130922122310/http://footlights.org/history',\n",
       " 'http://footlights.org/history',\n",
       " 'https://en.wikipedia.org/wiki/Monty_Python#cite_ref-14',\n",
       " ...]"
      ]
     },
     "execution_count": 140,
     "metadata": {},
     "output_type": "execute_result"
    }
   ],
   "source": [
    "Python = PyBox.find_elements(By.TAG_NAME, 'a')\n",
    "\n",
    "Pytimgs= []\n",
    "for element in Python:\n",
    "    src = element.get_attribute('href')\n",
    "    Pytimgs.append(src)\n",
    "\n",
    "Pytimgs"
   ]
  },
  {
   "cell_type": "markdown",
   "metadata": {},
   "source": [
    "#### Number of Titles that have changed in the United States Code since its last release point "
   ]
  },
  {
   "cell_type": "code",
   "execution_count": 156,
   "metadata": {},
   "outputs": [],
   "source": [
    "# This is the url you will scrape in this exercise\n",
    "USCurl = 'http://uscode.house.gov/download/download.shtml'"
   ]
  },
  {
   "cell_type": "code",
   "execution_count": 157,
   "metadata": {},
   "outputs": [],
   "source": [
    "#your code\n",
    "driver=webdriver.Chrome(PATH)       # abre una venta una de chrome\n",
    "\n",
    "driver.get(USCurl)\n"
   ]
  },
  {
   "cell_type": "code",
   "execution_count": 159,
   "metadata": {},
   "outputs": [
    {
     "data": {
      "text/plain": [
       "37"
      ]
     },
     "execution_count": 159,
     "metadata": {},
     "output_type": "execute_result"
    }
   ],
   "source": [
    "\n",
    "\n",
    "\n",
    "'''USCBox= driver.find_element(By.XPATH, '//*[@id=\"content\"]/div')\n",
    "USCBox'''\n",
    "\n",
    "USCBox = driver.find_elements(By.CLASS_NAME, 'usctitlechanged')\n",
    "len(USCBox)"
   ]
  },
  {
   "cell_type": "markdown",
   "metadata": {},
   "source": [
    "#### A Python list with the top ten FBI's Most Wanted names "
   ]
  },
  {
   "cell_type": "code",
   "execution_count": 163,
   "metadata": {},
   "outputs": [],
   "source": [
    "# This is the url you will scrape in this exercise\n",
    "urlFBI = 'https://www.fbi.gov/wanted/topten'"
   ]
  },
  {
   "cell_type": "code",
   "execution_count": 165,
   "metadata": {},
   "outputs": [],
   "source": [
    "#your code \n",
    "driver=webdriver.Chrome(PATH)       # abre una venta una de chrome\n",
    "\n",
    "driver.get(urlFBI)\n"
   ]
  },
  {
   "cell_type": "code",
   "execution_count": 172,
   "metadata": {},
   "outputs": [
    {
     "data": {
      "text/plain": [
       "<selenium.webdriver.remote.webelement.WebElement (session=\"b43c6da4aa3e952245de65b538f0371e\", element=\"d1ffa87d-dfe2-45f2-91c0-cb24909c885e\")>"
      ]
     },
     "execution_count": 172,
     "metadata": {},
     "output_type": "execute_result"
    }
   ],
   "source": [
    "FBIBox= driver.find_element(By.XPATH, '//*[@id=\"query-results-0f737222c5054a81a120bce207b0446a\"]/ul')\n",
    "FBIBox"
   ]
  },
  {
   "cell_type": "code",
   "execution_count": 175,
   "metadata": {},
   "outputs": [
    {
     "data": {
      "text/plain": [
       "['BHADRESHKUMAR CHETANBHAI PATEL',\n",
       " 'WILVER VILLEGAS-PALOMINO',\n",
       " 'ALEJANDRO ROSALES CASTILLO',\n",
       " 'RUJA IGNATOVA',\n",
       " 'ARNOLDO JIMENEZ',\n",
       " 'OMAR ALEXANDER CARDENAS',\n",
       " 'ALEXIS FLORES',\n",
       " 'YULAN ADONAY ARCHAGA CARIAS',\n",
       " 'MICHAEL JAMES PRATT',\n",
       " 'JOSE RODOLFO VILLARREAL-HERNANDEZ']"
      ]
     },
     "execution_count": 175,
     "metadata": {},
     "output_type": "execute_result"
    }
   ],
   "source": [
    "FBI = FBIBox.find_elements(By.TAG_NAME, 'h3')\n",
    "\n",
    "FBInames = []\n",
    "for element in FBI:\n",
    "    name_elements = element.find_elements(By.TAG_NAME, 'a')\n",
    "    for name_element in name_elements:\n",
    "        name = name_element.text\n",
    "        FBInames.append(name)\n",
    "\n",
    "FBInames"
   ]
  },
  {
   "cell_type": "markdown",
   "metadata": {},
   "source": [
    "####  20 latest earthquakes info (date, time, latitude, longitude and region name) by the EMSC as a pandas dataframe"
   ]
  },
  {
   "cell_type": "code",
   "execution_count": null,
   "metadata": {},
   "outputs": [],
   "source": [
    "# This is the url you will scrape in this exercise\n",
    "url = 'https://www.emsc-csem.org/Earthquake/'"
   ]
  },
  {
   "cell_type": "code",
   "execution_count": null,
   "metadata": {},
   "outputs": [],
   "source": [
    "#your code"
   ]
  },
  {
   "cell_type": "markdown",
   "metadata": {},
   "source": [
    "#### Count number of tweets by a given Twitter account."
   ]
  },
  {
   "cell_type": "markdown",
   "metadata": {},
   "source": [
    "You will need to include a ***try/except block*** for account names not found. \n",
    "<br>***Hint:*** the program should count the number of tweets for any provided account"
   ]
  },
  {
   "cell_type": "code",
   "execution_count": null,
   "metadata": {},
   "outputs": [],
   "source": [
    "# This is the url you will scrape in this exercise \n",
    "# You will need to add the account credentials to this url\n",
    "url = 'https://twitter.com/'"
   ]
  },
  {
   "cell_type": "code",
   "execution_count": null,
   "metadata": {},
   "outputs": [],
   "source": [
    "#your code"
   ]
  },
  {
   "cell_type": "markdown",
   "metadata": {},
   "source": [
    "#### Number of followers of a given twitter account"
   ]
  },
  {
   "cell_type": "markdown",
   "metadata": {},
   "source": [
    "You will need to include a ***try/except block*** in case account/s name not found. \n",
    "<br>***Hint:*** the program should count the followers for any provided account"
   ]
  },
  {
   "cell_type": "code",
   "execution_count": null,
   "metadata": {},
   "outputs": [],
   "source": [
    "# This is the url you will scrape in this exercise \n",
    "# You will need to add the account credentials to this url\n",
    "url = 'https://twitter.com/'"
   ]
  },
  {
   "cell_type": "code",
   "execution_count": null,
   "metadata": {},
   "outputs": [],
   "source": [
    "#your code"
   ]
  },
  {
   "cell_type": "markdown",
   "metadata": {},
   "source": [
    "#### List all language names and number of related articles in the order they appear in wikipedia.org"
   ]
  },
  {
   "cell_type": "code",
   "execution_count": 179,
   "metadata": {},
   "outputs": [],
   "source": [
    "# This is the url you will scrape in this exercise\n",
    "urlanguage = 'https://www.wikipedia.org/'"
   ]
  },
  {
   "cell_type": "code",
   "execution_count": 187,
   "metadata": {},
   "outputs": [],
   "source": [
    "#your code\n",
    "driver=webdriver.Chrome(PATH)       # abre una venta una de chrome\n",
    "\n",
    "driver.get(urlanguage)\n"
   ]
  },
  {
   "cell_type": "code",
   "execution_count": 188,
   "metadata": {},
   "outputs": [
    {
     "data": {
      "text/plain": [
       "<selenium.webdriver.remote.webelement.WebElement (session=\"c71b6f774d66ff10134d56f419973ce4\", element=\"079116a3-3870-48bc-bd76-d2050322e8b6\")>"
      ]
     },
     "execution_count": 188,
     "metadata": {},
     "output_type": "execute_result"
    }
   ],
   "source": [
    "\n",
    "\n",
    "LangBox= driver.find_element(By.XPATH, '//*[@id=\"www-wikipedia-org\"]/div[2]')\n",
    "LangBox"
   ]
  },
  {
   "cell_type": "code",
   "execution_count": 200,
   "metadata": {},
   "outputs": [
    {
     "data": {
      "text/plain": [
       "0"
      ]
     },
     "execution_count": 200,
     "metadata": {},
     "output_type": "execute_result"
    }
   ],
   "source": [
    "'''Languages = LangBox.find_elements(By.CLASS_NAME, 'central-featured')\n",
    "\n",
    "Languagenames = []\n",
    "for element in Languages:\n",
    "    Lang_elements = element.find_elements(By.CLASS_NAME, 'central-featured-lang')\n",
    "    for Lang_element in Lang_elements:\n",
    "        Lang = Lang_element.get_attribute('lang').text\n",
    "        Languagenames.append(Lang)\n",
    "\n",
    "len(Languagenames)'''"
   ]
  },
  {
   "cell_type": "code",
   "execution_count": 203,
   "metadata": {},
   "outputs": [
    {
     "name": "stdout",
     "output_type": "stream",
     "text": [
      "English\n",
      "6 644 000+ articles\n",
      "Русский\n",
      "1 909 000+ статей\n",
      "日本語\n",
      "1 370 000+ 記事\n",
      "Deutsch\n",
      "2 792 000+ Artikel\n",
      "Español\n",
      "1 854 000+ artículos\n",
      "Français\n",
      "2 514 000+ articles\n",
      "Italiano\n",
      "1 806 000+ voci\n",
      "中文\n",
      "1 347 000+ 条目 / 條目\n",
      "فارسی\n",
      "959 000+ مقاله\n",
      "Português\n",
      "1 101 000+ artigos\n"
     ]
    }
   ],
   "source": [
    "LanguageBox= driver.find_elements(By.CLASS_NAME, 'central-featured-lang')\n",
    "\n",
    "for element in LanguageBox:\n",
    "    print(element.text)"
   ]
  },
  {
   "cell_type": "markdown",
   "metadata": {},
   "source": []
  },
  {
   "cell_type": "markdown",
   "metadata": {},
   "source": [
    "#### A list with the different kind of datasets available in data.gov.uk "
   ]
  },
  {
   "cell_type": "code",
   "execution_count": 205,
   "metadata": {},
   "outputs": [],
   "source": [
    "# This is the url you will scrape in this exercise\n",
    "UKurl = 'https://data.gov.uk/'"
   ]
  },
  {
   "cell_type": "markdown",
   "metadata": {},
   "source": []
  },
  {
   "cell_type": "code",
   "execution_count": 208,
   "metadata": {},
   "outputs": [],
   "source": [
    "#your code \n",
    "\n",
    "driver=webdriver.Chrome(PATH)       # abre una venta una de chrome\n",
    "\n",
    "driver.get(UKurl)"
   ]
  },
  {
   "cell_type": "code",
   "execution_count": 215,
   "metadata": {},
   "outputs": [
    {
     "data": {
      "text/plain": [
       "['cookies to collect information',\n",
       " 'View cookies',\n",
       " '',\n",
       " 'feedback',\n",
       " 'Business and economy',\n",
       " 'Crime and justice',\n",
       " 'Defence',\n",
       " 'Education',\n",
       " 'Environment',\n",
       " 'Government',\n",
       " 'Government spending',\n",
       " 'Health',\n",
       " 'Mapping',\n",
       " 'Society',\n",
       " 'Towns and cities',\n",
       " 'Transport',\n",
       " 'Digital service performance',\n",
       " 'Government reference data']"
      ]
     },
     "execution_count": 215,
     "metadata": {},
     "output_type": "execute_result"
    }
   ],
   "source": [
    "UKsets = driver.find_elements(By.CLASS_NAME, 'govuk-link')\n",
    "UKsets_text = [element.text for element in UKsets]\n",
    "UKsets_text\n"
   ]
  },
  {
   "attachments": {},
   "cell_type": "markdown",
   "metadata": {},
   "source": []
  },
  {
   "attachments": {},
   "cell_type": "markdown",
   "metadata": {},
   "source": []
  },
  {
   "cell_type": "markdown",
   "metadata": {},
   "source": [
    "#### Top 10 languages by number of native speakers stored in a Pandas Dataframe"
   ]
  },
  {
   "cell_type": "code",
   "execution_count": 249,
   "metadata": {},
   "outputs": [],
   "source": [
    "# This is the url you will scrape in this exercise\n",
    "Nativeurl = 'https://en.wikipedia.org/wiki/List_of_languages_by_number_of_native_speakers'"
   ]
  },
  {
   "cell_type": "code",
   "execution_count": 250,
   "metadata": {},
   "outputs": [],
   "source": [
    "#your code\n",
    "driver=webdriver.Chrome(PATH)       # abre una venta una de chrome\n",
    "\n",
    "driver.get(Nativeurl)"
   ]
  },
  {
   "cell_type": "code",
   "execution_count": 259,
   "metadata": {},
   "outputs": [],
   "source": [
    "Nativetable = driver.find_element(By.CLASS_NAME, 'wikitable')"
   ]
  },
  {
   "cell_type": "code",
   "execution_count": 260,
   "metadata": {},
   "outputs": [],
   "source": [
    "rows = Nativetable.find_elements(By.TAG_NAME, 'tr')\n"
   ]
  },
  {
   "cell_type": "code",
   "execution_count": 261,
   "metadata": {},
   "outputs": [],
   "source": [
    "data = []\n",
    "count = 0\n",
    "for row in rows:\n",
    "    if count >= 10:\n",
    "        break\n",
    "    cells = row.find_elements(By.TAG_NAME, 'td')\n",
    "    if len(cells) > 0:\n",
    "        link = cells[0].find_element(By.TAG_NAME, 'a')\n",
    "        text = link.text\n",
    "        data.append(text)\n",
    "        count += 1"
   ]
  },
  {
   "cell_type": "code",
   "execution_count": 262,
   "metadata": {},
   "outputs": [],
   "source": [
    "Nativetop = pd.DataFrame(data, columns=['Language'])\n"
   ]
  },
  {
   "cell_type": "code",
   "execution_count": 263,
   "metadata": {},
   "outputs": [
    {
     "data": {
      "text/html": [
       "<div>\n",
       "<style scoped>\n",
       "    .dataframe tbody tr th:only-of-type {\n",
       "        vertical-align: middle;\n",
       "    }\n",
       "\n",
       "    .dataframe tbody tr th {\n",
       "        vertical-align: top;\n",
       "    }\n",
       "\n",
       "    .dataframe thead th {\n",
       "        text-align: right;\n",
       "    }\n",
       "</style>\n",
       "<table border=\"1\" class=\"dataframe\">\n",
       "  <thead>\n",
       "    <tr style=\"text-align: right;\">\n",
       "      <th></th>\n",
       "      <th>Language</th>\n",
       "    </tr>\n",
       "  </thead>\n",
       "  <tbody>\n",
       "    <tr>\n",
       "      <th>0</th>\n",
       "      <td>Mandarin Chinese</td>\n",
       "    </tr>\n",
       "    <tr>\n",
       "      <th>1</th>\n",
       "      <td>Spanish</td>\n",
       "    </tr>\n",
       "    <tr>\n",
       "      <th>2</th>\n",
       "      <td>English</td>\n",
       "    </tr>\n",
       "    <tr>\n",
       "      <th>3</th>\n",
       "      <td>Hindi</td>\n",
       "    </tr>\n",
       "    <tr>\n",
       "      <th>4</th>\n",
       "      <td>Portuguese</td>\n",
       "    </tr>\n",
       "    <tr>\n",
       "      <th>5</th>\n",
       "      <td>Bengali</td>\n",
       "    </tr>\n",
       "    <tr>\n",
       "      <th>6</th>\n",
       "      <td>Russian</td>\n",
       "    </tr>\n",
       "    <tr>\n",
       "      <th>7</th>\n",
       "      <td>Japanese</td>\n",
       "    </tr>\n",
       "    <tr>\n",
       "      <th>8</th>\n",
       "      <td>Yue Chinese</td>\n",
       "    </tr>\n",
       "    <tr>\n",
       "      <th>9</th>\n",
       "      <td>Vietnamese</td>\n",
       "    </tr>\n",
       "  </tbody>\n",
       "</table>\n",
       "</div>"
      ],
      "text/plain": [
       "           Language\n",
       "0  Mandarin Chinese\n",
       "1           Spanish\n",
       "2           English\n",
       "3             Hindi\n",
       "4        Portuguese\n",
       "5           Bengali\n",
       "6           Russian\n",
       "7          Japanese\n",
       "8       Yue Chinese\n",
       "9        Vietnamese"
      ]
     },
     "execution_count": 263,
     "metadata": {},
     "output_type": "execute_result"
    }
   ],
   "source": [
    "import pandas as pd\n",
    "\n",
    "table = driver.find_element(By.CLASS_NAME, 'wikitable')\n",
    "rows = table.find_elements(By.TAG_NAME, 'tr')\n",
    "\n",
    "data = []\n",
    "count = 0\n",
    "for row in rows:\n",
    "    if count >= 10:\n",
    "        break\n",
    "    cells = row.find_elements(By.TAG_NAME, 'td')\n",
    "    if len(cells) > 0:\n",
    "        link = cells[0].find_element(By.TAG_NAME, 'a')\n",
    "        text = link.text\n",
    "        data.append(text)\n",
    "        count += 1\n",
    "\n",
    "Nativetop = pd.DataFrame(data, columns=['Language'])\n",
    "\n",
    "df"
   ]
  },
  {
   "cell_type": "code",
   "execution_count": 228,
   "metadata": {},
   "outputs": [
    {
     "data": {
      "text/plain": [
       "[]"
      ]
     },
     "execution_count": 228,
     "metadata": {},
     "output_type": "execute_result"
    }
   ],
   "source": [
    "NativeBox= driver.find_elements(By.CLASS_NAME, 'wikitable sortable static-row-numbers- jquery-tablesorter')\n",
    "NativeBox"
   ]
  },
  {
   "cell_type": "code",
   "execution_count": null,
   "metadata": {},
   "outputs": [],
   "source": [
    "\n"
   ]
  },
  {
   "cell_type": "code",
   "execution_count": 229,
   "metadata": {},
   "outputs": [
    {
     "data": {
      "text/plain": [
       "[]"
      ]
     },
     "execution_count": 229,
     "metadata": {},
     "output_type": "execute_result"
    }
   ],
   "source": [
    "NativeLang = []\n",
    "for element in NativeBox:\n",
    "    Langs = element.find_elements(By.TAG_NAME, 'href')\n",
    "    for Lang in Langs:\n",
    "        name = Lang.text\n",
    "        NativeLang.append(name)\n",
    "\n",
    "NativeLang"
   ]
  },
  {
   "cell_type": "code",
   "execution_count": null,
   "metadata": {},
   "outputs": [],
   "source": [
    "\n",
    "\n",
    "FBInames = []\n",
    "for element in FBI:\n",
    "    name_elements = element.find_elements(By.TAG_NAME, 'a')\n",
    "    for name_element in name_elements:\n",
    "        name = name_element.text\n",
    "        FBInames.append(name)\n"
   ]
  },
  {
   "cell_type": "markdown",
   "metadata": {},
   "source": [
    "### BONUS QUESTIONS"
   ]
  },
  {
   "cell_type": "markdown",
   "metadata": {},
   "source": [
    "#### Scrape a certain number of tweets of a given Twitter account."
   ]
  },
  {
   "cell_type": "code",
   "execution_count": null,
   "metadata": {},
   "outputs": [],
   "source": [
    "# This is the url you will scrape in this exercise \n",
    "# You will need to add the account credentials to this url\n",
    "url = 'https://twitter.com/'"
   ]
  },
  {
   "cell_type": "code",
   "execution_count": null,
   "metadata": {},
   "outputs": [],
   "source": [
    "# your code"
   ]
  },
  {
   "cell_type": "markdown",
   "metadata": {},
   "source": [
    "#### IMDB's Top 250 data (movie name, Initial release, director name and stars) as a pandas dataframe"
   ]
  },
  {
   "cell_type": "code",
   "execution_count": null,
   "metadata": {},
   "outputs": [],
   "source": [
    "# This is the url you will scrape in this exercise \n",
    "url = 'https://www.imdb.com/chart/top'"
   ]
  },
  {
   "cell_type": "code",
   "execution_count": null,
   "metadata": {},
   "outputs": [],
   "source": [
    "# your code"
   ]
  },
  {
   "cell_type": "markdown",
   "metadata": {},
   "source": [
    "#### Movie name, year and a brief summary of the top 10 random movies (IMDB) as a pandas dataframe."
   ]
  },
  {
   "cell_type": "code",
   "execution_count": null,
   "metadata": {},
   "outputs": [],
   "source": [
    "#This is the url you will scrape in this exercise\n",
    "url = 'http://www.imdb.com/chart/top'"
   ]
  },
  {
   "cell_type": "code",
   "execution_count": null,
   "metadata": {},
   "outputs": [],
   "source": [
    "#your code"
   ]
  },
  {
   "cell_type": "markdown",
   "metadata": {},
   "source": [
    "#### Find the live weather report (temperature, wind speed, description and weather) of a given city."
   ]
  },
  {
   "cell_type": "code",
   "execution_count": null,
   "metadata": {},
   "outputs": [],
   "source": [
    "#https://openweathermap.org/current\n",
    "city = city=input('Enter the city:')\n",
    "url = 'http://api.openweathermap.org/data/2.5/weather?'+'q='+city+'&APPID=b35975e18dc93725acb092f7272cc6b8&units=metric'"
   ]
  },
  {
   "cell_type": "code",
   "execution_count": null,
   "metadata": {},
   "outputs": [],
   "source": [
    "# your code"
   ]
  },
  {
   "cell_type": "markdown",
   "metadata": {},
   "source": [
    "#### Book name,price and stock availability as a pandas dataframe."
   ]
  },
  {
   "cell_type": "code",
   "execution_count": null,
   "metadata": {},
   "outputs": [],
   "source": [
    "# This is the url you will scrape in this exercise. \n",
    "# It is a fictional bookstore created to be scraped. \n",
    "url = 'http://books.toscrape.com/'"
   ]
  },
  {
   "cell_type": "code",
   "execution_count": null,
   "metadata": {},
   "outputs": [],
   "source": [
    "#your code"
   ]
  }
 ],
 "metadata": {
  "kernelspec": {
   "display_name": "Python 3",
   "language": "python",
   "name": "python3"
  },
  "language_info": {
   "codemirror_mode": {
    "name": "ipython",
    "version": 3
   },
   "file_extension": ".py",
   "mimetype": "text/x-python",
   "name": "python",
   "nbconvert_exporter": "python",
   "pygments_lexer": "ipython3",
   "version": "3.11.2"
  }
 },
 "nbformat": 4,
 "nbformat_minor": 2
}
