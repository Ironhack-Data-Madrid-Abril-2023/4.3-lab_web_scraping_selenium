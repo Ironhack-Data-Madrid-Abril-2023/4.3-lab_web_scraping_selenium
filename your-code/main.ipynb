{
 "cells": [
  {
   "cell_type": "markdown",
   "metadata": {},
   "source": [
    "# Web Scraping Lab\n",
    "\n",
    "You will find in this notebook some scrapy exercises to practise your scraping skills.\n",
    "\n",
    "**Tips:**\n",
    "\n",
    "- Check the response status code for each request to ensure you have obtained the intended contennt.\n",
    "- Print the response text in each request to understand the kind of info you are getting and its format.\n",
    "- Check for patterns in the response text to extract the data/info requested in each question.\n",
    "- Visit each url and take a look at its source through Chrome DevTools. You'll need to identify the html tags, special class names etc. used for the html content you are expected to extract."
   ]
  },
  {
   "cell_type": "markdown",
   "metadata": {},
   "source": [
    "- [Selenium Doc](https://www.selenium.dev/documentation/)\n",
    "- [Requests library](http://docs.python-requests.org/en/master/#the-user-guide) documentation \n",
    "- [Urllib](https://docs.python.org/3/library/urllib.html#module-urllib)\n",
    "- [re lib](https://docs.python.org/3/library/re.html)\n",
    "- [lxml lib](https://lxml.de/)\n",
    "- [Scrapy](https://scrapy.org/)\n",
    "- [List of HTTP status codes](https://en.wikipedia.org/wiki/List_of_HTTP_status_codes)\n",
    "- [HTML basics](http://www.simplehtmlguide.com/cheatsheet.php)\n",
    "- [CSS basics](https://www.cssbasics.com/#page_start)"
   ]
  },
  {
   "cell_type": "markdown",
   "metadata": {},
   "source": [
    "#### Below are the libraries and modules you may need. `Selenium` and `pandas` are imported for you."
   ]
  },
  {
   "cell_type": "code",
   "execution_count": 87,
   "metadata": {},
   "outputs": [
    {
     "name": "stdout",
     "output_type": "stream",
     "text": [
      "Requirement already satisfied: webdriver-manager in c:\\users\\pacot\\anaconda3\\lib\\site-packages (3.8.6)\n",
      "Requirement already satisfied: packaging in c:\\users\\pacot\\anaconda3\\lib\\site-packages (from webdriver-manager) (22.0)\n",
      "Requirement already satisfied: python-dotenv in c:\\users\\pacot\\anaconda3\\lib\\site-packages (from webdriver-manager) (1.0.0)\n",
      "Requirement already satisfied: tqdm in c:\\users\\pacot\\anaconda3\\lib\\site-packages (from webdriver-manager) (4.64.1)\n",
      "Requirement already satisfied: requests in c:\\users\\pacot\\anaconda3\\lib\\site-packages (from webdriver-manager) (2.28.1)\n",
      "Requirement already satisfied: charset-normalizer<3,>=2 in c:\\users\\pacot\\anaconda3\\lib\\site-packages (from requests->webdriver-manager) (2.0.4)\n",
      "Requirement already satisfied: idna<4,>=2.5 in c:\\users\\pacot\\anaconda3\\lib\\site-packages (from requests->webdriver-manager) (3.4)\n",
      "Requirement already satisfied: urllib3<1.27,>=1.21.1 in c:\\users\\pacot\\anaconda3\\lib\\site-packages (from requests->webdriver-manager) (1.26.14)\n",
      "Requirement already satisfied: certifi>=2017.4.17 in c:\\users\\pacot\\anaconda3\\lib\\site-packages (from requests->webdriver-manager) (2022.12.7)\n",
      "Requirement already satisfied: colorama in c:\\users\\pacot\\anaconda3\\lib\\site-packages (from tqdm->webdriver-manager) (0.4.6)\n",
      "Note: you may need to restart the kernel to use updated packages.\n"
     ]
    }
   ],
   "source": [
    "%pip install webdriver-manager\n",
    "\n",
    "import pandas as pd\n",
    "from selenium import webdriver\n",
    "from selenium.webdriver.chrome.options import Options\n",
    "from webdriver_manager.chrome import ChromeDriverManager\n",
    "from selenium.webdriver.support.ui import WebDriverWait   # es para esperar\n",
    "from selenium.webdriver.common.by import By\n",
    "import time\n",
    "import warnings\n",
    "warnings.filterwarnings('ignore')"
   ]
  },
  {
   "cell_type": "markdown",
   "metadata": {},
   "source": [
    "#### Enable the options you may need. In the next cell you have an example of them but you can choose to use them or not."
   ]
  },
  {
   "cell_type": "code",
   "execution_count": 88,
   "metadata": {},
   "outputs": [],
   "source": [
    "#driver configuration\n",
    "opciones=Options()\n",
    "\n",
    "opciones.add_experimental_option('excludeSwitches', ['enable-automation'])\n",
    "opciones.add_experimental_option('useAutomationExtension', False)\n",
    "opciones.headless=False    # si True, no aperece la ventana (headless=no visible)\n",
    "opciones.add_argument('--start-maximized')         # comienza maximizado\n",
    "#opciones.add_argument('user-data-dir=selenium')    # mantiene las cookies\n",
    "#opciones.add_extension('driver_folder/adblock.crx')       # adblocker\n",
    "#opciones.add_argument('--incognito')"
   ]
  },
  {
   "cell_type": "code",
   "execution_count": 89,
   "metadata": {},
   "outputs": [],
   "source": [
    "PATH = ChromeDriverManager().install()    # instala driver de chrome\n",
    "\n",
    "# driver = \"./chromedriver.exe\" #remember substitute this for your driver path\n",
    "# driver = webdriver.Chrome(driver,options = opciones)"
   ]
  },
  {
   "cell_type": "markdown",
   "metadata": {},
   "source": [
    "#### Download, parse, and print the content from the Trending Developers page from GitHub:"
   ]
  },
  {
   "cell_type": "code",
   "execution_count": 90,
   "metadata": {},
   "outputs": [],
   "source": [
    "# This is the url you will scrape in this exercise\n",
    "url = 'https://github.com/trending/developers'"
   ]
  },
  {
   "cell_type": "code",
   "execution_count": 92,
   "metadata": {},
   "outputs": [],
   "source": [
    "#your code\n",
    "driver = webdriver.Chrome(PATH,options= opciones) \n",
    "driver.get(url)\n",
    "\n",
    "time.sleep(2)\n",
    "\n",
    "usuarios = driver.find_elements(By.CLASS_NAME,'col-md-6')\n"
   ]
  },
  {
   "cell_type": "code",
   "execution_count": 96,
   "metadata": {},
   "outputs": [
    {
     "name": "stdout",
     "output_type": "stream",
     "text": [
      "[['Mattias Wadman', 'wader'], ['lllyasviel'], ['Lianmin Zheng', 'merrymercy'], ['Jerry Liu', 'jerryjliu'], ['Henrik Rydgård', 'hrydgard'], ['Harrison Chase', 'hwchase17'], ['Fons van der Plas', 'fonsp'], ['Steven Tey', 'steven-tey'], ['Andreas Thomas', 'chronark'], ['pilcrowOnPaper']]\n"
     ]
    }
   ],
   "source": [
    "usyarr = []\n",
    "\n",
    "for i in usuarios[:20:2]:\n",
    "\n",
    "    usyarr.append(i.text.split('\\n'))\n",
    "\n",
    "print(usyarr)"
   ]
  },
  {
   "cell_type": "markdown",
   "metadata": {},
   "source": [
    "#### Display the names of the trending developers retrieved in the previous step.\n",
    "\n",
    "Your output should be a Python list of developer names. Each name should not contain any html tag.\n",
    "\n",
    "**Instructions:**\n",
    "\n",
    "1. Find out the html tag and class names used for the developer names.\n",
    "\n",
    "1. Use string manipulation techniques to replace whitespaces and linebreaks (i.e. `\\n`) in the *text* of each html element. Use a list to store the clean names.\n",
    "\n",
    "1. Print the list of names.\n",
    "\n",
    "Your output should look like below:\n",
    "\n",
    "```\n",
    "['trimstray (@trimstray)',\n",
    " 'joewalnes (JoeWalnes)',\n",
    " 'charlax (Charles-AxelDein)',\n",
    " 'ForrestKnight (ForrestKnight)',\n",
    " 'revery-ui (revery-ui)',\n",
    " 'alibaba (Alibaba)',\n",
    " 'Microsoft (Microsoft)',\n",
    " 'github (GitHub)',\n",
    " 'facebook (Facebook)',\n",
    " 'boazsegev (Bo)',\n",
    " 'google (Google)',\n",
    " 'cloudfetch',\n",
    " 'sindresorhus (SindreSorhus)',\n",
    " 'tensorflow',\n",
    " 'apache (TheApacheSoftwareFoundation)',\n",
    " 'DevonCrawford (DevonCrawford)',\n",
    " 'ARMmbed (ArmMbed)',\n",
    " 'vuejs (vuejs)',\n",
    " 'fastai (fast.ai)',\n",
    " 'QiShaoXuan (Qi)',\n",
    " 'joelparkerhenderson (JoelParkerHenderson)',\n",
    " 'torvalds (LinusTorvalds)',\n",
    " 'CyC2018',\n",
    " 'komeiji-satori (神楽坂覚々)',\n",
    " 'script-8']\n",
    " ```"
   ]
  },
  {
   "cell_type": "markdown",
   "metadata": {},
   "source": [
    "#### Display the trending Python repositories in GitHub\n",
    "\n",
    "The steps to solve this problem is similar to the previous one except that you need to find out the repository names instead of developer names."
   ]
  },
  {
   "cell_type": "code",
   "execution_count": 97,
   "metadata": {},
   "outputs": [],
   "source": [
    "# This is the url you will scrape in this exercise\n",
    "url = 'https://github.com/trending/python?since=daily'"
   ]
  },
  {
   "cell_type": "code",
   "execution_count": 101,
   "metadata": {},
   "outputs": [],
   "source": [
    "#your code\n",
    "driver = webdriver.Chrome(PATH,options= opciones) \n",
    "driver.get(url)\n",
    "\n",
    "time.sleep(2)\n",
    "    \n",
    "repos = driver.find_elements(By.CLASS_NAME,'h3.lh-condensed')\n"
   ]
  },
  {
   "cell_type": "code",
   "execution_count": 104,
   "metadata": {},
   "outputs": [
    {
     "name": "stdout",
     "output_type": "stream",
     "text": [
      "[' mlc-llm', ' AudioGPT', ' pandas-ai', ' gpt4free', ' AutoPR', ' lamini', ' IF', ' deforum-stable-diffusion', ' core', ' FigmaChain']\n"
     ]
    }
   ],
   "source": [
    "repos_f = []\n",
    "\n",
    "for i in repos[:10]:\n",
    "\n",
    "    repos_f.append(i.text.split('/')[1])\n",
    "\n",
    "print(repos_f)"
   ]
  },
  {
   "cell_type": "markdown",
   "metadata": {},
   "source": [
    "#### Display all the image links from Walt Disney wikipedia page"
   ]
  },
  {
   "cell_type": "code",
   "execution_count": 105,
   "metadata": {},
   "outputs": [],
   "source": [
    "# This is the url you will scrape in this exercise\n",
    "url = 'https://en.wikipedia.org/wiki/Walt_Disney'"
   ]
  },
  {
   "cell_type": "code",
   "execution_count": 106,
   "metadata": {},
   "outputs": [],
   "source": [
    "#your code\n",
    "driver = webdriver.Chrome(PATH,options= opciones) \n",
    "driver.get(url)\n",
    "\n",
    "time.sleep(2)\n",
    "    \n",
    "images = driver.find_elements(By.TAG_NAME,'img')"
   ]
  },
  {
   "cell_type": "code",
   "execution_count": 109,
   "metadata": {},
   "outputs": [
    {
     "name": "stdout",
     "output_type": "stream",
     "text": [
      "['https://en.wikipedia.org/static/images/icons/wikipedia.png', 'https://en.wikipedia.org/static/images/mobile/copyright/wikipedia-wordmark-en.svg', 'https://en.wikipedia.org/static/images/mobile/copyright/wikipedia-tagline-en.svg', 'https://upload.wikimedia.org/wikipedia/foundation/2/20/CloseWindow19x19.png', 'https://upload.wikimedia.org/wikipedia/donate/thumb/b/b6/WLE_Austria_Logo_%28no_text%29_local.svg/50px-WLE_Austria_Logo_%28no_text%29_local.svg.png', 'https://upload.wikimedia.org/wikipedia/en/thumb/e/e7/Cscr-featured.svg/20px-Cscr-featured.svg.png', 'https://upload.wikimedia.org/wikipedia/en/thumb/8/8c/Extended-protection-shackle.svg/20px-Extended-protection-shackle.svg.png', 'https://upload.wikimedia.org/wikipedia/commons/thumb/d/df/Walt_Disney_1946.JPG/220px-Walt_Disney_1946.JPG', 'https://upload.wikimedia.org/wikipedia/commons/thumb/8/87/Walt_Disney_1942_signature.svg/150px-Walt_Disney_1942_signature.svg.png', 'https://upload.wikimedia.org/wikipedia/commons/thumb/3/3a/Walt_Disney_Birthplace_Exterior_Hermosa_Chicago_Illinois.jpg/220px-Walt_Disney_Birthplace_Exterior_Hermosa_Chicago_Illinois.jpg', 'https://upload.wikimedia.org/wikipedia/commons/thumb/c/c4/Walt_Disney_envelope_ca._1921.jpg/220px-Walt_Disney_envelope_ca._1921.jpg', 'https://upload.wikimedia.org/wikipedia/commons/thumb/0/0d/Trolley_Troubles_poster.jpg/170px-Trolley_Troubles_poster.jpg', 'https://upload.wikimedia.org/wikipedia/en/thumb/4/4e/Steamboat-willie.jpg/170px-Steamboat-willie.jpg', 'https://upload.wikimedia.org/wikipedia/commons/thumb/5/57/Walt_Disney_1935.jpg/170px-Walt_Disney_1935.jpg', 'https://upload.wikimedia.org/wikipedia/commons/thumb/c/cd/Walt_Disney_Snow_white_1937_trailer_screenshot_%2813%29.jpg/220px-Walt_Disney_Snow_white_1937_trailer_screenshot_%2813%29.jpg', 'https://upload.wikimedia.org/wikipedia/commons/thumb/1/15/Disney_drawing_goofy.jpg/170px-Disney_drawing_goofy.jpg', 'https://upload.wikimedia.org/wikipedia/commons/thumb/8/8c/WaltDisneyplansDisneylandDec1954.jpg/220px-WaltDisneyplansDisneylandDec1954.jpg', 'https://upload.wikimedia.org/wikipedia/commons/thumb/f/ff/Walt_disney_portrait_right.jpg/170px-Walt_disney_portrait_right.jpg', 'https://upload.wikimedia.org/wikipedia/commons/thumb/1/1a/Walt_Disney_Grave.JPG/170px-Walt_Disney_Grave.JPG', 'https://upload.wikimedia.org/wikipedia/commons/thumb/2/2d/Roy_O._Disney_with_Company_at_Press_Conference.jpg/170px-Roy_O._Disney_with_Company_at_Press_Conference.jpg', 'https://upload.wikimedia.org/wikipedia/commons/thumb/1/13/DisneySchiphol1951.jpg/220px-DisneySchiphol1951.jpg', 'https://upload.wikimedia.org/wikipedia/commons/thumb/6/6c/Disney1968.jpg/170px-Disney1968.jpg', 'https://upload.wikimedia.org/wikipedia/commons/thumb/b/b0/Disney_Oscar_1953_%28cropped%29.jpg/170px-Disney_Oscar_1953_%28cropped%29.jpg', 'https://upload.wikimedia.org/wikipedia/en/thumb/4/4a/Commons-logo.svg/30px-Commons-logo.svg.png', 'https://upload.wikimedia.org/wikipedia/commons/thumb/4/4c/Wikisource-logo.svg/38px-Wikisource-logo.svg.png', 'https://upload.wikimedia.org/wikipedia/commons/thumb/f/fa/Wikiquote-logo.svg/34px-Wikiquote-logo.svg.png', 'https://upload.wikimedia.org/wikipedia/en/thumb/8/8a/OOjs_UI_icon_edit-ltr-progressive.svg/10px-OOjs_UI_icon_edit-ltr-progressive.svg.png', 'https://upload.wikimedia.org/wikipedia/en/thumb/8/8a/OOjs_UI_icon_edit-ltr-progressive.svg/10px-OOjs_UI_icon_edit-ltr-progressive.svg.png', 'https://upload.wikimedia.org/wikipedia/commons/thumb/e/e3/Disneyland_Resort_logo.svg/135px-Disneyland_Resort_logo.svg.png', 'https://upload.wikimedia.org/wikipedia/commons/thumb/d/da/Animation_disc.svg/20px-Animation_disc.svg.png', 'https://upload.wikimedia.org/wikipedia/en/thumb/6/69/P_vip.svg/19px-P_vip.svg.png', 'https://upload.wikimedia.org/wikipedia/commons/thumb/1/1a/Magic_Kingdom_castle.jpg/15px-Magic_Kingdom_castle.jpg', 'https://upload.wikimedia.org/wikipedia/en/thumb/e/e7/Video-x-generic.svg/19px-Video-x-generic.svg.png', 'https://upload.wikimedia.org/wikipedia/commons/thumb/a/a3/Flag_of_Los_Angeles_County%2C_California.svg/21px-Flag_of_Los_Angeles_County%2C_California.svg.png', 'https://upload.wikimedia.org/wikipedia/commons/thumb/8/8c/Blank_television_set.svg/21px-Blank_television_set.svg.png', 'https://upload.wikimedia.org/wikipedia/en/thumb/a/a4/Flag_of_the_United_States.svg/21px-Flag_of_the_United_States.svg.png', 'https://upload.wikimedia.org/wikipedia/en/thumb/4/4a/Commons-logo.svg/14px-Commons-logo.svg.png', 'https://upload.wikimedia.org/wikipedia/commons/thumb/f/fa/Wikiquote-logo.svg/16px-Wikiquote-logo.svg.png', 'https://upload.wikimedia.org/wikipedia/commons/thumb/4/4c/Wikisource-logo.svg/18px-Wikisource-logo.svg.png', 'https://upload.wikimedia.org/wikipedia/commons/thumb/f/ff/Wikidata-logo.svg/21px-Wikidata-logo.svg.png', 'https://upload.wikimedia.org/wikipedia/en/thumb/8/8a/OOjs_UI_icon_edit-ltr-progressive.svg/10px-OOjs_UI_icon_edit-ltr-progressive.svg.png', 'https://en.wikipedia.org/static/images/footer/wikimedia-button.png', 'https://en.wikipedia.org/static/images/footer/poweredby_mediawiki_88x31.png']\n"
     ]
    }
   ],
   "source": [
    "links = []\n",
    "\n",
    "for i in images:\n",
    "\n",
    "    links.append(i.get_attribute('src'))\n",
    "\n",
    "print(links)"
   ]
  },
  {
   "cell_type": "markdown",
   "metadata": {},
   "source": [
    "#### Retrieve an arbitary Wikipedia page of \"Python\" and create a list of links on that page"
   ]
  },
  {
   "cell_type": "code",
   "execution_count": 112,
   "metadata": {},
   "outputs": [],
   "source": [
    "# This is the url you will scrape in this exercise\n",
    "url ='https://en.wikipedia.org/wiki/Python_of_Catana' "
   ]
  },
  {
   "cell_type": "code",
   "execution_count": 113,
   "metadata": {},
   "outputs": [],
   "source": [
    "#your code\n",
    "driver = webdriver.Chrome(PATH,options= opciones) \n",
    "driver.get(url)\n",
    "\n",
    "time.sleep(2)\n",
    "    \n",
    "w_links = driver.find_elements(By.TAG_NAME,'a')"
   ]
  },
  {
   "cell_type": "code",
   "execution_count": 115,
   "metadata": {},
   "outputs": [
    {
     "name": "stdout",
     "output_type": "stream",
     "text": [
      "['https://en.wikipedia.org/wiki/Main_Page', 'https://en.wikipedia.org/wiki/Wikipedia:Contents', 'https://en.wikipedia.org/wiki/Portal:Current_events', 'https://en.wikipedia.org/wiki/Special:Random', 'https://en.wikipedia.org/wiki/Wikipedia:About', 'https://en.wikipedia.org/wiki/Wikipedia:Contact_us', 'https://donate.wikimedia.org/wiki/Special:FundraiserRedirector?utm_source=donate&utm_medium=sidebar&utm_campaign=C13_en.wikipedia.org&uselang=en', 'https://en.wikipedia.org/wiki/Help:Contents', 'https://en.wikipedia.org/wiki/Help:Introduction', 'https://en.wikipedia.org/wiki/Wikipedia:Community_portal', 'https://en.wikipedia.org/wiki/Special:RecentChanges', 'https://en.wikipedia.org/wiki/Wikipedia:File_upload_wizard', 'https://en.wikipedia.org/wiki/Main_Page', 'https://en.wikipedia.org/wiki/Special:Search', 'https://en.wikipedia.org/w/index.php?title=Special:CreateAccount&returnto=Python+of+Catana', 'https://en.wikipedia.org/w/index.php?title=Special:UserLogin&returnto=Python+of+Catana', 'https://en.wikipedia.org/w/index.php?title=Special:CreateAccount&returnto=Python+of+Catana', 'https://en.wikipedia.org/w/index.php?title=Special:UserLogin&returnto=Python+of+Catana', 'https://en.wikipedia.org/wiki/Help:Introduction', 'https://en.wikipedia.org/wiki/Special:MyContributions', 'https://en.wikipedia.org/wiki/Special:MyTalk', 'https://en.wikipedia.org/wiki/Python_of_Catana#', 'https://www.wikilovesearth.es/', 'https://www.wikilovesearth.es/', 'https://www.wikilovesearth.es/', 'https://en.wikipedia.org/wiki/Python_of_Catana#', 'https://en.wikipedia.org/wiki/Python_of_Catana#See_also', 'https://en.wikipedia.org/wiki/Python_of_Catana#References', 'https://en.wikipedia.org/wiki/Python_of_Catana#External_links', 'https://ca.wikipedia.org/wiki/Pit%C3%B3_de_Catana', 'https://el.wikipedia.org/wiki/%CE%A0%CE%B5%CE%AF%CE%B8%CF%89%CE%BD_%CE%BF_%CE%9A%CE%B1%CF%84%CE%B1%CE%BD%CE%B1%CE%AF%CE%BF%CF%82', 'https://it.wikipedia.org/wiki/Pitone_di_Catania', 'https://nn.wikipedia.org/wiki/Mal:Fortattar-greskantikkspire', 'https://www.wikidata.org/wiki/Special:EntityPage/Q7263938#sitelinks-wikipedia', 'https://en.wikipedia.org/wiki/Python_of_Catana', 'https://en.wikipedia.org/wiki/Talk:Python_of_Catana', 'https://en.wikipedia.org/wiki/Python_of_Catana', 'https://en.wikipedia.org/w/index.php?title=Python_of_Catana&action=edit', 'https://en.wikipedia.org/w/index.php?title=Python_of_Catana&action=history', 'https://en.wikipedia.org/wiki/Python_of_Catana', 'https://en.wikipedia.org/w/index.php?title=Python_of_Catana&action=edit', 'https://en.wikipedia.org/w/index.php?title=Python_of_Catana&action=history', 'https://en.wikipedia.org/wiki/Special:WhatLinksHere/Python_of_Catana', 'https://en.wikipedia.org/wiki/Special:RecentChangesLinked/Python_of_Catana', 'https://en.wikipedia.org/wiki/Wikipedia:File_Upload_Wizard', 'https://en.wikipedia.org/wiki/Special:SpecialPages', 'https://en.wikipedia.org/w/index.php?title=Python_of_Catana&oldid=855321101', 'https://en.wikipedia.org/w/index.php?title=Python_of_Catana&action=info', 'https://en.wikipedia.org/w/index.php?title=Special:CiteThisPage&page=Python_of_Catana&id=855321101&wpFormIdentifier=titleform', 'https://www.wikidata.org/wiki/Special:EntityPage/Q7263938', 'https://www.wikidata.org/wiki/Special:EntityPage/Q7263938#sitelinks-wikipedia', 'https://en.wikipedia.org/w/index.php?title=Special:DownloadAsPdf&page=Python_of_Catana&action=show-download-screen', 'https://en.wikipedia.org/w/index.php?title=Python_of_Catana&printable=yes', 'https://en.wikipedia.org/wiki/Python_(disambiguation)', 'https://en.wikipedia.org/wiki/Catana', 'https://en.wikipedia.org/wiki/Alexander_the_Great', 'https://en.wikipedia.org/wiki/Satyric_drama', 'https://en.wikipedia.org/wiki/Dionysia', 'https://en.wikipedia.org/wiki/Hydaspes', 'https://en.wikipedia.org/wiki/Harpalus', 'https://en.wikipedia.org/wiki/Athenaeus', 'https://en.wikipedia.org/wiki/Python_of_Byzantium', 'https://en.wikipedia.org/wiki/Philip_II_of_Macedon', 'https://en.wikipedia.org/w/index.php?title=Python_of_Catana&action=edit&section=1', 'https://en.wikipedia.org/wiki/Glycera_(courtesan)', 'https://en.wikipedia.org/wiki/Harpalus', 'https://en.wikipedia.org/w/index.php?title=Python_of_Catana&action=edit&section=2', 'https://en.wikipedia.org/wiki/ISBN_(identifier)', 'https://en.wikipedia.org/wiki/Special:BookSources/978-1-4051-1210-9', 'https://en.wikipedia.org/wiki/Public_domain', 'https://en.wikipedia.org/wiki/William_Smith_(lexicographer)', 'https://en.wikipedia.org/wiki/Dictionary_of_Greek_and_Roman_Biography_and_Mythology', 'https://en.wikipedia.org/wiki/Template:Cite_encyclopedia', 'https://en.wikipedia.org/wiki/Help:CS1_errors#citation_missing_title', 'https://en.wikipedia.org/w/index.php?title=Python_of_Catana&action=edit&section=3', 'https://books.google.com/books?id=g98IAAAAQAAJ&pg=PA935&dq=Athenaeus+Python+Catana', 'https://web.archive.org/web/20110721083415/http://www.toxolyros.gr/index.php?option=com_content&task=view&id=5771&Itemid=853', 'https://en.wikipedia.org/wiki/Help:Authority_control', 'https://www.wikidata.org/wiki/Q7263938#identifiers', 'https://viaf.org/viaf/15160114', 'https://d-nb.info/gnd/102404909', 'https://www.deutsche-biographie.de/pnd102404909.html?language=en', 'https://en.wikipedia.org/wiki/File:Homer_British_Museum.jpg', 'https://en.wikipedia.org/wiki/Wikipedia:Stub', 'https://en.wikipedia.org/w/index.php?title=Python_of_Catana&action=edit', 'https://en.wikipedia.org/wiki/Template:AncientGreece-writer-stub', 'https://en.wikipedia.org/wiki/Template_talk:AncientGreece-writer-stub', 'https://en.wikipedia.org/w/index.php?title=Template:AncientGreece-writer-stub&action=edit', 'https://en.wikipedia.org/w/index.php?title=Python_of_Catana&oldid=855321101', 'https://en.wikipedia.org/wiki/Help:Category', 'https://en.wikipedia.org/wiki/Category:Poets_of_Alexander_the_Great', 'https://en.wikipedia.org/wiki/Category:Sicilian_Greeks', 'https://en.wikipedia.org/wiki/Category:Ancient_Greek_dramatists_and_playwrights', 'https://en.wikipedia.org/wiki/Category:Ancient_Greek_writer_stubs', 'https://en.wikipedia.org/wiki/Category:Articles_containing_Ancient_Greek_(to_1453)-language_text', 'https://en.wikipedia.org/wiki/Category:CS1_errors:_missing_title', 'https://en.wikipedia.org/wiki/Category:Wikipedia_articles_incorporating_a_citation_from_the_DGRBM', 'https://en.wikipedia.org/wiki/Category:Wikipedia_articles_incorporating_a_citation_from_the_DGRBM_with_no_wstitle_or_title_parameter', 'https://en.wikipedia.org/wiki/Category:Wikipedia_articles_incorporating_text_from_the_DGRBM', 'https://en.wikipedia.org/wiki/Category:Articles_with_VIAF_identifiers', 'https://en.wikipedia.org/wiki/Category:Articles_with_GND_identifiers', 'https://en.wikipedia.org/wiki/Category:Articles_with_DTBIO_identifiers', 'https://en.wikipedia.org/wiki/Category:All_stub_articles', 'https://en.wikipedia.org/wiki/Wikipedia:Text_of_the_Creative_Commons_Attribution-ShareAlike_3.0_Unported_License', 'https://creativecommons.org/licenses/by-sa/3.0/', 'https://foundation.wikimedia.org/wiki/Terms_of_Use', 'https://foundation.wikimedia.org/wiki/Privacy_policy', 'https://www.wikimediafoundation.org/', 'https://foundation.wikimedia.org/wiki/Privacy_policy', 'https://en.wikipedia.org/wiki/Wikipedia:About', 'https://en.wikipedia.org/wiki/Wikipedia:General_disclaimer', 'https://en.wikipedia.org/wiki/Wikipedia:Contact_us', 'https://en.m.wikipedia.org/w/index.php?title=Python_of_Catana&mobileaction=toggle_view_mobile', 'https://developer.wikimedia.org/', 'https://stats.wikimedia.org/#/en.wikipedia.org', 'https://foundation.wikimedia.org/wiki/Cookie_statement', 'https://en.wikipedia.org/wiki/Python_of_Catana#', 'https://wikimediafoundation.org/', 'https://www.mediawiki.org/', 'https://en.wikipedia.org/wiki/Python_of_Catana?action=edit']\n"
     ]
    }
   ],
   "source": [
    "p_links = []\n",
    "\n",
    "for i in w_links[1:]:\n",
    "\n",
    "    p_links.append(i.get_attribute('href'))\n",
    "\n",
    "print(p_links)"
   ]
  },
  {
   "cell_type": "markdown",
   "metadata": {},
   "source": [
    "#### Number of Titles that have changed in the United States Code since its last release point "
   ]
  },
  {
   "cell_type": "code",
   "execution_count": 116,
   "metadata": {},
   "outputs": [],
   "source": [
    "# This is the url you will scrape in this exercise\n",
    "url = 'http://uscode.house.gov/download/download.shtml'"
   ]
  },
  {
   "cell_type": "code",
   "execution_count": 118,
   "metadata": {},
   "outputs": [
    {
     "data": {
      "text/plain": [
       "37"
      ]
     },
     "execution_count": 118,
     "metadata": {},
     "output_type": "execute_result"
    }
   ],
   "source": [
    "#your code\n",
    "driver = webdriver.Chrome(PATH,options= opciones) \n",
    "driver.get(url)\n",
    "\n",
    "time.sleep(2)\n",
    "    \n",
    "changed = driver.find_elements(By.CLASS_NAME,'usctitlechanged')\n",
    "len(changed)"
   ]
  },
  {
   "cell_type": "markdown",
   "metadata": {},
   "source": [
    "#### A Python list with the top ten FBI's Most Wanted names "
   ]
  },
  {
   "cell_type": "code",
   "execution_count": 120,
   "metadata": {},
   "outputs": [],
   "source": [
    "# This is the url you will scrape in this exercise\n",
    "url = 'https://www.fbi.gov/wanted/topten'"
   ]
  },
  {
   "cell_type": "code",
   "execution_count": 123,
   "metadata": {},
   "outputs": [],
   "source": [
    "#your code \n",
    "driver = webdriver.Chrome(PATH,options= opciones) \n",
    "driver.get(url)\n",
    "\n",
    "time.sleep(2)\n",
    "\n",
    "top = driver.find_elements(By.CLASS_NAME,'title')"
   ]
  },
  {
   "cell_type": "code",
   "execution_count": 125,
   "metadata": {},
   "outputs": [
    {
     "name": "stdout",
     "output_type": "stream",
     "text": [
      "['BHADRESHKUMAR CHETANBHAI PATEL', 'WILVER VILLEGAS-PALOMINO', 'ALEJANDRO ROSALES CASTILLO', 'RUJA IGNATOVA', 'ARNOLDO JIMENEZ', 'OMAR ALEXANDER CARDENAS', 'ALEXIS FLORES', 'YULAN ADONAY ARCHAGA CARIAS', 'MICHAEL JAMES PRATT', 'JOSE RODOLFO VILLARREAL-HERNANDEZ']\n"
     ]
    }
   ],
   "source": [
    "top_10 = []\n",
    "\n",
    "for i in top[1:11]:\n",
    "\n",
    "    top_10.append(i.text.strip())\n",
    "\n",
    "print(top_10)"
   ]
  },
  {
   "cell_type": "markdown",
   "metadata": {},
   "source": [
    "####  20 latest earthquakes info (date, time, latitude, longitude and region name) by the EMSC as a pandas dataframe"
   ]
  },
  {
   "cell_type": "code",
   "execution_count": 155,
   "metadata": {},
   "outputs": [],
   "source": [
    "# This is the url you will scrape in this exercise\n",
    "url = 'https://www.emsc-csem.org/Earthquake/'"
   ]
  },
  {
   "cell_type": "code",
   "execution_count": 178,
   "metadata": {},
   "outputs": [],
   "source": [
    "#your code\n",
    "driver = webdriver.Chrome(PATH,options= opciones) \n",
    "driver.get(url)\n",
    "\n",
    "time.sleep(2)"
   ]
  },
  {
   "cell_type": "code",
   "execution_count": 184,
   "metadata": {},
   "outputs": [],
   "source": [
    "cuerpo_tabla= driver.find_element(By.TAG_NAME,'tbody')\n",
    "filas= driver.find_elements(By.TAG_NAME,'tr')[14:34]\n",
    "date_time=[]\n",
    "depth = []\n",
    "mag = []\n",
    "lat=[]\n",
    "lon=[]\n",
    "region=[]\n",
    "columnas = driver.find_elements(By.TAG_NAME,'tr')[10]\n"
   ]
  },
  {
   "cell_type": "code",
   "execution_count": 168,
   "metadata": {},
   "outputs": [
    {
     "data": {
      "text/plain": [
       "'2023-05-03'"
      ]
     },
     "execution_count": 168,
     "metadata": {},
     "output_type": "execute_result"
    }
   ],
   "source": [
    "filas[3].text.split()[0]"
   ]
  },
  {
   "cell_type": "code",
   "execution_count": 185,
   "metadata": {},
   "outputs": [
    {
     "name": "stdout",
     "output_type": "stream",
     "text": [
      "['20', 'IV', '2023-05-03', '16:25:19.2', '37min', 'ago', '37.78', 'N', '27.17', 'E', '5', '3.4', 'WESTERN', 'TURKEY']\n",
      "['2023-05-03', '16:23:51.5', '39min', 'ago', '39.57', 'S', '177.36', 'E', '14', '3.2', 'OFF', 'E.', 'COAST', 'OF', 'N.', 'ISLAND,', 'N.Z.']\n",
      "['2023-05-03', '16:00:32.5', '1hr', '02min', 'ago', '19.54', 'N', '155.82', 'W', '28', '2.4', 'ISLAND', 'OF', 'HAWAII,', 'HAWAII']\n",
      "['2023-05-03', '15:57:58.3', '1hr', '05min', 'ago', '17.91', 'N', '66.88', 'W', '14', '2.6', 'PUERTO', 'RICO', 'REGION']\n",
      "['2023-05-03', '15:51:15.2', '1hr', '11min', 'ago', '47.37', 'N', '6.92', 'E', '6', '0.7', 'SWITZERLAND']\n",
      "['2023-05-03', '15:45:46.0', '1hr', '17min', 'ago', '8.97', 'S', '122.20', 'E', '10', '3.7', 'FLORES', 'REGION,', 'INDONESIA']\n",
      "['2023-05-03', '15:34:40.0', '1hr', '28min', 'ago', '14.19', 'N', '93.12', 'W', '6', '4.1', 'OFFSHORE', 'CHIAPAS,', 'MEXICO']\n",
      "['2023-05-03', '15:34:27.8', '1hr', '28min', 'ago', '38.25', 'N', '38.31', 'E', '5', '2.6', 'EASTERN', 'TURKEY']\n",
      "['2023-05-03', '15:17:09.0', '1hr', '45min', 'ago', '20.78', 'S', '68.88', 'W', '100', '2.6', 'TARAPACA,', 'CHILE']\n",
      "['2023-05-03', '15:16:20.6', '1hr', '46min', 'ago', '37.63', 'N', '37.27', 'E', '12', '2.0', 'CENTRAL', 'TURKEY']\n",
      "['2023-05-03', '15:15:11.6', '1hr', '47min', 'ago', '32.29', 'N', '115.33', 'W', '12', '2.1', 'BAJA', 'CALIFORNIA,', 'MEXICO']\n",
      "['2023-05-03', '15:04:55.0', '1hr', '58min', 'ago', '15.09', 'N', '94.18', 'W', '10', '4.0', 'OFF', 'COAST', 'OF', 'CHIAPAS,', 'MEXICO']\n",
      "['2023-05-03', '15:01:25.2', '2hr', '01min', 'ago', '37.17', 'N', '36.90', 'E', '5', '2.4', 'CENTRAL', 'TURKEY']\n",
      "['2023-05-03', '14:48:37.1', '2hr', '14min', 'ago', '48.17', 'N', '2.53', 'W', '2', '2.2', 'FRANCE']\n",
      "['F', '2023-05-03', '14:42:53.4', '2hr', '20min', 'ago', '38.46', 'N', '39.30', 'E', '11', '3.0', 'EASTERN', 'TURKEY']\n",
      "['2023-05-03', '14:40:39.1', '2hr', '22min', 'ago', '38.32', 'N', '37.76', 'E', '5', '2.1', 'CENTRAL', 'TURKEY']\n",
      "['2023-05-03', '14:36:02.2', '2hr', '26min', 'ago', '38.31', 'N', '37.14', 'E', '7', '2.2', 'CENTRAL', 'TURKEY']\n",
      "['2023-05-03', '14:34:12.0', '2hr', '28min', 'ago', '14.90', 'N', '93.08', 'W', '59', '4.0', 'OFFSHORE', 'CHIAPAS,', 'MEXICO']\n",
      "['2023-05-03', '14:05:52.3', '2hr', '57min', 'ago', '37.97', 'N', '36.32', 'E', '8', '2.0', 'CENTRAL', 'TURKEY']\n",
      "['2023-05-03', '14:00:45.9', '3hr', '02min', 'ago', '38.31', 'N', '37.74', 'E', '9', '2.1', 'CENTRAL', 'TURKEY']\n"
     ]
    }
   ],
   "source": [
    "for x in filas:\n",
    "    columnas=x.text.split()\n",
    "    if (len(columnas[0]) >= 10):\n",
    "        print(columnas)\n",
    "        date_time.append(columnas[0]+columnas[1].split('\\n')[0])\n",
    "        lat.append(columnas[4] + columnas[5]) \n",
    "        lon.append(columnas[6] + columnas[7])\n",
    "        depth.append(columnas[8])\n",
    "        mag.append(columnas[9])\n",
    "        region.append(columnas[10:])\n",
    "    else:\n",
    "        print(columnas)\n",
    "        date_time.append(columnas[2]+columnas[3])\n",
    "        lat.append(columnas[6] + columnas[7]) \n",
    "        lon.append(columnas[8] + columnas[9])\n",
    "        depth.append(columnas[10])\n",
    "        mag.append(columnas[11])\n",
    "        region.append(columnas[12:])\n",
    "\n",
    "resultado=pd.DataFrame()\n",
    "resultado['Date & Time UTC']=date_time  \n",
    "resultado['Latitude degrees']=lat\n",
    "resultado['Longitude degrees']=lon\n",
    "resultado['Depth'] = depth\n",
    "resultado['Magnitude'] = mag\n",
    "resultado['Region name']=region\n",
    "\n",
    "#Y SE ACABÓ LO QUE SE DABA, ESTÁ MAL Y YA TA\n",
    "\n"
   ]
  },
  {
   "cell_type": "code",
   "execution_count": 186,
   "metadata": {},
   "outputs": [
    {
     "data": {
      "text/html": [
       "<div>\n",
       "<style scoped>\n",
       "    .dataframe tbody tr th:only-of-type {\n",
       "        vertical-align: middle;\n",
       "    }\n",
       "\n",
       "    .dataframe tbody tr th {\n",
       "        vertical-align: top;\n",
       "    }\n",
       "\n",
       "    .dataframe thead th {\n",
       "        text-align: right;\n",
       "    }\n",
       "</style>\n",
       "<table border=\"1\" class=\"dataframe\">\n",
       "  <thead>\n",
       "    <tr style=\"text-align: right;\">\n",
       "      <th></th>\n",
       "      <th>Date &amp; Time UTC</th>\n",
       "      <th>Latitude degrees</th>\n",
       "      <th>Longitude degrees</th>\n",
       "      <th>Depth</th>\n",
       "      <th>Magnitude</th>\n",
       "      <th>Region name</th>\n",
       "    </tr>\n",
       "  </thead>\n",
       "  <tbody>\n",
       "    <tr>\n",
       "      <th>0</th>\n",
       "      <td>2023-05-0316:25:19.2</td>\n",
       "      <td>37.78N</td>\n",
       "      <td>27.17E</td>\n",
       "      <td>5</td>\n",
       "      <td>3.4</td>\n",
       "      <td>[WESTERN, TURKEY]</td>\n",
       "    </tr>\n",
       "    <tr>\n",
       "      <th>1</th>\n",
       "      <td>2023-05-0316:23:51.5</td>\n",
       "      <td>39.57S</td>\n",
       "      <td>177.36E</td>\n",
       "      <td>14</td>\n",
       "      <td>3.2</td>\n",
       "      <td>[OFF, E., COAST, OF, N., ISLAND,, N.Z.]</td>\n",
       "    </tr>\n",
       "    <tr>\n",
       "      <th>2</th>\n",
       "      <td>2023-05-0316:00:32.5</td>\n",
       "      <td>ago19.54</td>\n",
       "      <td>N155.82</td>\n",
       "      <td>W</td>\n",
       "      <td>28</td>\n",
       "      <td>[2.4, ISLAND, OF, HAWAII,, HAWAII]</td>\n",
       "    </tr>\n",
       "    <tr>\n",
       "      <th>3</th>\n",
       "      <td>2023-05-0315:57:58.3</td>\n",
       "      <td>ago17.91</td>\n",
       "      <td>N66.88</td>\n",
       "      <td>W</td>\n",
       "      <td>14</td>\n",
       "      <td>[2.6, PUERTO, RICO, REGION]</td>\n",
       "    </tr>\n",
       "    <tr>\n",
       "      <th>4</th>\n",
       "      <td>2023-05-0315:51:15.2</td>\n",
       "      <td>ago47.37</td>\n",
       "      <td>N6.92</td>\n",
       "      <td>E</td>\n",
       "      <td>6</td>\n",
       "      <td>[0.7, SWITZERLAND]</td>\n",
       "    </tr>\n",
       "  </tbody>\n",
       "</table>\n",
       "</div>"
      ],
      "text/plain": [
       "        Date & Time UTC Latitude degrees Longitude degrees Depth Magnitude  \\\n",
       "0  2023-05-0316:25:19.2           37.78N            27.17E     5       3.4   \n",
       "1  2023-05-0316:23:51.5           39.57S           177.36E    14       3.2   \n",
       "2  2023-05-0316:00:32.5         ago19.54           N155.82     W        28   \n",
       "3  2023-05-0315:57:58.3         ago17.91            N66.88     W        14   \n",
       "4  2023-05-0315:51:15.2         ago47.37             N6.92     E         6   \n",
       "\n",
       "                               Region name  \n",
       "0                        [WESTERN, TURKEY]  \n",
       "1  [OFF, E., COAST, OF, N., ISLAND,, N.Z.]  \n",
       "2       [2.4, ISLAND, OF, HAWAII,, HAWAII]  \n",
       "3              [2.6, PUERTO, RICO, REGION]  \n",
       "4                       [0.7, SWITZERLAND]  "
      ]
     },
     "execution_count": 186,
     "metadata": {},
     "output_type": "execute_result"
    }
   ],
   "source": [
    "resultado.head()"
   ]
  },
  {
   "cell_type": "markdown",
   "metadata": {},
   "source": [
    "#### Count number of tweets by a given Twitter account."
   ]
  },
  {
   "cell_type": "markdown",
   "metadata": {},
   "source": [
    "You will need to include a ***try/except block*** for account names not found. \n",
    "<br>***Hint:*** the program should count the number of tweets for any provided account"
   ]
  },
  {
   "cell_type": "code",
   "execution_count": 192,
   "metadata": {},
   "outputs": [],
   "source": [
    "# This is the url you will scrape in this exercise \n",
    "# You will need to add the account credentials to this url\n",
    "url = 'https://twitter.com/nereuco'"
   ]
  },
  {
   "cell_type": "code",
   "execution_count": 196,
   "metadata": {},
   "outputs": [],
   "source": [
    "#your code\n",
    "PATH = ChromeDriverManager().install()    # instala driver de chrome\n",
    "\n",
    "driver = webdriver.Chrome(PATH,options=opciones)      # abre una ventana de chrome\n",
    "\n",
    "driver.get(url)\n",
    "\n"
   ]
  },
  {
   "cell_type": "code",
   "execution_count": 197,
   "metadata": {},
   "outputs": [
    {
     "data": {
      "text/plain": [
       "'17,5 mil Tweets'"
      ]
     },
     "execution_count": 197,
     "metadata": {},
     "output_type": "execute_result"
    }
   ],
   "source": [
    "tweets = driver.find_element(By.CSS_SELECTOR, '#react-root > div > div > div.css-1dbjc4n.r-18u37iz.r-13qz1uu.r-417010 > main > div > div > div > div > div > div.css-1dbjc4n.r-aqfbo4.r-gtdqiz.r-1gn8etr.r-1g40b8q > div:nth-child(1) > div > div > div > div > div > div.css-1dbjc4n.r-16y2uox.r-1wbh5a2.r-1pi2tsx.r-1777fci > div > div').text\n",
    "tweets"
   ]
  },
  {
   "cell_type": "markdown",
   "metadata": {},
   "source": [
    "#### Number of followers of a given twitter account"
   ]
  },
  {
   "cell_type": "markdown",
   "metadata": {},
   "source": [
    "You will need to include a ***try/except block*** in case account/s name not found. \n",
    "<br>***Hint:*** the program should count the followers for any provided account"
   ]
  },
  {
   "cell_type": "code",
   "execution_count": 199,
   "metadata": {},
   "outputs": [],
   "source": [
    "# This is the url you will scrape in this exercise \n",
    "# You will need to add the account credentials to this url\n",
    "url = 'https://twitter.com/nereuco'"
   ]
  },
  {
   "cell_type": "code",
   "execution_count": 200,
   "metadata": {},
   "outputs": [
    {
     "data": {
      "text/plain": [
       "'349'"
      ]
     },
     "execution_count": 200,
     "metadata": {},
     "output_type": "execute_result"
    }
   ],
   "source": [
    "#your code\n",
    "PATH = ChromeDriverManager().install()    # instala driver de chrome\n",
    "\n",
    "driver = webdriver.Chrome(PATH,options=opciones)      # abre una ventana de chrome\n",
    "\n",
    "driver.get(url)\n",
    "follow = driver.find_element(By.CSS_SELECTOR, '#react-root > div > div > div.css-1dbjc4n.r-18u37iz.r-13qz1uu.r-417010 > main > div > div > div > div > div > div:nth-child(3) > div > div > div > div > div.css-1dbjc4n.r-13awgt0.r-18u37iz.r-1w6e6rj > div:nth-child(2) > a > span.css-901oao.css-16my406.r-1nao33i.r-poiln3.r-1b43r93.r-b88u0q.r-1cwl3u0.r-bcqeeo.r-qvutc0 > span').text\n",
    "follow"
   ]
  },
  {
   "cell_type": "markdown",
   "metadata": {},
   "source": [
    "#### List all language names and number of related articles in the order they appear in wikipedia.org"
   ]
  },
  {
   "cell_type": "code",
   "execution_count": 204,
   "metadata": {},
   "outputs": [],
   "source": [
    "# This is the url you will scrape in this exercise\n",
    "url = 'https://www.wikipedia.org/'"
   ]
  },
  {
   "cell_type": "code",
   "execution_count": 206,
   "metadata": {},
   "outputs": [
    {
     "data": {
      "text/plain": [
       "[['Русский', '1 909 000+ статей'],\n",
       " ['日本語', '1 370 000+ 記事'],\n",
       " ['Deutsch', '2 792 000+ Artikel'],\n",
       " ['Français', '2 514 000+ articles'],\n",
       " ['Italiano', '1 806 000+ voci'],\n",
       " ['中文', '1 347 000+ 条目 / 條目'],\n",
       " ['فارسی', '959 000+ مقاله'],\n",
       " ['Português', '1 101 000+ artigos']]"
      ]
     },
     "execution_count": 206,
     "metadata": {},
     "output_type": "execute_result"
    }
   ],
   "source": [
    "#your code\n",
    "PATH = ChromeDriverManager().install()    # instala driver de chrome\n",
    "\n",
    "driver = webdriver.Chrome(PATH,options=opciones)      # abre una ventana de chrome\n",
    "\n",
    "driver.get(url)\n",
    "\n",
    "uno = driver.find_elements(By.CLASS_NAME, 'link-box')\n",
    "\n",
    "idiomas = [ idioma.text.split('\\n')  for idioma in uno][2:]\n",
    "idiomas\n"
   ]
  },
  {
   "cell_type": "markdown",
   "metadata": {},
   "source": [
    "#### A list with the different kind of datasets available in data.gov.uk "
   ]
  },
  {
   "cell_type": "code",
   "execution_count": 201,
   "metadata": {},
   "outputs": [],
   "source": [
    "# This is the url you will scrape in this exercise\n",
    "url = 'https://data.gov.uk/'"
   ]
  },
  {
   "cell_type": "code",
   "execution_count": 202,
   "metadata": {},
   "outputs": [
    {
     "name": "stdout",
     "output_type": "stream",
     "text": [
      "['Business and economy', 'Crime and justice', 'Defence', 'Education', 'Environment', 'Government', 'Government spending', 'Health', 'Mapping', 'Society', 'Towns and cities', 'Transport', 'Digital service performance', 'Government reference data']\n"
     ]
    }
   ],
   "source": [
    "#your code \n",
    "PATH = ChromeDriverManager().install()    # instala driver de chrome\n",
    "\n",
    "driver = webdriver.Chrome(PATH,options=opciones)      # abre una ventana de chrome\n",
    "\n",
    "driver.get(url)\n",
    "headers = driver.find_elements(By.CLASS_NAME, 'govuk-heading-s.dgu-topics__heading')\n",
    "len(headers)\n",
    "list = []\n",
    "\n",
    "for elem in headers:\n",
    "    list.append(elem.text)\n",
    "\n",
    "print(list)"
   ]
  },
  {
   "cell_type": "markdown",
   "metadata": {},
   "source": [
    "#### Top 10 languages by number of native speakers stored in a Pandas Dataframe"
   ]
  },
  {
   "cell_type": "code",
   "execution_count": 216,
   "metadata": {},
   "outputs": [],
   "source": [
    "# This is the url you will scrape in this exercise\n",
    "url = 'https://en.wikipedia.org/wiki/List_of_languages_by_number_of_native_speakers'\n",
    "PATH = ChromeDriverManager().install()    # instala driver de chrome\n",
    "\n",
    "driver = webdriver.Chrome(PATH,options=opciones) \n",
    "driver.get(url)"
   ]
  },
  {
   "cell_type": "code",
   "execution_count": 218,
   "metadata": {},
   "outputs": [],
   "source": [
    "#your code\n",
    "\n",
    "primero = driver.find_elements(By.XPATH, '//*[@id=\"mw-content-text\"]/div[1]/table[1]/thead/tr')\n",
    "filas= []\n",
    "\n",
    "for row in primero[0].find_elements(By.XPATH,'.//tr'):\n",
    "    row_data = []\n",
    "    for cell in row.find_elements(By.XPATH, './/td'):\n",
    "        row_data.append(cell.text)\n",
    "    filas.append(row_data)\n",
    "\n",
    "\n"
   ]
  },
  {
   "cell_type": "code",
   "execution_count": 219,
   "metadata": {},
   "outputs": [
    {
     "ename": "InvalidSelectorException",
     "evalue": "Message: invalid selector: Unable to locate an element with the xpath expression //[@id=\"mw-content-text\"]/div[1]/table[1]/thead because of the following error:\nSyntaxError: Failed to execute 'evaluate' on 'Document': The string '//[@id=\"mw-content-text\"]/div[1]/table[1]/thead' is not a valid XPath expression.\n  (Session info: chrome=112.0.5615.138)\nStacktrace:\nBacktrace:\n\tGetHandleVerifier [0x010BDCE3+50899]\n\t(No symbol) [0x0104E111]\n\t(No symbol) [0x00F55588]\n\t(No symbol) [0x00F57EDB]\n\t(No symbol) [0x00F57DB0]\n\t(No symbol) [0x00F58030]\n\t(No symbol) [0x00F80552]\n\t(No symbol) [0x00F80AFB]\n\t(No symbol) [0x00FAF902]\n\t(No symbol) [0x00F9B944]\n\t(No symbol) [0x00FAE01C]\n\t(No symbol) [0x00F9B6F6]\n\t(No symbol) [0x00F77708]\n\t(No symbol) [0x00F7886D]\n\tGetHandleVerifier [0x01323EAE+2566302]\n\tGetHandleVerifier [0x013592B1+2784417]\n\tGetHandleVerifier [0x0135327C+2759788]\n\tGetHandleVerifier [0x01155740+672048]\n\t(No symbol) [0x01058872]\n\t(No symbol) [0x010541C8]\n\t(No symbol) [0x010542AB]\n\t(No symbol) [0x010471B7]\n\tBaseThreadInitThunk [0x75EB7D49+25]\n\tRtlInitializeExceptionChain [0x77DBB74B+107]\n\tRtlClearBits [0x77DBB6CF+191]\n",
     "output_type": "error",
     "traceback": [
      "\u001b[1;31m---------------------------------------------------------------------------\u001b[0m",
      "\u001b[1;31mInvalidSelectorException\u001b[0m                  Traceback (most recent call last)",
      "Cell \u001b[1;32mIn[219], line 1\u001b[0m\n\u001b[1;32m----> 1\u001b[0m columnas \u001b[39m=\u001b[39m driver\u001b[39m.\u001b[39;49mfind_element(By\u001b[39m.\u001b[39;49mXPATH, \u001b[39m'\u001b[39;49m\u001b[39m//[@id=\u001b[39;49m\u001b[39m\"\u001b[39;49m\u001b[39mmw-content-text\u001b[39;49m\u001b[39m\"\u001b[39;49m\u001b[39m]/div[1]/table[1]/thead\u001b[39;49m\u001b[39m'\u001b[39;49m)\n\u001b[0;32m      2\u001b[0m columnas \u001b[39m=\u001b[39m columnas\u001b[39m.\u001b[39mtext\u001b[39m.\u001b[39msplit()\n\u001b[0;32m      3\u001b[0m columnas[\u001b[39m1\u001b[39m] \u001b[39m=\u001b[39m columnas[\u001b[39m1\u001b[39m] \u001b[39m+\u001b[39m \u001b[39m'\u001b[39m\u001b[39m \u001b[39m\u001b[39m'\u001b[39m \u001b[39m+\u001b[39m columnas[\u001b[39m2\u001b[39m] \u001b[39m+\u001b[39m \u001b[39m'\u001b[39m\u001b[39m \u001b[39m\u001b[39m'\u001b[39m \u001b[39m+\u001b[39m columnas[\u001b[39m3\u001b[39m]\n",
      "File \u001b[1;32mc:\\Users\\pacot\\anaconda3\\lib\\site-packages\\selenium\\webdriver\\remote\\webdriver.py:831\u001b[0m, in \u001b[0;36mWebDriver.find_element\u001b[1;34m(self, by, value)\u001b[0m\n\u001b[0;32m    828\u001b[0m     by \u001b[39m=\u001b[39m By\u001b[39m.\u001b[39mCSS_SELECTOR\n\u001b[0;32m    829\u001b[0m     value \u001b[39m=\u001b[39m \u001b[39mf\u001b[39m\u001b[39m'\u001b[39m\u001b[39m[name=\u001b[39m\u001b[39m\"\u001b[39m\u001b[39m{\u001b[39;00mvalue\u001b[39m}\u001b[39;00m\u001b[39m\"\u001b[39m\u001b[39m]\u001b[39m\u001b[39m'\u001b[39m\n\u001b[1;32m--> 831\u001b[0m \u001b[39mreturn\u001b[39;00m \u001b[39mself\u001b[39;49m\u001b[39m.\u001b[39;49mexecute(Command\u001b[39m.\u001b[39;49mFIND_ELEMENT, {\u001b[39m\"\u001b[39;49m\u001b[39musing\u001b[39;49m\u001b[39m\"\u001b[39;49m: by, \u001b[39m\"\u001b[39;49m\u001b[39mvalue\u001b[39;49m\u001b[39m\"\u001b[39;49m: value})[\u001b[39m\"\u001b[39m\u001b[39mvalue\u001b[39m\u001b[39m\"\u001b[39m]\n",
      "File \u001b[1;32mc:\\Users\\pacot\\anaconda3\\lib\\site-packages\\selenium\\webdriver\\remote\\webdriver.py:440\u001b[0m, in \u001b[0;36mWebDriver.execute\u001b[1;34m(self, driver_command, params)\u001b[0m\n\u001b[0;32m    438\u001b[0m response \u001b[39m=\u001b[39m \u001b[39mself\u001b[39m\u001b[39m.\u001b[39mcommand_executor\u001b[39m.\u001b[39mexecute(driver_command, params)\n\u001b[0;32m    439\u001b[0m \u001b[39mif\u001b[39;00m response:\n\u001b[1;32m--> 440\u001b[0m     \u001b[39mself\u001b[39;49m\u001b[39m.\u001b[39;49merror_handler\u001b[39m.\u001b[39;49mcheck_response(response)\n\u001b[0;32m    441\u001b[0m     response[\u001b[39m\"\u001b[39m\u001b[39mvalue\u001b[39m\u001b[39m\"\u001b[39m] \u001b[39m=\u001b[39m \u001b[39mself\u001b[39m\u001b[39m.\u001b[39m_unwrap_value(response\u001b[39m.\u001b[39mget(\u001b[39m\"\u001b[39m\u001b[39mvalue\u001b[39m\u001b[39m\"\u001b[39m, \u001b[39mNone\u001b[39;00m))\n\u001b[0;32m    442\u001b[0m     \u001b[39mreturn\u001b[39;00m response\n",
      "File \u001b[1;32mc:\\Users\\pacot\\anaconda3\\lib\\site-packages\\selenium\\webdriver\\remote\\errorhandler.py:245\u001b[0m, in \u001b[0;36mErrorHandler.check_response\u001b[1;34m(self, response)\u001b[0m\n\u001b[0;32m    243\u001b[0m         alert_text \u001b[39m=\u001b[39m value[\u001b[39m\"\u001b[39m\u001b[39malert\u001b[39m\u001b[39m\"\u001b[39m]\u001b[39m.\u001b[39mget(\u001b[39m\"\u001b[39m\u001b[39mtext\u001b[39m\u001b[39m\"\u001b[39m)\n\u001b[0;32m    244\u001b[0m     \u001b[39mraise\u001b[39;00m exception_class(message, screen, stacktrace, alert_text)  \u001b[39m# type: ignore[call-arg]  # mypy is not smart enough here\u001b[39;00m\n\u001b[1;32m--> 245\u001b[0m \u001b[39mraise\u001b[39;00m exception_class(message, screen, stacktrace)\n",
      "\u001b[1;31mInvalidSelectorException\u001b[0m: Message: invalid selector: Unable to locate an element with the xpath expression //[@id=\"mw-content-text\"]/div[1]/table[1]/thead because of the following error:\nSyntaxError: Failed to execute 'evaluate' on 'Document': The string '//[@id=\"mw-content-text\"]/div[1]/table[1]/thead' is not a valid XPath expression.\n  (Session info: chrome=112.0.5615.138)\nStacktrace:\nBacktrace:\n\tGetHandleVerifier [0x010BDCE3+50899]\n\t(No symbol) [0x0104E111]\n\t(No symbol) [0x00F55588]\n\t(No symbol) [0x00F57EDB]\n\t(No symbol) [0x00F57DB0]\n\t(No symbol) [0x00F58030]\n\t(No symbol) [0x00F80552]\n\t(No symbol) [0x00F80AFB]\n\t(No symbol) [0x00FAF902]\n\t(No symbol) [0x00F9B944]\n\t(No symbol) [0x00FAE01C]\n\t(No symbol) [0x00F9B6F6]\n\t(No symbol) [0x00F77708]\n\t(No symbol) [0x00F7886D]\n\tGetHandleVerifier [0x01323EAE+2566302]\n\tGetHandleVerifier [0x013592B1+2784417]\n\tGetHandleVerifier [0x0135327C+2759788]\n\tGetHandleVerifier [0x01155740+672048]\n\t(No symbol) [0x01058872]\n\t(No symbol) [0x010541C8]\n\t(No symbol) [0x010542AB]\n\t(No symbol) [0x010471B7]\n\tBaseThreadInitThunk [0x75EB7D49+25]\n\tRtlInitializeExceptionChain [0x77DBB74B+107]\n\tRtlClearBits [0x77DBB6CF+191]\n"
     ]
    }
   ],
   "source": [
    "columnas = driver.find_element(By.XPATH, '//[@id=\"mw-content-text\"]/div[1]/table[1]/thead')\n",
    "columnas = columnas.text.split()\n",
    "columnas[1] = columnas[1] + ' ' + columnas[2] + ' ' + columnas[3]\n",
    "columnas[2] = columnas[4] + ' ' + columnas[5]\n",
    "columnasok = [columnas[0], columnas[1], columnas[2], columnas[5]]\n",
    "columnasok\n",
    "df = pd.DataFrame(data=filas, columns=columnasok)\n",
    "df"
   ]
  },
  {
   "cell_type": "markdown",
   "metadata": {},
   "source": [
    "### BONUS QUESTIONS"
   ]
  },
  {
   "cell_type": "markdown",
   "metadata": {},
   "source": [
    "#### Scrape a certain number of tweets of a given Twitter account."
   ]
  },
  {
   "cell_type": "code",
   "execution_count": 40,
   "metadata": {},
   "outputs": [],
   "source": [
    "# This is the url you will scrape in this exercise \n",
    "# You will need to add the account credentials to this url\n",
    "url = 'https://twitter.com/'"
   ]
  },
  {
   "cell_type": "code",
   "execution_count": 41,
   "metadata": {},
   "outputs": [],
   "source": [
    "# your code"
   ]
  },
  {
   "cell_type": "markdown",
   "metadata": {},
   "source": [
    "#### IMDB's Top 250 data (movie name, Initial release, director name and stars) as a pandas dataframe"
   ]
  },
  {
   "cell_type": "code",
   "execution_count": 42,
   "metadata": {},
   "outputs": [],
   "source": [
    "# This is the url you will scrape in this exercise \n",
    "url = 'https://www.imdb.com/chart/top'"
   ]
  },
  {
   "cell_type": "code",
   "execution_count": 43,
   "metadata": {},
   "outputs": [],
   "source": [
    "# your code"
   ]
  },
  {
   "cell_type": "markdown",
   "metadata": {},
   "source": [
    "#### Movie name, year and a brief summary of the top 10 random movies (IMDB) as a pandas dataframe."
   ]
  },
  {
   "cell_type": "code",
   "execution_count": 44,
   "metadata": {},
   "outputs": [],
   "source": [
    "#This is the url you will scrape in this exercise\n",
    "url = 'http://www.imdb.com/chart/top'"
   ]
  },
  {
   "cell_type": "code",
   "execution_count": 45,
   "metadata": {},
   "outputs": [],
   "source": [
    "#your code"
   ]
  },
  {
   "cell_type": "markdown",
   "metadata": {},
   "source": [
    "#### Find the live weather report (temperature, wind speed, description and weather) of a given city."
   ]
  },
  {
   "cell_type": "code",
   "execution_count": 46,
   "metadata": {},
   "outputs": [],
   "source": [
    "#https://openweathermap.org/current\n",
    "#city = city=input('Enter the city:')\n",
    "#url = 'http://api.openweathermap.org/data/2.5/weather?'+'q='+city+'&APPID=b35975e18dc93725acb092f7272cc6b8&units=metric'"
   ]
  },
  {
   "cell_type": "code",
   "execution_count": 47,
   "metadata": {},
   "outputs": [],
   "source": [
    "# your code"
   ]
  },
  {
   "cell_type": "markdown",
   "metadata": {},
   "source": [
    "#### Book name,price and stock availability as a pandas dataframe."
   ]
  },
  {
   "cell_type": "code",
   "execution_count": 48,
   "metadata": {},
   "outputs": [],
   "source": [
    "# This is the url you will scrape in this exercise. \n",
    "# It is a fictional bookstore created to be scraped. \n",
    "url = 'http://books.toscrape.com/'"
   ]
  },
  {
   "cell_type": "code",
   "execution_count": 49,
   "metadata": {},
   "outputs": [],
   "source": [
    "#your code"
   ]
  }
 ],
 "metadata": {
  "kernelspec": {
   "display_name": "Python 3",
   "language": "python",
   "name": "python3"
  },
  "language_info": {
   "codemirror_mode": {
    "name": "ipython",
    "version": 3
   },
   "file_extension": ".py",
   "mimetype": "text/x-python",
   "name": "python",
   "nbconvert_exporter": "python",
   "pygments_lexer": "ipython3",
   "version": "3.10.9"
  }
 },
 "nbformat": 4,
 "nbformat_minor": 2
}
