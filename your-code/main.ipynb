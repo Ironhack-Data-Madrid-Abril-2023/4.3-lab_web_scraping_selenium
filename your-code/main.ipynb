{
 "cells": [
  {
   "attachments": {},
   "cell_type": "markdown",
   "metadata": {},
   "source": [
    "# Web Scraping Lab\n",
    "\n",
    "You will find in this notebook some scrapy exercises to practise your scraping skills.\n",
    "\n",
    "**Tips:**\n",
    "\n",
    "- Check the response status code for each request to ensure you have obtained the intended contennt.\n",
    "- Print the response text in each request to understand the kind of info you are getting and its format.\n",
    "- Check for patterns in the response text to extract the data/info requested in each question.\n",
    "- Visit each url and take a look at its source through Chrome DevTools. You'll need to identify the html tags, special class names etc. used for the html content you are expected to extract."
   ]
  },
  {
   "attachments": {},
   "cell_type": "markdown",
   "metadata": {},
   "source": [
    "- [Selenium Doc](https://www.selenium.dev/documentation/)\n",
    "- [Requests library](http://docs.python-requests.org/en/master/#the-user-guide) documentation \n",
    "- [Urllib](https://docs.python.org/3/library/urllib.html#module-urllib)\n",
    "- [re lib](https://docs.python.org/3/library/re.html)\n",
    "- [lxml lib](https://lxml.de/)\n",
    "- [Scrapy](https://scrapy.org/)\n",
    "- [List of HTTP status codes](https://en.wikipedia.org/wiki/List_of_HTTP_status_codes)\n",
    "- [HTML basics](http://www.simplehtmlguide.com/cheatsheet.php)\n",
    "- [CSS basics](https://www.cssbasics.com/#page_start)"
   ]
  },
  {
   "attachments": {},
   "cell_type": "markdown",
   "metadata": {},
   "source": [
    "#### Below are the libraries and modules you may need. `Selenium` and `pandas` are imported for you."
   ]
  },
  {
   "cell_type": "code",
   "execution_count": 119,
   "metadata": {},
   "outputs": [],
   "source": [
    "import pandas as pd\n",
    "from selenium import webdriver\n",
    "from selenium.webdriver.chrome.options import Options\n",
    "from webdriver_manager.chrome import ChromeDriverManager\n",
    "from selenium.webdriver.common.by import By\n",
    "from selenium.webdriver.common.keys import Keys\n",
    "from selenium.common.exceptions import WebDriverException\n",
    "import time"
   ]
  },
  {
   "attachments": {},
   "cell_type": "markdown",
   "metadata": {},
   "source": [
    "#### Enable the options you may need. In the next cell you have an example of them but you can choose to use them or not."
   ]
  },
  {
   "cell_type": "code",
   "execution_count": 120,
   "metadata": {},
   "outputs": [
    {
     "name": "stderr",
     "output_type": "stream",
     "text": [
      "C:\\Users\\Lorenzo\\AppData\\Local\\Temp\\ipykernel_15624\\4076755805.py:6: DeprecationWarning: headless property is deprecated, instead use add_argument('--headless') or add_argument('--headless=new')\n",
      "  opciones.headless=False    # si True, no aperece la ventana (headless=no visible)\n"
     ]
    }
   ],
   "source": [
    "#driver configuration\n",
    "opciones=Options()\n",
    "\n",
    "opciones.add_experimental_option('excludeSwitches', ['enable-automation'])\n",
    "opciones.add_experimental_option('useAutomationExtension', False)\n",
    "opciones.headless=False    # si True, no aperece la ventana (headless=no visible)\n",
    "opciones.add_argument('--start-maximized')         # comienza maximizado\n",
    "#opciones.add_argument('user-data-dir=selenium')    # mantiene las cookies\n",
    "#opciones.add_extension('driver_folder/adblock.crx')       # adblocker\n",
    "opciones.add_argument('--incognito')"
   ]
  },
  {
   "attachments": {},
   "cell_type": "markdown",
   "metadata": {},
   "source": [
    "#### Download, parse, and print the content from the Trending Developers page from GitHub:"
   ]
  },
  {
   "cell_type": "code",
   "execution_count": 121,
   "metadata": {},
   "outputs": [],
   "source": [
    "# This is the url you will scrape in this exercise\n",
    "url = 'https://github.com/trending/developers'"
   ]
  },
  {
   "cell_type": "code",
   "execution_count": 122,
   "metadata": {},
   "outputs": [
    {
     "name": "stderr",
     "output_type": "stream",
     "text": [
      "C:\\Users\\Lorenzo\\AppData\\Local\\Temp\\ipykernel_15624\\767361416.py:2: DeprecationWarning: executable_path has been deprecated, please pass in a Service object\n",
      "  driver = webdriver.Chrome(PATH) #Para poder abrir una ventana en Crhome\n"
     ]
    }
   ],
   "source": [
    "PATH = ChromeDriverManager().install() #instalar driver en crhome\n",
    "driver = webdriver.Chrome(PATH) #Para poder abrir una ventana en Crhome\n",
    "driver.get(url)\n",
    "time.sleep(1)"
   ]
  },
  {
   "attachments": {},
   "cell_type": "markdown",
   "metadata": {},
   "source": [
    "#### Display the names of the trending developers retrieved in the previous step.\n",
    "\n",
    "Your output should be a Python list of developer names. Each name should not contain any html tag.\n",
    "\n",
    "**Instructions:**\n",
    "\n",
    "1. Find out the html tag and class names used for the developer names.\n",
    "\n",
    "1. Use string manipulation techniques to replace whitespaces and linebreaks (i.e. `\\n`) in the *text* of each html element. Use a list to store the clean names.\n",
    "\n",
    "1. Print the list of names.\n",
    "\n",
    "Your output should look like below:\n",
    "\n",
    "```\n",
    "['trimstray (@trimstray)',\n",
    " 'joewalnes (JoeWalnes)',\n",
    " 'charlax (Charles-AxelDein)',\n",
    " 'ForrestKnight (ForrestKnight)',\n",
    " 'revery-ui (revery-ui)',\n",
    " 'alibaba (Alibaba)',\n",
    " 'Microsoft (Microsoft)',\n",
    " 'github (GitHub)',\n",
    " 'facebook (Facebook)',\n",
    " 'boazsegev (Bo)',\n",
    " 'google (Google)',\n",
    " 'cloudfetch',\n",
    " 'sindresorhus (SindreSorhus)',\n",
    " 'tensorflow',\n",
    " 'apache (TheApacheSoftwareFoundation)',\n",
    " 'DevonCrawford (DevonCrawford)',\n",
    " 'ARMmbed (ArmMbed)',\n",
    " 'vuejs (vuejs)',\n",
    " 'fastai (fast.ai)',\n",
    " 'QiShaoXuan (Qi)',\n",
    " 'joelparkerhenderson (JoelParkerHenderson)',\n",
    " 'torvalds (LinusTorvalds)',\n",
    " 'CyC2018',\n",
    " 'komeiji-satori (神楽坂覚々)',\n",
    " 'script-8']\n",
    " ```"
   ]
  },
  {
   "cell_type": "code",
   "execution_count": 123,
   "metadata": {},
   "outputs": [
    {
     "data": {
      "text/plain": [
       "[]"
      ]
     },
     "execution_count": 123,
     "metadata": {},
     "output_type": "execute_result"
    }
   ],
   "source": [
    "trend_dev = []\n",
    "caja = driver.find_elements(By.XPATH, '//*[@id=\"pa-agnivade\"]')  #Este esta mal porque con el id es un solo elemento por tanto seria find_element.\n",
    "for e in caja:\n",
    "    trend_dev.append(e.text.strip())\n",
    "trend_dev"
   ]
  },
  {
   "cell_type": "code",
   "execution_count": 124,
   "metadata": {},
   "outputs": [
    {
     "ename": "NoSuchElementException",
     "evalue": "Message: no such element: Unable to locate element: {\"method\":\"xpath\",\"selector\":\"//*[@id=\"pa-agnivade\"]\"}\n  (Session info: chrome=112.0.5615.138)\nStacktrace:\nBacktrace:\n\tGetHandleVerifier [0x002ADCE3+50899]\n\t(No symbol) [0x0023E111]\n\t(No symbol) [0x00145588]\n\t(No symbol) [0x001708F9]\n\t(No symbol) [0x00170AFB]\n\t(No symbol) [0x0019F902]\n\t(No symbol) [0x0018B944]\n\t(No symbol) [0x0019E01C]\n\t(No symbol) [0x0018B6F6]\n\t(No symbol) [0x00167708]\n\t(No symbol) [0x0016886D]\n\tGetHandleVerifier [0x00513EAE+2566302]\n\tGetHandleVerifier [0x005492B1+2784417]\n\tGetHandleVerifier [0x0054327C+2759788]\n\tGetHandleVerifier [0x00345740+672048]\n\t(No symbol) [0x00248872]\n\t(No symbol) [0x002441C8]\n\t(No symbol) [0x002442AB]\n\t(No symbol) [0x002371B7]\n\tBaseThreadInitThunk [0x75F67D49+25]\n\tRtlInitializeExceptionChain [0x7737B74B+107]\n\tRtlClearBits [0x7737B6CF+191]\n\t(No symbol) [0x00000000]\n",
     "output_type": "error",
     "traceback": [
      "\u001b[1;31m---------------------------------------------------------------------------\u001b[0m",
      "\u001b[1;31mNoSuchElementException\u001b[0m                    Traceback (most recent call last)",
      "\u001b[1;32m~\\AppData\\Local\\Temp\\ipykernel_15624\\275431762.py\u001b[0m in \u001b[0;36m<module>\u001b[1;34m\u001b[0m\n\u001b[0;32m      1\u001b[0m \u001b[0mdevel\u001b[0m \u001b[1;33m=\u001b[0m \u001b[1;33m[\u001b[0m\u001b[1;33m]\u001b[0m\u001b[1;33m\u001b[0m\u001b[1;33m\u001b[0m\u001b[0m\n\u001b[1;32m----> 2\u001b[1;33m \u001b[0mbox\u001b[0m \u001b[1;33m=\u001b[0m \u001b[0mdriver\u001b[0m\u001b[1;33m.\u001b[0m\u001b[0mfind_element\u001b[0m\u001b[1;33m(\u001b[0m\u001b[0mBy\u001b[0m\u001b[1;33m.\u001b[0m\u001b[0mXPATH\u001b[0m\u001b[1;33m,\u001b[0m \u001b[1;34m'//*[@id=\"pa-agnivade\"]'\u001b[0m\u001b[1;33m)\u001b[0m\u001b[1;33m.\u001b[0m\u001b[0mtext\u001b[0m \u001b[1;31m#hay que hacer un split.\u001b[0m\u001b[1;33m\u001b[0m\u001b[1;33m\u001b[0m\u001b[0m\n\u001b[0m\u001b[0;32m      3\u001b[0m \u001b[0mdevel\u001b[0m\u001b[1;33m.\u001b[0m\u001b[0mappend\u001b[0m\u001b[1;33m(\u001b[0m\u001b[0mbox\u001b[0m\u001b[1;33m)\u001b[0m\u001b[1;33m\u001b[0m\u001b[1;33m\u001b[0m\u001b[0m\n\u001b[0;32m      4\u001b[0m \u001b[0mdevel\u001b[0m\u001b[1;33m\u001b[0m\u001b[1;33m\u001b[0m\u001b[0m\n",
      "\u001b[1;32mc:\\Users\\Lorenzo\\anaconda3\\ANACONDA\\lib\\site-packages\\selenium\\webdriver\\remote\\webdriver.py\u001b[0m in \u001b[0;36mfind_element\u001b[1;34m(self, by, value)\u001b[0m\n\u001b[0;32m    829\u001b[0m             \u001b[0mvalue\u001b[0m \u001b[1;33m=\u001b[0m \u001b[1;34mf'[name=\"{value}\"]'\u001b[0m\u001b[1;33m\u001b[0m\u001b[1;33m\u001b[0m\u001b[0m\n\u001b[0;32m    830\u001b[0m \u001b[1;33m\u001b[0m\u001b[0m\n\u001b[1;32m--> 831\u001b[1;33m         \u001b[1;32mreturn\u001b[0m \u001b[0mself\u001b[0m\u001b[1;33m.\u001b[0m\u001b[0mexecute\u001b[0m\u001b[1;33m(\u001b[0m\u001b[0mCommand\u001b[0m\u001b[1;33m.\u001b[0m\u001b[0mFIND_ELEMENT\u001b[0m\u001b[1;33m,\u001b[0m \u001b[1;33m{\u001b[0m\u001b[1;34m\"using\"\u001b[0m\u001b[1;33m:\u001b[0m \u001b[0mby\u001b[0m\u001b[1;33m,\u001b[0m \u001b[1;34m\"value\"\u001b[0m\u001b[1;33m:\u001b[0m \u001b[0mvalue\u001b[0m\u001b[1;33m}\u001b[0m\u001b[1;33m)\u001b[0m\u001b[1;33m[\u001b[0m\u001b[1;34m\"value\"\u001b[0m\u001b[1;33m]\u001b[0m\u001b[1;33m\u001b[0m\u001b[1;33m\u001b[0m\u001b[0m\n\u001b[0m\u001b[0;32m    832\u001b[0m \u001b[1;33m\u001b[0m\u001b[0m\n\u001b[0;32m    833\u001b[0m     \u001b[1;32mdef\u001b[0m \u001b[0mfind_elements\u001b[0m\u001b[1;33m(\u001b[0m\u001b[0mself\u001b[0m\u001b[1;33m,\u001b[0m \u001b[0mby\u001b[0m\u001b[1;33m=\u001b[0m\u001b[0mBy\u001b[0m\u001b[1;33m.\u001b[0m\u001b[0mID\u001b[0m\u001b[1;33m,\u001b[0m \u001b[0mvalue\u001b[0m\u001b[1;33m:\u001b[0m \u001b[0mOptional\u001b[0m\u001b[1;33m[\u001b[0m\u001b[0mstr\u001b[0m\u001b[1;33m]\u001b[0m \u001b[1;33m=\u001b[0m \u001b[1;32mNone\u001b[0m\u001b[1;33m)\u001b[0m \u001b[1;33m->\u001b[0m \u001b[0mList\u001b[0m\u001b[1;33m[\u001b[0m\u001b[0mWebElement\u001b[0m\u001b[1;33m]\u001b[0m\u001b[1;33m:\u001b[0m\u001b[1;33m\u001b[0m\u001b[1;33m\u001b[0m\u001b[0m\n",
      "\u001b[1;32mc:\\Users\\Lorenzo\\anaconda3\\ANACONDA\\lib\\site-packages\\selenium\\webdriver\\remote\\webdriver.py\u001b[0m in \u001b[0;36mexecute\u001b[1;34m(self, driver_command, params)\u001b[0m\n\u001b[0;32m    438\u001b[0m         \u001b[0mresponse\u001b[0m \u001b[1;33m=\u001b[0m \u001b[0mself\u001b[0m\u001b[1;33m.\u001b[0m\u001b[0mcommand_executor\u001b[0m\u001b[1;33m.\u001b[0m\u001b[0mexecute\u001b[0m\u001b[1;33m(\u001b[0m\u001b[0mdriver_command\u001b[0m\u001b[1;33m,\u001b[0m \u001b[0mparams\u001b[0m\u001b[1;33m)\u001b[0m\u001b[1;33m\u001b[0m\u001b[1;33m\u001b[0m\u001b[0m\n\u001b[0;32m    439\u001b[0m         \u001b[1;32mif\u001b[0m \u001b[0mresponse\u001b[0m\u001b[1;33m:\u001b[0m\u001b[1;33m\u001b[0m\u001b[1;33m\u001b[0m\u001b[0m\n\u001b[1;32m--> 440\u001b[1;33m             \u001b[0mself\u001b[0m\u001b[1;33m.\u001b[0m\u001b[0merror_handler\u001b[0m\u001b[1;33m.\u001b[0m\u001b[0mcheck_response\u001b[0m\u001b[1;33m(\u001b[0m\u001b[0mresponse\u001b[0m\u001b[1;33m)\u001b[0m\u001b[1;33m\u001b[0m\u001b[1;33m\u001b[0m\u001b[0m\n\u001b[0m\u001b[0;32m    441\u001b[0m             \u001b[0mresponse\u001b[0m\u001b[1;33m[\u001b[0m\u001b[1;34m\"value\"\u001b[0m\u001b[1;33m]\u001b[0m \u001b[1;33m=\u001b[0m \u001b[0mself\u001b[0m\u001b[1;33m.\u001b[0m\u001b[0m_unwrap_value\u001b[0m\u001b[1;33m(\u001b[0m\u001b[0mresponse\u001b[0m\u001b[1;33m.\u001b[0m\u001b[0mget\u001b[0m\u001b[1;33m(\u001b[0m\u001b[1;34m\"value\"\u001b[0m\u001b[1;33m,\u001b[0m \u001b[1;32mNone\u001b[0m\u001b[1;33m)\u001b[0m\u001b[1;33m)\u001b[0m\u001b[1;33m\u001b[0m\u001b[1;33m\u001b[0m\u001b[0m\n\u001b[0;32m    442\u001b[0m             \u001b[1;32mreturn\u001b[0m \u001b[0mresponse\u001b[0m\u001b[1;33m\u001b[0m\u001b[1;33m\u001b[0m\u001b[0m\n",
      "\u001b[1;32mc:\\Users\\Lorenzo\\anaconda3\\ANACONDA\\lib\\site-packages\\selenium\\webdriver\\remote\\errorhandler.py\u001b[0m in \u001b[0;36mcheck_response\u001b[1;34m(self, response)\u001b[0m\n\u001b[0;32m    243\u001b[0m                 \u001b[0malert_text\u001b[0m \u001b[1;33m=\u001b[0m \u001b[0mvalue\u001b[0m\u001b[1;33m[\u001b[0m\u001b[1;34m\"alert\"\u001b[0m\u001b[1;33m]\u001b[0m\u001b[1;33m.\u001b[0m\u001b[0mget\u001b[0m\u001b[1;33m(\u001b[0m\u001b[1;34m\"text\"\u001b[0m\u001b[1;33m)\u001b[0m\u001b[1;33m\u001b[0m\u001b[1;33m\u001b[0m\u001b[0m\n\u001b[0;32m    244\u001b[0m             \u001b[1;32mraise\u001b[0m \u001b[0mexception_class\u001b[0m\u001b[1;33m(\u001b[0m\u001b[0mmessage\u001b[0m\u001b[1;33m,\u001b[0m \u001b[0mscreen\u001b[0m\u001b[1;33m,\u001b[0m \u001b[0mstacktrace\u001b[0m\u001b[1;33m,\u001b[0m \u001b[0malert_text\u001b[0m\u001b[1;33m)\u001b[0m  \u001b[1;31m# type: ignore[call-arg]  # mypy is not smart enough here\u001b[0m\u001b[1;33m\u001b[0m\u001b[1;33m\u001b[0m\u001b[0m\n\u001b[1;32m--> 245\u001b[1;33m         \u001b[1;32mraise\u001b[0m \u001b[0mexception_class\u001b[0m\u001b[1;33m(\u001b[0m\u001b[0mmessage\u001b[0m\u001b[1;33m,\u001b[0m \u001b[0mscreen\u001b[0m\u001b[1;33m,\u001b[0m \u001b[0mstacktrace\u001b[0m\u001b[1;33m)\u001b[0m\u001b[1;33m\u001b[0m\u001b[1;33m\u001b[0m\u001b[0m\n\u001b[0m",
      "\u001b[1;31mNoSuchElementException\u001b[0m: Message: no such element: Unable to locate element: {\"method\":\"xpath\",\"selector\":\"//*[@id=\"pa-agnivade\"]\"}\n  (Session info: chrome=112.0.5615.138)\nStacktrace:\nBacktrace:\n\tGetHandleVerifier [0x002ADCE3+50899]\n\t(No symbol) [0x0023E111]\n\t(No symbol) [0x00145588]\n\t(No symbol) [0x001708F9]\n\t(No symbol) [0x00170AFB]\n\t(No symbol) [0x0019F902]\n\t(No symbol) [0x0018B944]\n\t(No symbol) [0x0019E01C]\n\t(No symbol) [0x0018B6F6]\n\t(No symbol) [0x00167708]\n\t(No symbol) [0x0016886D]\n\tGetHandleVerifier [0x00513EAE+2566302]\n\tGetHandleVerifier [0x005492B1+2784417]\n\tGetHandleVerifier [0x0054327C+2759788]\n\tGetHandleVerifier [0x00345740+672048]\n\t(No symbol) [0x00248872]\n\t(No symbol) [0x002441C8]\n\t(No symbol) [0x002442AB]\n\t(No symbol) [0x002371B7]\n\tBaseThreadInitThunk [0x75F67D49+25]\n\tRtlInitializeExceptionChain [0x7737B74B+107]\n\tRtlClearBits [0x7737B6CF+191]\n\t(No symbol) [0x00000000]\n"
     ]
    }
   ],
   "source": [
    "devel = []\n",
    "box = driver.find_element(By.XPATH, '//*[@id=\"pa-agnivade\"]').text #hay que hacer un split.\n",
    "devel.append(box)\n",
    "devel "
   ]
  },
  {
   "cell_type": "code",
   "execution_count": null,
   "metadata": {},
   "outputs": [
    {
     "data": {
      "text/plain": [
       "['Agniva De Sarker', 'agnivade']"
      ]
     },
     "execution_count": 11,
     "metadata": {},
     "output_type": "execute_result"
    }
   ],
   "source": [
    "devel1= []\n",
    "box1 = driver.find_element(By.XPATH, '//*[@id=\"pa-agnivade\"]').text.split('\\n')\n",
    "devel1.append(box1[1]) \n",
    "devel1.append(box1[2])    #Cojo el segundo y tercer elementos de la lista que son los que me interesan rascar.\n",
    "devel1                    #Bien, ahora hay que hacer un bucle para rascar a todos los developers."
   ]
  },
  {
   "cell_type": "code",
   "execution_count": null,
   "metadata": {},
   "outputs": [
    {
     "data": {
      "text/plain": [
       "['gventuri / pandas-ai',\n",
       " 'mishalhossin / Discord-Chatbot-Gpt4Free',\n",
       " 'richardyc / Chrome-GPT',\n",
       " 'replit / ReplitLM',\n",
       " 'imClumsyPanda / langchain-ChatGLM',\n",
       " 'bregman-arie / devops-exercises',\n",
       " 'ymcui / Chinese-LLaMA-Alpaca',\n",
       " 'THUDM / ChatGLM-6B',\n",
       " 'microsoft / DeepSpeed',\n",
       " 'abertsch72 / unlimiformer',\n",
       " 'furrysalamander / rubedo',\n",
       " 'xtekky / chatgpt-clone',\n",
       " 'X-PLUG / mPLUG-Owl',\n",
       " 'facebookresearch / AnimatedDrawings',\n",
       " 'AtsushiSakai / PythonRobotics',\n",
       " 'Lightning-AI / lightning',\n",
       " 'apache / tvm',\n",
       " 'lm-sys / FastChat',\n",
       " 'mosaicml / diffusion',\n",
       " 'h2oai / h2ogpt',\n",
       " 'young-geng / EasyLM',\n",
       " 'jasperan / whatsapp-osint',\n",
       " 'openai / gym',\n",
       " 'THUDM / GLM-130B',\n",
       " 'open-mmlab / mmdetection']"
      ]
     },
     "execution_count": 17,
     "metadata": {},
     "output_type": "execute_result"
    }
   ],
   "source": [
    "developers = []\n",
    "bigbox = driver.find_elements(By.CLASS_NAME, \"h3.lh-condensed\") #Aqui no puedo hacer .text porque hay mas de un elemento.\n",
    "#Me ha falldo al principio por no poner time sleep, a tener en cuenta.\n",
    "for e in bigbox:\n",
    "    developers.append(e.text)\n",
    "developers"
   ]
  },
  {
   "attachments": {},
   "cell_type": "markdown",
   "metadata": {},
   "source": [
    "#### Display the trending Python repositories in GitHub\n",
    "\n",
    "The steps to solve this problem is similar to the previous one except that you need to find out the repository names instead of developer names."
   ]
  },
  {
   "cell_type": "code",
   "execution_count": null,
   "metadata": {},
   "outputs": [],
   "source": [
    "# This is the url you will scrape in this exercise\n",
    "url = 'https://github.com/trending/python?since=daily'"
   ]
  },
  {
   "cell_type": "code",
   "execution_count": null,
   "metadata": {},
   "outputs": [],
   "source": [
    "driver.get(url)\n",
    "time.sleep(1)"
   ]
  },
  {
   "cell_type": "code",
   "execution_count": null,
   "metadata": {},
   "outputs": [
    {
     "data": {
      "text/plain": [
       "['gventuri / pandas-ai',\n",
       " 'mishalhossin / Discord-Chatbot-Gpt4Free',\n",
       " 'richardyc / Chrome-GPT',\n",
       " 'replit / ReplitLM',\n",
       " 'imClumsyPanda / langchain-ChatGLM',\n",
       " 'bregman-arie / devops-exercises',\n",
       " 'ymcui / Chinese-LLaMA-Alpaca',\n",
       " 'THUDM / ChatGLM-6B',\n",
       " 'microsoft / DeepSpeed',\n",
       " 'abertsch72 / unlimiformer',\n",
       " 'furrysalamander / rubedo',\n",
       " 'xtekky / chatgpt-clone',\n",
       " 'X-PLUG / mPLUG-Owl',\n",
       " 'facebookresearch / AnimatedDrawings',\n",
       " 'AtsushiSakai / PythonRobotics',\n",
       " 'Lightning-AI / lightning',\n",
       " 'apache / tvm',\n",
       " 'lm-sys / FastChat',\n",
       " 'mosaicml / diffusion',\n",
       " 'h2oai / h2ogpt',\n",
       " 'young-geng / EasyLM',\n",
       " 'jasperan / whatsapp-osint',\n",
       " 'openai / gym',\n",
       " 'THUDM / GLM-130B',\n",
       " 'open-mmlab / mmdetection']"
      ]
     },
     "execution_count": 22,
     "metadata": {},
     "output_type": "execute_result"
    }
   ],
   "source": [
    "py_repos = []\n",
    "clase = driver.find_elements(By.CLASS_NAME, \"h3.lh-condensed\")\n",
    "for e in clase:\n",
    "    py_repos.append(e.text)\n",
    "py_repos"
   ]
  },
  {
   "attachments": {},
   "cell_type": "markdown",
   "metadata": {},
   "source": [
    "#### Display all the image links from Walt Disney wikipedia page"
   ]
  },
  {
   "cell_type": "code",
   "execution_count": null,
   "metadata": {},
   "outputs": [],
   "source": [
    "# This is the url you will scrape in this exercise\n",
    "url = 'https://en.wikipedia.org/wiki/Walt_Disney'"
   ]
  },
  {
   "cell_type": "code",
   "execution_count": null,
   "metadata": {},
   "outputs": [],
   "source": [
    "driver.get(url)\n",
    "time.sleep(1)"
   ]
  },
  {
   "cell_type": "code",
   "execution_count": null,
   "metadata": {},
   "outputs": [
    {
     "data": {
      "text/plain": [
       "['https://www.wikilovesearth.es/',\n",
       " 'https://en.wikipedia.org/wiki/File:Walt_Disney_1946.JPG',\n",
       " 'https://en.wikipedia.org/wiki/File:Walt_Disney_1942_signature.svg',\n",
       " 'https://en.wikipedia.org/wiki/File:Walt_Disney_Birthplace_Exterior_Hermosa_Chicago_Illinois.jpg',\n",
       " 'https://en.wikipedia.org/wiki/File:Walt_Disney_envelope_ca._1921.jpg',\n",
       " 'https://en.wikipedia.org/wiki/File:Trolley_Troubles_poster.jpg',\n",
       " 'https://en.wikipedia.org/wiki/File:Steamboat-willie.jpg',\n",
       " 'https://en.wikipedia.org/wiki/File:Walt_Disney_1935.jpg',\n",
       " 'https://en.wikipedia.org/wiki/File:Walt_Disney_Snow_white_1937_trailer_screenshot_(13).jpg',\n",
       " 'https://en.wikipedia.org/wiki/File:Disney_drawing_goofy.jpg',\n",
       " 'https://en.wikipedia.org/wiki/File:WaltDisneyplansDisneylandDec1954.jpg',\n",
       " 'https://en.wikipedia.org/wiki/File:Walt_disney_portrait_right.jpg',\n",
       " 'https://en.wikipedia.org/wiki/File:Walt_Disney_Grave.JPG',\n",
       " 'https://en.wikipedia.org/wiki/File:Roy_O._Disney_with_Company_at_Press_Conference.jpg',\n",
       " 'https://en.wikipedia.org/wiki/File:DisneySchiphol1951.jpg',\n",
       " 'https://en.wikipedia.org/wiki/File:Disney1968.jpg',\n",
       " 'https://en.wikipedia.org/wiki/File:Disney_Oscar_1953_(cropped).jpg',\n",
       " 'https://en.wikipedia.org/wiki/File:Disneyland_Resort_logo.svg',\n",
       " 'https://en.wikipedia.org/wiki/File:Animation_disc.svg',\n",
       " 'https://en.wikipedia.org/wiki/File:Magic_Kingdom_castle.jpg',\n",
       " 'https://en.wikipedia.org/wiki/File:Blank_television_set.svg']"
      ]
     },
     "execution_count": 28,
     "metadata": {},
     "output_type": "execute_result"
    }
   ],
   "source": [
    "img_urls = []\n",
    "clase1 = driver.find_elements(By.CLASS_NAME, \"image\")\n",
    "for e in clase1:\n",
    "    img_urls.append(e.get_attribute(\"href\")) # coger el atributo que sea href, es decir un link web o url.\n",
    "img_urls"
   ]
  },
  {
   "attachments": {},
   "cell_type": "markdown",
   "metadata": {},
   "source": [
    "#### Retrieve an arbitary Wikipedia page of \"Python\" and create a list of links on that page"
   ]
  },
  {
   "cell_type": "code",
   "execution_count": null,
   "metadata": {},
   "outputs": [],
   "source": [
    "# This is the url you will scrape in this exercise\n",
    "url ='https://en.wikipedia.org/wiki/Python' \n",
    "url = 'https://en.wikipedia.org/wiki/Pythonidae'"
   ]
  },
  {
   "cell_type": "code",
   "execution_count": null,
   "metadata": {},
   "outputs": [],
   "source": [
    "driver.get(url)\n",
    "time.sleep(1)"
   ]
  },
  {
   "cell_type": "code",
   "execution_count": null,
   "metadata": {},
   "outputs": [
    {
     "data": {
      "text/plain": [
       "[None]"
      ]
     },
     "execution_count": 34,
     "metadata": {},
     "output_type": "execute_result"
    }
   ],
   "source": [
    "links = []\n",
    "cajon = driver.find_elements(By.CLASS_NAME, \"mw-parser-output\")\n",
    "for e in cajon:\n",
    "    links.append(e.get_attribute('href'))\n",
    "links"
   ]
  },
  {
   "attachments": {},
   "cell_type": "markdown",
   "metadata": {},
   "source": [
    "#### Number of Titles that have changed in the United States Code since its last release point "
   ]
  },
  {
   "cell_type": "code",
   "execution_count": null,
   "metadata": {},
   "outputs": [],
   "source": [
    "# This is the url you will scrape in this exercise\n",
    "url = 'http://uscode.house.gov/download/download.shtml'"
   ]
  },
  {
   "cell_type": "code",
   "execution_count": null,
   "metadata": {},
   "outputs": [],
   "source": [
    "driver.get(url)\n",
    "time.sleep(1)"
   ]
  },
  {
   "cell_type": "code",
   "execution_count": null,
   "metadata": {},
   "outputs": [
    {
     "data": {
      "text/plain": [
       "['Title 1 - General Provisions ٭',\n",
       " 'Title 2 - The Congress',\n",
       " 'Title 3 - The President ٭',\n",
       " 'Title 5 - Government Organization and Employees ٭',\n",
       " 'Title 6 - Domestic Security',\n",
       " 'Title 8 - Aliens and Nationality',\n",
       " 'Title 10 - Armed Forces ٭',\n",
       " 'Title 12 - Banks and Banking',\n",
       " 'Title 14 - Coast Guard ٭',\n",
       " 'Title 15 - Commerce and Trade',\n",
       " 'Title 16 - Conservation',\n",
       " 'Title 17 - Copyrights ٭',\n",
       " 'Title 18 - Crimes and Criminal Procedure ٭',\n",
       " 'Title 20 - Education',\n",
       " 'Title 21 - Food and Drugs',\n",
       " 'Title 22 - Foreign Relations and Intercourse',\n",
       " 'Title 25 - Indians',\n",
       " 'Title 26 - Internal Revenue Code',\n",
       " 'Title 28 - Judiciary and Judicial Procedure ٭',\n",
       " 'Title 29 - Labor',\n",
       " 'Title 31 - Money and Finance ٭',\n",
       " 'Title 32 - National Guard ٭',\n",
       " 'Title 33 - Navigation and Navigable Waters',\n",
       " 'Title 34 - Crime Control and Law Enforcement',\n",
       " 'Title 36 - Patriotic and National Observances, Ceremonies, and Organizations ٭',\n",
       " 'Title 37 - Pay and Allowances of the Uniformed Services ٭',\n",
       " \"Title 38 - Veterans' Benefits ٭\",\n",
       " 'Title 40 - Public Buildings, Property, and Works ٭',\n",
       " 'Title 41 - Public Contracts ٭',\n",
       " 'Title 42 - The Public Health and Welfare',\n",
       " 'Title 43 - Public Lands',\n",
       " 'Title 44 - Public Printing and Documents ٭',\n",
       " 'Title 46 - Shipping ٭',\n",
       " 'Title 48 - Territories and Insular Possessions',\n",
       " 'Title 49 - Transportation ٭',\n",
       " 'Title 50 - War and National Defense',\n",
       " 'Title 51 - National and Commercial Space Programs ٭']"
      ]
     },
     "execution_count": 50,
     "metadata": {},
     "output_type": "execute_result"
    }
   ],
   "source": [
    "caja = driver.find_elements(By.CLASS_NAME, \"usctitlechanged\")\n",
    "changed_titles = []\n",
    "for e in caja:\n",
    "    changed_titles.append(e.text)\n",
    "changed_titles #Lista de titulos que han cambiado\n"
   ]
  },
  {
   "cell_type": "code",
   "execution_count": null,
   "metadata": {},
   "outputs": [
    {
     "data": {
      "text/plain": [
       "37"
      ]
     },
     "execution_count": 51,
     "metadata": {},
     "output_type": "execute_result"
    }
   ],
   "source": [
    "len(changed_titles) #Numero de titulos que han cambiado"
   ]
  },
  {
   "attachments": {},
   "cell_type": "markdown",
   "metadata": {},
   "source": [
    "#### A Python list with the top ten FBI's Most Wanted names "
   ]
  },
  {
   "cell_type": "code",
   "execution_count": null,
   "metadata": {},
   "outputs": [],
   "source": [
    "# This is the url you will scrape in this exercise\n",
    "url = 'https://www.fbi.gov/wanted/topten'"
   ]
  },
  {
   "cell_type": "code",
   "execution_count": null,
   "metadata": {},
   "outputs": [],
   "source": [
    "driver.get(url)\n",
    "time.sleep(1)"
   ]
  },
  {
   "cell_type": "code",
   "execution_count": null,
   "metadata": {},
   "outputs": [
    {
     "data": {
      "text/plain": [
       "['YULAN ADONAY ARCHAGA CARIAS',\n",
       " 'BHADRESHKUMAR CHETANBHAI PATEL',\n",
       " 'WILVER VILLEGAS-PALOMINO',\n",
       " 'ALEJANDRO ROSALES CASTILLO',\n",
       " 'RUJA IGNATOVA',\n",
       " 'ARNOLDO JIMENEZ',\n",
       " 'OMAR ALEXANDER CARDENAS',\n",
       " 'ALEXIS FLORES',\n",
       " 'MICHAEL JAMES PRATT',\n",
       " 'JOSE RODOLFO VILLARREAL-HERNANDEZ']"
      ]
     },
     "execution_count": 58,
     "metadata": {},
     "output_type": "execute_result"
    }
   ],
   "source": [
    "caja = driver.find_elements(By.CLASS_NAME, \"title\")\n",
    "top10 = []\n",
    "for e in caja:\n",
    "    top10.append(e.text)\n",
    "top_10 = top10[1:]   #El primero es un titulo con mismo clasname pero no es lo que buscamos\n",
    "top_10"
   ]
  },
  {
   "attachments": {},
   "cell_type": "markdown",
   "metadata": {},
   "source": [
    "####  20 latest earthquakes info (date, time, latitude, longitude and region name) by the EMSC as a pandas dataframe"
   ]
  },
  {
   "cell_type": "code",
   "execution_count": null,
   "metadata": {},
   "outputs": [],
   "source": [
    "# This is the url you will scrape in this exercise\n",
    "url = 'https://www.emsc-csem.org/Earthquake/'"
   ]
  },
  {
   "cell_type": "code",
   "execution_count": null,
   "metadata": {},
   "outputs": [],
   "source": [
    "driver.get(url)\n",
    "time.sleep(1)"
   ]
  },
  {
   "cell_type": "code",
   "execution_count": null,
   "metadata": {},
   "outputs": [],
   "source": [
    "tabla = driver.find_element(By.CSS_SELECTOR, \"#tbody\")\n",
    "filas = tabla.find_elements(By.TAG_NAME, \"tr\")\n",
    "fecha_hora = []\n",
    "for e in filas:\n",
    "    fecha_hora.append(e.find_element(By.CLASS_NAME, 'tabev6').text.split('\\n'))\n",
    "latitud = []\n",
    "for e in filas:\n",
    "    latitud.append(str(e.find_elements(By.CLASS_NAME, 'tabev1')[0].text+' '+e.find_elements(By.CLASS_NAME, 'tabev2')[0].text.strip() ))\n",
    "longitud = []\n",
    "for e in filas:\n",
    "    longitud.append(str(e.find_elements(By.CLASS_NAME, 'tabev1')[1].text+' '+e.find_elements(By.CLASS_NAME, 'tabev2')[1].text.strip() ))\n",
    "region = []\n",
    "for e in filas:\n",
    "    region.append((e.find_element(By.CLASS_NAME, \"tb_region\")).text)"
   ]
  },
  {
   "cell_type": "code",
   "execution_count": null,
   "metadata": {},
   "outputs": [
    {
     "data": {
      "text/html": [
       "<div>\n",
       "<style scoped>\n",
       "    .dataframe tbody tr th:only-of-type {\n",
       "        vertical-align: middle;\n",
       "    }\n",
       "\n",
       "    .dataframe tbody tr th {\n",
       "        vertical-align: top;\n",
       "    }\n",
       "\n",
       "    .dataframe thead th {\n",
       "        text-align: right;\n",
       "    }\n",
       "</style>\n",
       "<table border=\"1\" class=\"dataframe\">\n",
       "  <thead>\n",
       "    <tr style=\"text-align: right;\">\n",
       "      <th></th>\n",
       "      <th>fecha / hora</th>\n",
       "      <th>latitud</th>\n",
       "      <th>longitud</th>\n",
       "      <th>region</th>\n",
       "    </tr>\n",
       "  </thead>\n",
       "  <tbody>\n",
       "    <tr>\n",
       "      <th>0</th>\n",
       "      <td>[2023-05-06   16:59:34.0, 23min ago]</td>\n",
       "      <td>30.25  S</td>\n",
       "      <td>177.83  W</td>\n",
       "      <td>KERMADEC ISLANDS, NEW ZEALAND</td>\n",
       "    </tr>\n",
       "    <tr>\n",
       "      <th>1</th>\n",
       "      <td>[2023-05-06   16:55:01.0, 28min ago]</td>\n",
       "      <td>36.34  S</td>\n",
       "      <td>71.61  W</td>\n",
       "      <td>MAULE, CHILE</td>\n",
       "    </tr>\n",
       "    <tr>\n",
       "      <th>2</th>\n",
       "      <td>[2023-05-06   16:43:22.0, 39min ago]</td>\n",
       "      <td>15.02  N</td>\n",
       "      <td>96.61  W</td>\n",
       "      <td>OFFSHORE OAXACA, MEXICO</td>\n",
       "    </tr>\n",
       "    <tr>\n",
       "      <th>3</th>\n",
       "      <td>[2023-05-06   16:42:57.0, 40min ago]</td>\n",
       "      <td>32.28  S</td>\n",
       "      <td>71.64  W</td>\n",
       "      <td>OFFSHORE VALPARAISO, CHILE</td>\n",
       "    </tr>\n",
       "    <tr>\n",
       "      <th>4</th>\n",
       "      <td>[2023-05-06   16:29:43.2, 53min ago]</td>\n",
       "      <td>37.66  N</td>\n",
       "      <td>36.56  E</td>\n",
       "      <td>CENTRAL TURKEY</td>\n",
       "    </tr>\n",
       "    <tr>\n",
       "      <th>5</th>\n",
       "      <td>[2023-05-06   16:29:10.9, 54min ago]</td>\n",
       "      <td>19.25  N</td>\n",
       "      <td>155.41  W</td>\n",
       "      <td>ISLAND OF HAWAII, HAWAII</td>\n",
       "    </tr>\n",
       "    <tr>\n",
       "      <th>6</th>\n",
       "      <td>[2023-05-06   16:26:50.8, 56min ago]</td>\n",
       "      <td>38.88  N</td>\n",
       "      <td>26.93  E</td>\n",
       "      <td>NEAR THE COAST OF WESTERN TURKEY</td>\n",
       "    </tr>\n",
       "    <tr>\n",
       "      <th>7</th>\n",
       "      <td>[2023-05-06   16:26:29.9, 56min ago]</td>\n",
       "      <td>17.93  N</td>\n",
       "      <td>66.95  W</td>\n",
       "      <td>PUERTO RICO REGION</td>\n",
       "    </tr>\n",
       "    <tr>\n",
       "      <th>8</th>\n",
       "      <td>[2023-05-06   16:16:55.0, 1hr 06min ago]</td>\n",
       "      <td>19.05  N</td>\n",
       "      <td>107.49  W</td>\n",
       "      <td>OFF COAST OF JALISCO, MEXICO</td>\n",
       "    </tr>\n",
       "    <tr>\n",
       "      <th>9</th>\n",
       "      <td>[2023-05-06   16:14:04.0, 1hr 09min ago]</td>\n",
       "      <td>36.22  S</td>\n",
       "      <td>71.60  W</td>\n",
       "      <td>MAULE, CHILE</td>\n",
       "    </tr>\n",
       "    <tr>\n",
       "      <th>10</th>\n",
       "      <td>[2023-05-06   16:06:27.1, 1hr 16min ago]</td>\n",
       "      <td>37.24  N</td>\n",
       "      <td>16.15  E</td>\n",
       "      <td>IONIAN SEA</td>\n",
       "    </tr>\n",
       "    <tr>\n",
       "      <th>11</th>\n",
       "      <td>[2023-05-06   16:05:32.7, 1hr 17min ago]</td>\n",
       "      <td>18.05  N</td>\n",
       "      <td>68.42  W</td>\n",
       "      <td>DOMINICAN REPUBLIC REGION</td>\n",
       "    </tr>\n",
       "    <tr>\n",
       "      <th>12</th>\n",
       "      <td>[2023-05-06   15:58:27.2, 1hr 24min ago]</td>\n",
       "      <td>52.32  N</td>\n",
       "      <td>159.49  E</td>\n",
       "      <td>OFF EAST COAST OF KAMCHATKA</td>\n",
       "    </tr>\n",
       "    <tr>\n",
       "      <th>13</th>\n",
       "      <td>[2023-05-06   15:47:30.0, 1hr 35min ago]</td>\n",
       "      <td>9.63  N</td>\n",
       "      <td>84.65  W</td>\n",
       "      <td>COSTA RICA</td>\n",
       "    </tr>\n",
       "    <tr>\n",
       "      <th>14</th>\n",
       "      <td>[2023-05-06   15:22:31.0, 2hr 00min ago]</td>\n",
       "      <td>14.00  N</td>\n",
       "      <td>120.27  E</td>\n",
       "      <td>LUZON, PHILIPPINES</td>\n",
       "    </tr>\n",
       "    <tr>\n",
       "      <th>15</th>\n",
       "      <td>[2023-05-06   15:20:54.7, 2hr 02min ago]</td>\n",
       "      <td>19.01  N</td>\n",
       "      <td>65.90  W</td>\n",
       "      <td>PUERTO RICO REGION</td>\n",
       "    </tr>\n",
       "    <tr>\n",
       "      <th>16</th>\n",
       "      <td>[2023-05-06   15:11:10.0, 2hr 12min ago]</td>\n",
       "      <td>8.67  S</td>\n",
       "      <td>116.06  E</td>\n",
       "      <td>LOMBOK REGION, INDONESIA</td>\n",
       "    </tr>\n",
       "    <tr>\n",
       "      <th>17</th>\n",
       "      <td>[2023-05-06   15:06:58.8, 2hr 16min ago]</td>\n",
       "      <td>38.22  N</td>\n",
       "      <td>37.79  E</td>\n",
       "      <td>CENTRAL TURKEY</td>\n",
       "    </tr>\n",
       "    <tr>\n",
       "      <th>18</th>\n",
       "      <td>[2023-05-06   15:01:29.0, 2hr 21min ago]</td>\n",
       "      <td>38.09  S</td>\n",
       "      <td>73.23  W</td>\n",
       "      <td>BIO-BIO, CHILE</td>\n",
       "    </tr>\n",
       "    <tr>\n",
       "      <th>19</th>\n",
       "      <td>[2023-05-06   14:54:30.0, 2hr 28min ago]</td>\n",
       "      <td>37.60  N</td>\n",
       "      <td>137.30  E</td>\n",
       "      <td>NEAR WEST COAST OF HONSHU, JAPAN</td>\n",
       "    </tr>\n",
       "    <tr>\n",
       "      <th>20</th>\n",
       "      <td>[2023-05-06   14:52:16.5, 2hr 31min ago]</td>\n",
       "      <td>38.06  N</td>\n",
       "      <td>38.40  E</td>\n",
       "      <td>EASTERN TURKEY</td>\n",
       "    </tr>\n",
       "    <tr>\n",
       "      <th>21</th>\n",
       "      <td>[2023-05-06   14:50:20.1, 2hr 32min ago]</td>\n",
       "      <td>38.68  N</td>\n",
       "      <td>39.85  E</td>\n",
       "      <td>EASTERN TURKEY</td>\n",
       "    </tr>\n",
       "    <tr>\n",
       "      <th>22</th>\n",
       "      <td>[2023-05-06   14:47:14.0, 2hr 36min ago]</td>\n",
       "      <td>29.05  S</td>\n",
       "      <td>71.49  W</td>\n",
       "      <td>ATACAMA, CHILE</td>\n",
       "    </tr>\n",
       "    <tr>\n",
       "      <th>23</th>\n",
       "      <td>[2023-05-06   14:46:25.5, 2hr 36min ago]</td>\n",
       "      <td>41.54  N</td>\n",
       "      <td>19.44  E</td>\n",
       "      <td>ADRIATIC SEA</td>\n",
       "    </tr>\n",
       "    <tr>\n",
       "      <th>24</th>\n",
       "      <td>[2023-05-06   14:45:37.1, 2hr 37min ago]</td>\n",
       "      <td>34.02  N</td>\n",
       "      <td>35.74  E</td>\n",
       "      <td>LEBANON - SYRIA REGION</td>\n",
       "    </tr>\n",
       "    <tr>\n",
       "      <th>25</th>\n",
       "      <td>[2023-05-06   14:43:25.7, 2hr 39min ago]</td>\n",
       "      <td>34.97  N</td>\n",
       "      <td>23.56  E</td>\n",
       "      <td>CRETE, GREECE</td>\n",
       "    </tr>\n",
       "    <tr>\n",
       "      <th>26</th>\n",
       "      <td>[2023-05-06   14:42:47.0, 2hr 40min ago]</td>\n",
       "      <td>0.97  N</td>\n",
       "      <td>120.90  E</td>\n",
       "      <td>MINAHASA, SULAWESI, INDONESIA</td>\n",
       "    </tr>\n",
       "    <tr>\n",
       "      <th>27</th>\n",
       "      <td>[2023-05-06   14:42:35.8, 2hr 40min ago]</td>\n",
       "      <td>32.68  N</td>\n",
       "      <td>115.53  W</td>\n",
       "      <td>MEXICALI-CALEXICO AREA, CALIF.</td>\n",
       "    </tr>\n",
       "    <tr>\n",
       "      <th>28</th>\n",
       "      <td>[2023-05-06   14:41:30.8, 2hr 41min ago]</td>\n",
       "      <td>32.70  N</td>\n",
       "      <td>115.54  W</td>\n",
       "      <td>MEXICALI-CALEXICO AREA, CALIF.</td>\n",
       "    </tr>\n",
       "    <tr>\n",
       "      <th>29</th>\n",
       "      <td>[2023-05-06   14:33:04.9, 2hr 50min ago]</td>\n",
       "      <td>19.74  N</td>\n",
       "      <td>156.00  W</td>\n",
       "      <td>HAWAII REGION, HAWAII</td>\n",
       "    </tr>\n",
       "    <tr>\n",
       "      <th>30</th>\n",
       "      <td>[2023-05-06   14:30:18.3, 2hr 53min ago]</td>\n",
       "      <td>4.63  S</td>\n",
       "      <td>151.20  E</td>\n",
       "      <td>NEW BRITAIN REGION, P.N.G.</td>\n",
       "    </tr>\n",
       "    <tr>\n",
       "      <th>31</th>\n",
       "      <td>[2023-05-06   14:19:43.5, 3hr 03min ago]</td>\n",
       "      <td>36.03  N</td>\n",
       "      <td>6.44  W</td>\n",
       "      <td>STRAIT OF GIBRALTAR</td>\n",
       "    </tr>\n",
       "    <tr>\n",
       "      <th>32</th>\n",
       "      <td>[2023-05-06   14:15:11.8, 3hr 08min ago]</td>\n",
       "      <td>32.71  N</td>\n",
       "      <td>115.55  W</td>\n",
       "      <td>SOUTHERN CALIFORNIA</td>\n",
       "    </tr>\n",
       "    <tr>\n",
       "      <th>33</th>\n",
       "      <td>[2023-05-06   14:03:19.7, 3hr 20min ago]</td>\n",
       "      <td>38.76  N</td>\n",
       "      <td>36.94  E</td>\n",
       "      <td>CENTRAL TURKEY</td>\n",
       "    </tr>\n",
       "    <tr>\n",
       "      <th>34</th>\n",
       "      <td>[2023-05-06   13:55:23.9, 3hr 27min ago]</td>\n",
       "      <td>36.00  N</td>\n",
       "      <td>6.48  W</td>\n",
       "      <td>STRAIT OF GIBRALTAR</td>\n",
       "    </tr>\n",
       "    <tr>\n",
       "      <th>35</th>\n",
       "      <td>[2023-05-06   13:51:04.0, 3hr 32min ago]</td>\n",
       "      <td>3.38  S</td>\n",
       "      <td>121.78  E</td>\n",
       "      <td>SULAWESI, INDONESIA</td>\n",
       "    </tr>\n",
       "    <tr>\n",
       "      <th>36</th>\n",
       "      <td>[2023-05-06   13:46:57.0, 3hr 36min ago]</td>\n",
       "      <td>8.42  S</td>\n",
       "      <td>119.09  E</td>\n",
       "      <td>FLORES REGION, INDONESIA</td>\n",
       "    </tr>\n",
       "    <tr>\n",
       "      <th>37</th>\n",
       "      <td>[2023-05-06   13:45:59.8, 3hr 37min ago]</td>\n",
       "      <td>19.35  N</td>\n",
       "      <td>155.30  W</td>\n",
       "      <td>ISLAND OF HAWAII, HAWAII</td>\n",
       "    </tr>\n",
       "    <tr>\n",
       "      <th>38</th>\n",
       "      <td>[2023-05-06   13:44:53.0, 3hr 38min ago]</td>\n",
       "      <td>12.56  N</td>\n",
       "      <td>88.01  W</td>\n",
       "      <td>NEAR COAST OF NICARAGUA</td>\n",
       "    </tr>\n",
       "    <tr>\n",
       "      <th>39</th>\n",
       "      <td>[2023-05-06   13:41:58.7, 3hr 41min ago]</td>\n",
       "      <td>38.22  N</td>\n",
       "      <td>37.79  E</td>\n",
       "      <td>CENTRAL TURKEY</td>\n",
       "    </tr>\n",
       "    <tr>\n",
       "      <th>40</th>\n",
       "      <td>[2023-05-06   13:35:26.0, 3hr 47min ago]</td>\n",
       "      <td>21.07  S</td>\n",
       "      <td>68.99  W</td>\n",
       "      <td>TARAPACA, CHILE</td>\n",
       "    </tr>\n",
       "    <tr>\n",
       "      <th>41</th>\n",
       "      <td>[2023-05-06   13:35:06.8, 3hr 48min ago]</td>\n",
       "      <td>31.59  N</td>\n",
       "      <td>104.54  W</td>\n",
       "      <td>WESTERN TEXAS</td>\n",
       "    </tr>\n",
       "    <tr>\n",
       "      <th>42</th>\n",
       "      <td>[2023-05-06   13:34:02.1, 3hr 49min ago]</td>\n",
       "      <td>37.92  N</td>\n",
       "      <td>33.03  E</td>\n",
       "      <td>CENTRAL TURKEY</td>\n",
       "    </tr>\n",
       "    <tr>\n",
       "      <th>43</th>\n",
       "      <td>[2023-05-06   13:22:20.0, 4hr 01min ago]</td>\n",
       "      <td>44.16  N</td>\n",
       "      <td>10.07  E</td>\n",
       "      <td>NORTHERN ITALY</td>\n",
       "    </tr>\n",
       "    <tr>\n",
       "      <th>44</th>\n",
       "      <td>[2023-05-06   13:16:50.3, 4hr 06min ago]</td>\n",
       "      <td>37.92  N</td>\n",
       "      <td>36.31  E</td>\n",
       "      <td>CENTRAL TURKEY</td>\n",
       "    </tr>\n",
       "    <tr>\n",
       "      <th>45</th>\n",
       "      <td>[2023-05-06   12:58:02.6, 4hr 25min ago]</td>\n",
       "      <td>36.50  N</td>\n",
       "      <td>28.84  E</td>\n",
       "      <td>DODECANESE IS.-TURKEY BORDER REG</td>\n",
       "    </tr>\n",
       "    <tr>\n",
       "      <th>46</th>\n",
       "      <td>[2023-05-06   12:56:47.8, 4hr 26min ago]</td>\n",
       "      <td>38.60  N</td>\n",
       "      <td>37.47  E</td>\n",
       "      <td>CENTRAL TURKEY</td>\n",
       "    </tr>\n",
       "    <tr>\n",
       "      <th>47</th>\n",
       "      <td>[2023-05-06   12:47:28.0, 4hr 35min ago]</td>\n",
       "      <td>29.91  S</td>\n",
       "      <td>72.04  W</td>\n",
       "      <td>OFFSHORE COQUIMBO, CHILE</td>\n",
       "    </tr>\n",
       "    <tr>\n",
       "      <th>48</th>\n",
       "      <td>[2023-05-06   12:47:20.5, 4hr 35min ago]</td>\n",
       "      <td>17.91  N</td>\n",
       "      <td>66.87  W</td>\n",
       "      <td>PUERTO RICO REGION</td>\n",
       "    </tr>\n",
       "    <tr>\n",
       "      <th>49</th>\n",
       "      <td>[2023-05-06   12:39:52.0, 4hr 43min ago]</td>\n",
       "      <td>8.90  S</td>\n",
       "      <td>116.90  E</td>\n",
       "      <td>LOMBOK REGION, INDONESIA</td>\n",
       "    </tr>\n",
       "  </tbody>\n",
       "</table>\n",
       "</div>"
      ],
      "text/plain": [
       "                                fecha / hora   latitud   longitud  \\\n",
       "0       [2023-05-06   16:59:34.0, 23min ago]  30.25  S  177.83  W   \n",
       "1       [2023-05-06   16:55:01.0, 28min ago]  36.34  S   71.61  W   \n",
       "2       [2023-05-06   16:43:22.0, 39min ago]  15.02  N   96.61  W   \n",
       "3       [2023-05-06   16:42:57.0, 40min ago]  32.28  S   71.64  W   \n",
       "4       [2023-05-06   16:29:43.2, 53min ago]  37.66  N   36.56  E   \n",
       "5       [2023-05-06   16:29:10.9, 54min ago]  19.25  N  155.41  W   \n",
       "6       [2023-05-06   16:26:50.8, 56min ago]  38.88  N   26.93  E   \n",
       "7       [2023-05-06   16:26:29.9, 56min ago]  17.93  N   66.95  W   \n",
       "8   [2023-05-06   16:16:55.0, 1hr 06min ago]  19.05  N  107.49  W   \n",
       "9   [2023-05-06   16:14:04.0, 1hr 09min ago]  36.22  S   71.60  W   \n",
       "10  [2023-05-06   16:06:27.1, 1hr 16min ago]  37.24  N   16.15  E   \n",
       "11  [2023-05-06   16:05:32.7, 1hr 17min ago]  18.05  N   68.42  W   \n",
       "12  [2023-05-06   15:58:27.2, 1hr 24min ago]  52.32  N  159.49  E   \n",
       "13  [2023-05-06   15:47:30.0, 1hr 35min ago]   9.63  N   84.65  W   \n",
       "14  [2023-05-06   15:22:31.0, 2hr 00min ago]  14.00  N  120.27  E   \n",
       "15  [2023-05-06   15:20:54.7, 2hr 02min ago]  19.01  N   65.90  W   \n",
       "16  [2023-05-06   15:11:10.0, 2hr 12min ago]   8.67  S  116.06  E   \n",
       "17  [2023-05-06   15:06:58.8, 2hr 16min ago]  38.22  N   37.79  E   \n",
       "18  [2023-05-06   15:01:29.0, 2hr 21min ago]  38.09  S   73.23  W   \n",
       "19  [2023-05-06   14:54:30.0, 2hr 28min ago]  37.60  N  137.30  E   \n",
       "20  [2023-05-06   14:52:16.5, 2hr 31min ago]  38.06  N   38.40  E   \n",
       "21  [2023-05-06   14:50:20.1, 2hr 32min ago]  38.68  N   39.85  E   \n",
       "22  [2023-05-06   14:47:14.0, 2hr 36min ago]  29.05  S   71.49  W   \n",
       "23  [2023-05-06   14:46:25.5, 2hr 36min ago]  41.54  N   19.44  E   \n",
       "24  [2023-05-06   14:45:37.1, 2hr 37min ago]  34.02  N   35.74  E   \n",
       "25  [2023-05-06   14:43:25.7, 2hr 39min ago]  34.97  N   23.56  E   \n",
       "26  [2023-05-06   14:42:47.0, 2hr 40min ago]   0.97  N  120.90  E   \n",
       "27  [2023-05-06   14:42:35.8, 2hr 40min ago]  32.68  N  115.53  W   \n",
       "28  [2023-05-06   14:41:30.8, 2hr 41min ago]  32.70  N  115.54  W   \n",
       "29  [2023-05-06   14:33:04.9, 2hr 50min ago]  19.74  N  156.00  W   \n",
       "30  [2023-05-06   14:30:18.3, 2hr 53min ago]   4.63  S  151.20  E   \n",
       "31  [2023-05-06   14:19:43.5, 3hr 03min ago]  36.03  N    6.44  W   \n",
       "32  [2023-05-06   14:15:11.8, 3hr 08min ago]  32.71  N  115.55  W   \n",
       "33  [2023-05-06   14:03:19.7, 3hr 20min ago]  38.76  N   36.94  E   \n",
       "34  [2023-05-06   13:55:23.9, 3hr 27min ago]  36.00  N    6.48  W   \n",
       "35  [2023-05-06   13:51:04.0, 3hr 32min ago]   3.38  S  121.78  E   \n",
       "36  [2023-05-06   13:46:57.0, 3hr 36min ago]   8.42  S  119.09  E   \n",
       "37  [2023-05-06   13:45:59.8, 3hr 37min ago]  19.35  N  155.30  W   \n",
       "38  [2023-05-06   13:44:53.0, 3hr 38min ago]  12.56  N   88.01  W   \n",
       "39  [2023-05-06   13:41:58.7, 3hr 41min ago]  38.22  N   37.79  E   \n",
       "40  [2023-05-06   13:35:26.0, 3hr 47min ago]  21.07  S   68.99  W   \n",
       "41  [2023-05-06   13:35:06.8, 3hr 48min ago]  31.59  N  104.54  W   \n",
       "42  [2023-05-06   13:34:02.1, 3hr 49min ago]  37.92  N   33.03  E   \n",
       "43  [2023-05-06   13:22:20.0, 4hr 01min ago]  44.16  N   10.07  E   \n",
       "44  [2023-05-06   13:16:50.3, 4hr 06min ago]  37.92  N   36.31  E   \n",
       "45  [2023-05-06   12:58:02.6, 4hr 25min ago]  36.50  N   28.84  E   \n",
       "46  [2023-05-06   12:56:47.8, 4hr 26min ago]  38.60  N   37.47  E   \n",
       "47  [2023-05-06   12:47:28.0, 4hr 35min ago]  29.91  S   72.04  W   \n",
       "48  [2023-05-06   12:47:20.5, 4hr 35min ago]  17.91  N   66.87  W   \n",
       "49  [2023-05-06   12:39:52.0, 4hr 43min ago]   8.90  S  116.90  E   \n",
       "\n",
       "                               region  \n",
       "0       KERMADEC ISLANDS, NEW ZEALAND  \n",
       "1                        MAULE, CHILE  \n",
       "2             OFFSHORE OAXACA, MEXICO  \n",
       "3          OFFSHORE VALPARAISO, CHILE  \n",
       "4                      CENTRAL TURKEY  \n",
       "5            ISLAND OF HAWAII, HAWAII  \n",
       "6    NEAR THE COAST OF WESTERN TURKEY  \n",
       "7                  PUERTO RICO REGION  \n",
       "8        OFF COAST OF JALISCO, MEXICO  \n",
       "9                        MAULE, CHILE  \n",
       "10                         IONIAN SEA  \n",
       "11          DOMINICAN REPUBLIC REGION  \n",
       "12        OFF EAST COAST OF KAMCHATKA  \n",
       "13                         COSTA RICA  \n",
       "14                 LUZON, PHILIPPINES  \n",
       "15                 PUERTO RICO REGION  \n",
       "16           LOMBOK REGION, INDONESIA  \n",
       "17                     CENTRAL TURKEY  \n",
       "18                     BIO-BIO, CHILE  \n",
       "19   NEAR WEST COAST OF HONSHU, JAPAN  \n",
       "20                     EASTERN TURKEY  \n",
       "21                     EASTERN TURKEY  \n",
       "22                     ATACAMA, CHILE  \n",
       "23                       ADRIATIC SEA  \n",
       "24             LEBANON - SYRIA REGION  \n",
       "25                      CRETE, GREECE  \n",
       "26      MINAHASA, SULAWESI, INDONESIA  \n",
       "27     MEXICALI-CALEXICO AREA, CALIF.  \n",
       "28     MEXICALI-CALEXICO AREA, CALIF.  \n",
       "29              HAWAII REGION, HAWAII  \n",
       "30         NEW BRITAIN REGION, P.N.G.  \n",
       "31                STRAIT OF GIBRALTAR  \n",
       "32                SOUTHERN CALIFORNIA  \n",
       "33                     CENTRAL TURKEY  \n",
       "34                STRAIT OF GIBRALTAR  \n",
       "35                SULAWESI, INDONESIA  \n",
       "36           FLORES REGION, INDONESIA  \n",
       "37           ISLAND OF HAWAII, HAWAII  \n",
       "38            NEAR COAST OF NICARAGUA  \n",
       "39                     CENTRAL TURKEY  \n",
       "40                    TARAPACA, CHILE  \n",
       "41                      WESTERN TEXAS  \n",
       "42                     CENTRAL TURKEY  \n",
       "43                     NORTHERN ITALY  \n",
       "44                     CENTRAL TURKEY  \n",
       "45   DODECANESE IS.-TURKEY BORDER REG  \n",
       "46                     CENTRAL TURKEY  \n",
       "47           OFFSHORE COQUIMBO, CHILE  \n",
       "48                 PUERTO RICO REGION  \n",
       "49           LOMBOK REGION, INDONESIA  "
      ]
     },
     "execution_count": 115,
     "metadata": {},
     "output_type": "execute_result"
    }
   ],
   "source": [
    "tabla = pd.DataFrame()\n",
    "tabla['fecha / hora'] = fecha_hora\n",
    "tabla['latitud'] = latitud\n",
    "tabla['longitud'] = longitud\n",
    "tabla['region'] = region\n",
    "tabla"
   ]
  },
  {
   "attachments": {},
   "cell_type": "markdown",
   "metadata": {},
   "source": [
    "#### Count number of tweets by a given Twitter account."
   ]
  },
  {
   "attachments": {},
   "cell_type": "markdown",
   "metadata": {},
   "source": [
    "You will need to include a ***try/except block*** for account names not found. \n",
    "<br>***Hint:*** the program should count the number of tweets for any provided account"
   ]
  },
  {
   "cell_type": "code",
   "execution_count": 129,
   "metadata": {},
   "outputs": [],
   "source": [
    "# This is the url you will scrape in this exercise \n",
    "# You will need to add the account credentials to this url\n",
    "url = 'https://twitter.com/jjulietamontero'"
   ]
  },
  {
   "cell_type": "code",
   "execution_count": 130,
   "metadata": {},
   "outputs": [],
   "source": [
    "driver.get(url)\n",
    "time.sleep(1)"
   ]
  },
  {
   "cell_type": "code",
   "execution_count": 134,
   "metadata": {},
   "outputs": [
    {
     "data": {
      "text/plain": [
       "'10,3 mil Tweets'"
      ]
     },
     "execution_count": 134,
     "metadata": {},
     "output_type": "execute_result"
    }
   ],
   "source": [
    "num_tweets = driver.find_element(By.CLASS_NAME, \"css-901oao.css-1hf3ou5.r-14j79pv.r-37j5jr.r-n6v787.r-16dba41.r-1cwl3u0.r-bcqeeo.r-qvutc0\").text\n",
    "num_tweets"
   ]
  },
  {
   "attachments": {},
   "cell_type": "markdown",
   "metadata": {},
   "source": [
    "#### Number of followers of a given twitter account"
   ]
  },
  {
   "attachments": {},
   "cell_type": "markdown",
   "metadata": {},
   "source": [
    "You will need to include a ***try/except block*** in case account/s name not found. \n",
    "<br>***Hint:*** the program should count the followers for any provided account"
   ]
  },
  {
   "cell_type": "code",
   "execution_count": 140,
   "metadata": {},
   "outputs": [],
   "source": [
    "# This is the url you will scrape in this exercise \n",
    "# You will need to add the account credentials to this url\n",
    "url = 'https://twitter.com/jjulietamontero'"
   ]
  },
  {
   "cell_type": "code",
   "execution_count": 141,
   "metadata": {},
   "outputs": [],
   "source": [
    "driver.get(url)\n",
    "time.sleep(1)"
   ]
  },
  {
   "cell_type": "code",
   "execution_count": 153,
   "metadata": {},
   "outputs": [
    {
     "data": {
      "text/plain": [
       "'7.045 Seguidores'"
      ]
     },
     "execution_count": 153,
     "metadata": {},
     "output_type": "execute_result"
    }
   ],
   "source": [
    "followers = driver.find_element(By.CSS_SELECTOR, \"#react-root > div > div > div.css-1dbjc4n.r-18u37iz.r-13qz1uu.r-417010 > main > div > div > div > div > div > div:nth-child(3) > div > div > div > div > div.css-1dbjc4n.r-13awgt0.r-18u37iz.r-1w6e6rj > div:nth-child(2) > a\").text\n",
    "followers"
   ]
  },
  {
   "attachments": {},
   "cell_type": "markdown",
   "metadata": {},
   "source": [
    "#### List all language names and number of related articles in the order they appear in wikipedia.org"
   ]
  },
  {
   "cell_type": "code",
   "execution_count": 154,
   "metadata": {},
   "outputs": [],
   "source": [
    "# This is the url you will scrape in this exercise\n",
    "url = 'https://www.wikipedia.org/'"
   ]
  },
  {
   "cell_type": "code",
   "execution_count": 155,
   "metadata": {},
   "outputs": [],
   "source": [
    "driver.get(url)\n",
    "time.sleep(1)"
   ]
  },
  {
   "cell_type": "code",
   "execution_count": 194,
   "metadata": {},
   "outputs": [
    {
     "data": {
      "text/plain": [
       "[['Español', '1 854 000'],\n",
       " ['English', '6 644 000'],\n",
       " ['Русский', '1 909 000'],\n",
       " ['日本語', '1 370 000'],\n",
       " ['Deutsch', '2 792 000'],\n",
       " ['Français', '2 514 000'],\n",
       " ['Italiano', '1 806 000'],\n",
       " ['中文', '1 347 000'],\n",
       " ['فارسی', '959 000'],\n",
       " ['Português', '1 101 000']]"
      ]
     },
     "execution_count": 194,
     "metadata": {},
     "output_type": "execute_result"
    }
   ],
   "source": [
    "caja = driver.find_elements(By.CLASS_NAME, \"link-box\")\n",
    "languages = []\n",
    "import re\n",
    "for e in caja:\n",
    "    separados = re.split(r'\\+|\\n', e.text)[:2] #Con el re separo tanto por salto de linea como por el simbolo +, asi me puedo cargar el ultimo elemento que no me interesa\n",
    "    languages.append(separados)\n",
    "languages\n"
   ]
  },
  {
   "attachments": {},
   "cell_type": "markdown",
   "metadata": {},
   "source": [
    "#### A list with the different kind of datasets available in data.gov.uk "
   ]
  },
  {
   "cell_type": "code",
   "execution_count": 217,
   "metadata": {},
   "outputs": [],
   "source": [
    "# This is the url you will scrape in this exercise\n",
    "url = 'https://data.gov.uk/'"
   ]
  },
  {
   "cell_type": "code",
   "execution_count": 218,
   "metadata": {},
   "outputs": [],
   "source": [
    "driver.get(url)\n",
    "time.sleep(1)"
   ]
  },
  {
   "cell_type": "code",
   "execution_count": 231,
   "metadata": {},
   "outputs": [
    {
     "data": {
      "text/plain": [
       "['Business and economy',\n",
       " 'Crime and justice',\n",
       " 'Defence',\n",
       " 'Education',\n",
       " 'Environment',\n",
       " 'Government',\n",
       " 'Government spending',\n",
       " 'Health',\n",
       " 'Mapping',\n",
       " 'Society',\n",
       " 'Towns and cities',\n",
       " 'Transport',\n",
       " 'Digital service performance',\n",
       " 'Government reference data']"
      ]
     },
     "execution_count": 231,
     "metadata": {},
     "output_type": "execute_result"
    }
   ],
   "source": [
    "caja = driver.find_element(By.CLASS_NAME, \"govuk-list.dgu-topics__list\")\n",
    "datasets = caja.find_elements(By.CLASS_NAME, \"govuk-link\")\n",
    "themes = []\n",
    "for e in datasets:\n",
    "    themes.append(e.text)\n",
    "themes\n"
   ]
  },
  {
   "attachments": {},
   "cell_type": "markdown",
   "metadata": {},
   "source": [
    "#### Top 10 languages by number of native speakers stored in a Pandas Dataframe"
   ]
  },
  {
   "cell_type": "code",
   "execution_count": 232,
   "metadata": {},
   "outputs": [],
   "source": [
    "# This is the url you will scrape in this exercise\n",
    "url = 'https://en.wikipedia.org/wiki/List_of_languages_by_number_of_native_speakers'"
   ]
  },
  {
   "cell_type": "code",
   "execution_count": 233,
   "metadata": {},
   "outputs": [],
   "source": [
    "driver.get(url)\n",
    "time.sleep(1)"
   ]
  },
  {
   "cell_type": "code",
   "execution_count": 280,
   "metadata": {},
   "outputs": [
    {
     "data": {
      "text/plain": [
       "['939']"
      ]
     },
     "execution_count": 280,
     "metadata": {},
     "output_type": "execute_result"
    }
   ],
   "source": [
    "tabla = driver.find_element(By.CLASS_NAME, \"wikitable.sortable.static-row-numbers.jquery-tablesorter\")\n",
    "idioma = tabla.find_elements(By.CLASS_NAME, \"mw-redirect\")\n",
    "native_speakers = tabla.find_elements(By.XPATH, \"//div[1]/table[1]/tbody/tr[1]/td[2]\")\n",
    "\n",
    "res1 = []\n",
    "for e in idioma:\n",
    "    res1.append(e.text)\n",
    "res2 = []\n",
    "for e in native_speakers:\n",
    "    res2.append(e.text)\n",
    "tabla = pd.DataFrame()\n",
    "tabla['LANGUAGE'] = res1\n",
    "res2\n",
    " #Nose como coger el numero de hablantes porque no tiene classname"
   ]
  },
  {
   "attachments": {},
   "cell_type": "markdown",
   "metadata": {},
   "source": [
    "### BONUS QUESTIONS"
   ]
  },
  {
   "attachments": {},
   "cell_type": "markdown",
   "metadata": {},
   "source": [
    "#### Scrape a certain number of tweets of a given Twitter account."
   ]
  },
  {
   "cell_type": "code",
   "execution_count": null,
   "metadata": {},
   "outputs": [],
   "source": [
    "# This is the url you will scrape in this exercise \n",
    "# You will need to add the account credentials to this url\n",
    "url = 'https://twitter.com/'"
   ]
  },
  {
   "cell_type": "code",
   "execution_count": null,
   "metadata": {},
   "outputs": [],
   "source": [
    "# your code"
   ]
  },
  {
   "attachments": {},
   "cell_type": "markdown",
   "metadata": {},
   "source": [
    "#### IMDB's Top 250 data (movie name, Initial release, director name and stars) as a pandas dataframe"
   ]
  },
  {
   "cell_type": "code",
   "execution_count": null,
   "metadata": {},
   "outputs": [],
   "source": [
    "# This is the url you will scrape in this exercise \n",
    "url = 'https://www.imdb.com/chart/top'"
   ]
  },
  {
   "cell_type": "code",
   "execution_count": null,
   "metadata": {},
   "outputs": [],
   "source": [
    "# your code"
   ]
  },
  {
   "attachments": {},
   "cell_type": "markdown",
   "metadata": {},
   "source": [
    "#### Movie name, year and a brief summary of the top 10 random movies (IMDB) as a pandas dataframe."
   ]
  },
  {
   "cell_type": "code",
   "execution_count": null,
   "metadata": {},
   "outputs": [],
   "source": [
    "#This is the url you will scrape in this exercise\n",
    "url = 'http://www.imdb.com/chart/top'"
   ]
  },
  {
   "cell_type": "code",
   "execution_count": null,
   "metadata": {},
   "outputs": [],
   "source": [
    "#your code"
   ]
  },
  {
   "attachments": {},
   "cell_type": "markdown",
   "metadata": {},
   "source": [
    "#### Find the live weather report (temperature, wind speed, description and weather) of a given city."
   ]
  },
  {
   "cell_type": "code",
   "execution_count": null,
   "metadata": {},
   "outputs": [],
   "source": [
    "#https://openweathermap.org/current\n",
    "city = city=input('Enter the city:')\n",
    "url = 'http://api.openweathermap.org/data/2.5/weather?'+'q='+city+'&APPID=b35975e18dc93725acb092f7272cc6b8&units=metric'"
   ]
  },
  {
   "cell_type": "code",
   "execution_count": null,
   "metadata": {},
   "outputs": [],
   "source": [
    "# your code"
   ]
  },
  {
   "attachments": {},
   "cell_type": "markdown",
   "metadata": {},
   "source": [
    "#### Book name,price and stock availability as a pandas dataframe."
   ]
  },
  {
   "cell_type": "code",
   "execution_count": null,
   "metadata": {},
   "outputs": [],
   "source": [
    "# This is the url you will scrape in this exercise. \n",
    "# It is a fictional bookstore created to be scraped. \n",
    "url = 'http://books.toscrape.com/'"
   ]
  },
  {
   "cell_type": "code",
   "execution_count": null,
   "metadata": {},
   "outputs": [],
   "source": [
    "#your code"
   ]
  }
 ],
 "metadata": {
  "kernelspec": {
   "display_name": "Python 3",
   "language": "python",
   "name": "python3"
  },
  "language_info": {
   "codemirror_mode": {
    "name": "ipython",
    "version": 3
   },
   "file_extension": ".py",
   "mimetype": "text/x-python",
   "name": "python",
   "nbconvert_exporter": "python",
   "pygments_lexer": "ipython3",
   "version": "3.9.13"
  }
 },
 "nbformat": 4,
 "nbformat_minor": 2
}
