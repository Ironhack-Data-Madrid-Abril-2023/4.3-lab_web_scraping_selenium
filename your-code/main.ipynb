{
 "cells": [
  {
   "cell_type": "markdown",
   "metadata": {},
   "source": [
    "# Web Scraping Lab\n",
    "\n",
    "You will find in this notebook some scrapy exercises to practise your scraping skills.\n",
    "\n",
    "**Tips:**\n",
    "\n",
    "- Check the response status code for each request to ensure you have obtained the intended contennt.\n",
    "- Print the response text in each request to understand the kind of info you are getting and its format.\n",
    "- Check for patterns in the response text to extract the data/info requested in each question.\n",
    "- Visit each url and take a look at its source through Chrome DevTools. You'll need to identify the html tags, special class names etc. used for the html content you are expected to extract."
   ]
  },
  {
   "cell_type": "markdown",
   "metadata": {},
   "source": [
    "- [Selenium Doc](https://www.selenium.dev/documentation/)\n",
    "- [Requests library](http://docs.python-requests.org/en/master/#the-user-guide) documentation \n",
    "- [Urllib](https://docs.python.org/3/library/urllib.html#module-urllib)\n",
    "- [re lib](https://docs.python.org/3/library/re.html)\n",
    "- [lxml lib](https://lxml.de/)\n",
    "- [Scrapy](https://scrapy.org/)\n",
    "- [List of HTTP status codes](https://en.wikipedia.org/wiki/List_of_HTTP_status_codes)\n",
    "- [HTML basics](http://www.simplehtmlguide.com/cheatsheet.php)\n",
    "- [CSS basics](https://www.cssbasics.com/#page_start)"
   ]
  },
  {
   "cell_type": "markdown",
   "metadata": {},
   "source": [
    "#### Below are the libraries and modules you may need. `Selenium` and `pandas` are imported for you."
   ]
  },
  {
   "cell_type": "code",
   "execution_count": 1,
   "metadata": {},
   "outputs": [
    {
     "name": "stdout",
     "output_type": "stream",
     "text": [
      "Collecting selenium\n",
      "  Downloading selenium-4.9.0-py3-none-any.whl (6.5 MB)\n",
      "     ---------------------------------------- 6.5/6.5 MB 2.5 MB/s eta 0:00:00\n",
      "Requirement already satisfied: urllib3[socks]~=1.26 in c:\\users\\usuario\\appdata\\local\\programs\\python\\python311\\lib\\site-packages (from selenium) (1.26.15)\n",
      "Collecting trio~=0.17\n",
      "  Downloading trio-0.22.0-py3-none-any.whl (384 kB)\n",
      "     -------------------------------------- 384.9/384.9 kB 2.4 MB/s eta 0:00:00\n",
      "Collecting trio-websocket~=0.9\n",
      "  Downloading trio_websocket-0.10.2-py3-none-any.whl (17 kB)\n",
      "Requirement already satisfied: certifi>=2021.10.8 in c:\\users\\usuario\\appdata\\local\\programs\\python\\python311\\lib\\site-packages (from selenium) (2022.12.7)\n",
      "Collecting attrs>=19.2.0\n",
      "  Downloading attrs-23.1.0-py3-none-any.whl (61 kB)\n",
      "     ---------------------------------------- 61.2/61.2 kB 3.4 MB/s eta 0:00:00\n",
      "Collecting sortedcontainers\n",
      "  Downloading sortedcontainers-2.4.0-py2.py3-none-any.whl (29 kB)\n",
      "Collecting async-generator>=1.9\n",
      "  Downloading async_generator-1.10-py3-none-any.whl (18 kB)\n",
      "Requirement already satisfied: idna in c:\\users\\usuario\\appdata\\local\\programs\\python\\python311\\lib\\site-packages (from trio~=0.17->selenium) (3.4)\n",
      "Collecting outcome\n",
      "  Downloading outcome-1.2.0-py2.py3-none-any.whl (9.7 kB)\n",
      "Collecting sniffio\n",
      "  Downloading sniffio-1.3.0-py3-none-any.whl (10 kB)\n",
      "Requirement already satisfied: cffi>=1.14 in c:\\users\\usuario\\appdata\\local\\programs\\python\\python311\\lib\\site-packages (from trio~=0.17->selenium) (1.15.1)\n",
      "Collecting exceptiongroup\n",
      "  Downloading exceptiongroup-1.1.1-py3-none-any.whl (14 kB)\n",
      "Collecting wsproto>=0.14\n",
      "  Downloading wsproto-1.2.0-py3-none-any.whl (24 kB)\n",
      "Collecting PySocks!=1.5.7,<2.0,>=1.5.6\n",
      "  Downloading PySocks-1.7.1-py3-none-any.whl (16 kB)\n",
      "Requirement already satisfied: pycparser in c:\\users\\usuario\\appdata\\local\\programs\\python\\python311\\lib\\site-packages (from cffi>=1.14->trio~=0.17->selenium) (2.21)\n",
      "Collecting h11<1,>=0.9.0\n",
      "  Downloading h11-0.14.0-py3-none-any.whl (58 kB)\n",
      "     ---------------------------------------- 58.3/58.3 kB 1.5 MB/s eta 0:00:00\n",
      "Installing collected packages: sortedcontainers, sniffio, PySocks, h11, exceptiongroup, attrs, async-generator, wsproto, outcome, trio, trio-websocket, selenium\n",
      "Successfully installed PySocks-1.7.1 async-generator-1.10 attrs-23.1.0 exceptiongroup-1.1.1 h11-0.14.0 outcome-1.2.0 selenium-4.9.0 sniffio-1.3.0 sortedcontainers-2.4.0 trio-0.22.0 trio-websocket-0.10.2 wsproto-1.2.0\n",
      "Note: you may need to restart the kernel to use updated packages.\n"
     ]
    },
    {
     "name": "stderr",
     "output_type": "stream",
     "text": [
      "\n",
      "[notice] A new release of pip available: 22.3.1 -> 23.1.2\n",
      "[notice] To update, run: python.exe -m pip install --upgrade pip\n"
     ]
    },
    {
     "name": "stdout",
     "output_type": "stream",
     "text": [
      "Note: you may need to restart the kernel to use updated packages.Collecting webdriver-manager\n",
      "  Downloading webdriver_manager-3.8.6-py2.py3-none-any.whl (27 kB)\n",
      "Requirement already satisfied: requests in c:\\users\\usuario\\appdata\\local\\programs\\python\\python311\\lib\\site-packages (from webdriver-manager) (2.29.0)\n",
      "Collecting python-dotenv\n",
      "  Downloading python_dotenv-1.0.0-py3-none-any.whl (19 kB)\n",
      "Collecting tqdm\n",
      "  Downloading tqdm-4.65.0-py3-none-any.whl (77 kB)\n",
      "     ---------------------------------------- 77.1/77.1 kB 2.2 MB/s eta 0:00:00\n",
      "Requirement already satisfied: packaging in c:\\users\\usuario\\appdata\\roaming\\python\\python311\\site-packages (from webdriver-manager) (23.1)\n",
      "Requirement already satisfied: charset-normalizer<4,>=2 in c:\\users\\usuario\\appdata\\local\\programs\\python\\python311\\lib\\site-packages (from requests->webdriver-manager) (3.1.0)\n",
      "Requirement already satisfied: idna<4,>=2.5 in c:\\users\\usuario\\appdata\\local\\programs\\python\\python311\\lib\\site-packages (from requests->webdriver-manager) (3.4)\n",
      "Requirement already satisfied: urllib3<1.27,>=1.21.1 in c:\\users\\usuario\\appdata\\local\\programs\\python\\python311\\lib\\site-packages (from requests->webdriver-manager) (1.26.15)\n",
      "Requirement already satisfied: certifi>=2017.4.17 in c:\\users\\usuario\\appdata\\local\\programs\\python\\python311\\lib\\site-packages (from requests->webdriver-manager) (2022.12.7)\n",
      "Requirement already satisfied: colorama in c:\\users\\usuario\\appdata\\roaming\\python\\python311\\site-packages (from tqdm->webdriver-manager) (0.4.6)\n",
      "Installing collected packages: tqdm, python-dotenv, webdriver-manager\n",
      "Successfully installed python-dotenv-1.0.0 tqdm-4.65.0 webdriver-manager-3.8.6\n",
      "\n"
     ]
    },
    {
     "name": "stderr",
     "output_type": "stream",
     "text": [
      "  WARNING: The script tqdm.exe is installed in 'c:\\Users\\usuario\\AppData\\Local\\Programs\\Python\\Python311\\Scripts' which is not on PATH.\n",
      "  Consider adding this directory to PATH or, if you prefer to suppress this warning, use --no-warn-script-location.\n",
      "  WARNING: The script dotenv.exe is installed in 'c:\\Users\\usuario\\AppData\\Local\\Programs\\Python\\Python311\\Scripts' which is not on PATH.\n",
      "  Consider adding this directory to PATH or, if you prefer to suppress this warning, use --no-warn-script-location.\n",
      "\n",
      "[notice] A new release of pip available: 22.3.1 -> 23.1.2\n",
      "[notice] To update, run: python.exe -m pip install --upgrade pip\n"
     ]
    }
   ],
   "source": [
    "%pip install selenium\n",
    "%pip install webdriver-manager"
   ]
  },
  {
   "cell_type": "code",
   "execution_count": 2,
   "metadata": {},
   "outputs": [],
   "source": [
    "import pandas as pd\n",
    "from selenium.webdriver.chrome.options import Options\n",
    "from webdriver_manager.chrome import ChromeDriverManager"
   ]
  },
  {
   "cell_type": "code",
   "execution_count": 6,
   "metadata": {},
   "outputs": [],
   "source": [
    "from selenium import webdriver"
   ]
  },
  {
   "cell_type": "markdown",
   "metadata": {},
   "source": [
    "#### Enable the options you may need. In the next cell you have an example of them but you can choose to use them or not."
   ]
  },
  {
   "cell_type": "code",
   "execution_count": 3,
   "metadata": {},
   "outputs": [
    {
     "name": "stderr",
     "output_type": "stream",
     "text": [
      "C:\\Users\\usuario\\AppData\\Local\\Temp\\ipykernel_8976\\4076755805.py:6: DeprecationWarning: headless property is deprecated, instead use add_argument('--headless') or add_argument('--headless=new')\n",
      "  opciones.headless=False    # si True, no aperece la ventana (headless=no visible)\n"
     ]
    }
   ],
   "source": [
    "#driver configuration\n",
    "opciones=Options()\n",
    "\n",
    "opciones.add_experimental_option('excludeSwitches', ['enable-automation'])\n",
    "opciones.add_experimental_option('useAutomationExtension', False)\n",
    "opciones.headless=False    # si True, no aperece la ventana (headless=no visible)\n",
    "opciones.add_argument('--start-maximized')         # comienza maximizado\n",
    "#opciones.add_argument('user-data-dir=selenium')    # mantiene las cookies\n",
    "#opciones.add_extension('driver_folder/adblock.crx')       # adblocker\n",
    "opciones.add_argument('--incognito')"
   ]
  },
  {
   "cell_type": "code",
   "execution_count": 7,
   "metadata": {},
   "outputs": [
    {
     "name": "stderr",
     "output_type": "stream",
     "text": [
      "C:\\Users\\usuario\\AppData\\Local\\Temp\\ipykernel_8976\\651777411.py:2: DeprecationWarning: executable_path has been deprecated, please pass in a Service object\n",
      "  driver = webdriver.Chrome(driver,options = opciones)\n"
     ]
    }
   ],
   "source": [
    "driver = \"./https://www.google.es\" #remember substitute this for your driver path\n",
    "driver = webdriver.Chrome(driver,options = opciones)"
   ]
  },
  {
   "cell_type": "code",
   "execution_count": 10,
   "metadata": {},
   "outputs": [],
   "source": [
    "from selenium.webdriver.common.by import By # By es para buscar por tag, clase, id...\n",
    "\n",
    "import time\n",
    "\n",
    "import warnings\n",
    "warnings.filterwarnings('ignore')"
   ]
  },
  {
   "cell_type": "markdown",
   "metadata": {},
   "source": [
    "#### Download, parse, and print the content from the Trending Developers page from GitHub:"
   ]
  },
  {
   "cell_type": "code",
   "execution_count": 8,
   "metadata": {},
   "outputs": [],
   "source": [
    "# This is the url you will scrape in this exercise\n",
    "url = 'https://github.com/trending/developers'"
   ]
  },
  {
   "cell_type": "markdown",
   "metadata": {},
   "source": [
    "#### Display the names of the trending developers retrieved in the previous step.\n",
    "\n",
    "Your output should be a Python list of developer names. Each name should not contain any html tag.\n",
    "\n",
    "**Instructions:**\n",
    "\n",
    "1. Find out the html tag and class names used for the developer names.\n",
    "\n",
    "1. Use string manipulation techniques to replace whitespaces and linebreaks (i.e. `\\n`) in the *text* of each html element. Use a list to store the clean names.\n",
    "\n",
    "1. Print the list of names.\n",
    "\n",
    "Your output should look like below:\n",
    "\n",
    "```\n",
    "['trimstray (@trimstray)',\n",
    " 'joewalnes (JoeWalnes)',\n",
    " 'charlax (Charles-AxelDein)',\n",
    " 'ForrestKnight (ForrestKnight)',\n",
    " 'revery-ui (revery-ui)',\n",
    " 'alibaba (Alibaba)',\n",
    " 'Microsoft (Microsoft)',\n",
    " 'github (GitHub)',\n",
    " 'facebook (Facebook)',\n",
    " 'boazsegev (Bo)',\n",
    " 'google (Google)',\n",
    " 'cloudfetch',\n",
    " 'sindresorhus (SindreSorhus)',\n",
    " 'tensorflow',\n",
    " 'apache (TheApacheSoftwareFoundation)',\n",
    " 'DevonCrawford (DevonCrawford)',\n",
    " 'ARMmbed (ArmMbed)',\n",
    " 'vuejs (vuejs)',\n",
    " 'fastai (fast.ai)',\n",
    " 'QiShaoXuan (Qi)',\n",
    " 'joelparkerhenderson (JoelParkerHenderson)',\n",
    " 'torvalds (LinusTorvalds)',\n",
    " 'CyC2018',\n",
    " 'komeiji-satori (神楽坂覚々)',\n",
    " 'script-8']\n",
    " ```"
   ]
  },
  {
   "cell_type": "code",
   "execution_count": 15,
   "metadata": {},
   "outputs": [],
   "source": [
    "PATH = ChromeDriverManager().install()    # instala driver de chrome\n",
    "\n",
    "driver = webdriver.Chrome(PATH, options = opciones)      # abre una ventana de chrome\n",
    "\n",
    "driver.get('https://github.com/trending/developers')"
   ]
  },
  {
   "cell_type": "code",
   "execution_count": 42,
   "metadata": {},
   "outputs": [
    {
     "data": {
      "text/plain": [
       "25"
      ]
     },
     "execution_count": 42,
     "metadata": {},
     "output_type": "execute_result"
    }
   ],
   "source": [
    "git_names = driver.find_elements(By.CLASS_NAME, 'h3.lh-condensed')\n",
    "len(git_names)"
   ]
  },
  {
   "cell_type": "code",
   "execution_count": 44,
   "metadata": {},
   "outputs": [
    {
     "name": "stdout",
     "output_type": "stream",
     "text": [
      "['Mattias Wadman', 'lllyasviel', 'Lianmin Zheng', 'Jerry Liu', 'Henrik Rydgård', 'Harrison Chase', 'Fons van der Plas', 'Steven Tey', 'Andreas Thomas', 'pilcrowOnPaper', 'Laurent Mazare', 'yetone', 'Tom Payne', 'Raphaël Benitte', 'Dillon Nys', 'Will McGugan', 'Luca Palmieri', 'Payton Swick', 'Martí Climent', 'dgtlmoon', 'Jelle Zijlstra', 'J. Nick Koston', 'Nuno Campos', 'Juliette', 'Lee Robinson']\n"
     ]
    }
   ],
   "source": [
    "names = []\n",
    "\n",
    "for name in git_names:\n",
    "    names.append(name.text)\n",
    "\n",
    "print(names)"
   ]
  },
  {
   "cell_type": "code",
   "execution_count": 48,
   "metadata": {},
   "outputs": [],
   "source": [
    "#driver.quit()"
   ]
  },
  {
   "cell_type": "markdown",
   "metadata": {},
   "source": [
    "#### Display the trending Python repositories in GitHub\n",
    "\n",
    "The steps to solve this problem is similar to the previous one except that you need to find out the repository names instead of developer names."
   ]
  },
  {
   "cell_type": "code",
   "execution_count": 49,
   "metadata": {},
   "outputs": [],
   "source": [
    "# This is the url you will scrape in this exercise\n",
    "url = 'https://github.com/trending/python?since=daily'"
   ]
  },
  {
   "cell_type": "code",
   "execution_count": 50,
   "metadata": {},
   "outputs": [],
   "source": [
    "PATH = ChromeDriverManager().install()    # instala driver de chrome\n",
    "\n",
    "driver = webdriver.Chrome(PATH, options = opciones)      # abre una ventana de chrome\n",
    "\n",
    "driver.get('https://github.com/trending/python?since=daily')"
   ]
  },
  {
   "cell_type": "code",
   "execution_count": 51,
   "metadata": {},
   "outputs": [
    {
     "data": {
      "text/plain": [
       "25"
      ]
     },
     "execution_count": 51,
     "metadata": {},
     "output_type": "execute_result"
    }
   ],
   "source": [
    "git_repos = driver.find_elements(By.CLASS_NAME, 'h3.lh-condensed')\n",
    "len(git_repos)"
   ]
  },
  {
   "cell_type": "code",
   "execution_count": 52,
   "metadata": {},
   "outputs": [
    {
     "name": "stdout",
     "output_type": "stream",
     "text": [
      "['mlc-ai / mlc-llm', 'AIGC-Audio / AudioGPT', 'gventuri / pandas-ai', 'xtekky / gpt4free', 'irgolic / AutoPR', 'lamini-ai / lamini', 'deep-floyd / IF', 'deforum-art / deforum-stable-diffusion', 'home-assistant / core', 'cirediatpl / FigmaChain', 'IntelligenzaArtificiale / Free-AUTO-GPT-with-NO-API', 'mlc-ai / web-llm', 'AUTOMATIC1111 / stable-diffusion-webui', 'ddPn08 / Radiata', 'deforum-art / deforum-for-automatic1111-webui', 'ZrrSkywalker / LLaMA-Adapter', 'yt-dlp / yt-dlp', 'nlpxucan / WizardLM', 'GitHubDaily / ChatGPT-Prompt-Engineering-for-Developers-in-Chinese', 'georgia-tech-db / eva', 'xtekky / chatgpt-clone', 'mahdibland / V2RayAggregator', 'KurtBestor / Hitomi-Downloader', 'jaywalnut310 / vits', 'isaiahbjork / Auto-GPT-Crypto-Plugin']\n"
     ]
    }
   ],
   "source": [
    "repos = []\n",
    "\n",
    "for title in git_repos:\n",
    "    repos.append(title.text)\n",
    "\n",
    "print(repos)"
   ]
  },
  {
   "cell_type": "markdown",
   "metadata": {},
   "source": [
    "#### Display all the image links from Walt Disney wikipedia page"
   ]
  },
  {
   "cell_type": "code",
   "execution_count": 53,
   "metadata": {},
   "outputs": [],
   "source": [
    "# This is the url you will scrape in this exercise\n",
    "url = 'https://en.wikipedia.org/wiki/Walt_Disney'"
   ]
  },
  {
   "cell_type": "code",
   "execution_count": 54,
   "metadata": {},
   "outputs": [],
   "source": [
    "PATH = ChromeDriverManager().install()    # instala driver de chrome\n",
    "\n",
    "driver = webdriver.Chrome(PATH, options = opciones)      # abre una ventana de chrome\n",
    "\n",
    "driver.get('https://en.wikipedia.org/wiki/Walt_Disney')"
   ]
  },
  {
   "cell_type": "code",
   "execution_count": 70,
   "metadata": {},
   "outputs": [
    {
     "data": {
      "text/plain": [
       "15"
      ]
     },
     "execution_count": 70,
     "metadata": {},
     "output_type": "execute_result"
    }
   ],
   "source": [
    "images = driver.find_elements(By.CLASS_NAME, 'thumbinner')\n",
    "len(images)"
   ]
  },
  {
   "cell_type": "code",
   "execution_count": 78,
   "metadata": {},
   "outputs": [
    {
     "name": "stdout",
     "output_type": "stream",
     "text": [
      "['https://en.wikipedia.org/wiki/File:Walt_Disney_Birthplace_Exterior_Hermosa_Chicago_Illinois.jpg', 'https://en.wikipedia.org/wiki/File:Walt_Disney_envelope_ca._1921.jpg', 'https://en.wikipedia.org/wiki/File:Newman_Laugh-O-Gram_(1921).webm', 'https://en.wikipedia.org/wiki/File:Trolley_Troubles_poster.jpg', 'https://en.wikipedia.org/wiki/File:Steamboat-willie.jpg', 'https://en.wikipedia.org/wiki/File:Walt_Disney_1935.jpg', 'https://en.wikipedia.org/wiki/File:Walt_Disney_Snow_white_1937_trailer_screenshot_(13).jpg', 'https://en.wikipedia.org/wiki/File:Disney_drawing_goofy.jpg', 'https://en.wikipedia.org/wiki/File:WaltDisneyplansDisneylandDec1954.jpg', 'https://en.wikipedia.org/wiki/File:Walt_disney_portrait_right.jpg', 'https://en.wikipedia.org/wiki/File:Walt_Disney_Grave.JPG', 'https://en.wikipedia.org/wiki/File:Roy_O._Disney_with_Company_at_Press_Conference.jpg', 'https://en.wikipedia.org/wiki/File:DisneySchiphol1951.jpg', 'https://en.wikipedia.org/wiki/File:Disney1968.jpg', 'https://en.wikipedia.org/wiki/File:Disney_Oscar_1953_(cropped).jpg']\n"
     ]
    }
   ],
   "source": [
    "url_image = []\n",
    "\n",
    "for elems in images:\n",
    "    url = elems.find_element(By.TAG_NAME, 'a').get_attribute('href')\n",
    "    url_image.append(url)\n",
    "\n",
    "print(url_image)"
   ]
  },
  {
   "cell_type": "markdown",
   "metadata": {},
   "source": [
    "#### Retrieve an arbitary Wikipedia page of \"Python\" and create a list of links on that page"
   ]
  },
  {
   "cell_type": "code",
   "execution_count": 79,
   "metadata": {},
   "outputs": [],
   "source": [
    "# This is the url you will scrape in this exercise\n",
    "url ='https://en.wikipedia.org/wiki/Python'"
   ]
  },
  {
   "cell_type": "code",
   "execution_count": 80,
   "metadata": {},
   "outputs": [],
   "source": [
    "PATH = ChromeDriverManager().install()    # instala driver de chrome\n",
    "\n",
    "driver = webdriver.Chrome(PATH, options = opciones)      # abre una ventana de chrome\n",
    "\n",
    "driver.get('https://en.wikipedia.org/wiki/Python')"
   ]
  },
  {
   "cell_type": "code",
   "execution_count": 81,
   "metadata": {},
   "outputs": [
    {
     "data": {
      "text/plain": [
       "451"
      ]
     },
     "execution_count": 81,
     "metadata": {},
     "output_type": "execute_result"
    }
   ],
   "source": [
    "links = driver.find_elements(By.TAG_NAME, 'a')\n",
    "len(links)"
   ]
  },
  {
   "cell_type": "code",
   "execution_count": 82,
   "metadata": {},
   "outputs": [
    {
     "name": "stdout",
     "output_type": "stream",
     "text": [
      "['https://en.wikipedia.org/wiki/Python_(missile)#bodyContent', 'https://en.wikipedia.org/wiki/Main_Page', 'https://en.wikipedia.org/wiki/Wikipedia:Contents', 'https://en.wikipedia.org/wiki/Portal:Current_events', 'https://en.wikipedia.org/wiki/Special:Random', 'https://en.wikipedia.org/wiki/Wikipedia:About', 'https://en.wikipedia.org/wiki/Wikipedia:Contact_us', 'https://donate.wikimedia.org/wiki/Special:FundraiserRedirector?utm_source=donate&utm_medium=sidebar&utm_campaign=C13_en.wikipedia.org&uselang=en', 'https://en.wikipedia.org/wiki/Help:Contents', 'https://en.wikipedia.org/wiki/Help:Introduction', 'https://en.wikipedia.org/wiki/Wikipedia:Community_portal', 'https://en.wikipedia.org/wiki/Special:RecentChanges', 'https://en.wikipedia.org/wiki/Wikipedia:File_upload_wizard', 'https://en.wikipedia.org/wiki/Main_Page', 'https://en.wikipedia.org/wiki/Special:Search', 'https://en.wikipedia.org/w/index.php?title=Special:CreateAccount&returnto=Python+%28missile%29', 'https://en.wikipedia.org/w/index.php?title=Special:UserLogin&returnto=Python+%28missile%29', 'https://en.wikipedia.org/w/index.php?title=Special:CreateAccount&returnto=Python+%28missile%29', 'https://en.wikipedia.org/w/index.php?title=Special:UserLogin&returnto=Python+%28missile%29', 'https://en.wikipedia.org/wiki/Help:Introduction', 'https://en.wikipedia.org/wiki/Special:MyContributions', 'https://en.wikipedia.org/wiki/Special:MyTalk', 'https://en.wikipedia.org/wiki/Python_(missile)#', 'https://www.wikilovesearth.es/', 'https://www.wikilovesearth.es/', 'https://www.wikilovesearth.es/', 'https://en.wikipedia.org/wiki/Python_(missile)#', 'https://en.wikipedia.org/wiki/Python_(missile)#Design_and_development', 'https://en.wikipedia.org/wiki/Python_(missile)#Variants', 'https://en.wikipedia.org/wiki/Python_(missile)#Shafrir-1', 'https://en.wikipedia.org/wiki/Python_(missile)#Shafrir-2', 'https://en.wikipedia.org/wiki/Python_(missile)#Python-3', 'https://en.wikipedia.org/wiki/Python_(missile)#Python-4', 'https://en.wikipedia.org/wiki/Python_(missile)#Python-5', 'https://en.wikipedia.org/wiki/Python_(missile)#Other_Python_developments', 'https://en.wikipedia.org/wiki/Python_(missile)#Derby', 'https://en.wikipedia.org/wiki/Python_(missile)#I-Derby_ER', 'https://en.wikipedia.org/wiki/Python_(missile)#SPYDER', 'https://en.wikipedia.org/wiki/Python_(missile)#Operators', 'https://en.wikipedia.org/wiki/Python_(missile)#Current_operators', 'https://en.wikipedia.org/wiki/Python_(missile)#Former_operators', 'https://en.wikipedia.org/wiki/Python_(missile)#See_also', 'https://en.wikipedia.org/wiki/Python_(missile)#References', 'https://en.wikipedia.org/wiki/Python_(missile)#External_links', 'https://ar.wikipedia.org/wiki/%D8%A8%D9%8A%D8%AA%D9%88%D9%86_(%D8%B5%D8%A7%D8%B1%D9%88%D8%AE)', 'https://cs.wikipedia.org/wiki/Python_(st%C5%99ela)', 'https://de.wikipedia.org/wiki/Python-3', 'https://es.wikipedia.org/wiki/RAFAEL_Python', 'https://fa.wikipedia.org/wiki/%D9%85%D9%88%D8%B4%DA%A9_%D9%BE%D8%A7%DB%8C%D8%AA%D9%88%D9%86', 'https://fr.wikipedia.org/wiki/Rafael_Python', 'https://ko.wikipedia.org/wiki/%EB%8D%94%EB%B9%84_%EB%AF%B8%EC%82%AC%EC%9D%BC', 'https://hr.wikipedia.org/wiki/Python_(projektil)', 'https://id.wikipedia.org/wiki/Python_(peluru_kendali)', 'https://it.wikipedia.org/wiki/Python_(missile)', 'https://he.wikipedia.org/wiki/%D7%A4%D7%99%D7%AA%D7%95%D7%9F_(%D7%98%D7%99%D7%9C)', 'https://hu.wikipedia.org/wiki/Rafael_Derby', 'https://ja.wikipedia.org/wiki/%E3%83%91%E3%82%A4%E3%82%BD%E3%83%B3_(%E3%83%9F%E3%82%B5%E3%82%A4%E3%83%AB)', 'https://pt.wikipedia.org/wiki/Python_(m%C3%ADssil)', 'https://ru.wikipedia.org/wiki/Rafael_Derby', 'https://sl.wikipedia.org/wiki/Python_(raketa)', 'https://fi.wikipedia.org/wiki/Python_(ohjus)', 'https://th.wikipedia.org/wiki/%E0%B9%84%E0%B8%9E%E0%B8%98%E0%B8%AD%E0%B8%99-4', 'https://tr.wikipedia.org/wiki/Python_(f%C3%BCze)', 'https://zh.wikipedia.org/wiki/%E5%B7%A8%E8%9F%92%E9%A3%9B%E5%BD%88', 'https://www.wikidata.org/wiki/Special:EntityPage/Q15728#sitelinks-wikipedia', 'https://en.wikipedia.org/wiki/Python_(missile)', 'https://en.wikipedia.org/wiki/Talk:Python_(missile)', 'https://en.wikipedia.org/wiki/Python_(missile)', 'https://en.wikipedia.org/w/index.php?title=Python_(missile)&action=edit', 'https://en.wikipedia.org/w/index.php?title=Python_(missile)&action=history', 'https://en.wikipedia.org/wiki/Python_(missile)', 'https://en.wikipedia.org/w/index.php?title=Python_(missile)&action=edit', 'https://en.wikipedia.org/w/index.php?title=Python_(missile)&action=history', 'https://en.wikipedia.org/wiki/Special:WhatLinksHere/Python_(missile)', 'https://en.wikipedia.org/wiki/Special:RecentChangesLinked/Python_(missile)', 'https://en.wikipedia.org/wiki/Wikipedia:File_Upload_Wizard', 'https://en.wikipedia.org/wiki/Special:SpecialPages', 'https://en.wikipedia.org/w/index.php?title=Python_(missile)&oldid=1149863842', 'https://en.wikipedia.org/w/index.php?title=Python_(missile)&action=info', 'https://en.wikipedia.org/w/index.php?title=Special:CiteThisPage&page=Python_%28missile%29&id=1149863842&wpFormIdentifier=titleform', 'https://www.wikidata.org/wiki/Special:EntityPage/Q15728', 'https://www.wikidata.org/wiki/Special:EntityPage/Q15728#sitelinks-wikipedia', 'https://en.wikipedia.org/w/index.php?title=Special:DownloadAsPdf&page=Python_%28missile%29&action=show-download-screen', 'https://en.wikipedia.org/w/index.php?title=Python_(missile)&printable=yes', 'https://commons.wikimedia.org/wiki/Category:Python_missiles', 'https://en.wikipedia.org/wiki/File:Python5-missile001.jpg', 'https://en.wikipedia.org/wiki/Python_(missile)#Operators', 'https://en.wikipedia.org/wiki/Rafael_Advanced_Defense_Systems', 'https://en.wikipedia.org/wiki/Kilogram', 'https://en.wikipedia.org/wiki/Pound_(mass)', 'https://en.wikipedia.org/wiki/Ounce', 'https://en.wikipedia.org/wiki/Metre', 'https://en.wikipedia.org/wiki/Foot_(unit)', 'https://en.wikipedia.org/wiki/Millimetre', 'https://en.wikipedia.org/wiki/Inch', 'https://en.wikipedia.org/wiki/Kilometre', 'https://en.wikipedia.org/wiki/Mile', 'https://en.wikipedia.org/wiki/Infrared_homing', 'https://en.wikipedia.org/wiki/CASA_C-101', 'https://en.wikipedia.org/wiki/List_of_McDonnell_Douglas_F-4_Phantom_II_variants', 'https://en.wikipedia.org/wiki/Northrop_F-5#Upgrades', 'https://en.wikipedia.org/wiki/McDonnell_Douglas_F-15_Eagle', 'https://en.wikipedia.org/wiki/General_Dynamics_F-16_Fighting_Falcon', 'https://en.wikipedia.org/wiki/Python_(missile)#cite_note-f-16.net-1', 'https://en.wikipedia.org/wiki/Dassault_Mirage_III', 'https://en.wikipedia.org/wiki/Dassault_Mirage_5', 'https://en.wikipedia.org/wiki/Dassault_Mirage_2000', 'https://en.wikipedia.org/wiki/IAI_Nesher', 'https://en.wikipedia.org/wiki/IAI_Kfir', 'https://en.wikipedia.org/wiki/British_Aerospace_Sea_Harrier', 'https://en.wikipedia.org/wiki/HAL_Tejas', 'https://en.wikipedia.org/wiki/SAAB_Gripen_NG', 'https://en.wikipedia.org/wiki/Python_(missile)#cite_note-saabgroup.com-2', 'https://en.wikipedia.org/wiki/Sukhoi_Su-30MKI', 'https://en.wikipedia.org/wiki/Wikipedia:Citation_needed', 'https://en.wikipedia.org/wiki/Sukhoi_Su-25#Su-25KM', 'https://en.wikipedia.org/wiki/Python_(missile)#cite_note-3', 'https://en.wikipedia.org/wiki/Air-to-air_missile', 'https://en.wikipedia.org/wiki/Rafael_Advanced_Defense_Systems', 'https://en.wikipedia.org/wiki/Hebrew_language', 'https://en.wikipedia.org/wiki/Dragonfly', 'https://en.wikipedia.org/wiki/Inflection', 'https://en.wikipedia.org/wiki/Damselfly', 'https://en.wikipedia.org/wiki/SPYDER', 'https://en.wikipedia.org/w/index.php?title=Python_(missile)&action=edit&section=1', 'https://en.wikipedia.org/wiki/File:PythonGenerHe.png', 'https://en.wikipedia.org/wiki/File:PythonGenerHe.png', 'https://en.wikipedia.org/wiki/Israeli_Air_Force', 'https://en.wikipedia.org/wiki/Hebrew_language', 'https://en.wikipedia.org/wiki/Dragonfly', 'https://en.wikipedia.org/wiki/Inflection', 'https://en.wikipedia.org/wiki/Damselfly', 'https://en.wikipedia.org/wiki/Dassault_Mirage_III', 'https://en.wikipedia.org/wiki/Six-Day_War', 'https://en.wikipedia.org/wiki/Yom_Kippur_War', 'https://en.wikipedia.org/wiki/Python_(missile)#cite_note-python2-4', 'https://en.wikipedia.org/wiki/South_America', 'https://en.wikipedia.org/wiki/All-aspect', 'https://en.wikipedia.org/wiki/1982_Lebanon_War', 'https://en.wikipedia.org/wiki/China', 'https://en.wikipedia.org/wiki/PL-8_(missile)', 'https://en.wikipedia.org/wiki/Python_(missile)#cite_note-SINOD-5', 'https://en.wikipedia.org/wiki/Python_(missile)#cite_note-python4-6', 'https://en.wikipedia.org/wiki/Python_(missile)#cite_note-python5-7', 'https://en.wikipedia.org/wiki/Paris_Air_Show', 'https://en.wikipedia.org/wiki/F-15I', 'https://en.wikipedia.org/wiki/F-16C/D_Fighting_Falcon', 'https://en.wikipedia.org/wiki/Gun_harmonisation', 'https://en.wikipedia.org/w/index.php?title=Python_(missile)&action=edit&section=2', 'https://en.wikipedia.org/w/index.php?title=Python_(missile)&action=edit&section=3', 'https://en.wikipedia.org/wiki/Dassault_Mirage_III', 'https://en.wikipedia.org/wiki/Python_(missile)#cite_note-8', 'https://en.wikipedia.org/w/index.php?title=Python_(missile)&action=edit&section=4', 'https://en.wikipedia.org/wiki/Python_(missile)#cite_note-python2-4', 'https://en.wikipedia.org/w/index.php?title=Python_(missile)&action=edit&section=5', 'https://en.wikipedia.org/wiki/File:Rafael_Python_3_3.jpg', 'https://en.wikipedia.org/wiki/File:Rafael_Python_3_3.jpg', 'https://en.wikipedia.org/wiki/Python_(missile)#cite_note-python5-7', 'https://en.wikipedia.org/wiki/People%27s_Liberation_Army_Air_Force', 'https://en.wikipedia.org/wiki/PL-8_(missile)', 'https://en.wikipedia.org/wiki/Python_(missile)#cite_note-SINOD-5', 'https://en.wikipedia.org/wiki/Xi%27an', 'https://en.wikipedia.org/wiki/Python_(missile)#cite_note-SINOD-5', 'https://en.wikipedia.org/w/index.php?title=Python_(missile)&action=edit&section=6', 'https://en.wikipedia.org/wiki/File:Rafael_Python_4.jpg', 'https://en.wikipedia.org/wiki/File:Rafael_Python_4.jpg', 'https://en.wikipedia.org/wiki/Python_(missile)#cite_note-python4-6', 'https://en.wikipedia.org/wiki/Elbit_Systems', 'https://en.wikipedia.org/wiki/Helmet_mounted_display#Display_And_Sight_Helmet_(DASH)', 'https://en.wikipedia.org/wiki/FIM-92_Stinger', 'https://en.wikipedia.org/wiki/Infrared_homing', 'https://en.wikipedia.org/w/index.php?title=IRCCM&action=edit&redlink=1', 'https://en.wikipedia.org/wiki/Python_(missile)#cite_note-9', 'https://en.wikipedia.org/w/index.php?title=Active_laser&action=edit&redlink=1', 'https://en.wikipedia.org/w/index.php?title=Python_(missile)&action=edit&section=7', 'https://en.wikipedia.org/wiki/File:Python5_missile.jpg', 'https://en.wikipedia.org/wiki/File:Python5_missile.jpg', 'https://en.wikipedia.org/wiki/File:HAL_Tejas_(LSP-07)_firing_Python-5_missile_better_visibility.png', 'https://en.wikipedia.org/wiki/File:HAL_Tejas_(LSP-07)_firing_Python-5_missile_better_visibility.png', 'https://en.wikipedia.org/wiki/HAL_Tejas', 'https://en.wikipedia.org/wiki/Python_(missile)#cite_note-10', 'https://en.wikipedia.org/wiki/Air-to-air_missile', 'https://en.wikipedia.org/wiki/Beyond-visual-range_missile', 'https://en.wikipedia.org/wiki/Electro-optical', 'https://en.wikipedia.org/wiki/Imaging_infrared', 'https://en.wikipedia.org/wiki/Python_(missile)#cite_note-python5-7', 'https://en.wikipedia.org/wiki/2006_Lebanon_War', 'https://en.wikipedia.org/wiki/Ghods_Ababil', 'https://en.wikipedia.org/wiki/Hezbollah', 'https://en.wikipedia.org/wiki/Python_(missile)#cite_note-f-16.net-1', 'https://en.wikipedia.org/wiki/Python_(missile)#cite_note-11', 'https://en.wikipedia.org/wiki/Python_(missile)#cite_note-12', 'https://en.wikipedia.org/wiki/Python_(missile)#cite_note-13', 'https://en.wikipedia.org/wiki/Python_(missile)#cite_note-14', 'https://en.wikipedia.org/w/index.php?title=Python_(missile)&action=edit&section=8', 'https://en.wikipedia.org/w/index.php?title=Python_(missile)&action=edit&section=9', 'https://en.wikipedia.org/wiki/File:Derby_missile.jpg', 'https://en.wikipedia.org/wiki/File:Derby_missile.jpg', 'https://en.wikipedia.org/wiki/Beyond-visual-range_missile', 'https://en.wikipedia.org/wiki/Active_radar_homing', 'https://en.wikipedia.org/wiki/Python_(missile)#cite_note-15', 'https://en.wikipedia.org/w/index.php?title=Python_(missile)&action=edit&section=10', 'https://en.wikipedia.org/wiki/David%27s_Sling', 'https://en.wikipedia.org/wiki/Python_(missile)#cite_note-16', 'https://en.wikipedia.org/wiki/Sukhoi_Su-30MKI', 'https://en.wikipedia.org/wiki/R-77', 'https://en.wikipedia.org/wiki/HAL_Tejas', 'https://en.wikipedia.org/wiki/Python_(missile)#cite_note-17', 'https://en.wikipedia.org/w/index.php?title=Python_(missile)&action=edit&section=11', 'https://en.wikipedia.org/wiki/File:SPYDER.jpg', 'https://en.wikipedia.org/wiki/File:SPYDER.jpg', 'https://en.wikipedia.org/wiki/SPYDER', 'https://en.wikipedia.org/w/index.php?title=Python_(missile)&action=edit&section=12', 'https://en.wikipedia.org/wiki/File:Python_operators.png', 'https://en.wikipedia.org/wiki/File:Python_operators.png', 'https://en.wikipedia.org/wiki/File:Defense.gov_News_Photo_010124-D-0000X-001.jpg', 'https://en.wikipedia.org/wiki/File:Defense.gov_News_Photo_010124-D-0000X-001.jpg', 'https://en.wikipedia.org/wiki/PL-8_(missile)', 'https://en.wikipedia.org/wiki/Shenyang_J-8', 'https://en.wikipedia.org/w/index.php?title=Python_(missile)&action=edit&section=13', 'https://en.wikipedia.org/wiki/Argentina', 'https://en.wikipedia.org/wiki/Python_(missile)#cite_note-SIPRI-18', 'https://en.wikipedia.org/wiki/Bolivia', 'https://en.wikipedia.org/wiki/Python_(missile)#cite_note-19', 'https://en.wikipedia.org/wiki/Brazil', 'https://en.wikipedia.org/wiki/Python_(missile)#cite_note-SIPRI-18', 'https://en.wikipedia.org/wiki/Chile', 'https://en.wikipedia.org/wiki/Python_(missile)#cite_note-SIPRI-18', 'https://en.wikipedia.org/wiki/China', 'https://en.wikipedia.org/wiki/PL-8_(missile)', 'https://en.wikipedia.org/wiki/Python_(missile)#cite_note-SINOD-5', 'https://en.wikipedia.org/wiki/Python_(missile)#cite_note-SIPRI-18', 'https://en.wikipedia.org/wiki/Colombia', 'https://en.wikipedia.org/wiki/Python_(missile)#cite_note-SIPRI-18', 'https://en.wikipedia.org/wiki/Ecuador', 'https://en.wikipedia.org/wiki/Python_(missile)#cite_note-SIPRI-18', 'https://en.wikipedia.org/wiki/El_Salvador', 'https://en.wikipedia.org/wiki/Python_(missile)#cite_note-20', 'https://en.wikipedia.org/wiki/Wikipedia:Please_clarify', 'https://en.wikipedia.org/wiki/Georgia_(country)', 'https://en.wikipedia.org/wiki/Python_(missile)#cite_note-21', 'https://en.wikipedia.org/wiki/Honduras', 'https://en.wikipedia.org/wiki/Python_(missile)#cite_note-SIPRI-18', 'https://en.wikipedia.org/wiki/India', 'https://en.wikipedia.org/wiki/Python_(missile)#cite_note-SIPRI-18', 'https://en.wikipedia.org/wiki/Israel', 'https://en.wikipedia.org/wiki/Philippines', 'https://en.wikipedia.org/wiki/Python_(missile)#cite_note-22', 'https://en.wikipedia.org/wiki/Romania', 'https://en.wikipedia.org/wiki/Python_(missile)#cite_note-23', 'https://en.wikipedia.org/wiki/Singapore', 'https://en.wikipedia.org/wiki/Python_(missile)#cite_note-SIPRI-18', 'https://en.wikipedia.org/wiki/Taiwan', 'https://en.wikipedia.org/wiki/Python_(missile)#cite_note-SIPRI-18', 'https://en.wikipedia.org/wiki/Thailand', 'https://en.wikipedia.org/wiki/Python_(missile)#cite_note-SIPRI-18', 'https://en.wikipedia.org/wiki/Vietnam', 'https://en.wikipedia.org/wiki/Python_(missile)#cite_note-SIPRI-18', 'https://en.wikipedia.org/wiki/Venezuela', 'https://en.wikipedia.org/wiki/Python_(missile)#cite_note-SIPRI-18', 'https://en.wikipedia.org/w/index.php?title=Python_(missile)&action=edit&section=14', 'https://en.wikipedia.org/wiki/South_Africa', 'https://en.wikipedia.org/wiki/Python_(missile)#cite_note-24', 'https://en.wikipedia.org/w/index.php?title=Python_(missile)&action=edit&section=15', 'https://en.wikipedia.org/wiki/List_of_munitions_used_by_the_Israeli_Air_Force', 'https://en.wikipedia.org/wiki/AIM-9_Sidewinder', 'https://en.wikipedia.org/wiki/IRIS-T', 'https://en.wikipedia.org/wiki/ASRAAM', 'https://en.wikipedia.org/wiki/R-73_(missile)', 'https://en.wikipedia.org/wiki/Astra_(missile)', 'https://en.wikipedia.org/w/index.php?title=Python_(missile)&action=edit&section=16', 'https://en.wikipedia.org/wiki/Python_(missile)#cite_ref-f-16.net_1-0', 'https://en.wikipedia.org/wiki/Python_(missile)#cite_ref-f-16.net_1-1', 'http://www.f-16.net/aircraft-database/F-16/airframe-profile/2482/', 'https://en.wikipedia.org/wiki/Python_(missile)#cite_ref-saabgroup.com_2-0', 'https://web.archive.org/web/20130331001718/http://www.saabgroup.com/Air/Gripen-Fighter-System/Gripen-Para-o-Brasil/O-Caca-Gripen-NG/', 'http://www.saabgroup.com/Air/Gripen-Fighter-System/Gripen-Para-o-Brasil/O-Caca-Gripen-NG/', 'https://en.wikipedia.org/wiki/Python_(missile)#cite_ref-3', 'https://web.archive.org/web/20160527062053/http://geo-army.ge/index.php?option=com_content&view=article&id=39&Itemid=9&lang=en', 'http://geo-army.ge/index.php?option=com_content&view=article&id=39&Itemid=9&lang=en', 'https://en.wikipedia.org/wiki/Python_(missile)#cite_ref-python2_4-0', 'https://en.wikipedia.org/wiki/Python_(missile)#cite_ref-python2_4-1', 'https://web.archive.org/web/20080914040916/http://www.israeli-weapons.com/weapons/missile_systems/air_missiles/python/Python2.html', 'http://www.israeli-weapons.com/weapons/missile_systems/air_missiles/python/Python2.html', 'https://en.wikipedia.org/wiki/Python_(missile)#cite_ref-SINOD_5-0', 'https://en.wikipedia.org/wiki/Python_(missile)#cite_ref-SINOD_5-1', 'https://en.wikipedia.org/wiki/Python_(missile)#cite_ref-SINOD_5-2', 'https://en.wikipedia.org/wiki/Python_(missile)#cite_ref-SINOD_5-3', 'https://web.archive.org/web/20120123130704/http://www.sinodefence.com/airforce/weapon/pl8.asp', 'http://www.sinodefence.com/airforce/weapon/pl8.asp', 'https://en.wikipedia.org/wiki/Python_(missile)#cite_ref-python4_6-0', 'https://en.wikipedia.org/wiki/Python_(missile)#cite_ref-python4_6-1', 'https://web.archive.org/web/20060721190258/http://www.israeli-weapons.com/weapons/missile_systems/air_missiles/python/Python4.html', 'http://www.israeli-weapons.com/weapons/missile_systems/air_missiles/python/Python4.html', 'https://en.wikipedia.org/wiki/Python_(missile)#cite_ref-python5_7-0', 'https://en.wikipedia.org/wiki/Python_(missile)#cite_ref-python5_7-1', 'https://en.wikipedia.org/wiki/Python_(missile)#cite_ref-python5_7-2', 'https://web.archive.org/web/20060715230748/http://www.israeli-weapons.com/weapons/missile_systems/air_missiles/python/Python5.html', 'http://www.israeli-weapons.com/weapons/missile_systems/air_missiles/python/Python5.html', 'https://en.wikipedia.org/wiki/Python_(missile)#cite_ref-8', 'https://web.archive.org/web/20080922153739/http://www.israeli-weapons.com/weapons/missile_systems/air_missiles/python/Python1.html', 'http://www.israeli-weapons.com/weapons/missile_systems/air_missiles/python/Python1.html', 'https://en.wikipedia.org/wiki/Python_(missile)#cite_ref-9', 'https://web.archive.org/web/20060925143819/http://www.sci.fi/~fta/python4.html', 'http://www.sci.fi/~fta/python4.html', 'https://en.wikipedia.org/wiki/Python_(missile)#cite_ref-10', 'https://web.archive.org/web/20160729222556/http://www.rafael.co.il/marketing/SIP_STORAGE/FILES/9/1189.pdf', 'http://www.rafael.co.il/marketing/SIP_STORAGE/FILES/9/1189.pdf', 'https://en.wikipedia.org/wiki/Python_(missile)#cite_ref-11', 'https://www.defensenews.com/unmanned/2021/05/17/iron-dome-intercepts-drone-during-combat-for-first-time-says-israeli-military/', 'https://archive.today/20210620002841/https://www.defensenews.com/unmanned/2021/05/17/iron-dome-intercepts-drone-during-combat-for-first-time-says-israeli-military/', 'https://en.wikipedia.org/wiki/Python_(missile)#cite_ref-12', 'https://www.timesofisrael.com/liveblog_entry/footage-shows-idf-fighter-jet-shooting-down-suicide-drone-launched-from-gaza/', 'https://en.wikipedia.org/wiki/The_Times_of_Israel', 'https://en.wikipedia.org/wiki/Python_(missile)#cite_ref-13', 'https://nypost.com/2021/05/13/israeli-jet-shoots-down-suicide-drone-launched-from-gaza/', 'https://en.wikipedia.org/wiki/Python_(missile)#cite_ref-14', 'https://www.thedrive.com/the-war-zone/40601/palestinian-militants-are-now-launching-suicide-drones-at-israel', 'https://en.wikipedia.org/wiki/Python_(missile)#cite_ref-15', 'https://web.archive.org/web/20060718065607/http://www.israeli-weapons.com/weapons/missile_systems/air_missiles/derby/Derby.html', 'http://www.israeli-weapons.com/weapons/missile_systems/air_missiles/derby/Derby.html', 'https://en.wikipedia.org/wiki/Python_(missile)#cite_ref-16', 'https://www.flightglobal.com/news/articles/israel-long-range-fashion-catches-on-in-iaf-421153/', 'https://en.wikipedia.org/wiki/Python_(missile)#cite_ref-17', 'https://web.archive.org/web/20190529175655/https://www.janes.com/article/88867/iaf-plans-to-arm-its-su-30mki-fleet-with-i-derby-er-bvraams', 'https://www.janes.com/article/88867/iaf-plans-to-arm-its-su-30mki-fleet-with-i-derby-er-bvraams', 'https://en.wikipedia.org/wiki/Python_(missile)#cite_ref-SIPRI_18-0', 'https://en.wikipedia.org/wiki/Python_(missile)#cite_ref-SIPRI_18-1', 'https://en.wikipedia.org/wiki/Python_(missile)#cite_ref-SIPRI_18-2', 'https://en.wikipedia.org/wiki/Python_(missile)#cite_ref-SIPRI_18-3', 'https://en.wikipedia.org/wiki/Python_(missile)#cite_ref-SIPRI_18-4', 'https://en.wikipedia.org/wiki/Python_(missile)#cite_ref-SIPRI_18-5', 'https://en.wikipedia.org/wiki/Python_(missile)#cite_ref-SIPRI_18-6', 'https://en.wikipedia.org/wiki/Python_(missile)#cite_ref-SIPRI_18-7', 'https://en.wikipedia.org/wiki/Python_(missile)#cite_ref-SIPRI_18-8', 'https://en.wikipedia.org/wiki/Python_(missile)#cite_ref-SIPRI_18-9', 'https://en.wikipedia.org/wiki/Python_(missile)#cite_ref-SIPRI_18-10', 'https://en.wikipedia.org/wiki/Python_(missile)#cite_ref-SIPRI_18-11', 'https://en.wikipedia.org/wiki/Python_(missile)#cite_ref-SIPRI_18-12', 'http://armstrade.sipri.org/armstrade/page/trade_register.php', 'https://en.wikipedia.org/wiki/Stockholm_International_Peace_Research_Institute', 'https://en.wikipedia.org/wiki/Python_(missile)#cite_ref-19', 'https://en.wikipedia.org/wiki/International_Institute_for_Strategic_Studies', 'https://en.wikipedia.org/wiki/Taylor_and_Francis', 'https://en.wikipedia.org/wiki/ISBN_(identifier)', 'https://en.wikipedia.org/wiki/Special:BookSources/9781857435573', 'https://en.wikipedia.org/wiki/Python_(missile)#cite_ref-20', 'https://en.wikipedia.org/wiki/International_Institute_for_Strategic_Studies', 'https://en.wikipedia.org/wiki/Taylor_and_Francis', 'https://en.wikipedia.org/wiki/ISBN_(identifier)', 'https://en.wikipedia.org/wiki/Special:BookSources/9781857435573', 'https://en.wikipedia.org/wiki/Python_(missile)#cite_ref-21', 'http://armstrade.sipri.org/armstrade/page/trade_register.php', 'https://en.wikipedia.org/wiki/Python_(missile)#cite_ref-22', 'http://maxdefense.blogspot.com/2018/12/philippine-air-force-selects-rafael.html', 'https://archive.today/20181227020355/https://maxdefense.blogspot.com/2018/12/philippine-air-force-selects-rafael.html', 'https://en.wikipedia.org/wiki/Python_(missile)#cite_ref-23', 'https://en.wikipedia.org/wiki/International_Institute_for_Strategic_Studies', 'https://en.wikipedia.org/wiki/Taylor_and_Francis', 'https://en.wikipedia.org/wiki/ISBN_(identifier)', 'https://en.wikipedia.org/wiki/Special:BookSources/9781857435573', 'https://en.wikipedia.org/wiki/Python_(missile)#cite_ref-24', 'http://www.saairforce.co.za/the-airforce/weapons/68/v3s-snake-rafael-python-3', 'https://en.wikipedia.org/w/index.php?title=Python_(missile)&action=edit&section=17', 'https://commons.wikimedia.org/wiki/Category:Python_missiles', 'https://web.archive.org/web/20160304174623/http://www.rafael.co.il/marketing/SIP_STORAGE/FILES/1/921.pdf', 'https://www.rafael.co.il/wp-content/uploads/2019/03/python-5-eng.pdf', 'https://web.archive.org/web/20220517204504/https://www.rafael.co.il/wp-content/uploads/2019/03/python-5-eng.pdf', 'https://web.archive.org/web/20141018133648/http://www.rafael.co.il/marketing/SIP_STORAGE/FILES/0/950.pdf', 'http://www.globalsecurity.org/military/world/israel/shafrir.htm', 'http://www.globalsecurity.org/military/world/israel/python3.htm', 'http://www.globalsecurity.org/military/world/israel/alto.htm', 'https://en.wikipedia.org/wiki/Federation_of_American_Scientists', 'https://fas.org/man/dod-101/sys/missile/row/python3.htm', 'https://web.archive.org/web/20160828051330/https://fas.org/man/dod-101/sys/missile/row/python3.htm', 'https://en.wikipedia.org/wiki/Wayback_Machine', 'https://fas.org/man/dod-101/sys/missile/row/python4.htm', 'https://web.archive.org/web/20160828050852/https://fas.org/man/dod-101/sys/missile/row/python4.htm', 'https://en.wikipedia.org/wiki/Wayback_Machine', 'https://fas.org/man/dod-101/sys/missile/row/alto.htm', 'https://web.archive.org/web/20160828042244/https://fas.org/man/dod-101/sys/missile/row/alto.htm', 'https://en.wikipedia.org/wiki/Wayback_Machine', 'http://www.ausairpower.net/TE-Gen-4-AAM-97.html', 'https://en.wikipedia.org/wiki/Template:Rafael_Advanced_Defense_Systems', 'https://en.wikipedia.org/wiki/Template_talk:Rafael_Advanced_Defense_Systems', 'https://en.wikipedia.org/w/index.php?title=Template:Rafael_Advanced_Defense_Systems&action=edit', 'https://en.wikipedia.org/wiki/Rafael_Advanced_Defense_Systems', 'https://en.wikipedia.org/wiki/Barak_1', 'https://en.wikipedia.org/wiki/Python_(missile)#Derby', 'https://en.wikipedia.org/wiki/Luz_(missile)', 'https://en.wikipedia.org/wiki/MATADOR', 'https://en.wikipedia.org/wiki/Popeye_(missile)', None, 'https://en.wikipedia.org/wiki/Python_(missile)#Shafrir-1', 'https://en.wikipedia.org/wiki/SIMON_breach_grenade', 'https://en.wikipedia.org/wiki/Spike_(missile)', 'https://en.wikipedia.org/wiki/Sparrow_(target_missile)', 'https://en.wikipedia.org/wiki/File:RAFAEL_logo.png', 'https://en.wikipedia.org/wiki/Rafael_Overhead_Weapon_Station', 'https://en.wikipedia.org/wiki/Samson_Remote_Controlled_Weapon_Station', 'https://en.wikipedia.org/wiki/Typhoon_Weapon_Station', 'https://en.wikipedia.org/wiki/Barak_1', 'https://en.wikipedia.org/wiki/David%27s_Sling', 'https://en.wikipedia.org/wiki/Iron_Beam', 'https://en.wikipedia.org/wiki/Iron_Dome', 'https://en.wikipedia.org/wiki/SPYDER', 'https://en.wikipedia.org/wiki/Drone_Dome', 'https://en.wikipedia.org/wiki/Golan_Armored_Vehicle', 'https://en.wikipedia.org/wiki/Protector_USV', 'https://en.wikipedia.org/wiki/Wolf_Armoured_Vehicle', 'https://en.wikipedia.org/wiki/Sky_Shield', 'https://en.wikipedia.org/wiki/C-GEM', 'https://en.wikipedia.org/wiki/Litening', 'https://en.wikipedia.org/wiki/Spice_(bomb)', 'https://en.wikipedia.org/wiki/Trophy_(countermeasure)', 'https://en.wikipedia.org/wiki/Israel_Aerospace_Industries', 'https://en.wikipedia.org/wiki/Defence_Science_and_Technology_Agency', 'https://en.wikipedia.org/wiki/Raytheon', 'https://en.wikipedia.org/wiki/Hatehof', 'https://en.wikipedia.org/wiki/Northrop_Grumman', 'https://en.wikipedia.org/w/index.php?title=Python_(missile)&oldid=1149863842', 'https://en.wikipedia.org/wiki/Help:Category', 'https://en.wikipedia.org/wiki/Category:Air-to-air_missiles_of_Israel', 'https://en.wikipedia.org/wiki/Category:Rafael_Advanced_Defense_Systems', 'https://en.wikipedia.org/wiki/Category:Israeli_inventions', 'https://en.wikipedia.org/wiki/Category:Military_equipment_introduced_in_the_1960s', 'https://en.wikipedia.org/wiki/Category:Articles_with_short_description', 'https://en.wikipedia.org/wiki/Category:Short_description_is_different_from_Wikidata', 'https://en.wikipedia.org/wiki/Category:All_articles_with_unsourced_statements', 'https://en.wikipedia.org/wiki/Category:Articles_with_unsourced_statements_from_October_2009', 'https://en.wikipedia.org/wiki/Category:Articles_containing_Hebrew-language_text', 'https://en.wikipedia.org/wiki/Category:Wikipedia_articles_needing_clarification_from_March_2012', 'https://en.wikipedia.org/wiki/Category:Commons_category_link_is_on_Wikidata', 'https://en.wikipedia.org/wiki/Category:Webarchive_template_wayback_links', 'https://en.wikipedia.org/wiki/Wikipedia:Text_of_the_Creative_Commons_Attribution-ShareAlike_3.0_Unported_License', 'https://creativecommons.org/licenses/by-sa/3.0/', 'https://foundation.wikimedia.org/wiki/Terms_of_Use', 'https://foundation.wikimedia.org/wiki/Privacy_policy', 'https://www.wikimediafoundation.org/', 'https://foundation.wikimedia.org/wiki/Privacy_policy', 'https://en.wikipedia.org/wiki/Wikipedia:About', 'https://en.wikipedia.org/wiki/Wikipedia:General_disclaimer', 'https://en.wikipedia.org/wiki/Wikipedia:Contact_us', 'https://en.m.wikipedia.org/w/index.php?title=Python_(missile)&mobileaction=toggle_view_mobile', 'https://developer.wikimedia.org/', 'https://stats.wikimedia.org/#/en.wikipedia.org', 'https://foundation.wikimedia.org/wiki/Cookie_statement', 'https://en.wikipedia.org/wiki/Python_(missile)#', 'https://wikimediafoundation.org/', 'https://www.mediawiki.org/', 'https://en.wikipedia.org/wiki/Python_(missile)?action=edit']\n"
     ]
    }
   ],
   "source": [
    "url_page = []\n",
    "\n",
    "for elems in links:\n",
    "    url = elems.get_attribute('href')\n",
    "    url_page.append(url)\n",
    "\n",
    "print(url_page)"
   ]
  },
  {
   "cell_type": "markdown",
   "metadata": {},
   "source": [
    "#### Number of Titles that have changed in the United States Code since its last release point "
   ]
  },
  {
   "cell_type": "code",
   "execution_count": 83,
   "metadata": {},
   "outputs": [],
   "source": [
    "# This is the url you will scrape in this exercise\n",
    "url = 'http://uscode.house.gov/download/download.shtml'"
   ]
  },
  {
   "cell_type": "code",
   "execution_count": 90,
   "metadata": {},
   "outputs": [],
   "source": [
    "PATH = ChromeDriverManager().install()    # instala driver de chrome\n",
    "\n",
    "driver = webdriver.Chrome(PATH, options = opciones)      # abre una ventana de chrome\n",
    "\n",
    "driver.get('http://uscode.house.gov/download/download.shtml')"
   ]
  },
  {
   "cell_type": "code",
   "execution_count": 91,
   "metadata": {},
   "outputs": [
    {
     "data": {
      "text/plain": [
       "37"
      ]
     },
     "execution_count": 91,
     "metadata": {},
     "output_type": "execute_result"
    }
   ],
   "source": [
    "titles = driver.find_elements(By.CLASS_NAME, 'usctitlechanged')\n",
    "len(titles)"
   ]
  },
  {
   "cell_type": "markdown",
   "metadata": {},
   "source": [
    "#### A Python list with the top ten FBI's Most Wanted names "
   ]
  },
  {
   "cell_type": "code",
   "execution_count": null,
   "metadata": {},
   "outputs": [],
   "source": [
    "# This is the url you will scrape in this exercise\n",
    "url = 'https://www.fbi.gov/wanted/topten'"
   ]
  },
  {
   "cell_type": "code",
   "execution_count": 92,
   "metadata": {},
   "outputs": [],
   "source": [
    "PATH = ChromeDriverManager().install()    # instala driver de chrome\n",
    "\n",
    "driver = webdriver.Chrome(PATH, options = opciones)      # abre una ventana de chrome\n",
    "\n",
    "driver.get('https://www.fbi.gov/wanted/topten')"
   ]
  },
  {
   "cell_type": "code",
   "execution_count": 97,
   "metadata": {},
   "outputs": [
    {
     "data": {
      "text/plain": [
       "11"
      ]
     },
     "execution_count": 97,
     "metadata": {},
     "output_type": "execute_result"
    }
   ],
   "source": [
    "title = driver.find_elements(By.CLASS_NAME, 'title')\n",
    "len(title)"
   ]
  },
  {
   "cell_type": "code",
   "execution_count": 98,
   "metadata": {},
   "outputs": [
    {
     "name": "stdout",
     "output_type": "stream",
     "text": [
      "['BHADRESHKUMAR CHETANBHAI PATEL', 'WILVER VILLEGAS-PALOMINO', 'ALEJANDRO ROSALES CASTILLO', 'RUJA IGNATOVA', 'ARNOLDO JIMENEZ', 'OMAR ALEXANDER CARDENAS', 'ALEXIS FLORES', 'YULAN ADONAY ARCHAGA CARIAS', 'MICHAEL JAMES PRATT', 'JOSE RODOLFO VILLARREAL-HERNANDEZ']\n"
     ]
    }
   ],
   "source": [
    "top10 = []\n",
    "\n",
    "for elems in title[1:]:\n",
    "    top10.append(elems.text)\n",
    "\n",
    "print(top10)"
   ]
  },
  {
   "cell_type": "markdown",
   "metadata": {},
   "source": [
    "####  20 latest earthquakes info (date, time, latitude, longitude and region name) by the EMSC as a pandas dataframe"
   ]
  },
  {
   "cell_type": "code",
   "execution_count": null,
   "metadata": {},
   "outputs": [],
   "source": [
    "# This is the url you will scrape in this exercise\n",
    "url = 'https://www.emsc-csem.org/Earthquake/'"
   ]
  },
  {
   "cell_type": "code",
   "execution_count": 99,
   "metadata": {},
   "outputs": [],
   "source": [
    "PATH = ChromeDriverManager().install()    # instala driver de chrome\n",
    "\n",
    "driver = webdriver.Chrome(PATH, options = opciones)      # abre una ventana de chrome\n",
    "\n",
    "driver.get('https://www.emsc-csem.org/Earthquake/')"
   ]
  },
  {
   "cell_type": "code",
   "execution_count": 117,
   "metadata": {},
   "outputs": [
    {
     "data": {
      "text/plain": [
       "<selenium.webdriver.remote.webelement.WebElement (session=\"a10a6171e4ac25e5cce7dcdca74cd333\", element=\"5b349ceb-b9a1-4d57-9220-d5ecde9b017e\")>"
      ]
     },
     "execution_count": 117,
     "metadata": {},
     "output_type": "execute_result"
    }
   ],
   "source": [
    "tabla = driver.find_elements(By.TAG_NAME, 'table')\n",
    "\n",
    "tabla[3]"
   ]
  },
  {
   "cell_type": "code",
   "execution_count": 129,
   "metadata": {},
   "outputs": [
    {
     "data": {
      "text/plain": [
       "selenium.webdriver.remote.webelement.WebElement"
      ]
     },
     "execution_count": 129,
     "metadata": {},
     "output_type": "execute_result"
    }
   ],
   "source": [
    "cuerpo_tabla = driver.find_element(By.TAG_NAME, 'tbody')\n",
    "\n",
    "type(cuerpo_tabla)"
   ]
  },
  {
   "cell_type": "code",
   "execution_count": 126,
   "metadata": {},
   "outputs": [
    {
     "name": "stdout",
     "output_type": "stream",
     "text": [
      "Citizen\n",
      "Response\n",
      "\n",
      "Date & Time\n",
      "UTC\n",
      "Latitude\n",
      "degrees\n",
      "Longitude\n",
      "degrees\n",
      "Depth\n",
      "km\n",
      "Mag\n",
      "[+]\n",
      "Region name\n",
      "[+]\n"
     ]
    }
   ],
   "source": [
    "filas = driver.find_elements(By.TAG_NAME, 'tr')[10:30]\n",
    "print(filas[0].text)"
   ]
  },
  {
   "cell_type": "markdown",
   "metadata": {},
   "source": [
    "#### Count number of tweets by a given Twitter account."
   ]
  },
  {
   "cell_type": "markdown",
   "metadata": {},
   "source": [
    "You will need to include a ***try/except block*** for account names not found. \n",
    "<br>***Hint:*** the program should count the number of tweets for any provided account"
   ]
  },
  {
   "cell_type": "code",
   "execution_count": 167,
   "metadata": {},
   "outputs": [],
   "source": [
    "# This is the url you will scrape in this exercise \n",
    "# You will need to add the account credentials to this url\n",
    "url = 'https://twitter.com/linx_ch'"
   ]
  },
  {
   "cell_type": "code",
   "execution_count": 188,
   "metadata": {},
   "outputs": [],
   "source": [
    "PATH = ChromeDriverManager().install()    # instala driver de chrome\n",
    "\n",
    "driver = webdriver.Chrome(PATH, options = opciones)      # abre una ventana de chrome\n",
    "\n",
    "driver.get('https://twitter.com/linx_ch')"
   ]
  },
  {
   "cell_type": "code",
   "execution_count": 169,
   "metadata": {},
   "outputs": [
    {
     "data": {
      "text/plain": [
       "'3.765 Tweets'"
      ]
     },
     "execution_count": 169,
     "metadata": {},
     "output_type": "execute_result"
    }
   ],
   "source": [
    "tweets = driver.find_element(By.CSS_SELECTOR, '#react-root > div > div > div.css-1dbjc4n.r-18u37iz.r-13qz1uu.r-417010 > main > div > div > div > div > div > div.css-1dbjc4n.r-aqfbo4.r-gtdqiz.r-1gn8etr.r-1g40b8q > div:nth-child(1) > div > div > div > div > div > div.css-1dbjc4n.r-16y2uox.r-1wbh5a2.r-1pi2tsx.r-1777fci > div > div').text\n",
    "tweets"
   ]
  },
  {
   "cell_type": "markdown",
   "metadata": {},
   "source": [
    "#### Number of followers of a given twitter account"
   ]
  },
  {
   "cell_type": "markdown",
   "metadata": {},
   "source": [
    "You will need to include a ***try/except block*** in case account/s name not found. \n",
    "<br>***Hint:*** the program should count the followers for any provided account"
   ]
  },
  {
   "cell_type": "code",
   "execution_count": 152,
   "metadata": {},
   "outputs": [],
   "source": [
    "# This is the url you will scrape in this exercise \n",
    "# You will need to add the account credentials to this url\n",
    "url = 'https://twitter.com/linx_ch'"
   ]
  },
  {
   "cell_type": "code",
   "execution_count": 178,
   "metadata": {},
   "outputs": [],
   "source": [
    "PATH = ChromeDriverManager().install()    # instala driver de chrome\n",
    "\n",
    "driver = webdriver.Chrome(PATH, options = opciones)      # abre una ventana de chrome\n",
    "\n",
    "driver.get('https://twitter.com/linx_ch')"
   ]
  },
  {
   "cell_type": "code",
   "execution_count": 172,
   "metadata": {},
   "outputs": [
    {
     "data": {
      "text/plain": [
       "'489 Seguidores'"
      ]
     },
     "execution_count": 172,
     "metadata": {},
     "output_type": "execute_result"
    }
   ],
   "source": [
    "follow = driver.find_element(By.CSS_SELECTOR, '#react-root > div > div > div.css-1dbjc4n.r-18u37iz.r-13qz1uu.r-417010 > main > div > div > div > div > div > div:nth-child(3) > div > div > div > div > div.css-1dbjc4n.r-13awgt0.r-18u37iz.r-1w6e6rj > div:nth-child(2) > a').text\n",
    "follow"
   ]
  },
  {
   "cell_type": "markdown",
   "metadata": {},
   "source": [
    "#### List all language names and number of related articles in the order they appear in wikipedia.org"
   ]
  },
  {
   "cell_type": "code",
   "execution_count": null,
   "metadata": {},
   "outputs": [],
   "source": [
    "# This is the url you will scrape in this exercise\n",
    "url = 'https://www.wikipedia.org/'"
   ]
  },
  {
   "cell_type": "code",
   "execution_count": 174,
   "metadata": {},
   "outputs": [],
   "source": [
    "PATH = ChromeDriverManager().install()    # instala driver de chrome\n",
    "\n",
    "driver = webdriver.Chrome(PATH, options = opciones)      # abre una ventana de chrome\n",
    "\n",
    "driver.get('https://www.wikipedia.org/')"
   ]
  },
  {
   "cell_type": "code",
   "execution_count": 176,
   "metadata": {},
   "outputs": [
    {
     "data": {
      "text/plain": [
       "[['Español', '1 854 000+ artículos'],\n",
       " ['English', '6 644 000+ articles'],\n",
       " ['Русский', '1 909 000+ статей'],\n",
       " ['日本語', '1 370 000+ 記事'],\n",
       " ['Deutsch', '2 792 000+ Artikel'],\n",
       " ['Français', '2 514 000+ articles'],\n",
       " ['Italiano', '1 806 000+ voci'],\n",
       " ['中文', '1 347 000+ 条目 / 條目'],\n",
       " ['فارسی', '959 000+ مقاله'],\n",
       " ['Português', '1 101 000+ artigos']]"
      ]
     },
     "execution_count": 176,
     "metadata": {},
     "output_type": "execute_result"
    }
   ],
   "source": [
    "temp = driver.find_elements(By.CLASS_NAME, 'link-box')\n",
    "\n",
    "idiomas = [idioma.text.split('\\n')  for idioma in temp]\n",
    "idiomas"
   ]
  },
  {
   "cell_type": "markdown",
   "metadata": {},
   "source": [
    "#### A list with the different kind of datasets available in data.gov.uk "
   ]
  },
  {
   "cell_type": "code",
   "execution_count": null,
   "metadata": {},
   "outputs": [],
   "source": [
    "# This is the url you will scrape in this exercise\n",
    "url = 'https://data.gov.uk/'"
   ]
  },
  {
   "cell_type": "code",
   "execution_count": 156,
   "metadata": {},
   "outputs": [],
   "source": [
    "PATH = ChromeDriverManager().install()    # instala driver de chrome\n",
    "\n",
    "driver = webdriver.Chrome(PATH, options = opciones)      # abre una ventana de chrome\n",
    "\n",
    "driver.get('https://data.gov.uk/')"
   ]
  },
  {
   "cell_type": "code",
   "execution_count": 164,
   "metadata": {},
   "outputs": [
    {
     "data": {
      "text/plain": [
       "14"
      ]
     },
     "execution_count": 164,
     "metadata": {},
     "output_type": "execute_result"
    }
   ],
   "source": [
    "headers = driver.find_elements(By.CLASS_NAME, 'govuk-heading-s.dgu-topics__heading')\n",
    "len(headers)"
   ]
  },
  {
   "cell_type": "code",
   "execution_count": 165,
   "metadata": {},
   "outputs": [
    {
     "name": "stdout",
     "output_type": "stream",
     "text": [
      "['Business and economy', 'Crime and justice', 'Defence', 'Education', 'Environment', 'Government', 'Government spending', 'Health', 'Mapping', 'Society', 'Towns and cities', 'Transport', 'Digital service performance', 'Government reference data']\n"
     ]
    }
   ],
   "source": [
    "list = []\n",
    "\n",
    "for elem in headers:\n",
    "    list.append(elem.text)\n",
    "\n",
    "print(list)"
   ]
  },
  {
   "cell_type": "markdown",
   "metadata": {},
   "source": [
    "#### Top 10 languages by number of native speakers stored in a Pandas Dataframe"
   ]
  },
  {
   "cell_type": "code",
   "execution_count": null,
   "metadata": {},
   "outputs": [],
   "source": [
    "# This is the url you will scrape in this exercise\n",
    "url = 'https://en.wikipedia.org/wiki/List_of_languages_by_number_of_native_speakers'"
   ]
  },
  {
   "cell_type": "code",
   "execution_count": 182,
   "metadata": {},
   "outputs": [],
   "source": [
    "PATH = ChromeDriverManager().install()    # instala driver de chrome\n",
    "\n",
    "driver = webdriver.Chrome(PATH, options = opciones)      # abre una ventana de chrome\n",
    "\n",
    "driver.get('https://en.wikipedia.org/wiki/List_of_languages_by_number_of_native_speakers')"
   ]
  },
  {
   "cell_type": "code",
   "execution_count": 183,
   "metadata": {},
   "outputs": [],
   "source": [
    "primero = driver.find_elements(By.XPATH, '//*[@id=\"mw-content-text\"]/div[1]/table[1]/tbody')"
   ]
  },
  {
   "cell_type": "code",
   "execution_count": 184,
   "metadata": {},
   "outputs": [],
   "source": [
    "filas = []\n",
    "\n",
    "for row in primero[0].find_elements(By.XPATH,'.//tr'):\n",
    "    row_data = []\n",
    "    for cell in row.find_elements(By.XPATH, './/td'):\n",
    "        row_data.append(cell.text)\n",
    "    filas.append(row_data)\n",
    "columnas = driver.find_element(By.XPATH, '//*[@id=\"mw-content-text\"]/div[1]/table[1]/thead')"
   ]
  },
  {
   "cell_type": "code",
   "execution_count": 185,
   "metadata": {},
   "outputs": [
    {
     "data": {
      "text/plain": [
       "['Language', 'Native speakers (millions)', 'Language family', 'family']"
      ]
     },
     "execution_count": 185,
     "metadata": {},
     "output_type": "execute_result"
    }
   ],
   "source": [
    "columnas = columnas.text.split()\n",
    "columnas[1] = columnas[1] + ' ' + columnas[2] + ' ' + columnas[3]\n",
    "columnas[2] = columnas[4] + ' ' + columnas[5]\n",
    "columnasok = [columnas[0], columnas[1], columnas[2], columnas[5]]\n",
    "columnasok"
   ]
  },
  {
   "cell_type": "code",
   "execution_count": 187,
   "metadata": {},
   "outputs": [
    {
     "data": {
      "text/html": [
       "<div>\n",
       "<style scoped>\n",
       "    .dataframe tbody tr th:only-of-type {\n",
       "        vertical-align: middle;\n",
       "    }\n",
       "\n",
       "    .dataframe tbody tr th {\n",
       "        vertical-align: top;\n",
       "    }\n",
       "\n",
       "    .dataframe thead th {\n",
       "        text-align: right;\n",
       "    }\n",
       "</style>\n",
       "<table border=\"1\" class=\"dataframe\">\n",
       "  <thead>\n",
       "    <tr style=\"text-align: right;\">\n",
       "      <th></th>\n",
       "      <th>Language</th>\n",
       "      <th>Native speakers (millions)</th>\n",
       "      <th>Language family</th>\n",
       "      <th>family</th>\n",
       "    </tr>\n",
       "  </thead>\n",
       "  <tbody>\n",
       "    <tr>\n",
       "      <th>0</th>\n",
       "      <td>Mandarin Chinese\\n(incl. Standard Chinese, but...</td>\n",
       "      <td>939</td>\n",
       "      <td>Sino-Tibetan</td>\n",
       "      <td>Sinitic</td>\n",
       "    </tr>\n",
       "    <tr>\n",
       "      <th>1</th>\n",
       "      <td>Spanish</td>\n",
       "      <td>485</td>\n",
       "      <td>Indo-European</td>\n",
       "      <td>Romance</td>\n",
       "    </tr>\n",
       "    <tr>\n",
       "      <th>2</th>\n",
       "      <td>English</td>\n",
       "      <td>380</td>\n",
       "      <td>Indo-European</td>\n",
       "      <td>Germanic</td>\n",
       "    </tr>\n",
       "    <tr>\n",
       "      <th>3</th>\n",
       "      <td>Hindi\\n(excl. Urdu, and other languages)</td>\n",
       "      <td>345</td>\n",
       "      <td>Indo-European</td>\n",
       "      <td>Indo-Aryan</td>\n",
       "    </tr>\n",
       "    <tr>\n",
       "      <th>4</th>\n",
       "      <td>Portuguese</td>\n",
       "      <td>236</td>\n",
       "      <td>Indo-European</td>\n",
       "      <td>Romance</td>\n",
       "    </tr>\n",
       "    <tr>\n",
       "      <th>5</th>\n",
       "      <td>Bengali</td>\n",
       "      <td>234</td>\n",
       "      <td>Indo-European</td>\n",
       "      <td>Indo-Aryan</td>\n",
       "    </tr>\n",
       "    <tr>\n",
       "      <th>6</th>\n",
       "      <td>Russian</td>\n",
       "      <td>147</td>\n",
       "      <td>Indo-European</td>\n",
       "      <td>Balto-Slavic</td>\n",
       "    </tr>\n",
       "    <tr>\n",
       "      <th>7</th>\n",
       "      <td>Japanese</td>\n",
       "      <td>123</td>\n",
       "      <td>Japonic</td>\n",
       "      <td>Japanese</td>\n",
       "    </tr>\n",
       "    <tr>\n",
       "      <th>8</th>\n",
       "      <td>Yue Chinese\\n(incl. Cantonese)</td>\n",
       "      <td>86.1</td>\n",
       "      <td>Sino-Tibetan</td>\n",
       "      <td>Sinitic</td>\n",
       "    </tr>\n",
       "    <tr>\n",
       "      <th>9</th>\n",
       "      <td>Vietnamese</td>\n",
       "      <td>85.0</td>\n",
       "      <td>Austroasiatic</td>\n",
       "      <td>Vietic</td>\n",
       "    </tr>\n",
       "  </tbody>\n",
       "</table>\n",
       "</div>"
      ],
      "text/plain": [
       "                                            Language   \n",
       "0  Mandarin Chinese\\n(incl. Standard Chinese, but...  \\\n",
       "1                                            Spanish   \n",
       "2                                            English   \n",
       "3           Hindi\\n(excl. Urdu, and other languages)   \n",
       "4                                         Portuguese   \n",
       "5                                            Bengali   \n",
       "6                                            Russian   \n",
       "7                                           Japanese   \n",
       "8                     Yue Chinese\\n(incl. Cantonese)   \n",
       "9                                         Vietnamese   \n",
       "\n",
       "  Native speakers (millions) Language family        family  \n",
       "0                        939    Sino-Tibetan       Sinitic  \n",
       "1                        485   Indo-European       Romance  \n",
       "2                        380   Indo-European      Germanic  \n",
       "3                        345   Indo-European    Indo-Aryan  \n",
       "4                        236   Indo-European       Romance  \n",
       "5                        234   Indo-European    Indo-Aryan  \n",
       "6                        147   Indo-European  Balto-Slavic  \n",
       "7                        123         Japonic      Japanese  \n",
       "8                       86.1    Sino-Tibetan       Sinitic  \n",
       "9                       85.0   Austroasiatic        Vietic  "
      ]
     },
     "execution_count": 187,
     "metadata": {},
     "output_type": "execute_result"
    }
   ],
   "source": [
    "df = pd.DataFrame(data=filas, columns=columnasok)\n",
    "df.head(10)"
   ]
  },
  {
   "cell_type": "markdown",
   "metadata": {},
   "source": [
    "### BONUS QUESTIONS"
   ]
  },
  {
   "cell_type": "markdown",
   "metadata": {},
   "source": [
    "#### Scrape a certain number of tweets of a given Twitter account."
   ]
  },
  {
   "cell_type": "code",
   "execution_count": null,
   "metadata": {},
   "outputs": [],
   "source": [
    "# This is the url you will scrape in this exercise \n",
    "# You will need to add the account credentials to this url\n",
    "url = 'https://twitter.com/'"
   ]
  },
  {
   "cell_type": "code",
   "execution_count": null,
   "metadata": {},
   "outputs": [],
   "source": [
    "# your code"
   ]
  },
  {
   "cell_type": "markdown",
   "metadata": {},
   "source": [
    "#### IMDB's Top 250 data (movie name, Initial release, director name and stars) as a pandas dataframe"
   ]
  },
  {
   "cell_type": "code",
   "execution_count": null,
   "metadata": {},
   "outputs": [],
   "source": [
    "# This is the url you will scrape in this exercise \n",
    "url = 'https://www.imdb.com/chart/top'"
   ]
  },
  {
   "cell_type": "code",
   "execution_count": null,
   "metadata": {},
   "outputs": [],
   "source": [
    "# your code"
   ]
  },
  {
   "cell_type": "markdown",
   "metadata": {},
   "source": [
    "#### Movie name, year and a brief summary of the top 10 random movies (IMDB) as a pandas dataframe."
   ]
  },
  {
   "cell_type": "code",
   "execution_count": null,
   "metadata": {},
   "outputs": [],
   "source": [
    "#This is the url you will scrape in this exercise\n",
    "url = 'http://www.imdb.com/chart/top'"
   ]
  },
  {
   "cell_type": "code",
   "execution_count": null,
   "metadata": {},
   "outputs": [],
   "source": [
    "#your code"
   ]
  },
  {
   "cell_type": "markdown",
   "metadata": {},
   "source": [
    "#### Find the live weather report (temperature, wind speed, description and weather) of a given city."
   ]
  },
  {
   "cell_type": "code",
   "execution_count": null,
   "metadata": {},
   "outputs": [],
   "source": [
    "#https://openweathermap.org/current\n",
    "city = city=input('Enter the city:')\n",
    "url = 'http://api.openweathermap.org/data/2.5/weather?'+'q='+city+'&APPID=b35975e18dc93725acb092f7272cc6b8&units=metric'"
   ]
  },
  {
   "cell_type": "code",
   "execution_count": null,
   "metadata": {},
   "outputs": [],
   "source": [
    "# your code"
   ]
  },
  {
   "cell_type": "markdown",
   "metadata": {},
   "source": [
    "#### Book name,price and stock availability as a pandas dataframe."
   ]
  },
  {
   "cell_type": "code",
   "execution_count": null,
   "metadata": {},
   "outputs": [],
   "source": [
    "# This is the url you will scrape in this exercise. \n",
    "# It is a fictional bookstore created to be scraped. \n",
    "url = 'http://books.toscrape.com/'"
   ]
  },
  {
   "cell_type": "code",
   "execution_count": null,
   "metadata": {},
   "outputs": [],
   "source": [
    "#your code"
   ]
  }
 ],
 "metadata": {
  "kernelspec": {
   "display_name": "Python 3",
   "language": "python",
   "name": "python3"
  },
  "language_info": {
   "codemirror_mode": {
    "name": "ipython",
    "version": 3
   },
   "file_extension": ".py",
   "mimetype": "text/x-python",
   "name": "python",
   "nbconvert_exporter": "python",
   "pygments_lexer": "ipython3",
   "version": "3.11.2"
  }
 },
 "nbformat": 4,
 "nbformat_minor": 2
}
